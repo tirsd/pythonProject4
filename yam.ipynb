{
 "cells": [
  {
   "cell_type": "code",
   "execution_count": 100,
   "id": "initial_id",
   "metadata": {
    "collapsed": true,
    "ExecuteTime": {
     "end_time": "2024-03-20T17:03:28.740789Z",
     "start_time": "2024-03-20T17:03:28.577532Z"
    }
   },
   "outputs": [],
   "source": [
    "import requests\n",
    "from bs4 import BeautifulSoup as bs\n",
    "import warnings\n",
    "import numpy as np\n",
    "warnings.filterwarnings('ignore')"
   ]
  },
  {
   "cell_type": "code",
   "outputs": [],
   "source": [
    "cookies = {\n",
    "    'i': 'vNFxzYVrEJNIBDz1/OPzJ+B1FC7vQiwU/o6vbA28741dHFGxzFLuO1bigxFGrQ/9Arl74OLN+skTJmFPF8+n3gnVTB0=',\n",
    "    'yandexuid': '9005796171709810767',\n",
    "    'yuidss': '9005796171709810767',\n",
    "    'ymex': '2025170768.yrts.1709810768',\n",
    "    'gdpr': '0',\n",
    "    'yashr': '272879471709810768',\n",
    "    'receive-cookie-deprecation': '1',\n",
    "    '_ym_uid': '1709810765961117923',\n",
    "    '_ym_d': '1709810766',\n",
    "    'L': 'Zmx7BnppWXBRckV4C1B9dmZbAFREUHhWAhoIGVFeWCwkCQk=.1709810808.15641.330364.9ce1bb1655f4709b79817b7edf437dd5',\n",
    "    'yandex_login': 'tirsdionisa',\n",
    "    'is_gdpr': '0',\n",
    "    'amcuid': '9088375001710142529',\n",
    "    'skid': '1975196821710147835',\n",
    "    'Session_id': '3:1710355511.5.0.1709810808074:ElyiuQ:7e.1.2:1|391289393.0.2.3:1709810808|3:10284465.809014.OSMrVXyZNCA4biXqKML_0PNquYg',\n",
    "    'sessar': '1.1187.CiCB10sdfqMQxvUTXyo2BuQv-r6Kw8yQZ5JY04-kOyAv7g.PoRKeDXbpLzmCbiM3h3d43zOAglJ4zjVontR9tA2X08',\n",
    "    'sessionid2': '3:1710355511.5.0.1709810808074:ElyiuQ:7e.1.2:1|391289393.0.2.3:1709810808|3:10284465.809014.fakesign0000000000000000000',\n",
    "    'yp': '2025170808.udn.cDrQmNC70YzRjyDQn9C10YLRgNC+0LI%3D#1726123514.szm.1_25:1536x864:1536x738',\n",
    "    'my': 'YwA=',\n",
    "    'is_gdpr_b': 'CL/XRBCt8AEoAg==',\n",
    "    'bh': 'Ej8iQ2hyb21pdW0iO3Y9IjEyMiIsIk5vdChBOkJyYW5kIjt2PSIyNCIsIkdvb2dsZSBDaHJvbWUiO3Y9IjEyMiIaBSJ4ODYiIhAiMTIyLjAuNjI2MS4xMjkiKgI/MDoJIldpbmRvd3MiQgciOC4wLjAiSgQiNjQiUlwiQ2hyb21pdW0iO3Y9IjEyMi4wLjYyNjEuMTI5IiwiTm90KEE6QnJhbmQiO3Y9IjI0LjAuMC4wIiwiR29vZ2xlIENocm9tZSI7dj0iMTIyLjAuNjI2MS4xMjkiIg==',\n",
    "    'oq_shown_onboardings': '%5B%5D',\n",
    "    'oq_last_shown_date': '1710853574220',\n",
    "    'yandexmarket': '48%2CRUR%2C1%2C%2C%2C%2C2%2C0%2C0%2C118936%2C0%2C0%2C12%2C0%2C0',\n",
    "    'upa_completed': '1',\n",
    "    'nec': '1',\n",
    "    'yabs-vdrf': 'Filfb203ThHu1ilfb202mhbS1n_9bB03ems01eF9b2m1_rh41dF9b2m2C-Rq10',\n",
    "    'visits': '1710853574-1710853574-1710950395',\n",
    "    'spvuid_market:product_f63bcc_expired:1711036795093': '1710950395012%2F7b06fe660047e80a87e585ae19140600%2F1%2F1',\n",
    "    'ugcp': '1',\n",
    "    'rcrr': 'true',\n",
    "    'global_delivery_point_skeleton': '{%22deliveryType%22:%22PICKUP%22%2C%22outletType%22:%22pickup%22%2C%22regionName%22:%22%D0%9C%D1%83%D1%80%D0%B8%D0%BD%D0%BE%22%2C%22addressLineWidth%22:263}',\n",
    "    'fetch_loyalty_notifications_time_stamp': '2024-03-20T15:59:57.770Z',\n",
    "    '_ym_isad': '2',\n",
    "    'spvuid_market:list_e3fa8a_expired:1711036888538': '1710950488480%2Fb3b39b257f7bcf24021c18b419140600%2F1%2F1',\n",
    "    '_yasc': '2kUll+ow1ojkNIIBJUACsGQBUo6KP3tE6boiIo37AZW1/qCiX5DmMCiR7/kPbVZ8wFZTZkIqYQ==',\n",
    "    'spvuid_market:product_0ed066_expired:1711036955334': '1710950554921%2F08c87356435d02a3e5e80db819140600%2F1%2F1',\n",
    "    'parent_reqid_seq': '1710950395012%2F7b06fe660047e80a87e585ae19140600%2F1%2F1%2C1710950488480%2Fb3b39b257f7bcf24021c18b419140600%2F1%2F1%2C1710950554921%2F08c87356435d02a3e5e80db819140600%2F1%2F1%2C1710950577897%2F67573021f9ba086935806cb919140600%2F1%2F1%2C1710950615758%2F94dc46140c9b7fce1635aebb19140600%2F1%2F1',\n",
    "}\n",
    "\n",
    "headers = {\n",
    "    'authority': 'market.yandex.ru',\n",
    "    'accept': '*/*',\n",
    "    'accept-language': 'ru-RU,ru;q=0.9,en-US;q=0.8,en;q=0.7',\n",
    "    'content-type': 'application/json',\n",
    "    # 'cookie': 'i=vNFxzYVrEJNIBDz1/OPzJ+B1FC7vQiwU/o6vbA28741dHFGxzFLuO1bigxFGrQ/9Arl74OLN+skTJmFPF8+n3gnVTB0=; yandexuid=9005796171709810767; yuidss=9005796171709810767; ymex=2025170768.yrts.1709810768; gdpr=0; yashr=272879471709810768; receive-cookie-deprecation=1; _ym_uid=1709810765961117923; _ym_d=1709810766; L=Zmx7BnppWXBRckV4C1B9dmZbAFREUHhWAhoIGVFeWCwkCQk=.1709810808.15641.330364.9ce1bb1655f4709b79817b7edf437dd5; yandex_login=tirsdionisa; is_gdpr=0; amcuid=9088375001710142529; skid=1975196821710147835; Session_id=3:1710355511.5.0.1709810808074:ElyiuQ:7e.1.2:1|391289393.0.2.3:1709810808|3:10284465.809014.OSMrVXyZNCA4biXqKML_0PNquYg; sessar=1.1187.CiCB10sdfqMQxvUTXyo2BuQv-r6Kw8yQZ5JY04-kOyAv7g.PoRKeDXbpLzmCbiM3h3d43zOAglJ4zjVontR9tA2X08; sessionid2=3:1710355511.5.0.1709810808074:ElyiuQ:7e.1.2:1|391289393.0.2.3:1709810808|3:10284465.809014.fakesign0000000000000000000; yp=2025170808.udn.cDrQmNC70YzRjyDQn9C10YLRgNC+0LI%3D#1726123514.szm.1_25:1536x864:1536x738; my=YwA=; is_gdpr_b=CL/XRBCt8AEoAg==; bh=Ej8iQ2hyb21pdW0iO3Y9IjEyMiIsIk5vdChBOkJyYW5kIjt2PSIyNCIsIkdvb2dsZSBDaHJvbWUiO3Y9IjEyMiIaBSJ4ODYiIhAiMTIyLjAuNjI2MS4xMjkiKgI/MDoJIldpbmRvd3MiQgciOC4wLjAiSgQiNjQiUlwiQ2hyb21pdW0iO3Y9IjEyMi4wLjYyNjEuMTI5IiwiTm90KEE6QnJhbmQiO3Y9IjI0LjAuMC4wIiwiR29vZ2xlIENocm9tZSI7dj0iMTIyLjAuNjI2MS4xMjkiIg==; oq_shown_onboardings=%5B%5D; oq_last_shown_date=1710853574220; yandexmarket=48%2CRUR%2C1%2C%2C%2C%2C2%2C0%2C0%2C118936%2C0%2C0%2C12%2C0%2C0; upa_completed=1; nec=1; yabs-vdrf=Filfb203ThHu1ilfb202mhbS1n_9bB03ems01eF9b2m1_rh41dF9b2m2C-Rq10; visits=1710853574-1710853574-1710950395; spvuid_market:product_f63bcc_expired:1711036795093=1710950395012%2F7b06fe660047e80a87e585ae19140600%2F1%2F1; ugcp=1; rcrr=true; global_delivery_point_skeleton={%22deliveryType%22:%22PICKUP%22%2C%22outletType%22:%22pickup%22%2C%22regionName%22:%22%D0%9C%D1%83%D1%80%D0%B8%D0%BD%D0%BE%22%2C%22addressLineWidth%22:263}; fetch_loyalty_notifications_time_stamp=2024-03-20T15:59:57.770Z; _ym_isad=2; spvuid_market:list_e3fa8a_expired:1711036888538=1710950488480%2Fb3b39b257f7bcf24021c18b419140600%2F1%2F1; _yasc=2kUll+ow1ojkNIIBJUACsGQBUo6KP3tE6boiIo37AZW1/qCiX5DmMCiR7/kPbVZ8wFZTZkIqYQ==; spvuid_market:product_0ed066_expired:1711036955334=1710950554921%2F08c87356435d02a3e5e80db819140600%2F1%2F1; parent_reqid_seq=1710950395012%2F7b06fe660047e80a87e585ae19140600%2F1%2F1%2C1710950488480%2Fb3b39b257f7bcf24021c18b419140600%2F1%2F1%2C1710950554921%2F08c87356435d02a3e5e80db819140600%2F1%2F1%2C1710950577897%2F67573021f9ba086935806cb919140600%2F1%2F1%2C1710950615758%2F94dc46140c9b7fce1635aebb19140600%2F1%2F1',\n",
    "    'origin': 'https://market.yandex.ru',\n",
    "    'referer': 'https://market.yandex.ru/product--sergi-iz-zolota-s-fianitami-iakhont-iuvelirnyi-art-128718/78931682?sku=102846519443&do-waremd5=i8G8fo8CCPG3hEvHQXDA3g&uniqueId=5925510',\n",
    "    'sec-ch-ua': '\"Chromium\";v=\"122\", \"Not(A:Brand\";v=\"24\", \"Google Chrome\";v=\"122\"',\n",
    "    'sec-ch-ua-mobile': '?0',\n",
    "    'sec-ch-ua-platform': '\"Windows\"',\n",
    "    'sec-fetch-dest': 'empty',\n",
    "    'sec-fetch-mode': 'cors',\n",
    "    'sec-fetch-site': 'same-origin',\n",
    "    'sk': 'ud0dfead8a0db01b4f7b4fa3435a199b0',\n",
    "    'user-agent': 'Mozilla/5.0 (Windows NT 10.0; Win64; x64) AppleWebKit/537.36 (KHTML, like Gecko) Chrome/122.0.0.0 Safari/537.36',\n",
    "    'x-market-app-version': '2024.1.182.t2229288102',\n",
    "    'x-market-core-service': '<UNKNOWN>',\n",
    "    'x-market-page-id': 'market:product',\n",
    "    'x-requested-with': 'XMLHttpRequest',\n",
    "    'x-retpath-y': 'https://market.yandex.ru/product--sergi-iz-zolota-s-fianitami-iakhont-iuvelirnyi-art-128718/78931682?sku=102846519443&do-waremd5=i8G8fo8CCPG3hEvHQXDA3g&uniqueId=5925510',\n",
    "}"
   ],
   "metadata": {
    "collapsed": false,
    "ExecuteTime": {
     "end_time": "2024-03-20T16:07:24.579547Z",
     "start_time": "2024-03-20T16:07:24.571548Z"
    }
   },
   "id": "8218818bc2eb073f",
   "execution_count": 2
  },
  {
   "cell_type": "code",
   "outputs": [],
   "source": [
    "url = 'https://market.yandex.ru/product--sergi-iz-zolota-s-fianitami-iakhont-iuvelirnyi-art-237224/78931689'\n",
    "resp = requests.get(url, headers=headers, verify=False)"
   ],
   "metadata": {
    "collapsed": false,
    "ExecuteTime": {
     "end_time": "2024-03-20T16:50:10.673269Z",
     "start_time": "2024-03-20T16:50:10.027919Z"
    }
   },
   "id": "7fd1a0603510b5bc",
   "execution_count": 93
  },
  {
   "cell_type": "code",
   "outputs": [],
   "source": [
    "soup = bs(resp.text, 'html.parser')"
   ],
   "metadata": {
    "collapsed": false,
    "ExecuteTime": {
     "end_time": "2024-03-20T16:50:11.865199Z",
     "start_time": "2024-03-20T16:50:11.811095Z"
    }
   },
   "id": "a6a860c756e9f6e6",
   "execution_count": 94
  },
  {
   "cell_type": "code",
   "outputs": [],
   "source": [
    "r = soup.find('div',attrs={'data-apiary-widget-id':'/content/page/fancyPage/specsBlock'})\n",
    "rq = r.find_all('span')"
   ],
   "metadata": {
    "collapsed": false,
    "ExecuteTime": {
     "end_time": "2024-03-20T17:03:55.729710Z",
     "start_time": "2024-03-20T17:03:55.723154Z"
    }
   },
   "id": "6317214fa901d30b",
   "execution_count": 102
  },
  {
   "cell_type": "code",
   "outputs": [],
   "source": [
    "name = 1\n",
    "art = \"\"\n",
    "metal =\"\"\n",
    "insert = \"\"\n",
    "weight = np.nan\n",
    "lock = \"\"\n",
    "group = \"\"\n",
    "arts = list()\n",
    "groups = list()\n",
    "metals = list()\n",
    "weights = list()\n",
    "locks = list()\n",
    "inserts = list()"
   ],
   "metadata": {
    "collapsed": false
   },
   "id": "b070ba07e45337d4"
  },
  {
   "cell_type": "code",
   "outputs": [
    {
     "name": "stdout",
     "output_type": "stream",
     "text": [
      "237224 золото фианит 1.46 г английский серьги\n"
     ]
    }
   ],
   "source": [
    "for i in range(1,len(rq)):\n",
    "    if rq[i].text == \"Артикул\":\n",
    "        art = rq[i+1].text\n",
    "    elif rq[i].text == \"Тип\":\n",
    "        group = rq[i+1].text\n",
    "    elif rq[i].text == \"Вид металла\":\n",
    "        metal = rq[i+1].text\n",
    "    elif rq[i].text == \"Вставка\":\n",
    "        insert = rq[i+1].text\n",
    "    elif rq[i].text == \"Средний вес изделия\":\n",
    "        weight = rq[i+1].text\n",
    "    elif rq[i].text == \"Тип замка\" and group == \"серьги\":\n",
    "        lock = rq[i+1].text\n",
    "    elif rq[i].text == \"Плетение\" and (group == \"цепь\"):\n",
    "        lock = rq[i+1].text\n",
    "    if i == name:\n",
    "        name+=3\n",
    "arts.append(art)\n",
    "groups.append(group)\n",
    "metals.append(metal)\n",
    "inserts.append(insert)\n",
    "weights.append(weight)\n",
    "locks.append(lock)"
   ],
   "metadata": {
    "collapsed": false,
    "ExecuteTime": {
     "end_time": "2024-03-20T17:57:22.573382Z",
     "start_time": "2024-03-20T17:57:22.567407Z"
    }
   },
   "id": "f7ed3264c01d19d2",
   "execution_count": 123
  },
  {
   "cell_type": "code",
   "outputs": [
    {
     "name": "stdout",
     "output_type": "stream",
     "text": [
      "102846519450\n",
      "237224\n",
      "золото\n",
      "585\n",
      "фианит\n",
      "1.46 г\n",
      "английский\n"
     ]
    }
   ],
   "source": [
    "for i in range(1,len(rq),3):\n",
    "    print(rq[i].text)"
   ],
   "metadata": {
    "collapsed": false,
    "ExecuteTime": {
     "end_time": "2024-03-20T16:50:27.115471Z",
     "start_time": "2024-03-20T16:50:27.109096Z"
    }
   },
   "id": "8076e47aba15a0ef",
   "execution_count": 97
  },
  {
   "cell_type": "code",
   "outputs": [],
   "source": [],
   "metadata": {
    "collapsed": false
   },
   "id": "1a894c1aca9e6794"
  }
 ],
 "metadata": {
  "kernelspec": {
   "display_name": "Python 3",
   "language": "python",
   "name": "python3"
  },
  "language_info": {
   "codemirror_mode": {
    "name": "ipython",
    "version": 2
   },
   "file_extension": ".py",
   "mimetype": "text/x-python",
   "name": "python",
   "nbconvert_exporter": "python",
   "pygments_lexer": "ipython2",
   "version": "2.7.6"
  }
 },
 "nbformat": 4,
 "nbformat_minor": 5
}
