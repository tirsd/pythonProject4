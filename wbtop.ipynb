{
 "cells": [
  {
   "cell_type": "code",
   "execution_count": 79,
   "id": "initial_id",
   "metadata": {
    "collapsed": true,
    "ExecuteTime": {
     "end_time": "2024-03-21T08:07:55.666070Z",
     "start_time": "2024-03-21T08:07:55.660627Z"
    }
   },
   "outputs": [],
   "source": [
    "from selenium import webdriver\n",
    "import time\n",
    "import datetime\n",
    "import math\n",
    "from tqdm import tqdm\n",
    "from bs4 import BeautifulSoup as bs\n",
    "import requests\n",
    "import numpy as np\n",
    "import openpyxl\n",
    "import pandas as pd\n",
    "import warnings"
   ]
  },
  {
   "cell_type": "code",
   "outputs": [],
   "source": [
    "def charms (i):\n",
    "    name = str(df.iloc[i]['name'])\n",
    "    if \"крест\" in name or \"христиан\" in name or \"икона\" in name or \"мусульман\" in name or \"спаси\" in name or \"сохрани\" in name or \"месяц\" in name or \"аллах\" in name or \"пророк\" in name or \"будда\" in name or \"отче\" in name or \"молитва\" in name or \"икона\" in name or \"лунниц\" in name or \"ангел\" in name or \"эрцгамм\" in name or \"чудо\" in name or \"фатим\" in name or \"иисус\" in name or \"б.м\" in name or \"давид\" in name or \"матрон\" in name or \"госп\" in name or \"хамс\" in name:\n",
    "        return \"КУЛЬТ\"\n",
    "    else:\n",
    "        return \"ДЕКОР\""
   ],
   "metadata": {
    "collapsed": false,
    "ExecuteTime": {
     "end_time": "2024-03-21T08:07:56.188295Z",
     "start_time": "2024-03-21T08:07:56.181447Z"
    }
   },
   "id": "77f173201108670b",
   "execution_count": 80
  },
  {
   "cell_type": "code",
   "outputs": [],
   "source": [
    "def bracs (link):\n",
    "    url =f'https://card.wb.ru/cards/v2/detail?appType=1&curr=rub&dest=-1257786&spp=30&nm={link}'\n",
    "    sizes = requests.get(url, verify=False, timeout=30).json()\n",
    "    try:\n",
    "        r = sizes['data']['products'][0]['sizes'][0]['name']\n",
    "        if r.rfind(\"-\") > -1:\n",
    "            wei = r[r.rfind(\"-\")+1:].strip().lower().replace(\",\",\".\").replace(\"гр.\",\"\").replace(\"гр\",\"\")\n",
    "        elif r.rfind(\"~\") > -1:\n",
    "            wei = r[r.rfind(\"~\")+1:].strip().lower().replace(\",\", \".\").replace(\"гр.\",\"\").replace(\"гр\",\"\")\n",
    "        elif r.rfind(\" \") > -1:\n",
    "            wei = r[r.rfind(\" \")+1:].strip().lower().replace(\",\", \".\").replace(\"гр.\",\"\").replace(\"гр\",\"\")\n",
    "        wei = float(wei)\n",
    "        if wei > 0 and wei < 15:\n",
    "            return wei\n",
    "    except:\n",
    "        return np.nan"
   ],
   "metadata": {
    "collapsed": false,
    "ExecuteTime": {
     "end_time": "2024-03-21T08:07:56.776197Z",
     "start_time": "2024-03-21T08:07:56.767770Z"
    }
   },
   "id": "e8f8ae59f1495dc5",
   "execution_count": 81
  },
  {
   "cell_type": "code",
   "outputs": [],
   "source": [
    "def card (art):\n",
    "    group = np.nan\n",
    "    name = np.nan\n",
    "    weight = np.nan\n",
    "    lock_type = np.nan\n",
    "    metal = np.nan\n",
    "    insert = np.nan\n",
    "    competitor = np.nan\n",
    "    date = datetime.date.today()\n",
    "    i = 0\n",
    "    if int(art)//100000>spis[-1]:\n",
    "        i = len(spis)\n",
    "    else:\n",
    "        while int(art)//100000 > spis[i]:\n",
    "            i += 1\n",
    "    i += 1\n",
    "    if i < 10:\n",
    "        i = \"0\"+str(i)\n",
    "    current_link = f'https://basket-{i}.wbbasket.ru/vol{int(art)//100000}/part{int(art)//1000}/{art}/info/ru/card.json'\n",
    "    try:\n",
    "        basket = requests.get(current_link, verify=False, timeout=30).json()\n",
    "    except:\n",
    "        time.sleep(60)\n",
    "        basket = requests.get(current_link, verify=False, timeout=30).json()\n",
    "    try:\n",
    "        competitor = basket['selling']['brand_name']\n",
    "    except:\n",
    "        pass\n",
    "    try:\n",
    "        name = basket['imt_name'].lower()\n",
    "    except:\n",
    "        pass\n",
    "    try:\n",
    "        group = basket['subj_name']\n",
    "    except:\n",
    "        pass\n",
    "    try:\n",
    "        for option in basket['options']:\n",
    "            if option['name'] == 'Минимальный вес (г)':\n",
    "                weight = float(option['value'].replace('г',''))\n",
    "            elif option['name'] == 'Вставка':\n",
    "                insert = option['value']\n",
    "            elif option['name'] == 'Вид замка':\n",
    "                lock_type = option['value']\n",
    "            elif option['name'] == 'Состав ювелирного изделия':\n",
    "                metal = option['value']\n",
    "    except:\n",
    "        pass\n",
    "    try:\n",
    "        for option in basket['grouped_options'][0]['options']:\n",
    "            if option['name'] == 'Минимальный вес (г)':\n",
    "                weight = float(option['value'].replace('г',''))\n",
    "            elif option['name'] == 'Вставка':\n",
    "                insert = option['value']\n",
    "            elif option['name'] == 'Вид замка':\n",
    "                lock_type = option['value']\n",
    "            elif option['name'] == 'Состав ювелирного изделия':\n",
    "                metal = option['value'].lower()\n",
    "    except:\n",
    "        pass\n",
    "    try:\n",
    "        if np.isnan(weight) and group in [\"ЦБ БРАСЛЕТЫ\",\"ЦБ ЦЕПИ\"]:\n",
    "            weight = float(bracs(art))\n",
    "    except:\n",
    "        pass\n",
    "    try:\n",
    "        if group == \"ЦБ ЦЕПИ\":\n",
    "            for option in basket['options']:\n",
    "                if 'плетен' in option['name']:\n",
    "                    lock_type = option['value']\n",
    "    except:\n",
    "        pass\n",
    "    try:\n",
    "        if group == \"ЦБ ЦЕПИ\":\n",
    "            for option in basket['grouped_options'][0]['options']:\n",
    "                if 'плетен' in option['name']:\n",
    "                    lock_type = option['value']\n",
    "    except:\n",
    "        pass\n",
    "    return date, name, competitor, group, weight, insert, lock_type, metal"
   ],
   "metadata": {
    "collapsed": false,
    "ExecuteTime": {
     "end_time": "2024-03-21T08:07:57.284572Z",
     "start_time": "2024-03-21T08:07:57.260563Z"
    }
   },
   "id": "b66cceb7844cace1",
   "execution_count": 82
  },
  {
   "cell_type": "code",
   "outputs": [],
   "source": [
    "def tn (i):\n",
    "    inss = str(df.iloc[i]['insert']).split(',')\n",
    "    for ins in inss:\n",
    "        ins = str(ins).strip().lower()\n",
    "        insertgroup = \"\"\n",
    "        if ins == \"бриллиант\" or ins == \"сапфир\" or ins ==\"топаз\" or ins == \"изумруд\" or ins == \"бриллиант натуральный\" or ins == \"сапфир натуральный\" or ins == \"топаз натуральный\" or ins == \"изумруд натуральный\" or ins ==\"бриллианты\" or ins == \"\":\n",
    "            insertgroup = \"ДК\"\n",
    "            tovnap  = 'ДК'\n",
    "            break\n",
    "        elif ins == \"фианит\" or ins == \"бриллиант искусственный\" or ins == \"бриллиант выращенный\" or ins ==\"бриллианит\" or ins == \"бриллиант синтетический\" or \"фианит\" in str(df.iloc[i]['insert']).lower():\n",
    "            insertgroup = \"ИФ\"\n",
    "            tovnap = \"ПДК\"\n",
    "        elif \"нет\" in ins or \"без\" in ins or  str(df.iloc[i]['insert']).lower().strip() == \"золото\" or ins == \"nan\":\n",
    "            insertgroup = \"БК\"\n",
    "            tovnap  = 'БК'\n",
    "            break\n",
    "        elif \"бр\" in ins and \"искусственный\" not in ins and \"выращенный\" not in ins and \"синтетический\" not in ins and \"браслет\" not in ins:\n",
    "            insertgroup = \"ДК\"\n",
    "            tovnap = 'ДК'\n",
    "            break\n",
    "        elif insertgroup != \"ИФ\":\n",
    "            insertgroup = \"ПДК\"\n",
    "            tovnap = \"ПДК\"\n",
    "    return insertgroup, tovnap"
   ],
   "metadata": {
    "collapsed": false,
    "ExecuteTime": {
     "end_time": "2024-03-21T08:07:57.717976Z",
     "start_time": "2024-03-21T08:07:57.708861Z"
    }
   },
   "id": "ee4a100f6e8986aa",
   "execution_count": 83
  },
  {
   "cell_type": "code",
   "outputs": [],
   "source": [
    "married = True\n",
    "parsesize = False\n",
    "warnings.filterwarnings('ignore')\n",
    "links=list()\n",
    "spis = [143, 287, 431, 719, 1007, 1061, 1115, 1169, 1313, 1601, 1655, 1919, 2045, 2189, 2405]\n",
    "p=1\n",
    "arts = list()\n",
    "prices = list()\n",
    "date = list()\n",
    "discount = list()"
   ],
   "metadata": {
    "collapsed": false,
    "ExecuteTime": {
     "end_time": "2024-03-21T08:11:08.066905Z",
     "start_time": "2024-03-21T08:11:08.061464Z"
    }
   },
   "id": "e5cf54a16911c94f",
   "execution_count": 92
  },
  {
   "cell_type": "code",
   "outputs": [
    {
     "data": {
      "text/plain": "           date           competitor  \\\n0    2024-03-21      Золотая Подкова   \n1    2024-03-21      Золотая Подкова   \n2    2024-03-21               DIALVI   \n3    2024-03-21  Ювелирный Дом АРКАД   \n4    2024-03-21               DIALVI   \n..          ...                  ...   \n145  2024-03-21              SOKOLOV   \n146  2024-03-21               DIALVI   \n147  2024-03-21   Ювелирные Традиции   \n148  2024-03-21   Ювелирные Традиции   \n149  2024-03-21              SOKOLOV   \n\n                                                  name               group  \\\n0                             кольцо золотое 585 проба    Ювелирные кольца   \n1                             кольцо золотое 585 проба    Ювелирные кольца   \n2    кольцо золотое 585 пробы спаси и сохрани ювели...    Ювелирные кольца   \n3         золотой браслет 585 на руку ювелирный адамас  Ювелирные браслеты   \n4                                колье на леске сердце     Ювелирные колье   \n..                                                 ...                 ...   \n145  кольцо золотое 585 пробы с наношпинелью ювелирное    Ювелирные кольца   \n146                        леска на шею красное золото     Ювелирные колье   \n147              подвеска на шею золотая 585 с топазом  Ювелирные подвески   \n148                          подвеска золото с топазом  Ювелирные подвески   \n149         цепочка золотая 585 пробы на шею ювелирная   Ювелирные цепочки   \n\n     weight  price price_old  discount  \\\n0      0.95   6289      6620      0.95   \n1      1.30   9922     10445      0.95   \n2      0.92   8873      9340      0.95   \n3      3.35  19260     19260      1.00   \n4      1.25   6563      6909      0.95   \n..      ...    ...       ...       ...   \n145    2.99  21162     21162      1.00   \n146    0.35   2762      2908      0.95   \n147    0.29   2479      2610      0.95   \n148    0.40   3207      3376      0.95   \n149    3.42  33196     33196      1.00   \n\n                                                insert  \\\n0                                               фианит   \n1                                               фианит   \n2                                               фианит   \n3    браслет золотой; Браслет на руку; золотой брас...   \n4                                        фианит; леска   \n..                                                 ...   \n145                      фианит; шпинель синтетическая   \n146                                        без вставки   \n147                                  топаз натуральный   \n148                                  топаз натуральный   \n149                                        без вставок   \n\n                                       metal                      lock_type  \\\n0                             золото красное                            NaN   \n1                     золото красное; фианит                            NaN   \n2                                     золото                            NaN   \n3             золото красное; красное золото                        карабин   \n4    красное золото 585 пробы; фианит; леска  Шпрингель/тоггл; шпрингельный   \n..                                       ...                            ...   \n145                           золото красное                            NaN   \n146                   золото; золото красное                   шпрингельный   \n147                           золото красное                            NaN   \n148                           золото красное                            NaN   \n149                           золото красное                        карабин   \n\n           art    avg_price  \n0     98618802  6620.000000  \n1     13294037  7632.307692  \n2     91721347  9644.565217  \n3     19133416  5749.253731  \n4     91915422  5250.400000  \n..         ...          ...  \n145    8778771  7077.591973  \n146   91756959  7891.428571  \n147   72778451  8548.275862  \n148  158358586  8017.500000  \n149   11843914  9706.432749  \n\n[150 rows x 13 columns]",
      "text/html": "<div>\n<style scoped>\n    .dataframe tbody tr th:only-of-type {\n        vertical-align: middle;\n    }\n\n    .dataframe tbody tr th {\n        vertical-align: top;\n    }\n\n    .dataframe thead th {\n        text-align: right;\n    }\n</style>\n<table border=\"1\" class=\"dataframe\">\n  <thead>\n    <tr style=\"text-align: right;\">\n      <th></th>\n      <th>date</th>\n      <th>competitor</th>\n      <th>name</th>\n      <th>group</th>\n      <th>weight</th>\n      <th>price</th>\n      <th>price_old</th>\n      <th>discount</th>\n      <th>insert</th>\n      <th>metal</th>\n      <th>lock_type</th>\n      <th>art</th>\n      <th>avg_price</th>\n    </tr>\n  </thead>\n  <tbody>\n    <tr>\n      <th>0</th>\n      <td>2024-03-21</td>\n      <td>Золотая Подкова</td>\n      <td>кольцо золотое 585 проба</td>\n      <td>Ювелирные кольца</td>\n      <td>0.95</td>\n      <td>6289</td>\n      <td>6620</td>\n      <td>0.95</td>\n      <td>фианит</td>\n      <td>золото красное</td>\n      <td>NaN</td>\n      <td>98618802</td>\n      <td>6620.000000</td>\n    </tr>\n    <tr>\n      <th>1</th>\n      <td>2024-03-21</td>\n      <td>Золотая Подкова</td>\n      <td>кольцо золотое 585 проба</td>\n      <td>Ювелирные кольца</td>\n      <td>1.30</td>\n      <td>9922</td>\n      <td>10445</td>\n      <td>0.95</td>\n      <td>фианит</td>\n      <td>золото красное; фианит</td>\n      <td>NaN</td>\n      <td>13294037</td>\n      <td>7632.307692</td>\n    </tr>\n    <tr>\n      <th>2</th>\n      <td>2024-03-21</td>\n      <td>DIALVI</td>\n      <td>кольцо золотое 585 пробы спаси и сохрани ювели...</td>\n      <td>Ювелирные кольца</td>\n      <td>0.92</td>\n      <td>8873</td>\n      <td>9340</td>\n      <td>0.95</td>\n      <td>фианит</td>\n      <td>золото</td>\n      <td>NaN</td>\n      <td>91721347</td>\n      <td>9644.565217</td>\n    </tr>\n    <tr>\n      <th>3</th>\n      <td>2024-03-21</td>\n      <td>Ювелирный Дом АРКАД</td>\n      <td>золотой браслет 585 на руку ювелирный адамас</td>\n      <td>Ювелирные браслеты</td>\n      <td>3.35</td>\n      <td>19260</td>\n      <td>19260</td>\n      <td>1.00</td>\n      <td>браслет золотой; Браслет на руку; золотой брас...</td>\n      <td>золото красное; красное золото</td>\n      <td>карабин</td>\n      <td>19133416</td>\n      <td>5749.253731</td>\n    </tr>\n    <tr>\n      <th>4</th>\n      <td>2024-03-21</td>\n      <td>DIALVI</td>\n      <td>колье на леске сердце</td>\n      <td>Ювелирные колье</td>\n      <td>1.25</td>\n      <td>6563</td>\n      <td>6909</td>\n      <td>0.95</td>\n      <td>фианит; леска</td>\n      <td>красное золото 585 пробы; фианит; леска</td>\n      <td>Шпрингель/тоггл; шпрингельный</td>\n      <td>91915422</td>\n      <td>5250.400000</td>\n    </tr>\n    <tr>\n      <th>...</th>\n      <td>...</td>\n      <td>...</td>\n      <td>...</td>\n      <td>...</td>\n      <td>...</td>\n      <td>...</td>\n      <td>...</td>\n      <td>...</td>\n      <td>...</td>\n      <td>...</td>\n      <td>...</td>\n      <td>...</td>\n      <td>...</td>\n    </tr>\n    <tr>\n      <th>145</th>\n      <td>2024-03-21</td>\n      <td>SOKOLOV</td>\n      <td>кольцо золотое 585 пробы с наношпинелью ювелирное</td>\n      <td>Ювелирные кольца</td>\n      <td>2.99</td>\n      <td>21162</td>\n      <td>21162</td>\n      <td>1.00</td>\n      <td>фианит; шпинель синтетическая</td>\n      <td>золото красное</td>\n      <td>NaN</td>\n      <td>8778771</td>\n      <td>7077.591973</td>\n    </tr>\n    <tr>\n      <th>146</th>\n      <td>2024-03-21</td>\n      <td>DIALVI</td>\n      <td>леска на шею красное золото</td>\n      <td>Ювелирные колье</td>\n      <td>0.35</td>\n      <td>2762</td>\n      <td>2908</td>\n      <td>0.95</td>\n      <td>без вставки</td>\n      <td>золото; золото красное</td>\n      <td>шпрингельный</td>\n      <td>91756959</td>\n      <td>7891.428571</td>\n    </tr>\n    <tr>\n      <th>147</th>\n      <td>2024-03-21</td>\n      <td>Ювелирные Традиции</td>\n      <td>подвеска на шею золотая 585 с топазом</td>\n      <td>Ювелирные подвески</td>\n      <td>0.29</td>\n      <td>2479</td>\n      <td>2610</td>\n      <td>0.95</td>\n      <td>топаз натуральный</td>\n      <td>золото красное</td>\n      <td>NaN</td>\n      <td>72778451</td>\n      <td>8548.275862</td>\n    </tr>\n    <tr>\n      <th>148</th>\n      <td>2024-03-21</td>\n      <td>Ювелирные Традиции</td>\n      <td>подвеска золото с топазом</td>\n      <td>Ювелирные подвески</td>\n      <td>0.40</td>\n      <td>3207</td>\n      <td>3376</td>\n      <td>0.95</td>\n      <td>топаз натуральный</td>\n      <td>золото красное</td>\n      <td>NaN</td>\n      <td>158358586</td>\n      <td>8017.500000</td>\n    </tr>\n    <tr>\n      <th>149</th>\n      <td>2024-03-21</td>\n      <td>SOKOLOV</td>\n      <td>цепочка золотая 585 пробы на шею ювелирная</td>\n      <td>Ювелирные цепочки</td>\n      <td>3.42</td>\n      <td>33196</td>\n      <td>33196</td>\n      <td>1.00</td>\n      <td>без вставок</td>\n      <td>золото красное</td>\n      <td>карабин</td>\n      <td>11843914</td>\n      <td>9706.432749</td>\n    </tr>\n  </tbody>\n</table>\n<p>150 rows × 13 columns</p>\n</div>"
     },
     "execution_count": 93,
     "metadata": {},
     "output_type": "execute_result"
    }
   ],
   "source": [
    "mwd = webdriver.Chrome()\n",
    "mwd.maximize_window()\n",
    "df =pd.DataFrame(columns=['date','name','competitor','group','weight','insert','lock_type','metal','price','price_old','discount','art','avg_price'])\n",
    "while len(df.index)<150:\n",
    "    url = f'https://www.wildberries.ru/catalog/0/search.aspx?page={p}&sort=popular&search=%D0%B7%D0%BE%D0%BB%D0%BE%D1%82%D0%BE&f1134=10592'\n",
    "    mwd.get(url)\n",
    "    time.sleep(1.5)\n",
    "    step = 1900\n",
    "    while True:\n",
    "        step0=step-1900\n",
    "        lh = mwd.execute_script(\"return document.body.scrollHeight\")\n",
    "        mwd.execute_script(f\"window.scrollTo({step0}, {step});\")\n",
    "        time.sleep(1)\n",
    "        nh = mwd.execute_script(\"return document.body.scrollHeight\")\n",
    "        step+=1900\n",
    "        if nh==lh:\n",
    "            break\n",
    "    soup = bs(mwd.page_source, \"html.parser\")\n",
    "    artss =  soup.find_all('article',id=True)\n",
    "    for art in artss:\n",
    "        artt = art['data-nm-id'] \n",
    "        try:\n",
    "            rate = art.find_next('span',attrs={'class':'address-rate-mini address-rate-mini--sm'}).text\n",
    "            prcount = art.find_next('span',attrs={'product-card__count'}).text\n",
    "        except:\n",
    "            rate = 1\n",
    "            prcount = 1\n",
    "        try:\n",
    "            prcount = int(prcount[:prcount.find(\" \")])\n",
    "        except:\n",
    "            prcount = 1\n",
    "        if float(rate) >=4.7 and int(prcount)>=50:\n",
    "            if str(art).find('price__lower-price wallet-price')>0:\n",
    "                prl = art.findNext('ins',attrs={'class':'price__lower-price wallet-price'}).text.strip()[:-2].replace('\\xa0','')\n",
    "                po = math.ceil(int(prl)/0.95)\n",
    "                discount = 0.95\n",
    "            else:\n",
    "                prl = art.findNext('ins',attrs={'class': 'price__lower-price'}).text.strip()[:-2]\n",
    "                if prl.find('\\xa0')>0:\n",
    "                    prl = prl.replace('\\xa0','')\n",
    "                    po = prl\n",
    "                    discount = 1\n",
    "            params = card(artt)\n",
    "            params = list(params)\n",
    "            if not np.isnan(params[4]) and int(prl)/params[4]>3000 and \"жемч\" not in str(params[5]) and \"кауч\" not in str(params[5]) and \"эмал\" not in str(params[5]):  \n",
    "                params.append(prl)\n",
    "                params.append(po)\n",
    "                params.append(discount)\n",
    "                params.append(artt)\n",
    "                params.append(int(prl)/params[4])\n",
    "                df.loc[len(df.index)] = params\n",
    "                if len(df.index) == 150:\n",
    "                    break\n",
    "    p+=1\n",
    "df = df[['date','competitor','name','group','weight','price','price_old','discount','insert','metal','lock_type','art','avg_price']]\n",
    "mwd.close()\n",
    "df"
   ],
   "metadata": {
    "collapsed": false,
    "ExecuteTime": {
     "end_time": "2024-03-21T08:14:18.094289Z",
     "start_time": "2024-03-21T08:11:08.832441Z"
    }
   },
   "id": "2f0d61e7592bd4be",
   "execution_count": 93
  },
  {
   "cell_type": "code",
   "outputs": [
    {
     "data": {
      "text/plain": "group\nЮвелирные кольца      57\nЮвелирные подвески    41\nЮвелирные серьги      31\nЮвелирные браслеты    10\nЮвелирные цепочки      7\nЮвелирные колье        3\nЮвелирные шнурки       1\nName: count, dtype: int64"
     },
     "execution_count": 94,
     "metadata": {},
     "output_type": "execute_result"
    }
   ],
   "source": [
    "df['group'].value_counts()"
   ],
   "metadata": {
    "collapsed": false,
    "ExecuteTime": {
     "end_time": "2024-03-21T08:15:20.093913Z",
     "start_time": "2024-03-21T08:15:20.085594Z"
    }
   },
   "id": "f012b243d64d050",
   "execution_count": 94
  },
  {
   "cell_type": "code",
   "outputs": [],
   "source": [
    "tgs = list()\n",
    "tnns = list()\n",
    "for i in df.index:\n",
    "    if df.iloc[i]['group'] == \"Ювелирные подвески\":\n",
    "        tg = \"ПОДВЕС \" + charms(i)\n",
    "    elif df.iloc[i]['group'] == \"Ювелирные кольца\":\n",
    "        if \"обруч\" in df.iloc[i]['name'].lower() or \"помолв\" in df.iloc[i]['name'].lower() or \"свад\" in df.iloc[i]['name'].lower():\n",
    "            tg = \"КОЛЬЦА ОБРУЧ\"\n",
    "        else:\n",
    "            tg = \"КОЛЬЦА\"\n",
    "    elif df.iloc[i]['group'] == \"Ювелирные цепочки\":\n",
    "        tg = \"ЦБ ЦЕПИ\"\n",
    "    elif df.iloc[i]['group'] == \"Ювелирные браслеты\":\n",
    "        tg = \"ЦБ БРАСЛЕТЫ\"\n",
    "    elif df.iloc[i]['group']==\"Ювелирные серьги\":\n",
    "        tg = \"СЕРЬГИ\"\n",
    "    else:\n",
    "        tg = \"\"\n",
    "    if len(tg)>0 and \"ЦБ\" not in tg:\n",
    "        tg = f'{tn(i)[0]} {tg}'.strip()\n",
    "        tnn = tn(i)[1]\n",
    "    elif \"ЦБ\" in tg:\n",
    "        tnn = \"ЦБ\"\n",
    "    else:\n",
    "        tnn = \"Другое\"\n",
    "        tg = \"Другое\"\n",
    "    tgs.append(tg)\n",
    "    tnns.append(tnn)\n",
    "df.insert(loc=len(df.columns),column='product_group(ТГ)',value=tgs)\n",
    "df.insert(loc=len(df.columns),column='product_direction(ТН)',value=tnns)"
   ],
   "metadata": {
    "collapsed": false,
    "ExecuteTime": {
     "end_time": "2024-03-21T08:15:31.607403Z",
     "start_time": "2024-03-21T08:15:31.520646Z"
    }
   },
   "id": "c06e8e41afe761b",
   "execution_count": 95
  },
  {
   "cell_type": "code",
   "outputs": [
    {
     "data": {
      "text/plain": "           date           competitor  \\\n0    2024-03-21      Золотая Подкова   \n1    2024-03-21      Золотая Подкова   \n2    2024-03-21               DIALVI   \n3    2024-03-21  Ювелирный Дом АРКАД   \n4    2024-03-21               DIALVI   \n..          ...                  ...   \n145  2024-03-21              SOKOLOV   \n146  2024-03-21               DIALVI   \n147  2024-03-21   Ювелирные Традиции   \n148  2024-03-21   Ювелирные Традиции   \n149  2024-03-21              SOKOLOV   \n\n                                                  name               group  \\\n0                             кольцо золотое 585 проба    Ювелирные кольца   \n1                             кольцо золотое 585 проба    Ювелирные кольца   \n2    кольцо золотое 585 пробы спаси и сохрани ювели...    Ювелирные кольца   \n3         золотой браслет 585 на руку ювелирный адамас  Ювелирные браслеты   \n4                                колье на леске сердце     Ювелирные колье   \n..                                                 ...                 ...   \n145  кольцо золотое 585 пробы с наношпинелью ювелирное    Ювелирные кольца   \n146                        леска на шею красное золото     Ювелирные колье   \n147              подвеска на шею золотая 585 с топазом  Ювелирные подвески   \n148                          подвеска золото с топазом  Ювелирные подвески   \n149         цепочка золотая 585 пробы на шею ювелирная   Ювелирные цепочки   \n\n     weight  price price_old  discount  \\\n0      0.95   6289      6620      0.95   \n1      1.30   9922     10445      0.95   \n2      0.92   8873      9340      0.95   \n3      3.35  19260     19260      1.00   \n4      1.25   6563      6909      0.95   \n..      ...    ...       ...       ...   \n145    2.99  21162     21162      1.00   \n146    0.35   2762      2908      0.95   \n147    0.29   2479      2610      0.95   \n148    0.40   3207      3376      0.95   \n149    3.42  33196     33196      1.00   \n\n                                                insert  \\\n0                                               фианит   \n1                                               фианит   \n2                                               фианит   \n3    браслет золотой; Браслет на руку; золотой брас...   \n4                                        фианит; леска   \n..                                                 ...   \n145                      фианит; шпинель синтетическая   \n146                                        без вставки   \n147                                  топаз натуральный   \n148                                  топаз натуральный   \n149                                        без вставок   \n\n                                       metal                      lock_type  \\\n0                             золото красное                            NaN   \n1                     золото красное; фианит                            NaN   \n2                                     золото                            NaN   \n3             золото красное; красное золото                        карабин   \n4    красное золото 585 пробы; фианит; леска  Шпрингель/тоггл; шпрингельный   \n..                                       ...                            ...   \n145                           золото красное                            NaN   \n146                   золото; золото красное                   шпрингельный   \n147                           золото красное                            NaN   \n148                           золото красное                            NaN   \n149                           золото красное                        карабин   \n\n           art    avg_price product_group(ТГ) product_direction(ТН)  \n0     98618802  6620.000000         ИФ КОЛЬЦА                   ПДК  \n1     13294037  7632.307692         ИФ КОЛЬЦА                   ПДК  \n2     91721347  9644.565217         ИФ КОЛЬЦА                   ПДК  \n3     19133416  5749.253731       ЦБ БРАСЛЕТЫ                    ЦБ  \n4     91915422  5250.400000            Другое                Другое  \n..         ...          ...               ...                   ...  \n145    8778771  7077.591973         ИФ КОЛЬЦА                   ПДК  \n146   91756959  7891.428571            Другое                Другое  \n147   72778451  8548.275862   ДК ПОДВЕС ДЕКОР                    ДК  \n148  158358586  8017.500000   ДК ПОДВЕС ДЕКОР                    ДК  \n149   11843914  9706.432749           ЦБ ЦЕПИ                    ЦБ  \n\n[150 rows x 15 columns]",
      "text/html": "<div>\n<style scoped>\n    .dataframe tbody tr th:only-of-type {\n        vertical-align: middle;\n    }\n\n    .dataframe tbody tr th {\n        vertical-align: top;\n    }\n\n    .dataframe thead th {\n        text-align: right;\n    }\n</style>\n<table border=\"1\" class=\"dataframe\">\n  <thead>\n    <tr style=\"text-align: right;\">\n      <th></th>\n      <th>date</th>\n      <th>competitor</th>\n      <th>name</th>\n      <th>group</th>\n      <th>weight</th>\n      <th>price</th>\n      <th>price_old</th>\n      <th>discount</th>\n      <th>insert</th>\n      <th>metal</th>\n      <th>lock_type</th>\n      <th>art</th>\n      <th>avg_price</th>\n      <th>product_group(ТГ)</th>\n      <th>product_direction(ТН)</th>\n    </tr>\n  </thead>\n  <tbody>\n    <tr>\n      <th>0</th>\n      <td>2024-03-21</td>\n      <td>Золотая Подкова</td>\n      <td>кольцо золотое 585 проба</td>\n      <td>Ювелирные кольца</td>\n      <td>0.95</td>\n      <td>6289</td>\n      <td>6620</td>\n      <td>0.95</td>\n      <td>фианит</td>\n      <td>золото красное</td>\n      <td>NaN</td>\n      <td>98618802</td>\n      <td>6620.000000</td>\n      <td>ИФ КОЛЬЦА</td>\n      <td>ПДК</td>\n    </tr>\n    <tr>\n      <th>1</th>\n      <td>2024-03-21</td>\n      <td>Золотая Подкова</td>\n      <td>кольцо золотое 585 проба</td>\n      <td>Ювелирные кольца</td>\n      <td>1.30</td>\n      <td>9922</td>\n      <td>10445</td>\n      <td>0.95</td>\n      <td>фианит</td>\n      <td>золото красное; фианит</td>\n      <td>NaN</td>\n      <td>13294037</td>\n      <td>7632.307692</td>\n      <td>ИФ КОЛЬЦА</td>\n      <td>ПДК</td>\n    </tr>\n    <tr>\n      <th>2</th>\n      <td>2024-03-21</td>\n      <td>DIALVI</td>\n      <td>кольцо золотое 585 пробы спаси и сохрани ювели...</td>\n      <td>Ювелирные кольца</td>\n      <td>0.92</td>\n      <td>8873</td>\n      <td>9340</td>\n      <td>0.95</td>\n      <td>фианит</td>\n      <td>золото</td>\n      <td>NaN</td>\n      <td>91721347</td>\n      <td>9644.565217</td>\n      <td>ИФ КОЛЬЦА</td>\n      <td>ПДК</td>\n    </tr>\n    <tr>\n      <th>3</th>\n      <td>2024-03-21</td>\n      <td>Ювелирный Дом АРКАД</td>\n      <td>золотой браслет 585 на руку ювелирный адамас</td>\n      <td>Ювелирные браслеты</td>\n      <td>3.35</td>\n      <td>19260</td>\n      <td>19260</td>\n      <td>1.00</td>\n      <td>браслет золотой; Браслет на руку; золотой брас...</td>\n      <td>золото красное; красное золото</td>\n      <td>карабин</td>\n      <td>19133416</td>\n      <td>5749.253731</td>\n      <td>ЦБ БРАСЛЕТЫ</td>\n      <td>ЦБ</td>\n    </tr>\n    <tr>\n      <th>4</th>\n      <td>2024-03-21</td>\n      <td>DIALVI</td>\n      <td>колье на леске сердце</td>\n      <td>Ювелирные колье</td>\n      <td>1.25</td>\n      <td>6563</td>\n      <td>6909</td>\n      <td>0.95</td>\n      <td>фианит; леска</td>\n      <td>красное золото 585 пробы; фианит; леска</td>\n      <td>Шпрингель/тоггл; шпрингельный</td>\n      <td>91915422</td>\n      <td>5250.400000</td>\n      <td>Другое</td>\n      <td>Другое</td>\n    </tr>\n    <tr>\n      <th>...</th>\n      <td>...</td>\n      <td>...</td>\n      <td>...</td>\n      <td>...</td>\n      <td>...</td>\n      <td>...</td>\n      <td>...</td>\n      <td>...</td>\n      <td>...</td>\n      <td>...</td>\n      <td>...</td>\n      <td>...</td>\n      <td>...</td>\n      <td>...</td>\n      <td>...</td>\n    </tr>\n    <tr>\n      <th>145</th>\n      <td>2024-03-21</td>\n      <td>SOKOLOV</td>\n      <td>кольцо золотое 585 пробы с наношпинелью ювелирное</td>\n      <td>Ювелирные кольца</td>\n      <td>2.99</td>\n      <td>21162</td>\n      <td>21162</td>\n      <td>1.00</td>\n      <td>фианит; шпинель синтетическая</td>\n      <td>золото красное</td>\n      <td>NaN</td>\n      <td>8778771</td>\n      <td>7077.591973</td>\n      <td>ИФ КОЛЬЦА</td>\n      <td>ПДК</td>\n    </tr>\n    <tr>\n      <th>146</th>\n      <td>2024-03-21</td>\n      <td>DIALVI</td>\n      <td>леска на шею красное золото</td>\n      <td>Ювелирные колье</td>\n      <td>0.35</td>\n      <td>2762</td>\n      <td>2908</td>\n      <td>0.95</td>\n      <td>без вставки</td>\n      <td>золото; золото красное</td>\n      <td>шпрингельный</td>\n      <td>91756959</td>\n      <td>7891.428571</td>\n      <td>Другое</td>\n      <td>Другое</td>\n    </tr>\n    <tr>\n      <th>147</th>\n      <td>2024-03-21</td>\n      <td>Ювелирные Традиции</td>\n      <td>подвеска на шею золотая 585 с топазом</td>\n      <td>Ювелирные подвески</td>\n      <td>0.29</td>\n      <td>2479</td>\n      <td>2610</td>\n      <td>0.95</td>\n      <td>топаз натуральный</td>\n      <td>золото красное</td>\n      <td>NaN</td>\n      <td>72778451</td>\n      <td>8548.275862</td>\n      <td>ДК ПОДВЕС ДЕКОР</td>\n      <td>ДК</td>\n    </tr>\n    <tr>\n      <th>148</th>\n      <td>2024-03-21</td>\n      <td>Ювелирные Традиции</td>\n      <td>подвеска золото с топазом</td>\n      <td>Ювелирные подвески</td>\n      <td>0.40</td>\n      <td>3207</td>\n      <td>3376</td>\n      <td>0.95</td>\n      <td>топаз натуральный</td>\n      <td>золото красное</td>\n      <td>NaN</td>\n      <td>158358586</td>\n      <td>8017.500000</td>\n      <td>ДК ПОДВЕС ДЕКОР</td>\n      <td>ДК</td>\n    </tr>\n    <tr>\n      <th>149</th>\n      <td>2024-03-21</td>\n      <td>SOKOLOV</td>\n      <td>цепочка золотая 585 пробы на шею ювелирная</td>\n      <td>Ювелирные цепочки</td>\n      <td>3.42</td>\n      <td>33196</td>\n      <td>33196</td>\n      <td>1.00</td>\n      <td>без вставок</td>\n      <td>золото красное</td>\n      <td>карабин</td>\n      <td>11843914</td>\n      <td>9706.432749</td>\n      <td>ЦБ ЦЕПИ</td>\n      <td>ЦБ</td>\n    </tr>\n  </tbody>\n</table>\n<p>150 rows × 15 columns</p>\n</div>"
     },
     "execution_count": 96,
     "metadata": {},
     "output_type": "execute_result"
    }
   ],
   "source": [
    "df"
   ],
   "metadata": {
    "collapsed": false,
    "ExecuteTime": {
     "end_time": "2024-03-21T08:15:32.741092Z",
     "start_time": "2024-03-21T08:15:32.720691Z"
    }
   },
   "id": "1057f053a9eee0ea",
   "execution_count": 96
  },
  {
   "cell_type": "code",
   "outputs": [
    {
     "data": {
      "text/plain": "product_group(ТГ)\nИФ КОЛЬЦА           24\nИФ СЕРЬГИ           15\nБК КОЛЬЦА ОБРУЧ     13\nЦБ БРАСЛЕТЫ         10\nДК КОЛЬЦА           10\nБК ПОДВЕС ДЕКОР      8\nБК ПОДВЕС КУЛЬТ      8\nДК ПОДВЕС ДЕКОР      8\nИФ ПОДВЕС ДЕКОР      7\nПДК ПОДВЕС ДЕКОР     7\nЦБ ЦЕПИ              7\nБК СЕРЬГИ            7\nБК КОЛЬЦА            5\nПДК СЕРЬГИ           5\nДругое               4\nДК СЕРЬГИ            4\nПДК КОЛЬЦА           4\nИФ ПОДВЕС КУЛЬТ      3\nИФ КОЛЬЦА ОБРУЧ      1\nName: count, dtype: int64"
     },
     "execution_count": 97,
     "metadata": {},
     "output_type": "execute_result"
    }
   ],
   "source": [
    "df['product_group(ТГ)'].value_counts()"
   ],
   "metadata": {
    "collapsed": false,
    "ExecuteTime": {
     "end_time": "2024-03-21T08:15:34.019892Z",
     "start_time": "2024-03-21T08:15:34.010954Z"
    }
   },
   "id": "4ccde1b32f7cdbdf",
   "execution_count": 97
  },
  {
   "cell_type": "code",
   "outputs": [
    {
     "data": {
      "text/plain": "product_direction(ТН)\nПДК       66\nБК        41\nДК        22\nЦБ        17\nДругое     4\nName: count, dtype: int64"
     },
     "execution_count": 98,
     "metadata": {},
     "output_type": "execute_result"
    }
   ],
   "source": [
    "df['product_direction(ТН)'].value_counts()"
   ],
   "metadata": {
    "collapsed": false,
    "ExecuteTime": {
     "end_time": "2024-03-21T08:15:37.663338Z",
     "start_time": "2024-03-21T08:15:37.654609Z"
    }
   },
   "id": "32ea223551c8ac51",
   "execution_count": 98
  },
  {
   "cell_type": "code",
   "outputs": [],
   "source": [
    "df.to_excel(f'wildberries(top)_{datetime.date.today().day}_{datetime.date.today().month}_{datetime.date.today().year}.xlsx',index=False)"
   ],
   "metadata": {
    "collapsed": false,
    "ExecuteTime": {
     "end_time": "2024-03-21T08:34:15.861670Z",
     "start_time": "2024-03-21T08:34:15.786042Z"
    }
   },
   "id": "71f5671fdd5a76a",
   "execution_count": 99
  },
  {
   "cell_type": "code",
   "outputs": [],
   "source": [],
   "metadata": {
    "collapsed": false
   },
   "id": "8c9198a8a772495b"
  }
 ],
 "metadata": {
  "kernelspec": {
   "display_name": "Python 3",
   "language": "python",
   "name": "python3"
  },
  "language_info": {
   "codemirror_mode": {
    "name": "ipython",
    "version": 2
   },
   "file_extension": ".py",
   "mimetype": "text/x-python",
   "name": "python",
   "nbconvert_exporter": "python",
   "pygments_lexer": "ipython2",
   "version": "2.7.6"
  }
 },
 "nbformat": 4,
 "nbformat_minor": 5
}
