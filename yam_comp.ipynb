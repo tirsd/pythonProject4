{
 "cells": [
  {
   "cell_type": "code",
   "execution_count": 236,
   "id": "initial_id",
   "metadata": {
    "collapsed": true,
    "ExecuteTime": {
     "end_time": "2024-03-26T19:54:02.560998Z",
     "start_time": "2024-03-26T19:54:02.557003Z"
    }
   },
   "outputs": [],
   "source": [
    "import pandas as pd\n",
    "import numpy as np"
   ]
  },
  {
   "cell_type": "code",
   "outputs": [
    {
     "data": {
      "text/plain": "                                                    Фото           SKU  \\\n0      https://avatars.mds.yandex.net/get-mpic/529700...     877385225   \n1      https://avatars.mds.yandex.net/get-mpic/121682...  102664932353   \n2      https://avatars.mds.yandex.net/get-mpic/159996...  102002799694   \n3      https://avatars.mds.yandex.net/get-mpic/159996...  102063411216   \n4      https://avatars.mds.yandex.net/get-marketpic/1...  102554748383   \n...                                                  ...           ...   \n22128  https://avatars.mds.yandex.net/get-mpic/117638...  102474266429   \n22129  https://avatars.mds.yandex.net/get-mpic/495498...  101802954796   \n22130  https://avatars.mds.yandex.net/get-marketpic/7...  102344459669   \n22131  https://avatars.mds.yandex.net/get-mpic/122352...  102649234549   \n22132  https://avatars.mds.yandex.net/get-mpic/408006...  100921877944   \n\n                                                Название  \\\n0      Серьги Ювелир Карат, красное золото, 585 проба...   \n1      Цепь Estetica, красное золото, 585 проба, длин...   \n2      Цепь LINEA, красное золото, 585 проба, длина 5...   \n3      Цепь LINEA, красное золото, 585 проба, длина 5...   \n4      Браслет-цепочка МагнаТ, красное золото, 585 пр...   \n...                                                  ...   \n22128  Кольцо SOKOLOV, серебро, 925 проба, родировани...   \n22129  Кольцо SOKOLOV, серебро, 925 проба, родировани...   \n22130  Серьги Diamant online, серебро, 925 проба, зол...   \n22131  Цепь Бронницкий Ювелир, серебро, 925 проба, ро...   \n22132  Кольцо SOKOLOV, серебро, 925 проба, родировани...   \n\n                                               Категория              Бренд  \\\n0      Одежда, обувь и аксессуары/Аксессуары/Украшени...       Ювелир Карат   \n1      Одежда, обувь и аксессуары/Аксессуары/Украшени...           Estetica   \n2      Одежда, обувь и аксессуары/Аксессуары/Украшени...              LINEA   \n3      Одежда, обувь и аксессуары/Аксессуары/Украшени...              LINEA   \n4      Одежда, обувь и аксессуары/Аксессуары/Украшени...             МагнаТ   \n...                                                  ...                ...   \n22128  Одежда, обувь и аксессуары/Аксессуары/Украшени...            SOKOLOV   \n22129  Одежда, обувь и аксессуары/Аксессуары/Украшени...            SOKOLOV   \n22130  Одежда, обувь и аксессуары/Аксессуары/Украшени...     Diamant online   \n22131  Одежда, обувь и аксессуары/Аксессуары/Украшени...  Бронницкий Ювелир   \n22132  Одежда, обувь и аксессуары/Аксессуары/Украшени...            SOKOLOV   \n\n                 Продавец  Наличие  Отзывы Рейтинг  Был в наличии  ...  \\\n0            Ювелир Карат        0      72     4,6              0  ...   \n1           Estetica-Gold       10      17    4,97             19  ...   \n2                МЕГАГОЛД        5     134    4,84             21  ...   \n3                МЕГАГОЛД       30      88    4,86             17  ...   \n4      Золотые_украшения.        1       0       0             11  ...   \n...                   ...      ...     ...     ...            ...  ...   \n22128             SOKOLOV        0       0       5              0  ...   \n22129             SOKOLOV        7       1       4              1  ...   \n22130     DIAMANT-ONLINE.        2       0       4              1  ...   \n22131  БРОННИЦКИЙ ЮВЕЛИР.        3       0       0              1  ...   \n22132             SOKOLOV        0       2       5              0  ...   \n\n       Потенциал  Упущенная выручка  % от выручки Упущенная выручка %  Скидка  \\\n0              0                  0          0,58                   0      62   \n1        3334206            1222542          0,46               36,67      47   \n2        2198909             659673          0,34                  30      28   \n3        2313739            1002620          0,29               43,33      23   \n4        3530831            2236193          0,28               63,33      40   \n...          ...                ...           ...                 ...     ...   \n22128          0                  0             0                   0      99   \n22129        210                203             0               96,67      99   \n22130         30                 29             0               96,67     100   \n22131         30                 29             0               96,67     100   \n22132          0                  0             0                   0     100   \n\n       Мин. цена Макс. цена Ср . цена  Дней с продажами  Среднее в день  \n0           5529       7800      6336                24           14,23  \n1          26278      33000     30071                19            2,33  \n2          16983      19980     18695                21            2,73  \n3          33668      44600     39390                17            1,13  \n4          75595      90700     87405                11             0,5  \n...          ...        ...       ...               ...             ...  \n22128         43         43        43                 1            0,03  \n22129          7          7         7                 1            0,03  \n22130          1          1         1                 1            0,03  \n22131          1          1         1                 1            0,03  \n22132          1          1         1                 1            0,03  \n\n[22133 rows x 28 columns]",
      "text/html": "<div>\n<style scoped>\n    .dataframe tbody tr th:only-of-type {\n        vertical-align: middle;\n    }\n\n    .dataframe tbody tr th {\n        vertical-align: top;\n    }\n\n    .dataframe thead th {\n        text-align: right;\n    }\n</style>\n<table border=\"1\" class=\"dataframe\">\n  <thead>\n    <tr style=\"text-align: right;\">\n      <th></th>\n      <th>Фото</th>\n      <th>SKU</th>\n      <th>Название</th>\n      <th>Категория</th>\n      <th>Бренд</th>\n      <th>Продавец</th>\n      <th>Наличие</th>\n      <th>Отзывы</th>\n      <th>Рейтинг</th>\n      <th>Был в наличии</th>\n      <th>...</th>\n      <th>Потенциал</th>\n      <th>Упущенная выручка</th>\n      <th>% от выручки</th>\n      <th>Упущенная выручка %</th>\n      <th>Скидка</th>\n      <th>Мин. цена</th>\n      <th>Макс. цена</th>\n      <th>Ср . цена</th>\n      <th>Дней с продажами</th>\n      <th>Среднее в день</th>\n    </tr>\n  </thead>\n  <tbody>\n    <tr>\n      <th>0</th>\n      <td>https://avatars.mds.yandex.net/get-mpic/529700...</td>\n      <td>877385225</td>\n      <td>Серьги Ювелир Карат, красное золото, 585 проба...</td>\n      <td>Одежда, обувь и аксессуары/Аксессуары/Украшени...</td>\n      <td>Ювелир Карат</td>\n      <td>Ювелир Карат</td>\n      <td>0</td>\n      <td>72</td>\n      <td>4,6</td>\n      <td>0</td>\n      <td>...</td>\n      <td>0</td>\n      <td>0</td>\n      <td>0,58</td>\n      <td>0</td>\n      <td>62</td>\n      <td>5529</td>\n      <td>7800</td>\n      <td>6336</td>\n      <td>24</td>\n      <td>14,23</td>\n    </tr>\n    <tr>\n      <th>1</th>\n      <td>https://avatars.mds.yandex.net/get-mpic/121682...</td>\n      <td>102664932353</td>\n      <td>Цепь Estetica, красное золото, 585 проба, длин...</td>\n      <td>Одежда, обувь и аксессуары/Аксессуары/Украшени...</td>\n      <td>Estetica</td>\n      <td>Estetica-Gold</td>\n      <td>10</td>\n      <td>17</td>\n      <td>4,97</td>\n      <td>19</td>\n      <td>...</td>\n      <td>3334206</td>\n      <td>1222542</td>\n      <td>0,46</td>\n      <td>36,67</td>\n      <td>47</td>\n      <td>26278</td>\n      <td>33000</td>\n      <td>30071</td>\n      <td>19</td>\n      <td>2,33</td>\n    </tr>\n    <tr>\n      <th>2</th>\n      <td>https://avatars.mds.yandex.net/get-mpic/159996...</td>\n      <td>102002799694</td>\n      <td>Цепь LINEA, красное золото, 585 проба, длина 5...</td>\n      <td>Одежда, обувь и аксессуары/Аксессуары/Украшени...</td>\n      <td>LINEA</td>\n      <td>МЕГАГОЛД</td>\n      <td>5</td>\n      <td>134</td>\n      <td>4,84</td>\n      <td>21</td>\n      <td>...</td>\n      <td>2198909</td>\n      <td>659673</td>\n      <td>0,34</td>\n      <td>30</td>\n      <td>28</td>\n      <td>16983</td>\n      <td>19980</td>\n      <td>18695</td>\n      <td>21</td>\n      <td>2,73</td>\n    </tr>\n    <tr>\n      <th>3</th>\n      <td>https://avatars.mds.yandex.net/get-mpic/159996...</td>\n      <td>102063411216</td>\n      <td>Цепь LINEA, красное золото, 585 проба, длина 5...</td>\n      <td>Одежда, обувь и аксессуары/Аксессуары/Украшени...</td>\n      <td>LINEA</td>\n      <td>МЕГАГОЛД</td>\n      <td>30</td>\n      <td>88</td>\n      <td>4,86</td>\n      <td>17</td>\n      <td>...</td>\n      <td>2313739</td>\n      <td>1002620</td>\n      <td>0,29</td>\n      <td>43,33</td>\n      <td>23</td>\n      <td>33668</td>\n      <td>44600</td>\n      <td>39390</td>\n      <td>17</td>\n      <td>1,13</td>\n    </tr>\n    <tr>\n      <th>4</th>\n      <td>https://avatars.mds.yandex.net/get-marketpic/1...</td>\n      <td>102554748383</td>\n      <td>Браслет-цепочка МагнаТ, красное золото, 585 пр...</td>\n      <td>Одежда, обувь и аксессуары/Аксессуары/Украшени...</td>\n      <td>МагнаТ</td>\n      <td>Золотые_украшения.</td>\n      <td>1</td>\n      <td>0</td>\n      <td>0</td>\n      <td>11</td>\n      <td>...</td>\n      <td>3530831</td>\n      <td>2236193</td>\n      <td>0,28</td>\n      <td>63,33</td>\n      <td>40</td>\n      <td>75595</td>\n      <td>90700</td>\n      <td>87405</td>\n      <td>11</td>\n      <td>0,5</td>\n    </tr>\n    <tr>\n      <th>...</th>\n      <td>...</td>\n      <td>...</td>\n      <td>...</td>\n      <td>...</td>\n      <td>...</td>\n      <td>...</td>\n      <td>...</td>\n      <td>...</td>\n      <td>...</td>\n      <td>...</td>\n      <td>...</td>\n      <td>...</td>\n      <td>...</td>\n      <td>...</td>\n      <td>...</td>\n      <td>...</td>\n      <td>...</td>\n      <td>...</td>\n      <td>...</td>\n      <td>...</td>\n      <td>...</td>\n    </tr>\n    <tr>\n      <th>22128</th>\n      <td>https://avatars.mds.yandex.net/get-mpic/117638...</td>\n      <td>102474266429</td>\n      <td>Кольцо SOKOLOV, серебро, 925 проба, родировани...</td>\n      <td>Одежда, обувь и аксессуары/Аксессуары/Украшени...</td>\n      <td>SOKOLOV</td>\n      <td>SOKOLOV</td>\n      <td>0</td>\n      <td>0</td>\n      <td>5</td>\n      <td>0</td>\n      <td>...</td>\n      <td>0</td>\n      <td>0</td>\n      <td>0</td>\n      <td>0</td>\n      <td>99</td>\n      <td>43</td>\n      <td>43</td>\n      <td>43</td>\n      <td>1</td>\n      <td>0,03</td>\n    </tr>\n    <tr>\n      <th>22129</th>\n      <td>https://avatars.mds.yandex.net/get-mpic/495498...</td>\n      <td>101802954796</td>\n      <td>Кольцо SOKOLOV, серебро, 925 проба, родировани...</td>\n      <td>Одежда, обувь и аксессуары/Аксессуары/Украшени...</td>\n      <td>SOKOLOV</td>\n      <td>SOKOLOV</td>\n      <td>7</td>\n      <td>1</td>\n      <td>4</td>\n      <td>1</td>\n      <td>...</td>\n      <td>210</td>\n      <td>203</td>\n      <td>0</td>\n      <td>96,67</td>\n      <td>99</td>\n      <td>7</td>\n      <td>7</td>\n      <td>7</td>\n      <td>1</td>\n      <td>0,03</td>\n    </tr>\n    <tr>\n      <th>22130</th>\n      <td>https://avatars.mds.yandex.net/get-marketpic/7...</td>\n      <td>102344459669</td>\n      <td>Серьги Diamant online, серебро, 925 проба, зол...</td>\n      <td>Одежда, обувь и аксессуары/Аксессуары/Украшени...</td>\n      <td>Diamant online</td>\n      <td>DIAMANT-ONLINE.</td>\n      <td>2</td>\n      <td>0</td>\n      <td>4</td>\n      <td>1</td>\n      <td>...</td>\n      <td>30</td>\n      <td>29</td>\n      <td>0</td>\n      <td>96,67</td>\n      <td>100</td>\n      <td>1</td>\n      <td>1</td>\n      <td>1</td>\n      <td>1</td>\n      <td>0,03</td>\n    </tr>\n    <tr>\n      <th>22131</th>\n      <td>https://avatars.mds.yandex.net/get-mpic/122352...</td>\n      <td>102649234549</td>\n      <td>Цепь Бронницкий Ювелир, серебро, 925 проба, ро...</td>\n      <td>Одежда, обувь и аксессуары/Аксессуары/Украшени...</td>\n      <td>Бронницкий Ювелир</td>\n      <td>БРОННИЦКИЙ ЮВЕЛИР.</td>\n      <td>3</td>\n      <td>0</td>\n      <td>0</td>\n      <td>1</td>\n      <td>...</td>\n      <td>30</td>\n      <td>29</td>\n      <td>0</td>\n      <td>96,67</td>\n      <td>100</td>\n      <td>1</td>\n      <td>1</td>\n      <td>1</td>\n      <td>1</td>\n      <td>0,03</td>\n    </tr>\n    <tr>\n      <th>22132</th>\n      <td>https://avatars.mds.yandex.net/get-mpic/408006...</td>\n      <td>100921877944</td>\n      <td>Кольцо SOKOLOV, серебро, 925 проба, родировани...</td>\n      <td>Одежда, обувь и аксессуары/Аксессуары/Украшени...</td>\n      <td>SOKOLOV</td>\n      <td>SOKOLOV</td>\n      <td>0</td>\n      <td>2</td>\n      <td>5</td>\n      <td>0</td>\n      <td>...</td>\n      <td>0</td>\n      <td>0</td>\n      <td>0</td>\n      <td>0</td>\n      <td>100</td>\n      <td>1</td>\n      <td>1</td>\n      <td>1</td>\n      <td>1</td>\n      <td>0,03</td>\n    </tr>\n  </tbody>\n</table>\n<p>22133 rows × 28 columns</p>\n</div>"
     },
     "execution_count": 321,
     "metadata": {},
     "output_type": "execute_result"
    }
   ],
   "source": [
    "# way = input(\"Укажите путь:\")\n",
    "way = 'ym.csv'\n",
    "df = pd.read_csv(way, sep=\";\")\n",
    "df"
   ],
   "metadata": {
    "collapsed": false,
    "ExecuteTime": {
     "end_time": "2024-03-27T06:37:36.721550Z",
     "start_time": "2024-03-27T06:37:36.465424Z"
    }
   },
   "id": "514a30202ae315cd",
   "execution_count": 321
  },
  {
   "cell_type": "code",
   "outputs": [
    {
     "data": {
      "text/plain": "                                                Название  \\\n0        SOKOLOV, белое золото, 585 проба, длина 45 с...   \n1        SOKOLOV, золото, 585 проба, длина 40 см, сре...   \n2        SOKOLOV, золото, 585 проба, длина 45 см, сре...   \n3        SOKOLOV, золото, 585 проба, длина 45 см, сре...   \n4        SOKOLOV, золото, 585 проба, длина 45 см, сре...   \n...                                                  ...   \n12963  Ювелирный комплект: кольцо, серьги, серебро, 9...   \n12964  Ювелирный комплект: кольцо, серьги, серебро, 9...   \n12965  Ювелирный комплект: кольцо, серьги, серебро, 9...   \n12966  Ювелирный комплект: кольцо, серьги, серебро, 9...   \n12967  Ювелирный комплект: серьги, кольцо, серебро, 9...   \n\n                                               Категория       Бренд  \\\n0      Одежда, обувь и аксессуары/Аксессуары/Украшени...     SOKOLOV   \n1      Одежда, обувь и аксессуары/Аксессуары/Украшени...     SOKOLOV   \n2      Одежда, обувь и аксессуары/Аксессуары/Украшени...     SOKOLOV   \n3      Одежда, обувь и аксессуары/Аксессуары/Украшени...     SOKOLOV   \n4      Одежда, обувь и аксессуары/Аксессуары/Украшени...     SOKOLOV   \n...                                                  ...         ...   \n12963  Одежда, обувь и аксессуары/Аксессуары/Украшени...  Без бренда   \n12964  Одежда, обувь и аксессуары/Аксессуары/Украшени...  Без бренда   \n12965  Одежда, обувь и аксессуары/Аксессуары/Украшени...  Без бренда   \n12966  Одежда, обувь и аксессуары/Аксессуары/Украшени...  Без бренда   \n12967  Одежда, обувь и аксессуары/Аксессуары/Украшени...  Без бренда   \n\n              Продавец  Наличие  Продаж  Выручка (30 дней)  \\\n0      DIAMANT-ONLINE.        1       2              23698   \n1      DIAMANT-ONLINE.        7       4              86986   \n2      DIAMANT-ONLINE.        1       3              50151   \n3      DIAMANT-ONLINE.        2       2              34807   \n4      DIAMANT-ONLINE.        9       9             220320   \n...                ...      ...     ...                ...   \n12963    Silver Flash!        1       1               6752   \n12964    Silver Flash!        1       1              15235   \n12965    Silver Flash!        1       1              12328   \n12966    Silver Flash!        1       1               7241   \n12967    Silver Flash!        1       1              14720   \n\n       Цена с учетом скидки  Катпр  Картост  \n0                   10458.0      1        1  \n1                   22278.0      1        1  \n2                   18041.0      1        1  \n3                   17106.0      1        1  \n4                   20095.5      1        1  \n...                     ...    ...      ...  \n12963                6752.0      1        1  \n12964               15235.0      1        1  \n12965               12328.0      1        1  \n12966                7241.0      1        1  \n12967               14720.0      1        1  \n\n[12968 rows x 10 columns]",
      "text/html": "<div>\n<style scoped>\n    .dataframe tbody tr th:only-of-type {\n        vertical-align: middle;\n    }\n\n    .dataframe tbody tr th {\n        vertical-align: top;\n    }\n\n    .dataframe thead th {\n        text-align: right;\n    }\n</style>\n<table border=\"1\" class=\"dataframe\">\n  <thead>\n    <tr style=\"text-align: right;\">\n      <th></th>\n      <th>Название</th>\n      <th>Категория</th>\n      <th>Бренд</th>\n      <th>Продавец</th>\n      <th>Наличие</th>\n      <th>Продаж</th>\n      <th>Выручка (30 дней)</th>\n      <th>Цена с учетом скидки</th>\n      <th>Катпр</th>\n      <th>Картост</th>\n    </tr>\n  </thead>\n  <tbody>\n    <tr>\n      <th>0</th>\n      <td>SOKOLOV, белое золото, 585 проба, длина 45 с...</td>\n      <td>Одежда, обувь и аксессуары/Аксессуары/Украшени...</td>\n      <td>SOKOLOV</td>\n      <td>DIAMANT-ONLINE.</td>\n      <td>1</td>\n      <td>2</td>\n      <td>23698</td>\n      <td>10458.0</td>\n      <td>1</td>\n      <td>1</td>\n    </tr>\n    <tr>\n      <th>1</th>\n      <td>SOKOLOV, золото, 585 проба, длина 40 см, сре...</td>\n      <td>Одежда, обувь и аксессуары/Аксессуары/Украшени...</td>\n      <td>SOKOLOV</td>\n      <td>DIAMANT-ONLINE.</td>\n      <td>7</td>\n      <td>4</td>\n      <td>86986</td>\n      <td>22278.0</td>\n      <td>1</td>\n      <td>1</td>\n    </tr>\n    <tr>\n      <th>2</th>\n      <td>SOKOLOV, золото, 585 проба, длина 45 см, сре...</td>\n      <td>Одежда, обувь и аксессуары/Аксессуары/Украшени...</td>\n      <td>SOKOLOV</td>\n      <td>DIAMANT-ONLINE.</td>\n      <td>1</td>\n      <td>3</td>\n      <td>50151</td>\n      <td>18041.0</td>\n      <td>1</td>\n      <td>1</td>\n    </tr>\n    <tr>\n      <th>3</th>\n      <td>SOKOLOV, золото, 585 проба, длина 45 см, сре...</td>\n      <td>Одежда, обувь и аксессуары/Аксессуары/Украшени...</td>\n      <td>SOKOLOV</td>\n      <td>DIAMANT-ONLINE.</td>\n      <td>2</td>\n      <td>2</td>\n      <td>34807</td>\n      <td>17106.0</td>\n      <td>1</td>\n      <td>1</td>\n    </tr>\n    <tr>\n      <th>4</th>\n      <td>SOKOLOV, золото, 585 проба, длина 45 см, сре...</td>\n      <td>Одежда, обувь и аксессуары/Аксессуары/Украшени...</td>\n      <td>SOKOLOV</td>\n      <td>DIAMANT-ONLINE.</td>\n      <td>9</td>\n      <td>9</td>\n      <td>220320</td>\n      <td>20095.5</td>\n      <td>1</td>\n      <td>1</td>\n    </tr>\n    <tr>\n      <th>...</th>\n      <td>...</td>\n      <td>...</td>\n      <td>...</td>\n      <td>...</td>\n      <td>...</td>\n      <td>...</td>\n      <td>...</td>\n      <td>...</td>\n      <td>...</td>\n      <td>...</td>\n    </tr>\n    <tr>\n      <th>12963</th>\n      <td>Ювелирный комплект: кольцо, серьги, серебро, 9...</td>\n      <td>Одежда, обувь и аксессуары/Аксессуары/Украшени...</td>\n      <td>Без бренда</td>\n      <td>Silver Flash!</td>\n      <td>1</td>\n      <td>1</td>\n      <td>6752</td>\n      <td>6752.0</td>\n      <td>1</td>\n      <td>1</td>\n    </tr>\n    <tr>\n      <th>12964</th>\n      <td>Ювелирный комплект: кольцо, серьги, серебро, 9...</td>\n      <td>Одежда, обувь и аксессуары/Аксессуары/Украшени...</td>\n      <td>Без бренда</td>\n      <td>Silver Flash!</td>\n      <td>1</td>\n      <td>1</td>\n      <td>15235</td>\n      <td>15235.0</td>\n      <td>1</td>\n      <td>1</td>\n    </tr>\n    <tr>\n      <th>12965</th>\n      <td>Ювелирный комплект: кольцо, серьги, серебро, 9...</td>\n      <td>Одежда, обувь и аксессуары/Аксессуары/Украшени...</td>\n      <td>Без бренда</td>\n      <td>Silver Flash!</td>\n      <td>1</td>\n      <td>1</td>\n      <td>12328</td>\n      <td>12328.0</td>\n      <td>1</td>\n      <td>1</td>\n    </tr>\n    <tr>\n      <th>12966</th>\n      <td>Ювелирный комплект: кольцо, серьги, серебро, 9...</td>\n      <td>Одежда, обувь и аксессуары/Аксессуары/Украшени...</td>\n      <td>Без бренда</td>\n      <td>Silver Flash!</td>\n      <td>1</td>\n      <td>1</td>\n      <td>7241</td>\n      <td>7241.0</td>\n      <td>1</td>\n      <td>1</td>\n    </tr>\n    <tr>\n      <th>12967</th>\n      <td>Ювелирный комплект: серьги, кольцо, серебро, 9...</td>\n      <td>Одежда, обувь и аксессуары/Аксессуары/Украшени...</td>\n      <td>Без бренда</td>\n      <td>Silver Flash!</td>\n      <td>1</td>\n      <td>1</td>\n      <td>14720</td>\n      <td>14720.0</td>\n      <td>1</td>\n      <td>1</td>\n    </tr>\n  </tbody>\n</table>\n<p>12968 rows × 10 columns</p>\n</div>"
     },
     "execution_count": 322,
     "metadata": {},
     "output_type": "execute_result"
    }
   ],
   "source": [
    "df = df.groupby('Название').agg({'Категория':'max','Бренд':'max','Продавец':'max','Наличие':'sum','Продаж':'sum','Выручка (30 дней)':'sum','Цена с учетом скидки':'mean'}).reset_index()\n",
    "df['Катпр'] = np.where(df['Продаж']>0,1,0)\n",
    "df['Картост'] = np.where(df['Наличие']>0,1,0)\n",
    "df"
   ],
   "metadata": {
    "collapsed": false,
    "ExecuteTime": {
     "end_time": "2024-03-27T06:37:40.098714Z",
     "start_time": "2024-03-27T06:37:37.536397Z"
    }
   },
   "id": "db754c243fd5f33b",
   "execution_count": 322
  },
  {
   "cell_type": "code",
   "outputs": [],
   "source": [
    "def group(i):\n",
    "    i = str(i)\n",
    "    k = i[i.rfind(\"/\")+1:]\n",
    "    return k"
   ],
   "metadata": {
    "collapsed": false,
    "ExecuteTime": {
     "end_time": "2024-03-27T06:37:40.984185Z",
     "start_time": "2024-03-27T06:37:40.978976Z"
    }
   },
   "id": "60e0f79ef8af42bd",
   "execution_count": 323
  },
  {
   "cell_type": "code",
   "outputs": [],
   "source": [
    "def tabl(dataf,stroka):\n",
    "    ser = dataf[dataf['Название'].str.contains(stroka)].reset_index().drop('index',axis=1)\n",
    "    ser['Категория'] = ser['Категория'].apply(group).to_list()\n",
    "    ser['Категория'] = np.where(ser['Категория'].str.contains('Серьги|Цепи|Кулоны и подвески|Браслеты|Кольца и перстни'),ser['Категория'],'Другое')\n",
    "    ser2 = ser.groupby('Категория').agg({'Категория':'count','Наличие':'sum','Картост':'sum','Катпр':'sum','Продаж':'sum','Выручка (30 дней)':'sum'})\n",
    "    prodsdf = pd.DataFrame(columns=['prod1','prod2','prod3','prod1v','prod2v','prod3v'])\n",
    "    for i in ser['Категория'].unique():\n",
    "        prods = list()\n",
    "        prods2 = list()\n",
    "        s = ser[ser['Категория'] == i]\n",
    "        s1 = s.groupby('Продавец').agg({'Продаж':'sum','Продавец':'max'}).sort_values(by='Продаж', ascending=False)\n",
    "        s2 = s.groupby('Продавец').agg({'Выручка (30 дней)':'sum','Продавец':'max'}).sort_values(by='Выручка (30 дней)', ascending=False)\n",
    "        for i in range(3):\n",
    "            prods.append(s1.iloc[i]['Продавец'])\n",
    "            prods2.append(s2.iloc[i]['Продавец'])\n",
    "        prods = prods + prods2\n",
    "        prodsdf.loc[len(prodsdf)] = prods\n",
    "    for i in prodsdf.columns.values:\n",
    "        ser2[i] = prodsdf[i].values\n",
    "    return ser2"
   ],
   "metadata": {
    "collapsed": false,
    "ExecuteTime": {
     "end_time": "2024-03-27T06:37:42.041824Z",
     "start_time": "2024-03-27T06:37:42.031048Z"
    }
   },
   "id": "e2b67c06ae2d8a1f",
   "execution_count": 324
  },
  {
   "cell_type": "code",
   "outputs": [],
   "source": [
    "word = 'серебр'\n",
    "ser = tabl(df,word)\n",
    "ser.to_excel(f'yam_{word}_tabl1.xlsx')"
   ],
   "metadata": {
    "collapsed": false,
    "ExecuteTime": {
     "end_time": "2024-03-27T06:37:43.862037Z",
     "start_time": "2024-03-27T06:37:42.736021Z"
    }
   },
   "id": "ed160e91c695294f",
   "execution_count": 325
  },
  {
   "cell_type": "code",
   "outputs": [],
   "source": [
    "df1 = df[~df['Название'].str.contains(word)]\n",
    "word = \"золот\"\n",
    "ser = tabl(df1,word)\n",
    "ser.to_excel(f'yam_{word}_tabl1.xlsx')"
   ],
   "metadata": {
    "collapsed": false,
    "ExecuteTime": {
     "end_time": "2024-03-27T06:37:51.012505Z",
     "start_time": "2024-03-27T06:37:50.814531Z"
    }
   },
   "id": "13da6ee0dd891cd1",
   "execution_count": 326
  },
  {
   "cell_type": "code",
   "outputs": [],
   "source": [
    "comps = df.groupby('Продавец').agg({'Название':'count','Наличие':'sum','Картост':'sum','Катпр':'sum','Выручка (30 дней)':'sum','Продаж':'sum'}).sort_values(by='Продаж', ascending=False).reset_index()\n",
    "comps.columns = ['Продавец','Количество карточек','Товара в наличии','Карточек с остатком','Карточек с продажами','Выручка','Количество продаж']\n",
    "comps = comps.head(20)\n",
    "comps.to_excel(\"yam_comps.xlsx\")"
   ],
   "metadata": {
    "collapsed": false,
    "ExecuteTime": {
     "end_time": "2024-03-27T06:37:57.985971Z",
     "start_time": "2024-03-27T06:37:57.958996Z"
    }
   },
   "id": "8dd220784960235e",
   "execution_count": 327
  },
  {
   "cell_type": "code",
   "outputs": [],
   "source": [
    "sells = df.drop(['Категория','Бренд','Катпр','Картост'],axis=1).sort_values(by=\"Выручка (30 дней)\", ascending=False).reset_index(drop=True)\n",
    "sells = sells.head(20)\n",
    "sells.to_excel('yam_sells.xlsx')"
   ],
   "metadata": {
    "collapsed": false,
    "ExecuteTime": {
     "end_time": "2024-03-27T06:37:59.644388Z",
     "start_time": "2024-03-27T06:37:59.608468Z"
    }
   },
   "id": "df2ae7db2802efdb",
   "execution_count": 328
  }
 ],
 "metadata": {
  "kernelspec": {
   "display_name": "Python 3",
   "language": "python",
   "name": "python3"
  },
  "language_info": {
   "codemirror_mode": {
    "name": "ipython",
    "version": 2
   },
   "file_extension": ".py",
   "mimetype": "text/x-python",
   "name": "python",
   "nbconvert_exporter": "python",
   "pygments_lexer": "ipython2",
   "version": "2.7.6"
  }
 },
 "nbformat": 4,
 "nbformat_minor": 5
}
