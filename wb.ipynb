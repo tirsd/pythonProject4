{
 "cells": [
  {
   "cell_type": "markdown",
   "source": [
    "Импорт библиотек"
   ],
   "metadata": {
    "collapsed": false
   },
   "id": "32ce4a82fd8d9255"
  },
  {
   "cell_type": "code",
   "outputs": [],
   "source": [
    "from selenium import webdriver\n",
    "import time\n",
    "import datetime\n",
    "import math\n",
    "from tqdm import tqdm\n",
    "from bs4 import BeautifulSoup as bs\n",
    "import requests\n",
    "import numpy as np\n",
    "import openpyxl\n",
    "import pandas as pd\n",
    "import warnings"
   ],
   "metadata": {
    "collapsed": false,
    "ExecuteTime": {
     "end_time": "2024-03-19T03:35:06.878413Z",
     "start_time": "2024-03-19T03:35:06.874648Z"
    }
   },
   "id": "3cfd914e6d08ccbc",
   "execution_count": 87
  },
  {
   "cell_type": "markdown",
   "source": [
    "Функция для определения типа подвесок"
   ],
   "metadata": {
    "collapsed": false
   },
   "id": "247ec5cbbc700abf"
  },
  {
   "cell_type": "code",
   "outputs": [],
   "source": [
    "def charms (i):\n",
    "    name = str(result.iloc[i]['name'])\n",
    "    if \"крест\" in name or \"христиан\" in name or \"икона\" in name or \"мусульман\" in name or \"спаси\" in name or \"сохрани\" in name or \"месяц\" in name or \"аллах\" in name or \"пророк\" in name or \"будда\" in name or \"отче\" in name or \"молитва\" in name or \"икона\" in name or \"лунниц\" in name or \"ангел\" in name or \"эрцгамм\" in name or \"чудо\" in name or \"фатим\" in name or \"иисус\" in name or \"б.м\" in name or \"давид\" in name or \"матрон\" in name or \"госп\" in name or \"хамс\" in name:\n",
    "        return \"КУЛЬТ\"\n",
    "    else:\n",
    "        return \"ДЕКОР\""
   ],
   "metadata": {
    "collapsed": false,
    "ExecuteTime": {
     "end_time": "2024-03-19T03:35:06.970468Z",
     "start_time": "2024-03-19T03:35:06.965186Z"
    }
   },
   "id": "fcd6966ee217bad6",
   "execution_count": 88
  },
  {
   "cell_type": "markdown",
   "source": [
    "Попытка вытащить вес из карточки по браслетам и цепям"
   ],
   "metadata": {
    "collapsed": false
   },
   "id": "3e9c6ed493101b79"
  },
  {
   "cell_type": "code",
   "outputs": [],
   "source": [
    "def bracs (link):\n",
    "    url =f'https://card.wb.ru/cards/v2/detail?appType=1&curr=rub&dest=-1257786&spp=30&nm={link}'\n",
    "    sizes = requests.get(url, verify=False, timeout=30).json()\n",
    "    try:\n",
    "        r = sizes['data']['products'][0]['sizes'][0]['name']\n",
    "        if r.rfind(\"-\") > -1:\n",
    "            wei = r[r.rfind(\"-\")+1:].strip().lower().replace(\",\",\".\").replace(\"гр.\",\"\").replace(\"гр\",\"\")\n",
    "        elif r.rfind(\"~\") > -1:\n",
    "            wei = r[r.rfind(\"~\")+1:].strip().lower().replace(\",\", \".\").replace(\"гр.\",\"\").replace(\"гр\",\"\")\n",
    "        elif r.rfind(\" \") > -1:\n",
    "            wei = r[r.rfind(\" \")+1:].strip().lower().replace(\",\", \".\").replace(\"гр.\",\"\").replace(\"гр\",\"\")\n",
    "        wei = float(wei)\n",
    "        if wei > 0 and wei < 15:\n",
    "            return wei\n",
    "    except:\n",
    "        return np.nan"
   ],
   "metadata": {
    "collapsed": false,
    "ExecuteTime": {
     "end_time": "2024-03-19T03:35:06.977723Z",
     "start_time": "2024-03-19T03:35:06.971469Z"
    }
   },
   "id": "fd44cc9461b7f43e",
   "execution_count": 89
  },
  {
   "cell_type": "code",
   "outputs": [],
   "source": [
    "married = True\n",
    "warnings.filterwarnings('ignore')\n",
    "links=list()\n",
    "spis = [143, 287, 431, 719, 1007, 1061, 1115, 1169, 1313, 1601, 1655, 1919, 2045, 2189,2405]\n",
    "p=1\n",
    "arts = list()\n",
    "prices = list()\n",
    "po = list()\n",
    "date = list()\n",
    "discount = list()\n",
    "url = str(input('Введите ссылку:'))\n",
    "url1 = url[:url.find(\"page=\")+5]\n",
    "url2 = url[url.find(\"&\", url.find(\"page=\")):]"
   ],
   "metadata": {
    "collapsed": false,
    "ExecuteTime": {
     "end_time": "2024-03-19T03:35:13.290699Z",
     "start_time": "2024-03-19T03:35:06.979722Z"
    }
   },
   "id": "39973b3e8d2e0f6",
   "execution_count": 90
  },
  {
   "cell_type": "markdown",
   "source": [
    "Цикл пагинатор"
   ],
   "metadata": {
    "collapsed": false
   },
   "id": "846654e781bb5ae9"
  },
  {
   "cell_type": "code",
   "outputs": [],
   "source": [
    "mwd = webdriver.Chrome()\n",
    "mwd.maximize_window()\n",
    "while True:\n",
    "    url = url1 + str(p) + url2\n",
    "    mwd.get(url)\n",
    "    time.sleep(1.5)\n",
    "    step = 1900\n",
    "    while True:\n",
    "        step0=step-1900\n",
    "        lh = mwd.execute_script(\"return document.body.scrollHeight\")\n",
    "        mwd.execute_script(f\"window.scrollTo({step0}, {step});\")\n",
    "        time.sleep(1)\n",
    "        nh = mwd.execute_script(\"return document.body.scrollHeight\")\n",
    "        step+=1900\n",
    "        if nh==lh:\n",
    "            break\n",
    "    soup = bs(mwd.page_source, \"html.parser\")\n",
    "    artss =  soup.find_all('article',id=True)\n",
    "    for art in artss:\n",
    "        arts.append(art['data-nm-id'])\n",
    "    for art in artss:\n",
    "        if str(art).find('price__lower-price wallet-price')>0:\n",
    "            prl = art.findNext('ins',attrs={'class':'price__lower-price wallet-price'}).text.strip()[:-2]\n",
    "            if prl.find('\\xa0')>0:\n",
    "                prl = prl.replace('\\xa0','')\n",
    "            prices.append(prl)\n",
    "            po.append(math.ceil(int(prl)/0.95))\n",
    "            discount.append(0.95)\n",
    "        else:\n",
    "            prl = art.findNext('ins',attrs={'class': 'price__lower-price'}).text.strip()[:-2]\n",
    "            if prl.find('\\xa0')>0:\n",
    "                prl = prl.replace('\\xa0','')\n",
    "            prices.append(prl)\n",
    "            po.append(prl)\n",
    "            discount.append(1)\n",
    "    if p == 1:\n",
    "        page_counts = int(soup.find(attrs={'data-link': 'html{spaceFormatted:pagerModel.totalItems}'}).text.replace(' ',''))//100+1\n",
    "    if p == page_counts:\n",
    "        break\n",
    "    p+=1\n",
    "mwd.close()"
   ],
   "metadata": {
    "collapsed": false,
    "ExecuteTime": {
     "end_time": "2024-03-19T03:48:11.022234Z",
     "start_time": "2024-03-19T03:35:13.291699Z"
    }
   },
   "id": "4b855eb3dec338d0",
   "execution_count": 91
  },
  {
   "cell_type": "code",
   "outputs": [],
   "source": [
    "weights = list()\n",
    "inserts = list()\n",
    "metals = list()\n",
    "locks = list()\n",
    "competitors = list()\n",
    "names = list()\n",
    "groups =list()"
   ],
   "metadata": {
    "collapsed": false,
    "ExecuteTime": {
     "end_time": "2024-03-19T03:48:11.027370Z",
     "start_time": "2024-03-19T03:48:11.023236Z"
    }
   },
   "id": "5828fc6e1b26cb94",
   "execution_count": 92
  },
  {
   "cell_type": "markdown",
   "source": [
    "Собираем инфу с карточки товара"
   ],
   "metadata": {
    "collapsed": false
   },
   "id": "416c25b11360f65"
  },
  {
   "cell_type": "code",
   "outputs": [
    {
     "name": "stderr",
     "output_type": "stream",
     "text": [
      "100%|██████████| 7200/7200 [22:37<00:00,  5.30it/s]  \n"
     ]
    }
   ],
   "source": [
    "for link in tqdm(arts):\n",
    "    group = np.nan\n",
    "    name = np.nan\n",
    "    weight = np.nan\n",
    "    lock_type = np.nan\n",
    "    metal = np.nan\n",
    "    insert = np.nan\n",
    "    competitor = np.nan\n",
    "    i = 0\n",
    "    if int(link)//100000>spis[-1]:\n",
    "        i = len(spis)\n",
    "    else:\n",
    "        while int(link)//100000 > spis[i]:\n",
    "            i += 1\n",
    "    i += 1\n",
    "    if i < 10:\n",
    "        i = \"0\"+str(i)\n",
    "    current_link = f'https://basket-{i}.wbbasket.ru/vol{int(link)//100000}/part{int(link)//1000}/{link}/info/ru/card.json'\n",
    "    try:\n",
    "        basket = requests.get(current_link, verify=False, timeout=30).json()\n",
    "    except:\n",
    "        time.sleep(60)\n",
    "        basket = requests.get(current_link, verify=False, timeout=30).json()\n",
    "    try:\n",
    "        competitor = basket['selling']['brand_name']\n",
    "    except:\n",
    "        pass\n",
    "    try:\n",
    "        name = basket['imt_name'].lower()\n",
    "    except:\n",
    "        pass\n",
    "    try:\n",
    "        match basket['subj_name']:\n",
    "            case \"Ювелирные браслеты\": group = \"ЦБ БРАСЛЕТЫ\"\n",
    "            case \"Ювелирные цепочки\": group = \"ЦБ ЦЕПИ\"\n",
    "            case \"Ювелирные кольца\": group = \"КОЛЬЦА\"\n",
    "            case \"Ювелирные подвески\": group = \"ПОДВЕС\"\n",
    "            case \"Ювелирные серьги\": group = \"СЕРЬГИ\"\n",
    "    except:\n",
    "        pass\n",
    "    try:\n",
    "        for option in basket['options']:\n",
    "            if option['name'] == 'Минимальный вес (г)':\n",
    "                weight = float(option['value'].replace('г',''))\n",
    "            elif option['name'] == 'Вставка':\n",
    "                insert = option['value']\n",
    "            elif option['name'] == 'Вид замка':\n",
    "                lock_type = option['value']\n",
    "            elif option['name'] == 'Состав ювелирного изделия':\n",
    "                metal = option['value']\n",
    "    except:\n",
    "        pass\n",
    "    try:\n",
    "        for option in basket['grouped_options'][0]['options']:\n",
    "            if option['name'] == 'Минимальный вес (г)':\n",
    "                weight = float(option['value'].replace('г',''))\n",
    "            elif option['name'] == 'Вставка':\n",
    "                insert = option['value']\n",
    "            elif option['name'] == 'Вид замка':\n",
    "                lock_type = option['value']\n",
    "            elif option['name'] == 'Состав ювелирного изделия':\n",
    "                metal = option['value'].lower()\n",
    "    except:\n",
    "        pass\n",
    "    try:\n",
    "        if np.isnan(weight) and group in [\"ЦБ БРАСЛЕТЫ\",\"ЦБ ЦЕПИ\"]:\n",
    "            weight = float(bracs(link))\n",
    "    except:\n",
    "        pass\n",
    "    try:\n",
    "        if group == \"ЦБ ЦЕПИ\":\n",
    "            for option in basket['options']:\n",
    "                if 'плетен' in option['name']:\n",
    "                    lock_type = option['value']\n",
    "    except:\n",
    "        pass\n",
    "    try:\n",
    "        if group == \"ЦБ ЦЕПИ\":\n",
    "            for option in basket['grouped_options'][0]['options']:\n",
    "                if 'плетен' in option['name']:\n",
    "                    lock_type = option['value']\n",
    "    except:\n",
    "        pass\n",
    "    date.append(datetime.date.today())\n",
    "    weights.append(weight)\n",
    "    inserts.append(insert)\n",
    "    metals.append(metal)\n",
    "    locks.append(lock_type)\n",
    "    competitors.append(competitor)\n",
    "    names.append(name)\n",
    "    groups.append(group)"
   ],
   "metadata": {
    "collapsed": false,
    "ExecuteTime": {
     "end_time": "2024-03-19T04:10:48.886011Z",
     "start_time": "2024-03-19T03:48:11.029368Z"
    }
   },
   "id": "b2450bf895259a08",
   "execution_count": 93
  },
  {
   "cell_type": "code",
   "outputs": [
    {
     "name": "stderr",
     "output_type": "stream",
     "text": [
      "100%|██████████| 7200/7200 [00:00<00:00, 1203674.47it/s]\n"
     ]
    }
   ],
   "source": [
    "artsizes = list()\n",
    "for link in tqdm(arts):\n",
    "    if group == \"ЦБ ЦЕПИ\" or group ==\"ЦБ БРАСЛЕТЫ\" or group == \"КОЛЬЦА\":\n",
    "        artsize = list()\n",
    "        url =f'https://card.wb.ru/cards/v2/detail?appType=1&curr=rub&dest=-1257786&spp=30&nm={link}'\n",
    "        try:\n",
    "            sizes = requests.get(url, verify=False, timeout=30).json()\n",
    "        except:\n",
    "            artsizes.append(np.nan)\n",
    "        try:\n",
    "            for option in sizes['data']['products'][0]['sizes']:\n",
    "                if len(option['stocks'])>0:\n",
    "                    size = option['origName']\n",
    "                    or1 = float(size.replace(\",\",\".\").replace(\"+\",\"\"))\n",
    "                    if (or1 > 10) and (or1 < 100): \n",
    "                        artsize.append(or1)\n",
    "                    try:\n",
    "                        or1 = size[:size.find(\"-\")]\n",
    "                        or2 = size[size.find(\"-\")+1:]\n",
    "                        if or1< 100 and or2 <100 and or1>10 and or2>10:\n",
    "                            for i in range(or1,or2+1):\n",
    "                                artsize.append(i)\n",
    "                    except:\n",
    "                        pass\n",
    "        except:\n",
    "            pass\n",
    "        artsizes.append(artsize)\n",
    "    else:\n",
    "        artsizes.append(np.nan)"
   ],
   "metadata": {
    "collapsed": false,
    "ExecuteTime": {
     "end_time": "2024-03-19T04:10:48.915788Z",
     "start_time": "2024-03-19T04:10:48.891015Z"
    }
   },
   "id": "382119f9b79f63e7",
   "execution_count": 94
  },
  {
   "cell_type": "code",
   "outputs": [
    {
     "data": {
      "text/plain": "[nan,\n nan,\n nan,\n nan,\n nan,\n nan,\n nan,\n nan,\n nan,\n nan,\n nan,\n nan,\n nan,\n nan,\n nan,\n nan,\n nan,\n nan,\n nan,\n nan,\n nan,\n nan,\n nan,\n nan,\n nan,\n nan,\n nan,\n nan,\n nan,\n nan,\n nan,\n nan,\n nan,\n nan,\n nan,\n nan,\n nan,\n nan,\n nan,\n nan,\n nan,\n nan,\n nan,\n nan,\n nan,\n nan,\n nan,\n nan,\n nan,\n nan,\n nan,\n nan,\n nan,\n nan,\n nan,\n nan,\n nan,\n nan,\n nan,\n nan,\n nan,\n nan,\n nan,\n nan,\n nan,\n nan,\n nan,\n nan,\n nan,\n nan,\n nan,\n nan,\n nan,\n nan,\n nan,\n nan,\n nan,\n nan,\n nan,\n nan,\n nan,\n nan,\n nan,\n nan,\n nan,\n nan,\n nan,\n nan,\n nan,\n nan,\n nan,\n nan,\n nan,\n nan,\n nan,\n nan,\n nan,\n nan,\n nan,\n nan,\n nan,\n nan,\n nan,\n nan,\n nan,\n nan,\n nan,\n nan,\n nan,\n nan,\n nan,\n nan,\n nan,\n nan,\n nan,\n nan,\n nan,\n nan,\n nan,\n nan,\n nan,\n nan,\n nan,\n nan,\n nan,\n nan,\n nan,\n nan,\n nan,\n nan,\n nan,\n nan,\n nan,\n nan,\n nan,\n nan,\n nan,\n nan,\n nan,\n nan,\n nan,\n nan,\n nan,\n nan,\n nan,\n nan,\n nan,\n nan,\n nan,\n nan,\n nan,\n nan,\n nan,\n nan,\n nan,\n nan,\n nan,\n nan,\n nan,\n nan,\n nan,\n nan,\n nan,\n nan,\n nan,\n nan,\n nan,\n nan,\n nan,\n nan,\n nan,\n nan,\n nan,\n nan,\n nan,\n nan,\n nan,\n nan,\n nan,\n nan,\n nan,\n nan,\n nan,\n nan,\n nan,\n nan,\n nan,\n nan,\n nan,\n nan,\n nan,\n nan,\n nan,\n nan,\n nan,\n nan,\n nan,\n nan,\n nan,\n nan,\n nan,\n nan,\n nan,\n nan,\n nan,\n nan,\n nan,\n nan,\n nan,\n nan,\n nan,\n nan,\n nan,\n nan,\n nan,\n nan,\n nan,\n nan,\n nan,\n nan,\n nan,\n nan,\n nan,\n nan,\n nan,\n nan,\n nan,\n nan,\n nan,\n nan,\n nan,\n nan,\n nan,\n nan,\n nan,\n nan,\n nan,\n nan,\n nan,\n nan,\n nan,\n nan,\n nan,\n nan,\n nan,\n nan,\n nan,\n nan,\n nan,\n nan,\n nan,\n nan,\n nan,\n nan,\n nan,\n nan,\n nan,\n nan,\n nan,\n nan,\n nan,\n nan,\n nan,\n nan,\n nan,\n nan,\n nan,\n nan,\n nan,\n nan,\n nan,\n nan,\n nan,\n nan,\n nan,\n nan,\n nan,\n nan,\n nan,\n nan,\n nan,\n nan,\n nan,\n nan,\n nan,\n nan,\n nan,\n nan,\n nan,\n nan,\n nan,\n nan,\n nan,\n nan,\n nan,\n nan,\n nan,\n nan,\n nan,\n nan,\n nan,\n nan,\n nan,\n nan,\n nan,\n nan,\n nan,\n nan,\n nan,\n nan,\n nan,\n nan,\n nan,\n nan,\n nan,\n nan,\n nan,\n nan,\n nan,\n nan,\n nan,\n nan,\n nan,\n nan,\n nan,\n nan,\n nan,\n nan,\n nan,\n nan,\n nan,\n nan,\n nan,\n nan,\n nan,\n nan,\n nan,\n nan,\n nan,\n nan,\n nan,\n nan,\n nan,\n nan,\n nan,\n nan,\n nan,\n nan,\n nan,\n nan,\n nan,\n nan,\n nan,\n nan,\n nan,\n nan,\n nan,\n nan,\n nan,\n nan,\n nan,\n nan,\n nan,\n nan,\n nan,\n nan,\n nan,\n nan,\n nan,\n nan,\n nan,\n nan,\n nan,\n nan,\n nan,\n nan,\n nan,\n nan,\n nan,\n nan,\n nan,\n nan,\n nan,\n nan,\n nan,\n nan,\n nan,\n nan,\n nan,\n nan,\n nan,\n nan,\n nan,\n nan,\n nan,\n nan,\n nan,\n nan,\n nan,\n nan,\n nan,\n nan,\n nan,\n nan,\n nan,\n nan,\n nan,\n nan,\n nan,\n nan,\n nan,\n nan,\n nan,\n nan,\n nan,\n nan,\n nan,\n nan,\n nan,\n nan,\n nan,\n nan,\n nan,\n nan,\n nan,\n nan,\n nan,\n nan,\n nan,\n nan,\n nan,\n nan,\n nan,\n nan,\n nan,\n nan,\n nan,\n nan,\n nan,\n nan,\n nan,\n nan,\n nan,\n nan,\n nan,\n nan,\n nan,\n nan,\n nan,\n nan,\n nan,\n nan,\n nan,\n nan,\n nan,\n nan,\n nan,\n nan,\n nan,\n nan,\n nan,\n nan,\n nan,\n nan,\n nan,\n nan,\n nan,\n nan,\n nan,\n nan,\n nan,\n nan,\n nan,\n nan,\n nan,\n nan,\n nan,\n nan,\n nan,\n nan,\n nan,\n nan,\n nan,\n nan,\n nan,\n nan,\n nan,\n nan,\n nan,\n nan,\n nan,\n nan,\n nan,\n nan,\n nan,\n nan,\n nan,\n nan,\n nan,\n nan,\n nan,\n nan,\n nan,\n nan,\n nan,\n nan,\n nan,\n nan,\n nan,\n nan,\n nan,\n nan,\n nan,\n nan,\n nan,\n nan,\n nan,\n nan,\n nan,\n nan,\n nan,\n nan,\n nan,\n nan,\n nan,\n nan,\n nan,\n nan,\n nan,\n nan,\n nan,\n nan,\n nan,\n nan,\n nan,\n nan,\n nan,\n nan,\n nan,\n nan,\n nan,\n nan,\n nan,\n nan,\n nan,\n nan,\n nan,\n nan,\n nan,\n nan,\n nan,\n nan,\n nan,\n nan,\n nan,\n nan,\n nan,\n nan,\n nan,\n nan,\n nan,\n nan,\n nan,\n nan,\n nan,\n nan,\n nan,\n nan,\n nan,\n nan,\n nan,\n nan,\n nan,\n nan,\n nan,\n nan,\n nan,\n nan,\n nan,\n nan,\n nan,\n nan,\n nan,\n nan,\n nan,\n nan,\n nan,\n nan,\n nan,\n nan,\n nan,\n nan,\n nan,\n nan,\n nan,\n nan,\n nan,\n nan,\n nan,\n nan,\n nan,\n nan,\n nan,\n nan,\n nan,\n nan,\n nan,\n nan,\n nan,\n nan,\n nan,\n nan,\n nan,\n nan,\n nan,\n nan,\n nan,\n nan,\n nan,\n nan,\n nan,\n nan,\n nan,\n nan,\n nan,\n nan,\n nan,\n nan,\n nan,\n nan,\n nan,\n nan,\n nan,\n nan,\n nan,\n nan,\n nan,\n nan,\n nan,\n nan,\n nan,\n nan,\n nan,\n nan,\n nan,\n nan,\n nan,\n nan,\n nan,\n nan,\n nan,\n nan,\n nan,\n nan,\n nan,\n nan,\n nan,\n nan,\n nan,\n nan,\n nan,\n nan,\n nan,\n nan,\n nan,\n nan,\n nan,\n nan,\n nan,\n nan,\n nan,\n nan,\n nan,\n nan,\n nan,\n nan,\n nan,\n nan,\n nan,\n nan,\n nan,\n nan,\n nan,\n nan,\n nan,\n nan,\n nan,\n nan,\n nan,\n nan,\n nan,\n nan,\n nan,\n nan,\n nan,\n nan,\n nan,\n nan,\n nan,\n nan,\n nan,\n nan,\n nan,\n nan,\n nan,\n nan,\n nan,\n nan,\n nan,\n nan,\n nan,\n nan,\n nan,\n nan,\n nan,\n nan,\n nan,\n nan,\n nan,\n nan,\n nan,\n nan,\n nan,\n nan,\n nan,\n nan,\n nan,\n nan,\n nan,\n nan,\n nan,\n nan,\n nan,\n nan,\n nan,\n nan,\n nan,\n nan,\n nan,\n nan,\n nan,\n nan,\n nan,\n nan,\n nan,\n nan,\n nan,\n nan,\n nan,\n nan,\n nan,\n nan,\n nan,\n nan,\n nan,\n nan,\n nan,\n nan,\n nan,\n nan,\n nan,\n nan,\n nan,\n nan,\n nan,\n nan,\n nan,\n nan,\n nan,\n nan,\n nan,\n nan,\n nan,\n nan,\n nan,\n nan,\n nan,\n nan,\n nan,\n nan,\n nan,\n nan,\n nan,\n nan,\n nan,\n nan,\n nan,\n nan,\n nan,\n nan,\n nan,\n nan,\n nan,\n nan,\n nan,\n nan,\n nan,\n nan,\n nan,\n nan,\n nan,\n nan,\n nan,\n nan,\n nan,\n nan,\n nan,\n nan,\n nan,\n nan,\n nan,\n nan,\n nan,\n nan,\n nan,\n nan,\n nan,\n nan,\n nan,\n nan,\n nan,\n nan,\n nan,\n nan,\n nan,\n nan,\n nan,\n nan,\n nan,\n nan,\n nan,\n nan,\n nan,\n nan,\n nan,\n nan,\n nan,\n nan,\n nan,\n nan,\n nan,\n nan,\n nan,\n nan,\n nan,\n nan,\n nan,\n nan,\n nan,\n nan,\n nan,\n nan,\n nan,\n nan,\n nan,\n nan,\n nan,\n nan,\n nan,\n nan,\n nan,\n nan,\n nan,\n nan,\n nan,\n nan,\n nan,\n nan,\n nan,\n nan,\n nan,\n nan,\n nan,\n nan,\n nan,\n nan,\n nan,\n nan,\n nan,\n nan,\n nan,\n nan,\n nan,\n nan,\n nan,\n nan,\n nan,\n nan,\n nan,\n nan,\n nan,\n nan,\n nan,\n nan,\n nan,\n nan,\n nan,\n nan,\n nan,\n nan,\n nan,\n nan,\n nan,\n nan,\n nan,\n nan,\n nan,\n nan,\n nan,\n nan,\n nan,\n nan,\n nan,\n nan,\n nan,\n nan,\n nan,\n nan,\n nan,\n nan,\n nan,\n nan,\n nan,\n nan,\n nan,\n nan,\n nan,\n nan,\n nan,\n nan,\n nan,\n nan,\n nan,\n nan,\n nan,\n nan,\n nan,\n nan,\n nan,\n nan,\n nan,\n nan,\n nan,\n nan,\n nan,\n nan,\n nan,\n nan,\n nan,\n nan,\n nan,\n nan,\n nan,\n nan,\n nan,\n nan,\n nan,\n nan,\n nan,\n nan,\n nan,\n nan,\n nan,\n nan,\n nan,\n nan,\n nan,\n nan,\n nan,\n nan,\n nan,\n nan,\n nan,\n nan,\n nan,\n nan,\n nan,\n nan,\n nan,\n nan,\n nan,\n nan,\n nan,\n nan,\n nan,\n nan,\n nan,\n nan,\n nan,\n nan,\n nan,\n nan,\n nan,\n nan,\n nan,\n nan,\n nan,\n nan,\n nan,\n nan,\n ...]"
     },
     "execution_count": 95,
     "metadata": {},
     "output_type": "execute_result"
    }
   ],
   "source": [
    "artsizes"
   ],
   "metadata": {
    "collapsed": false,
    "ExecuteTime": {
     "end_time": "2024-03-19T04:10:48.925927Z",
     "start_time": "2024-03-19T04:10:48.916822Z"
    }
   },
   "id": "8a8acea29010801c",
   "execution_count": 95
  },
  {
   "cell_type": "markdown",
   "source": [
    "Проверка на тип колец"
   ],
   "metadata": {
    "collapsed": false
   },
   "id": "254c6e93d5ecf6ce"
  },
  {
   "cell_type": "code",
   "outputs": [],
   "source": [
    "if group == \"КОЛЬЦА\":\n",
    "    mar = str(input('Вас интересуют обручальные кольца?'))\n",
    "    if len(mar.lower()) > 0 and mar not in ['да','yes','д','y']:\n",
    "        married = False"
   ],
   "metadata": {
    "collapsed": false,
    "ExecuteTime": {
     "end_time": "2024-03-19T04:10:48.931669Z",
     "start_time": "2024-03-19T04:10:48.926929Z"
    }
   },
   "id": "14be56f31c76485c",
   "execution_count": 96
  },
  {
   "cell_type": "markdown",
   "source": [
    "Данные в датасет"
   ],
   "metadata": {
    "collapsed": false
   },
   "id": "93da2ff231ce82f9"
  },
  {
   "cell_type": "code",
   "outputs": [],
   "source": [
    "result = pd.DataFrame({'data': date,\n",
    "                       'competitor': competitors,\n",
    "                       'name': names,\n",
    "                       'group': groups,\n",
    "                       'weight': weights,\n",
    "                       'price': prices,\n",
    "                       'price_old': po,\n",
    "                       'discount': discount,\n",
    "                       'insert': inserts,\n",
    "                       'metal': metals,\n",
    "                       'lock': locks,\n",
    "                       'article': arts,\n",
    "                       'sizes': artsizes})"
   ],
   "metadata": {
    "collapsed": false,
    "ExecuteTime": {
     "end_time": "2024-03-19T04:10:48.956526Z",
     "start_time": "2024-03-19T04:10:48.932670Z"
    }
   },
   "id": "370ae019b77c43ea",
   "execution_count": 97
  },
  {
   "cell_type": "code",
   "outputs": [
    {
     "name": "stdout",
     "output_type": "stream",
     "text": [
      "<class 'pandas.core.frame.DataFrame'>\n",
      "RangeIndex: 7200 entries, 0 to 7199\n",
      "Data columns (total 13 columns):\n",
      " #   Column      Non-Null Count  Dtype  \n",
      "---  ------      --------------  -----  \n",
      " 0   data        7200 non-null   object \n",
      " 1   competitor  6938 non-null   object \n",
      " 2   name        7178 non-null   object \n",
      " 3   group       7200 non-null   object \n",
      " 4   weight      6790 non-null   float64\n",
      " 5   price       7200 non-null   int32  \n",
      " 6   price_old   7200 non-null   object \n",
      " 7   discount    7200 non-null   float64\n",
      " 8   insert      6736 non-null   object \n",
      " 9   metal       7057 non-null   object \n",
      " 10  lock        0 non-null      float64\n",
      " 11  article     7200 non-null   object \n",
      " 12  sizes       0 non-null      float64\n",
      "dtypes: float64(4), int32(1), object(8)\n",
      "memory usage: 703.3+ KB\n",
      "None\n"
     ]
    }
   ],
   "source": [
    "result['price'] = result['price'].astype('int')\n",
    "print(result.info())"
   ],
   "metadata": {
    "collapsed": false,
    "ExecuteTime": {
     "end_time": "2024-03-19T04:10:48.971293Z",
     "start_time": "2024-03-19T04:10:48.958525Z"
    }
   },
   "id": "b8de750982cdba2d",
   "execution_count": 98
  },
  {
   "cell_type": "markdown",
   "source": [
    "Работа с данными"
   ],
   "metadata": {
    "collapsed": false
   },
   "id": "a5de7c76adf1ff43"
  },
  {
   "cell_type": "code",
   "outputs": [],
   "source": [
    "groupdf = list()\n",
    "ii = list()\n",
    "avprice = list()\n",
    "insertgroup = list()\n",
    "charmgr = list()\n",
    "result = result.drop(result[\"каучук\" in result['insert'] or \"жемчуг\" in result['insert'] or \"серебро\" in result['metal'] or \"каучук\" in result['metal'] or \"жемчуг\" in result['metal'] or np.isnan(result['weight'])].index)\n",
    "avgpr = result['price']/result['weight']\n",
    "result.insert(loc=len(result.columns),column='Price per gramm',value=avgpr)\n",
    "result = result.drop(result[result['Price per gramm']<3000].index)\n",
    "result = result.drop(result[result['Price per gramm']>15000].index)\n",
    "cat = np.where(result['Price per gramm']<=5500, \"до 5500\",\n",
    "        np.where(\n",
    "        (result['Price per gramm'] <= 6000), '5 500 руб. - 6 000 руб.',\n",
    "        np.where(\n",
    "        (result['Price per gramm'] <= 6500), '6 000 руб. - 6 500 руб.',\n",
    "        np.where(\n",
    "        (result['Price per gramm'] <= 7000), '6 500 руб. - 7 000 руб.',\n",
    "        np.where(\n",
    "        (result['Price per gramm'] <= 8000), '7 000 руб. - 8 000 руб.',\n",
    "        np.where(\n",
    "        (result['Price per gramm'] <= 9000), '8 000 руб. - 9 000 руб.',\n",
    "        np.where(\n",
    "        (result['Price per gramm'] <= 10000), '9 000 руб. -10 000 руб.',  'свыше 10 000 руб.'\n",
    "        )))))))\n",
    "result.insert(loc=len(result.columns),column='group_price',value=cat)"
   ],
   "metadata": {
    "collapsed": false,
    "ExecuteTime": {
     "end_time": "2024-03-19T04:10:48.988996Z",
     "start_time": "2024-03-19T04:10:48.971293Z"
    }
   },
   "id": "df75c586f7d71ec3",
   "execution_count": 99
  },
  {
   "cell_type": "markdown",
   "source": [
    "Определяемся с категорией товарам и направлением"
   ],
   "metadata": {
    "collapsed": false
   },
   "id": "943986ae2b9becf3"
  },
  {
   "cell_type": "code",
   "outputs": [
    {
     "name": "stderr",
     "output_type": "stream",
     "text": [
      "100%|██████████| 5532/5532 [00:01<00:00, 3707.75it/s]\n"
     ]
    }
   ],
   "source": [
    "for i in tqdm(range(0,len(result))):\n",
    "    insertgroup.append(\"\")\n",
    "    inss = str(result.iloc[i]['insert']).split(';')\n",
    "    for ins in inss:\n",
    "        ins = str(ins).strip().lower()\n",
    "        if ins == \"бриллиант\" or ins == \"сапфир\" or ins ==\"рубин\" or ins == \"изумруд\" or ins == \"бриллиант натуральный\" or ins == \"сапфир натуральный\" or ins == \"рубин натуральный\" or ins == \"изумруд натуральный\" or ins ==\"бриллианты\" or ins == \"\":\n",
    "            insertgroup[-1] = \"ДК\"\n",
    "            charmgr.append('ДК')\n",
    "            break\n",
    "        elif ins == \"фианит\" or ins == \"бриллиант искусственный\" or ins == \"бриллиант выращенный\" or ins ==\"бриллианит\" or ins == \"бриллиант синтетический\" or \"фианит\" in str(result.iloc[i]['insert']).lower():\n",
    "            insertgroup[-1] = \"ИФ\"\n",
    "        elif \"нет\" in ins or \"без\" in ins or  str(result.iloc[i]['insert']).lower().strip() == \"золото\" or str(result.iloc[i]['insert']).lower() == \"эмаль\" or ins == \"nan\":\n",
    "            insertgroup[-1] = \"БК\"\n",
    "            charmgr.append('БК')\n",
    "            break\n",
    "        elif \"бр\" in ins and \"искусственный\" not in str(result.iloc[i]['insert']).lower() and \"выращенный\" not in str(result.iloc[i]['insert']).lower() and \"синтетический\" not in str(result.iloc[i]['insert']).lower():\n",
    "            insertgroup[-1] = \"ДК\"\n",
    "            charmgr.append('ДК')\n",
    "            break\n",
    "        elif insertgroup[-1] != \"ИФ\":\n",
    "            insertgroup[-1] = \"ПДК\"\n",
    "    if insertgroup[-1] in ['ИФ', 'ПДК']:\n",
    "        charmgr.append('ПДК')\n",
    "    if result.iloc[i]['group'] == \"ПОДВЕС\" and insertgroup[-1] in ['БК','ИФ']:\n",
    "        insertgroup[-1] = insertgroup[-1] + \" \" + result.iloc[i]['group'] + \" \" + charms(i)\n",
    "    elif result.iloc[i]['group'] == \"ПОДВЕС\":\n",
    "        insertgroup[-1] = insertgroup[-1] + \" \" + result.iloc[i]['group']\n",
    "    elif result.iloc[i]['group'] == \"СЕРЬГИ\":\n",
    "        insertgroup[-1] = insertgroup[-1] + \" \" + result.iloc[i]['group']\n",
    "    elif result.iloc[i]['group'] in ['ЦБ ЦЕПИ', 'ЦБ БРАСЛЕТЫ']:\n",
    "        insertgroup[-1] = result.iloc[i]['group']\n",
    "        charmgr[-1] = \"ЦБ\"\n",
    "    elif result.iloc[i]['group'] == \"КОЛЬЦА\" and married:\n",
    "        insertgroup[-1] = insertgroup[-1] + \" \" + result.iloc[i]['group'] + \" \" + \"ОБРУЧ\"\n",
    "    elif result.iloc[i]['group'] == \"КОЛЬЦА\":\n",
    "        insertgroup[-1] = insertgroup[-1] + \" \" + result.iloc[i]['group']\n",
    "    else:\n",
    "        ii.append(i)\n",
    "        charmgr.pop()\n",
    "if len(ii)>0:\n",
    "    result= result.drop(labels=ii,axis=0)\n",
    "result.insert(loc=len(result.columns),column='product_group(ТГ)',value=insertgroup)\n",
    "result.insert(loc=len(result.columns),column='product_direction(ТН)',value=charmgr)"
   ],
   "metadata": {
    "collapsed": false,
    "ExecuteTime": {
     "end_time": "2024-03-19T04:10:50.497086Z",
     "start_time": "2024-03-19T04:10:48.989998Z"
    }
   },
   "id": "7a62023c43ed8751",
   "execution_count": 100
  },
  {
   "cell_type": "code",
   "outputs": [
    {
     "data": {
      "text/plain": "            data competitor  \\\n0     2024-03-19    SOKOLOV   \n2     2024-03-19  REDzoloto   \n3     2024-03-19    KARATOV   \n4     2024-03-19    SOKOLOV   \n5     2024-03-19  REDzoloto   \n...          ...        ...   \n7195  2024-03-19    JEWELRY   \n7196  2024-03-19    JEWELRY   \n7197  2024-03-19    JEWELRY   \n7198  2024-03-19    JEWELRY   \n7199  2024-03-19    JEWELRY   \n\n                                                   name   group  weight  \\\n0               золотая подвеска/кулон на шею 585 проба  ПОДВЕС    1.11   \n2                       крестик золотой 585 с фианитами  ПОДВЕС    0.52   \n3           золотой крестик 585 пробы \"спаси и сохрани\"  ПОДВЕС    0.49   \n4      кулон подвеска золотая из золота 585 пробы\\t\\t\\n  ПОДВЕС    0.25   \n5                       крестик золотой 585 с фианитами  ПОДВЕС    1.05   \n...                                                 ...     ...     ...   \n7195  подвеска крестик православный из золота 585 пробы  ПОДВЕС    2.20   \n7196  подвеска крестик православный из золота 585 пробы  ПОДВЕС    2.10   \n7197    подвеска из золота 585 пробы матрона московская  ПОДВЕС    1.67   \n7198  подвеска мусульманская мечеть из золота 585 пробы  ПОДВЕС    1.97   \n7199  подвеска крестик православный из золота 585 пробы  ПОДВЕС    1.95   \n\n      price price_old  discount                        insert  \\\n0      6419      6757      0.95  гранат искусственный; фианит   \n2      3654      3847      0.95                        фианит   \n3      3045      3206      0.95                   без вставки   \n4      1984      2089      0.95                   без вставки   \n5      7378      7767      0.95                        фианит   \n...     ...       ...       ...                           ...   \n7195  17637     17637      1.00                   без вставки   \n7196  16938     16938      1.00                   без вставки   \n7197  16657     16657      1.00                   без вставки   \n7198  15837     15837      1.00                        фианит   \n7199  15759     15759      1.00                   без вставки   \n\n                        metal  lock    article  sizes  Price per gramm  \\\n0              золото красное   NaN    5372562    NaN      5782.882883   \n2     фианиты; золото красное   NaN   97844970    NaN      7026.923077   \n3              золото красное   NaN   13137600    NaN      6214.285714   \n4              золото красное   NaN    2275879    NaN      7936.000000   \n5      золото красное; фианит   NaN   96490618    NaN      7026.666667   \n...                       ...   ...        ...    ...              ...   \n7195           золото красное   NaN  144669413    NaN      8016.818182   \n7196           золото красное   NaN  144669406    NaN      8065.714286   \n7197           золото красное   NaN  162700383    NaN      9974.251497   \n7198           золото красное   NaN  144669540    NaN      8039.086294   \n7199           золото красное   NaN  144669440    NaN      8081.538462   \n\n                  group_price product_group(ТГ) product_direction(ТН)  \n0     5 500 руб. - 6 000 руб.   ИФ ПОДВЕС ДЕКОР                   ПДК  \n2     7 000 руб. - 8 000 руб.   ИФ ПОДВЕС КУЛЬТ                   ПДК  \n3     6 000 руб. - 6 500 руб.   БК ПОДВЕС КУЛЬТ                    БК  \n4     7 000 руб. - 8 000 руб.   БК ПОДВЕС ДЕКОР                    БК  \n5     7 000 руб. - 8 000 руб.   ИФ ПОДВЕС КУЛЬТ                   ПДК  \n...                       ...               ...                   ...  \n7195  8 000 руб. - 9 000 руб.   БК ПОДВЕС КУЛЬТ                    БК  \n7196  8 000 руб. - 9 000 руб.   БК ПОДВЕС КУЛЬТ                    БК  \n7197  9 000 руб. -10 000 руб.   БК ПОДВЕС КУЛЬТ                    БК  \n7198  8 000 руб. - 9 000 руб.   ИФ ПОДВЕС КУЛЬТ                   ПДК  \n7199  8 000 руб. - 9 000 руб.   БК ПОДВЕС КУЛЬТ                    БК  \n\n[5532 rows x 17 columns]",
      "text/html": "<div>\n<style scoped>\n    .dataframe tbody tr th:only-of-type {\n        vertical-align: middle;\n    }\n\n    .dataframe tbody tr th {\n        vertical-align: top;\n    }\n\n    .dataframe thead th {\n        text-align: right;\n    }\n</style>\n<table border=\"1\" class=\"dataframe\">\n  <thead>\n    <tr style=\"text-align: right;\">\n      <th></th>\n      <th>data</th>\n      <th>competitor</th>\n      <th>name</th>\n      <th>group</th>\n      <th>weight</th>\n      <th>price</th>\n      <th>price_old</th>\n      <th>discount</th>\n      <th>insert</th>\n      <th>metal</th>\n      <th>lock</th>\n      <th>article</th>\n      <th>sizes</th>\n      <th>Price per gramm</th>\n      <th>group_price</th>\n      <th>product_group(ТГ)</th>\n      <th>product_direction(ТН)</th>\n    </tr>\n  </thead>\n  <tbody>\n    <tr>\n      <th>0</th>\n      <td>2024-03-19</td>\n      <td>SOKOLOV</td>\n      <td>золотая подвеска/кулон на шею 585 проба</td>\n      <td>ПОДВЕС</td>\n      <td>1.11</td>\n      <td>6419</td>\n      <td>6757</td>\n      <td>0.95</td>\n      <td>гранат искусственный; фианит</td>\n      <td>золото красное</td>\n      <td>NaN</td>\n      <td>5372562</td>\n      <td>NaN</td>\n      <td>5782.882883</td>\n      <td>5 500 руб. - 6 000 руб.</td>\n      <td>ИФ ПОДВЕС ДЕКОР</td>\n      <td>ПДК</td>\n    </tr>\n    <tr>\n      <th>2</th>\n      <td>2024-03-19</td>\n      <td>REDzoloto</td>\n      <td>крестик золотой 585 с фианитами</td>\n      <td>ПОДВЕС</td>\n      <td>0.52</td>\n      <td>3654</td>\n      <td>3847</td>\n      <td>0.95</td>\n      <td>фианит</td>\n      <td>фианиты; золото красное</td>\n      <td>NaN</td>\n      <td>97844970</td>\n      <td>NaN</td>\n      <td>7026.923077</td>\n      <td>7 000 руб. - 8 000 руб.</td>\n      <td>ИФ ПОДВЕС КУЛЬТ</td>\n      <td>ПДК</td>\n    </tr>\n    <tr>\n      <th>3</th>\n      <td>2024-03-19</td>\n      <td>KARATOV</td>\n      <td>золотой крестик 585 пробы \"спаси и сохрани\"</td>\n      <td>ПОДВЕС</td>\n      <td>0.49</td>\n      <td>3045</td>\n      <td>3206</td>\n      <td>0.95</td>\n      <td>без вставки</td>\n      <td>золото красное</td>\n      <td>NaN</td>\n      <td>13137600</td>\n      <td>NaN</td>\n      <td>6214.285714</td>\n      <td>6 000 руб. - 6 500 руб.</td>\n      <td>БК ПОДВЕС КУЛЬТ</td>\n      <td>БК</td>\n    </tr>\n    <tr>\n      <th>4</th>\n      <td>2024-03-19</td>\n      <td>SOKOLOV</td>\n      <td>кулон подвеска золотая из золота 585 пробы\\t\\t\\n</td>\n      <td>ПОДВЕС</td>\n      <td>0.25</td>\n      <td>1984</td>\n      <td>2089</td>\n      <td>0.95</td>\n      <td>без вставки</td>\n      <td>золото красное</td>\n      <td>NaN</td>\n      <td>2275879</td>\n      <td>NaN</td>\n      <td>7936.000000</td>\n      <td>7 000 руб. - 8 000 руб.</td>\n      <td>БК ПОДВЕС ДЕКОР</td>\n      <td>БК</td>\n    </tr>\n    <tr>\n      <th>5</th>\n      <td>2024-03-19</td>\n      <td>REDzoloto</td>\n      <td>крестик золотой 585 с фианитами</td>\n      <td>ПОДВЕС</td>\n      <td>1.05</td>\n      <td>7378</td>\n      <td>7767</td>\n      <td>0.95</td>\n      <td>фианит</td>\n      <td>золото красное; фианит</td>\n      <td>NaN</td>\n      <td>96490618</td>\n      <td>NaN</td>\n      <td>7026.666667</td>\n      <td>7 000 руб. - 8 000 руб.</td>\n      <td>ИФ ПОДВЕС КУЛЬТ</td>\n      <td>ПДК</td>\n    </tr>\n    <tr>\n      <th>...</th>\n      <td>...</td>\n      <td>...</td>\n      <td>...</td>\n      <td>...</td>\n      <td>...</td>\n      <td>...</td>\n      <td>...</td>\n      <td>...</td>\n      <td>...</td>\n      <td>...</td>\n      <td>...</td>\n      <td>...</td>\n      <td>...</td>\n      <td>...</td>\n      <td>...</td>\n      <td>...</td>\n      <td>...</td>\n    </tr>\n    <tr>\n      <th>7195</th>\n      <td>2024-03-19</td>\n      <td>JEWELRY</td>\n      <td>подвеска крестик православный из золота 585 пробы</td>\n      <td>ПОДВЕС</td>\n      <td>2.20</td>\n      <td>17637</td>\n      <td>17637</td>\n      <td>1.00</td>\n      <td>без вставки</td>\n      <td>золото красное</td>\n      <td>NaN</td>\n      <td>144669413</td>\n      <td>NaN</td>\n      <td>8016.818182</td>\n      <td>8 000 руб. - 9 000 руб.</td>\n      <td>БК ПОДВЕС КУЛЬТ</td>\n      <td>БК</td>\n    </tr>\n    <tr>\n      <th>7196</th>\n      <td>2024-03-19</td>\n      <td>JEWELRY</td>\n      <td>подвеска крестик православный из золота 585 пробы</td>\n      <td>ПОДВЕС</td>\n      <td>2.10</td>\n      <td>16938</td>\n      <td>16938</td>\n      <td>1.00</td>\n      <td>без вставки</td>\n      <td>золото красное</td>\n      <td>NaN</td>\n      <td>144669406</td>\n      <td>NaN</td>\n      <td>8065.714286</td>\n      <td>8 000 руб. - 9 000 руб.</td>\n      <td>БК ПОДВЕС КУЛЬТ</td>\n      <td>БК</td>\n    </tr>\n    <tr>\n      <th>7197</th>\n      <td>2024-03-19</td>\n      <td>JEWELRY</td>\n      <td>подвеска из золота 585 пробы матрона московская</td>\n      <td>ПОДВЕС</td>\n      <td>1.67</td>\n      <td>16657</td>\n      <td>16657</td>\n      <td>1.00</td>\n      <td>без вставки</td>\n      <td>золото красное</td>\n      <td>NaN</td>\n      <td>162700383</td>\n      <td>NaN</td>\n      <td>9974.251497</td>\n      <td>9 000 руб. -10 000 руб.</td>\n      <td>БК ПОДВЕС КУЛЬТ</td>\n      <td>БК</td>\n    </tr>\n    <tr>\n      <th>7198</th>\n      <td>2024-03-19</td>\n      <td>JEWELRY</td>\n      <td>подвеска мусульманская мечеть из золота 585 пробы</td>\n      <td>ПОДВЕС</td>\n      <td>1.97</td>\n      <td>15837</td>\n      <td>15837</td>\n      <td>1.00</td>\n      <td>фианит</td>\n      <td>золото красное</td>\n      <td>NaN</td>\n      <td>144669540</td>\n      <td>NaN</td>\n      <td>8039.086294</td>\n      <td>8 000 руб. - 9 000 руб.</td>\n      <td>ИФ ПОДВЕС КУЛЬТ</td>\n      <td>ПДК</td>\n    </tr>\n    <tr>\n      <th>7199</th>\n      <td>2024-03-19</td>\n      <td>JEWELRY</td>\n      <td>подвеска крестик православный из золота 585 пробы</td>\n      <td>ПОДВЕС</td>\n      <td>1.95</td>\n      <td>15759</td>\n      <td>15759</td>\n      <td>1.00</td>\n      <td>без вставки</td>\n      <td>золото красное</td>\n      <td>NaN</td>\n      <td>144669440</td>\n      <td>NaN</td>\n      <td>8081.538462</td>\n      <td>8 000 руб. - 9 000 руб.</td>\n      <td>БК ПОДВЕС КУЛЬТ</td>\n      <td>БК</td>\n    </tr>\n  </tbody>\n</table>\n<p>5532 rows × 17 columns</p>\n</div>"
     },
     "execution_count": 101,
     "metadata": {},
     "output_type": "execute_result"
    }
   ],
   "source": [
    "result"
   ],
   "metadata": {
    "collapsed": false,
    "ExecuteTime": {
     "end_time": "2024-03-19T04:10:50.513297Z",
     "start_time": "2024-03-19T04:10:50.498087Z"
    }
   },
   "id": "e348f7c428f89d80",
   "execution_count": 101
  },
  {
   "cell_type": "markdown",
   "source": [
    "Расписываем серьги "
   ],
   "metadata": {
    "collapsed": false
   },
   "id": "e9a3caae6a179cb5"
  },
  {
   "cell_type": "code",
   "outputs": [
    {
     "name": "stderr",
     "output_type": "stream",
     "text": [
      "100%|██████████| 5532/5532 [00:00<00:00, 252290.33it/s]\n"
     ]
    }
   ],
   "source": [
    "for i in tqdm(result.index):\n",
    "    if result.at[i, 'group'] == \"СЕРЬГИ\":\n",
    "        if \"англ\" in str(result.at[i, 'lock']).lower() or \"нгл\" in str(result.at[i, 'lock']).lower():\n",
    "            result.at[i, 'lock'] = \"английский\"\n",
    "        elif \"франц\" in str(result.at[i, 'lock']).lower() or \"зск\" in str(result.at[i, 'lock']).lower():\n",
    "            result.at[i, 'lock'] = \"французский\"\n",
    "        elif \"штиф\" in str(result.at[i, 'lock']).lower() or \"фтов\" in str(result.at[i, 'lock']).lower():\n",
    "            result.at[i, 'lock'] = \"штифтовой\"\n",
    "        elif \"конг\" in str(result.at[i, 'lock']).lower():\n",
    "            result.at[i, 'lock'] = \"конго\"\n",
    "        elif \"винт\" in str(result.at[i, 'lock']).lower():\n",
    "            result.at[i, 'lock'] = \"винтовой\"\n",
    "        elif \"зажим\" in str(result.at[i, 'lock']).lower():\n",
    "            result.at[i, 'lock'] = \"зажим\"\n",
    "        elif \"петля\" in str(result.at[i, 'lock']).lower():\n",
    "            result.at[i, 'lock'] = \"петля\"\n",
    "        elif \"прот\" in str(result.at[i, 'lock']).lower():\n",
    "            result.at[i, 'lock'] = \"протяжки\"\n",
    "        elif \"пус\" in str(result.at[i, 'lock']).lower():\n",
    "            result.at[i, 'lock'] = \"пуссеты\"\n",
    "        elif \"прод\" in str(result.at[i, 'lock']).lower():\n",
    "            result.at[i, 'lock'] = \"продевки\"\n",
    "        elif \"без\" in str(result.at[i, 'lock']).lower():\n",
    "            result.at[i, 'lock'] = \"без застежки\"\n",
    "        else:\n",
    "            result.at[i, 'lock'] = \"неопределенно\""
   ],
   "metadata": {
    "collapsed": false,
    "ExecuteTime": {
     "end_time": "2024-03-19T04:10:50.547493Z",
     "start_time": "2024-03-19T04:10:50.515296Z"
    }
   },
   "id": "356d0f2d6e8bdb11",
   "execution_count": 102
  },
  {
   "cell_type": "markdown",
   "source": [
    "Расписываем цепи"
   ],
   "metadata": {
    "collapsed": false
   },
   "id": "2ea67b68b2241808"
  },
  {
   "cell_type": "code",
   "outputs": [
    {
     "name": "stderr",
     "output_type": "stream",
     "text": [
      "100%|██████████| 5532/5532 [00:00<00:00, 277334.21it/s]\n"
     ]
    }
   ],
   "source": [
    "for i in tqdm(result.index):\n",
    "    if result.at[i, 'group'] == \"ЦБ ЦЕПИ\":\n",
    "        if \"ром\" in str(result.at[i, 'lock']).lower() and \"двой\" in str(result.at[i, 'lock']).lower():\n",
    "            result.at[i, 'lock'] = \"ромб двойной\"\n",
    "        elif \"ром\" in str(result.at[i, 'lock']).lower() and \"трой\" in str(result.at[i, 'lock']).lower():\n",
    "            result.at[i, 'lock'] = \"ромб тройной\"\n",
    "        elif \"ром\" in str(result.at[i, 'lock']).lower():\n",
    "            result.at[i, 'lock'] = \"ромб\"\n",
    "        elif \"бис\" in str(result.at[i, 'lock']).lower() or \"марк\" in str(result.at[i, 'lock']).lower():\n",
    "            result.at[i, 'lock'] = \"бисмарк\"\n",
    "        elif \"нон\" in str(result.at[i, 'lock']).lower():\n",
    "            result.at[i, 'lock'] = \"нонна\"\n",
    "        elif \"якор\" in str(result.at[i, 'lock']).lower():\n",
    "            result.at[i, 'lock'] = \"якорь\"\n",
    "        elif \"панц\" in str(result.at[i, 'lock']).lower() or \"цирь\" in str(result.at[i, 'lock']).lower():\n",
    "            result.at[i, 'lock'] = \"панцирь\"\n",
    "        elif \"синг\" in str(result.at[i, 'lock']).lower() or \"апур\" in str(result.at[i, 'lock']).lower():\n",
    "            result.at[i, 'lock'] = \"сингапур\"\n",
    "        elif \"лав\" in str(result.at[i, 'lock']).lower() or \"лов\" in str(result.at[i, 'lock']).lower() or \"lov\" in str(result.at[i, 'lock']).lower():\n",
    "            result.at[i, 'lock'] = \"лав\"\n",
    "        elif \"тонд\" in str(result.at[i, 'lock']).lower():\n",
    "            result.at[i, 'lock'] = \"тондо\"\n",
    "        elif \"фанта\" in str(result.at[i, 'lock']).lower():\n",
    "            result.at[i, 'lock'] = \"фантазия\"\n",
    "        elif \"рол\" in str(result.at[i, 'lock']).lower():\n",
    "            result.at[i, 'lock'] = \"ролло\"\n",
    "        elif \"рол\" in str(result.at[i, 'lock']).lower():\n",
    "            result.at[i, 'lock'] = \"ролло\"\n",
    "        elif \"фига\" in str(result.at[i, 'lock']).lower():\n",
    "            result.at[i, 'lock'] = \"фигаро\"\n",
    "        elif \"корд\" in str(result.at[i, 'lock']).lower():\n",
    "            result.at[i, 'lock'] = \"корда\"\n",
    "        elif \"улит\" in str(result.at[i, 'lock']).lower():\n",
    "            result.at[i, 'lock'] = \"улитка\"\n",
    "        elif \"перл\" in str(result.at[i, 'lock']).lower():\n",
    "            result.at[i, 'lock'] = \"перлина\"\n",
    "        elif \"сней\" in str(result.at[i, 'lock']).lower() or \"snak\" in str(result.at[i, 'lock']).lower() or \"змей\" in str(result.at[i, 'lock']).lower():\n",
    "            result.at[i, 'lock'] = \"снейк\"\n",
    "        else:\n",
    "            result.at[i, 'lock'] = \"неопределенно\""
   ],
   "metadata": {
    "collapsed": false,
    "ExecuteTime": {
     "end_time": "2024-03-19T04:10:50.580657Z",
     "start_time": "2024-03-19T04:10:50.548495Z"
    }
   },
   "id": "ba467a7fced0030d",
   "execution_count": 103
  },
  {
   "cell_type": "markdown",
   "source": [
    "Данные в файл на сервер и к себе"
   ],
   "metadata": {
    "collapsed": false
   },
   "id": "130c72fae18deeb1"
  },
  {
   "cell_type": "code",
   "outputs": [],
   "source": [
    "# adres = r'\\\\gold585.int\\uk\\Общее хранилище файлов\\Служба аналитики\\МЮР\\tg_tn'.encode().decode('UTF-8')+r'\\wildberries_' + str(datetime.date.today().day) + \"_\" + str(datetime.date.today().month) + \"_\" + str(datetime.date.today().year)+\".xlsx\"\n",
    "# try:\n",
    "#     oldres = pd.read_excel(adres)\n",
    "# except:\n",
    "#     oldres = pd.DataFrame()\n",
    "# oldres = pd.concat([oldres,result],ignore_index=True)\n",
    "# oldres.to_excel(adres, index=False)\n",
    "adresm = \"wildberries_\"+ str(datetime.date.today().day) + \"_\" + str(datetime.date.today().month) + \"_\" + str(datetime.date.today().year)+\" \"+\".xlsx\"\n",
    "try:\n",
    "    oldresm = pd.read_excel(adresm)\n",
    "except:\n",
    "    oldresm = pd.DataFrame()\n",
    "oldresm = pd.concat([oldresm,result],ignore_index=True)\n",
    "oldresm.to_excel(adresm, index=False)"
   ],
   "metadata": {
    "collapsed": false,
    "ExecuteTime": {
     "end_time": "2024-03-19T04:11:00.206263Z",
     "start_time": "2024-03-19T04:10:50.581658Z"
    }
   },
   "id": "e76e03fbecb9cfa5",
   "execution_count": 104
  },
  {
   "cell_type": "code",
   "outputs": [
    {
     "name": "stdout",
     "output_type": "stream",
     "text": [
      "lock\n",
      "английский       2404\n",
      "винтовой          783\n",
      "французский       234\n",
      "конго             212\n",
      "неопределенно     154\n",
      "штифтовой         140\n",
      "без застежки      118\n",
      "петля              98\n",
      "зажим              37\n",
      "продевки           26\n",
      "протяжки           17\n",
      "пуссеты            11\n",
      "Name: count, dtype: int64\n"
     ]
    }
   ],
   "source": [
    "res = oldresm[oldresm['group'] == \"СЕРЬГИ\"]\n",
    "if len(res)>0:\n",
    "    print(res['lock'].value_counts())"
   ],
   "metadata": {
    "collapsed": false,
    "ExecuteTime": {
     "end_time": "2024-03-19T04:11:00.215050Z",
     "start_time": "2024-03-19T04:11:00.207299Z"
    }
   },
   "id": "86f060c4792fef0a",
   "execution_count": 105
  },
  {
   "cell_type": "code",
   "outputs": [
    {
     "name": "stdout",
     "output_type": "stream",
     "text": [
      "lock\n",
      "якорь            247\n",
      "неопределенно    216\n",
      "панцирь          142\n",
      "бисмарк          125\n",
      "ромб двойной     106\n",
      "сингапур          90\n",
      "снейк             82\n",
      "нонна             79\n",
      "лав               67\n",
      "фантазия          49\n",
      "ромб тройной      36\n",
      "перлина           31\n",
      "корда             30\n",
      "ролло             23\n",
      "фигаро            10\n",
      "ромб               8\n",
      "тондо              8\n",
      "улитка             2\n",
      "Name: count, dtype: int64\n"
     ]
    }
   ],
   "source": [
    "res = oldresm[oldresm['group'] == \"ЦБ ЦЕПИ\"]\n",
    "if len(res)>0:\n",
    "    print(res['lock'].value_counts())"
   ],
   "metadata": {
    "collapsed": false,
    "ExecuteTime": {
     "end_time": "2024-03-19T04:11:00.222663Z",
     "start_time": "2024-03-19T04:11:00.216051Z"
    }
   },
   "id": "c71d43cef020d5b1",
   "execution_count": 106
  },
  {
   "cell_type": "markdown",
   "source": [],
   "metadata": {
    "collapsed": false
   },
   "id": "c0d54e87985df984"
  }
 ],
 "metadata": {
  "kernelspec": {
   "display_name": "Python 3",
   "language": "python",
   "name": "python3"
  },
  "language_info": {
   "codemirror_mode": {
    "name": "ipython",
    "version": 2
   },
   "file_extension": ".py",
   "mimetype": "text/x-python",
   "name": "python",
   "nbconvert_exporter": "python",
   "pygments_lexer": "ipython2",
   "version": "2.7.6"
  }
 },
 "nbformat": 4,
 "nbformat_minor": 5
}
