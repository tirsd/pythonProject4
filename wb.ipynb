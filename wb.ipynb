{
 "cells": [
  {
   "cell_type": "markdown",
   "source": [
    "Импорт библиотек"
   ],
   "metadata": {
    "collapsed": false
   },
   "id": "32ce4a82fd8d9255"
  },
  {
   "cell_type": "code",
   "outputs": [],
   "source": [
    "from selenium import webdriver\n",
    "import time\n",
    "import datetime\n",
    "import math\n",
    "from tqdm import tqdm\n",
    "from bs4 import BeautifulSoup as bs\n",
    "import requests\n",
    "import numpy as np\n",
    "import openpyxl\n",
    "import pandas as pd\n",
    "import warnings"
   ],
   "metadata": {
    "collapsed": false,
    "ExecuteTime": {
     "end_time": "2024-03-18T16:37:37.864458Z",
     "start_time": "2024-03-18T16:37:33.583593Z"
    }
   },
   "id": "3cfd914e6d08ccbc",
   "execution_count": 2
  },
  {
   "cell_type": "markdown",
   "source": [
    "Функция для определения типа подвесок"
   ],
   "metadata": {
    "collapsed": false
   },
   "id": "247ec5cbbc700abf"
  },
  {
   "cell_type": "code",
   "outputs": [],
   "source": [
    "def charms (i):\n",
    "    name = str(result.iloc[i]['name'])\n",
    "    if \"крест\" in name or \"христиан\" in name or \"икона\" in name or \"мусульман\" in name or \"спаси\" in name or \"сохрани\" in name or \"месяц\" in name or \"аллах\" in name or \"пророк\" in name or \"будда\" in name or \"отче\" in name or \"молитва\" in name or \"икона\" in name or \"лунниц\" in name or \"ангел\" in name or \"эрцгамм\" in name or \"чудо\" in name or \"фатим\" in name or \"иисус\" in name or \"б.м\" in name or \"давид\" in name or \"матрон\" in name or \"госп\" in name or \"хамс\" in name:\n",
    "        return \"КУЛЬТ\"\n",
    "    else:\n",
    "        return \"ДЕКОР\""
   ],
   "metadata": {
    "collapsed": false,
    "ExecuteTime": {
     "end_time": "2024-03-18T16:37:52.461204Z",
     "start_time": "2024-03-18T16:37:52.455012Z"
    }
   },
   "id": "fcd6966ee217bad6",
   "execution_count": 4
  },
  {
   "cell_type": "markdown",
   "source": [
    "Попытка вытащить вес из карточки по браслетам и цепям"
   ],
   "metadata": {
    "collapsed": false
   },
   "id": "3e9c6ed493101b79"
  },
  {
   "cell_type": "code",
   "outputs": [],
   "source": [
    "def bracs (link):\n",
    "    url =f'https://card.wb.ru/cards/v2/detail?appType=1&curr=rub&dest=-1257786&spp=30&nm={link}'\n",
    "    sizes = requests.get(url, verify=False, timeout=30).json()\n",
    "    try:\n",
    "        r = sizes['data']['products'][0]['sizes'][0]['name']\n",
    "        if r.rfind(\"-\") > -1:\n",
    "            wei = r[r.rfind(\"-\")+1:].strip().lower().replace(\",\",\".\").replace(\"гр.\",\"\").replace(\"гр\",\"\")\n",
    "        elif r.rfind(\"~\") > -1:\n",
    "            wei = r[r.rfind(\"~\")+1:].strip().lower().replace(\",\", \".\").replace(\"гр.\",\"\").replace(\"гр\",\"\")\n",
    "        elif r.rfind(\" \") > -1:\n",
    "            wei = r[r.rfind(\" \")+1:].strip().lower().replace(\",\", \".\").replace(\"гр.\",\"\").replace(\"гр\",\"\")\n",
    "        wei = float(wei)\n",
    "        if wei > 0 and wei < 15:\n",
    "            return wei\n",
    "    except:\n",
    "        return np.nan"
   ],
   "metadata": {
    "collapsed": false,
    "ExecuteTime": {
     "end_time": "2024-03-18T16:37:54.734899Z",
     "start_time": "2024-03-18T16:37:54.728191Z"
    }
   },
   "id": "fd44cc9461b7f43e",
   "execution_count": 5
  },
  {
   "cell_type": "code",
   "outputs": [],
   "source": [
    "married = True\n",
    "warnings.filterwarnings('ignore')\n",
    "links=list()\n",
    "spis = [143, 287, 431, 719, 1007, 1061, 1115, 1169, 1313, 1601, 1655, 1919, 2045, 2189,2405]\n",
    "p=1\n",
    "arts = list()\n",
    "prices = list()\n",
    "po = list()\n",
    "date = list()\n",
    "discount = list()\n",
    "url = str(input('Введите ссылку:'))\n",
    "url1 = url[:url.find(\"page=\")+5]\n",
    "url2 = url[url.find(\"&\", url.find(\"page=\")):]"
   ],
   "metadata": {
    "collapsed": false,
    "ExecuteTime": {
     "end_time": "2024-03-18T18:31:39.934055Z",
     "start_time": "2024-03-18T18:31:35.411696Z"
    }
   },
   "id": "39973b3e8d2e0f6",
   "execution_count": 60
  },
  {
   "cell_type": "markdown",
   "source": [
    "Цикл пагинатор"
   ],
   "metadata": {
    "collapsed": false
   },
   "id": "846654e781bb5ae9"
  },
  {
   "cell_type": "code",
   "outputs": [],
   "source": [
    "mwd = webdriver.Chrome()\n",
    "mwd.maximize_window()\n",
    "while True:\n",
    "    url = url1 + str(p) + url2\n",
    "    mwd.get(url)\n",
    "    time.sleep(1.5)\n",
    "    step = 1900\n",
    "    while True:\n",
    "        step0=step-1900\n",
    "        lh = mwd.execute_script(\"return document.body.scrollHeight\")\n",
    "        mwd.execute_script(f\"window.scrollTo({step0}, {step});\")\n",
    "        time.sleep(1)\n",
    "        nh = mwd.execute_script(\"return document.body.scrollHeight\")\n",
    "        step+=1900\n",
    "        if nh==lh:\n",
    "            break\n",
    "    soup = bs(mwd.page_source, \"html.parser\")\n",
    "    artss =  soup.find_all('article',id=True)\n",
    "    for art in artss:\n",
    "        arts.append(art['data-nm-id'])\n",
    "    for art in artss:\n",
    "        if str(art).find('price__lower-price wallet-price')>0:\n",
    "            prl = art.findNext('ins',attrs={'class':'price__lower-price wallet-price'}).text.strip()[:-2]\n",
    "            if prl.find('\\xa0')>0:\n",
    "                prl = prl.replace('\\xa0','')\n",
    "            prices.append(prl)\n",
    "            po.append(math.ceil(int(prl)/0.95))\n",
    "            discount.append(0.95)\n",
    "        else:\n",
    "            prl = art.findNext('ins',attrs={'class': 'price__lower-price'}).text.strip()[:-2]\n",
    "            if prl.find('\\xa0')>0:\n",
    "                prl = prl.replace('\\xa0','')\n",
    "            prices.append(prl)\n",
    "            po.append(prl)\n",
    "            discount.append(1)\n",
    "    if p == 1:\n",
    "        page_counts = int(soup.find(attrs={'data-link': 'html{spaceFormatted:pagerModel.totalItems}'}).text.replace(' ',''))//100+1\n",
    "    if p == page_counts:\n",
    "        break\n",
    "    p+=1\n",
    "mwd.close()"
   ],
   "metadata": {
    "collapsed": false,
    "ExecuteTime": {
     "end_time": "2024-03-18T18:36:19.403326Z",
     "start_time": "2024-03-18T18:31:43.015415Z"
    }
   },
   "id": "4b855eb3dec338d0",
   "execution_count": 61
  },
  {
   "cell_type": "code",
   "outputs": [],
   "source": [
    "weights = list()\n",
    "inserts = list()\n",
    "metals = list()\n",
    "locks = list()\n",
    "competitors = list()\n",
    "names = list()\n",
    "groups =list()"
   ],
   "metadata": {
    "collapsed": false,
    "ExecuteTime": {
     "end_time": "2024-03-18T19:35:46.743752Z",
     "start_time": "2024-03-18T19:35:46.698304Z"
    }
   },
   "id": "5828fc6e1b26cb94",
   "execution_count": 77
  },
  {
   "cell_type": "markdown",
   "source": [
    "Собираем инфу с карточки товара"
   ],
   "metadata": {
    "collapsed": false
   },
   "id": "416c25b11360f65"
  },
  {
   "cell_type": "code",
   "outputs": [
    {
     "name": "stderr",
     "output_type": "stream",
     "text": [
      "  2%|▏         | 56/2707 [00:17<1:35:43,  2.17s/it]"
     ]
    },
    {
     "name": "stdout",
     "output_type": "stream",
     "text": [
      "0.72\n"
     ]
    },
    {
     "name": "stderr",
     "output_type": "stream",
     "text": [
      "  3%|▎         | 86/2707 [00:29<1:07:58,  1.56s/it]"
     ]
    },
    {
     "name": "stdout",
     "output_type": "stream",
     "text": [
      "0.84\n"
     ]
    },
    {
     "name": "stderr",
     "output_type": "stream",
     "text": [
      "  7%|▋         | 197/2707 [00:51<1:25:02,  2.03s/it]"
     ]
    },
    {
     "name": "stdout",
     "output_type": "stream",
     "text": [
      "1.29\n"
     ]
    },
    {
     "name": "stderr",
     "output_type": "stream",
     "text": [
      "  8%|▊         | 218/2707 [01:03<1:14:39,  1.80s/it]"
     ]
    },
    {
     "name": "stdout",
     "output_type": "stream",
     "text": [
      "1.01\n"
     ]
    },
    {
     "name": "stderr",
     "output_type": "stream",
     "text": [
      "  9%|▉         | 250/2707 [01:14<1:01:33,  1.50s/it]"
     ]
    },
    {
     "name": "stdout",
     "output_type": "stream",
     "text": [
      "1.35\n"
     ]
    },
    {
     "name": "stderr",
     "output_type": "stream",
     "text": [
      " 19%|█▉        | 524/2707 [02:11<46:54,  1.29s/it]  "
     ]
    },
    {
     "name": "stdout",
     "output_type": "stream",
     "text": [
      "0.76\n"
     ]
    },
    {
     "name": "stderr",
     "output_type": "stream",
     "text": [
      " 19%|█▉        | 525/2707 [02:18<1:26:13,  2.37s/it]"
     ]
    },
    {
     "name": "stdout",
     "output_type": "stream",
     "text": [
      "nan\n"
     ]
    },
    {
     "name": "stderr",
     "output_type": "stream",
     "text": [
      " 19%|█▉        | 527/2707 [02:25<1:32:43,  2.55s/it]"
     ]
    },
    {
     "name": "stdout",
     "output_type": "stream",
     "text": [
      "4.06\n"
     ]
    },
    {
     "name": "stderr",
     "output_type": "stream",
     "text": [
      " 21%|██▏       | 580/2707 [02:38<47:55,  1.35s/it]  "
     ]
    },
    {
     "name": "stdout",
     "output_type": "stream",
     "text": [
      "1.39\n"
     ]
    },
    {
     "name": "stderr",
     "output_type": "stream",
     "text": [
      " 22%|██▏       | 600/2707 [02:47<46:19,  1.32s/it]  "
     ]
    },
    {
     "name": "stdout",
     "output_type": "stream",
     "text": [
      "nan\n"
     ]
    },
    {
     "name": "stderr",
     "output_type": "stream",
     "text": [
      " 23%|██▎       | 618/2707 [02:57<43:18,  1.24s/it]  "
     ]
    },
    {
     "name": "stdout",
     "output_type": "stream",
     "text": [
      "1.38\n"
     ]
    },
    {
     "name": "stderr",
     "output_type": "stream",
     "text": [
      " 24%|██▍       | 643/2707 [03:07<44:36,  1.30s/it]"
     ]
    },
    {
     "name": "stdout",
     "output_type": "stream",
     "text": [
      "9.9\n"
     ]
    },
    {
     "name": "stderr",
     "output_type": "stream",
     "text": [
      " 24%|██▍       | 648/2707 [03:14<1:07:18,  1.96s/it]"
     ]
    },
    {
     "name": "stdout",
     "output_type": "stream",
     "text": [
      "1.25\n"
     ]
    },
    {
     "name": "stderr",
     "output_type": "stream",
     "text": [
      " 25%|██▍       | 675/2707 [03:28<51:33,  1.52s/it]  "
     ]
    },
    {
     "name": "stdout",
     "output_type": "stream",
     "text": [
      "2.15\n"
     ]
    },
    {
     "name": "stderr",
     "output_type": "stream",
     "text": [
      " 25%|██▌       | 690/2707 [03:36<37:08,  1.10s/it]"
     ]
    },
    {
     "name": "stdout",
     "output_type": "stream",
     "text": [
      "nan\n"
     ]
    },
    {
     "name": "stderr",
     "output_type": "stream",
     "text": [
      " 28%|██▊       | 746/2707 [03:49<39:30,  1.21s/it]"
     ]
    },
    {
     "name": "stdout",
     "output_type": "stream",
     "text": [
      "nan\n"
     ]
    },
    {
     "name": "stderr",
     "output_type": "stream",
     "text": [
      " 28%|██▊       | 762/2707 [03:56<39:31,  1.22s/it]"
     ]
    },
    {
     "name": "stdout",
     "output_type": "stream",
     "text": [
      "nan\n"
     ]
    },
    {
     "name": "stderr",
     "output_type": "stream",
     "text": [
      " 29%|██▉       | 781/2707 [04:04<29:59,  1.07it/s]"
     ]
    },
    {
     "name": "stdout",
     "output_type": "stream",
     "text": [
      "nan\n"
     ]
    },
    {
     "name": "stderr",
     "output_type": "stream",
     "text": [
      " 29%|██▉       | 798/2707 [04:13<47:22,  1.49s/it]  "
     ]
    },
    {
     "name": "stdout",
     "output_type": "stream",
     "text": [
      "2.92\n"
     ]
    },
    {
     "name": "stderr",
     "output_type": "stream",
     "text": [
      " 30%|██▉       | 802/2707 [04:20<50:31,  1.59s/it]  "
     ]
    },
    {
     "name": "stdout",
     "output_type": "stream",
     "text": [
      "nan\n"
     ]
    },
    {
     "name": "stderr",
     "output_type": "stream",
     "text": [
      " 30%|███       | 819/2707 [04:28<45:57,  1.46s/it]  "
     ]
    },
    {
     "name": "stdout",
     "output_type": "stream",
     "text": [
      "nan\n"
     ]
    },
    {
     "name": "stderr",
     "output_type": "stream",
     "text": [
      " 31%|███▏      | 852/2707 [04:42<41:55,  1.36s/it]"
     ]
    },
    {
     "name": "stdout",
     "output_type": "stream",
     "text": [
      "0.82\n"
     ]
    },
    {
     "name": "stderr",
     "output_type": "stream",
     "text": [
      " 33%|███▎      | 887/2707 [04:54<48:35,  1.60s/it]  "
     ]
    },
    {
     "name": "stdout",
     "output_type": "stream",
     "text": [
      "1.78\n"
     ]
    },
    {
     "name": "stderr",
     "output_type": "stream",
     "text": [
      " 33%|███▎      | 888/2707 [05:00<1:31:47,  3.03s/it]"
     ]
    },
    {
     "name": "stdout",
     "output_type": "stream",
     "text": [
      "3.36\n"
     ]
    },
    {
     "name": "stderr",
     "output_type": "stream",
     "text": [
      " 33%|███▎      | 890/2707 [05:07<1:29:01,  2.94s/it]"
     ]
    },
    {
     "name": "stdout",
     "output_type": "stream",
     "text": [
      "8.2\n"
     ]
    },
    {
     "name": "stderr",
     "output_type": "stream",
     "text": [
      " 34%|███▎      | 908/2707 [05:17<51:34,  1.72s/it]  "
     ]
    },
    {
     "name": "stdout",
     "output_type": "stream",
     "text": [
      "7.06\n"
     ]
    },
    {
     "name": "stderr",
     "output_type": "stream",
     "text": [
      " 34%|███▍      | 924/2707 [05:27<1:01:34,  2.07s/it]"
     ]
    },
    {
     "name": "stdout",
     "output_type": "stream",
     "text": [
      "1.71\n"
     ]
    },
    {
     "name": "stderr",
     "output_type": "stream",
     "text": [
      " 35%|███▍      | 935/2707 [05:34<52:45,  1.79s/it]  "
     ]
    },
    {
     "name": "stdout",
     "output_type": "stream",
     "text": [
      "0.7\n"
     ]
    },
    {
     "name": "stderr",
     "output_type": "stream",
     "text": [
      " 35%|███▍      | 947/2707 [05:41<38:59,  1.33s/it]"
     ]
    },
    {
     "name": "stdout",
     "output_type": "stream",
     "text": [
      "1.59\n"
     ]
    },
    {
     "name": "stderr",
     "output_type": "stream",
     "text": [
      " 35%|███▌      | 953/2707 [05:48<46:17,  1.58s/it]  "
     ]
    },
    {
     "name": "stdout",
     "output_type": "stream",
     "text": [
      "nan\n"
     ]
    },
    {
     "name": "stderr",
     "output_type": "stream",
     "text": [
      " 36%|███▌      | 966/2707 [05:56<58:55,  2.03s/it]"
     ]
    },
    {
     "name": "stdout",
     "output_type": "stream",
     "text": [
      "nan\n"
     ]
    },
    {
     "name": "stderr",
     "output_type": "stream",
     "text": [
      " 36%|███▌      | 977/2707 [06:26<2:28:42,  5.16s/it]"
     ]
    },
    {
     "name": "stdout",
     "output_type": "stream",
     "text": [
      "nan\n"
     ]
    },
    {
     "name": "stderr",
     "output_type": "stream",
     "text": [
      " 37%|███▋      | 994/2707 [06:35<37:37,  1.32s/it]  "
     ]
    },
    {
     "name": "stdout",
     "output_type": "stream",
     "text": [
      "1.96\n"
     ]
    },
    {
     "name": "stderr",
     "output_type": "stream",
     "text": [
      " 37%|███▋      | 997/2707 [06:43<58:47,  2.06s/it]  "
     ]
    },
    {
     "name": "stdout",
     "output_type": "stream",
     "text": [
      "2.32\n"
     ]
    },
    {
     "name": "stderr",
     "output_type": "stream",
     "text": [
      " 38%|███▊      | 1021/2707 [06:53<39:40,  1.41s/it]"
     ]
    },
    {
     "name": "stdout",
     "output_type": "stream",
     "text": [
      "1.72\n"
     ]
    },
    {
     "name": "stderr",
     "output_type": "stream",
     "text": [
      " 38%|███▊      | 1022/2707 [06:59<1:14:12,  2.64s/it]"
     ]
    },
    {
     "name": "stdout",
     "output_type": "stream",
     "text": [
      "1.59\n"
     ]
    },
    {
     "name": "stderr",
     "output_type": "stream",
     "text": [
      " 38%|███▊      | 1023/2707 [07:04<1:32:24,  3.29s/it]"
     ]
    },
    {
     "name": "stdout",
     "output_type": "stream",
     "text": [
      "1.66\n"
     ]
    },
    {
     "name": "stderr",
     "output_type": "stream",
     "text": [
      " 38%|███▊      | 1024/2707 [07:10<2:00:41,  4.30s/it]"
     ]
    },
    {
     "name": "stdout",
     "output_type": "stream",
     "text": [
      "1.4\n"
     ]
    },
    {
     "name": "stderr",
     "output_type": "stream",
     "text": [
      " 38%|███▊      | 1025/2707 [07:20<2:42:27,  5.80s/it]"
     ]
    },
    {
     "name": "stdout",
     "output_type": "stream",
     "text": [
      "1.28\n"
     ]
    },
    {
     "name": "stderr",
     "output_type": "stream",
     "text": [
      " 38%|███▊      | 1026/2707 [07:27<2:52:03,  6.14s/it]"
     ]
    },
    {
     "name": "stdout",
     "output_type": "stream",
     "text": [
      "1.19\n"
     ]
    },
    {
     "name": "stderr",
     "output_type": "stream",
     "text": [
      " 38%|███▊      | 1028/2707 [07:33<2:01:53,  4.36s/it]"
     ]
    },
    {
     "name": "stdout",
     "output_type": "stream",
     "text": [
      "0.91\n"
     ]
    },
    {
     "name": "stderr",
     "output_type": "stream",
     "text": [
      " 38%|███▊      | 1037/2707 [07:40<41:27,  1.49s/it]  "
     ]
    },
    {
     "name": "stdout",
     "output_type": "stream",
     "text": [
      "4.38\n"
     ]
    },
    {
     "name": "stderr",
     "output_type": "stream",
     "text": [
      " 38%|███▊      | 1039/2707 [07:46<1:07:33,  2.43s/it]"
     ]
    },
    {
     "name": "stdout",
     "output_type": "stream",
     "text": [
      "4.18\n"
     ]
    },
    {
     "name": "stderr",
     "output_type": "stream",
     "text": [
      " 38%|███▊      | 1040/2707 [07:52<1:39:13,  3.57s/it]"
     ]
    },
    {
     "name": "stdout",
     "output_type": "stream",
     "text": [
      "3.97\n"
     ]
    },
    {
     "name": "stderr",
     "output_type": "stream",
     "text": [
      " 38%|███▊      | 1042/2707 [07:58<1:37:18,  3.51s/it]"
     ]
    },
    {
     "name": "stdout",
     "output_type": "stream",
     "text": [
      "3.26\n"
     ]
    },
    {
     "name": "stderr",
     "output_type": "stream",
     "text": [
      " 39%|███▊      | 1044/2707 [08:04<1:23:09,  3.00s/it]"
     ]
    },
    {
     "name": "stdout",
     "output_type": "stream",
     "text": [
      "3.6\n"
     ]
    },
    {
     "name": "stderr",
     "output_type": "stream",
     "text": [
      " 39%|███▊      | 1048/2707 [08:11<1:14:49,  2.71s/it]"
     ]
    },
    {
     "name": "stdout",
     "output_type": "stream",
     "text": [
      "1.8\n"
     ]
    },
    {
     "name": "stderr",
     "output_type": "stream",
     "text": [
      " 39%|███▉      | 1049/2707 [08:18<1:49:57,  3.98s/it]"
     ]
    },
    {
     "name": "stdout",
     "output_type": "stream",
     "text": [
      "1.12\n"
     ]
    },
    {
     "name": "stderr",
     "output_type": "stream",
     "text": [
      " 39%|███▉      | 1051/2707 [08:25<1:55:12,  4.17s/it]"
     ]
    },
    {
     "name": "stdout",
     "output_type": "stream",
     "text": [
      "4.1\n"
     ]
    },
    {
     "name": "stderr",
     "output_type": "stream",
     "text": [
      " 39%|███▉      | 1052/2707 [08:32<2:16:15,  4.94s/it]"
     ]
    },
    {
     "name": "stdout",
     "output_type": "stream",
     "text": [
      "2.91\n"
     ]
    },
    {
     "name": "stderr",
     "output_type": "stream",
     "text": [
      " 39%|███▉      | 1053/2707 [08:40<2:38:19,  5.74s/it]"
     ]
    },
    {
     "name": "stdout",
     "output_type": "stream",
     "text": [
      "2.78\n"
     ]
    },
    {
     "name": "stderr",
     "output_type": "stream",
     "text": [
      " 39%|███▉      | 1054/2707 [08:46<2:45:34,  6.01s/it]"
     ]
    },
    {
     "name": "stdout",
     "output_type": "stream",
     "text": [
      "1.91\n"
     ]
    },
    {
     "name": "stderr",
     "output_type": "stream",
     "text": [
      " 39%|███▉      | 1059/2707 [08:55<1:27:55,  3.20s/it]"
     ]
    },
    {
     "name": "stdout",
     "output_type": "stream",
     "text": [
      "3.62\n"
     ]
    },
    {
     "name": "stderr",
     "output_type": "stream",
     "text": [
      " 39%|███▉      | 1061/2707 [09:01<1:21:59,  2.99s/it]"
     ]
    },
    {
     "name": "stdout",
     "output_type": "stream",
     "text": [
      "3.32\n"
     ]
    },
    {
     "name": "stderr",
     "output_type": "stream",
     "text": [
      " 39%|███▉      | 1064/2707 [09:11<1:23:34,  3.05s/it]"
     ]
    },
    {
     "name": "stdout",
     "output_type": "stream",
     "text": [
      "2.05\n"
     ]
    },
    {
     "name": "stderr",
     "output_type": "stream",
     "text": [
      " 40%|███▉      | 1074/2707 [09:20<44:24,  1.63s/it]  "
     ]
    },
    {
     "name": "stdout",
     "output_type": "stream",
     "text": [
      "nan\n"
     ]
    },
    {
     "name": "stderr",
     "output_type": "stream",
     "text": [
      " 40%|███▉      | 1078/2707 [09:26<58:55,  2.17s/it]"
     ]
    },
    {
     "name": "stdout",
     "output_type": "stream",
     "text": [
      "2.28\n"
     ]
    },
    {
     "name": "stderr",
     "output_type": "stream",
     "text": [
      " 40%|███▉      | 1079/2707 [09:32<1:34:02,  3.47s/it]"
     ]
    },
    {
     "name": "stdout",
     "output_type": "stream",
     "text": [
      "1.14\n"
     ]
    },
    {
     "name": "stderr",
     "output_type": "stream",
     "text": [
      " 40%|████      | 1086/2707 [09:40<50:37,  1.87s/it]  "
     ]
    },
    {
     "name": "stdout",
     "output_type": "stream",
     "text": [
      "nan\n"
     ]
    },
    {
     "name": "stderr",
     "output_type": "stream",
     "text": [
      " 40%|████      | 1092/2707 [09:47<58:32,  2.17s/it]"
     ]
    },
    {
     "name": "stdout",
     "output_type": "stream",
     "text": [
      "1.21\n"
     ]
    },
    {
     "name": "stderr",
     "output_type": "stream",
     "text": [
      " 41%|████      | 1103/2707 [09:56<41:48,  1.56s/it]"
     ]
    },
    {
     "name": "stdout",
     "output_type": "stream",
     "text": [
      "nan\n"
     ]
    },
    {
     "name": "stderr",
     "output_type": "stream",
     "text": [
      " 41%|████      | 1105/2707 [10:03<1:14:33,  2.79s/it]"
     ]
    },
    {
     "name": "stdout",
     "output_type": "stream",
     "text": [
      "nan\n"
     ]
    },
    {
     "name": "stderr",
     "output_type": "stream",
     "text": [
      " 41%|████      | 1107/2707 [10:12<1:26:25,  3.24s/it]"
     ]
    },
    {
     "name": "stdout",
     "output_type": "stream",
     "text": [
      "nan\n"
     ]
    },
    {
     "name": "stderr",
     "output_type": "stream",
     "text": [
      " 42%|████▏     | 1127/2707 [10:22<44:49,  1.70s/it]  "
     ]
    },
    {
     "name": "stdout",
     "output_type": "stream",
     "text": [
      "nan\n"
     ]
    },
    {
     "name": "stderr",
     "output_type": "stream",
     "text": [
      " 42%|████▏     | 1129/2707 [10:29<1:00:34,  2.30s/it]"
     ]
    },
    {
     "name": "stdout",
     "output_type": "stream",
     "text": [
      "1.48\n"
     ]
    },
    {
     "name": "stderr",
     "output_type": "stream",
     "text": [
      " 42%|████▏     | 1149/2707 [10:40<57:41,  2.22s/it]  "
     ]
    },
    {
     "name": "stdout",
     "output_type": "stream",
     "text": [
      "nan\n"
     ]
    },
    {
     "name": "stderr",
     "output_type": "stream",
     "text": [
      " 43%|████▎     | 1151/2707 [10:46<1:01:41,  2.38s/it]"
     ]
    },
    {
     "name": "stdout",
     "output_type": "stream",
     "text": [
      "2.15\n"
     ]
    },
    {
     "name": "stderr",
     "output_type": "stream",
     "text": [
      " 43%|████▎     | 1158/2707 [11:00<54:43,  2.12s/it]  "
     ]
    },
    {
     "name": "stdout",
     "output_type": "stream",
     "text": [
      "nan\n"
     ]
    },
    {
     "name": "stderr",
     "output_type": "stream",
     "text": [
      " 43%|████▎     | 1160/2707 [11:08<1:08:30,  2.66s/it]"
     ]
    },
    {
     "name": "stdout",
     "output_type": "stream",
     "text": [
      "nan\n"
     ]
    },
    {
     "name": "stderr",
     "output_type": "stream",
     "text": [
      " 43%|████▎     | 1164/2707 [11:16<1:14:25,  2.89s/it]"
     ]
    },
    {
     "name": "stdout",
     "output_type": "stream",
     "text": [
      "nan\n"
     ]
    },
    {
     "name": "stderr",
     "output_type": "stream",
     "text": [
      " 43%|████▎     | 1166/2707 [11:25<1:21:25,  3.17s/it]"
     ]
    },
    {
     "name": "stdout",
     "output_type": "stream",
     "text": [
      "nan\n"
     ]
    },
    {
     "name": "stderr",
     "output_type": "stream",
     "text": [
      " 43%|████▎     | 1168/2707 [11:31<1:15:22,  2.94s/it]"
     ]
    },
    {
     "name": "stdout",
     "output_type": "stream",
     "text": [
      "nan\n"
     ]
    },
    {
     "name": "stderr",
     "output_type": "stream",
     "text": [
      " 43%|████▎     | 1170/2707 [11:37<1:11:03,  2.77s/it]"
     ]
    },
    {
     "name": "stdout",
     "output_type": "stream",
     "text": [
      "nan\n"
     ]
    },
    {
     "name": "stderr",
     "output_type": "stream",
     "text": [
      " 43%|████▎     | 1174/2707 [11:45<54:24,  2.13s/it]  "
     ]
    },
    {
     "name": "stdout",
     "output_type": "stream",
     "text": [
      "nan\n"
     ]
    },
    {
     "name": "stderr",
     "output_type": "stream",
     "text": [
      " 44%|████▎     | 1181/2707 [11:53<58:40,  2.31s/it]"
     ]
    },
    {
     "name": "stdout",
     "output_type": "stream",
     "text": [
      "nan\n"
     ]
    },
    {
     "name": "stderr",
     "output_type": "stream",
     "text": [
      " 44%|████▍     | 1195/2707 [12:03<1:00:50,  2.41s/it]"
     ]
    },
    {
     "name": "stdout",
     "output_type": "stream",
     "text": [
      "nan\n"
     ]
    },
    {
     "name": "stderr",
     "output_type": "stream",
     "text": [
      " 44%|████▍     | 1197/2707 [12:09<1:02:33,  2.49s/it]"
     ]
    },
    {
     "name": "stdout",
     "output_type": "stream",
     "text": [
      "nan\n"
     ]
    },
    {
     "name": "stderr",
     "output_type": "stream",
     "text": [
      " 44%|████▍     | 1200/2707 [12:16<57:33,  2.29s/it]  "
     ]
    },
    {
     "name": "stdout",
     "output_type": "stream",
     "text": [
      "7.42\n"
     ]
    },
    {
     "name": "stderr",
     "output_type": "stream",
     "text": [
      " 45%|████▌     | 1225/2707 [12:26<40:17,  1.63s/it]"
     ]
    },
    {
     "name": "stdout",
     "output_type": "stream",
     "text": [
      "3.46\n"
     ]
    },
    {
     "name": "stderr",
     "output_type": "stream",
     "text": [
      " 45%|████▌     | 1228/2707 [12:33<1:05:37,  2.66s/it]"
     ]
    },
    {
     "name": "stdout",
     "output_type": "stream",
     "text": [
      "2.46\n"
     ]
    },
    {
     "name": "stderr",
     "output_type": "stream",
     "text": [
      " 46%|████▌     | 1236/2707 [12:45<55:31,  2.26s/it]  "
     ]
    },
    {
     "name": "stdout",
     "output_type": "stream",
     "text": [
      "2.37\n"
     ]
    },
    {
     "name": "stderr",
     "output_type": "stream",
     "text": [
      " 46%|████▌     | 1240/2707 [13:00<1:33:13,  3.81s/it]"
     ]
    },
    {
     "name": "stdout",
     "output_type": "stream",
     "text": [
      "nan\n"
     ]
    },
    {
     "name": "stderr",
     "output_type": "stream",
     "text": [
      " 46%|████▌     | 1242/2707 [13:14<2:23:11,  5.86s/it]"
     ]
    },
    {
     "name": "stdout",
     "output_type": "stream",
     "text": [
      "nan\n"
     ]
    },
    {
     "name": "stderr",
     "output_type": "stream",
     "text": [
      " 46%|████▌     | 1243/2707 [13:21<2:29:45,  6.14s/it]"
     ]
    },
    {
     "name": "stdout",
     "output_type": "stream",
     "text": [
      "nan\n"
     ]
    },
    {
     "name": "stderr",
     "output_type": "stream",
     "text": [
      " 46%|████▌     | 1244/2707 [13:33<3:15:56,  8.04s/it]"
     ]
    },
    {
     "name": "stdout",
     "output_type": "stream",
     "text": [
      "nan\n"
     ]
    },
    {
     "name": "stderr",
     "output_type": "stream",
     "text": [
      " 46%|████▌     | 1250/2707 [13:41<1:03:23,  2.61s/it]"
     ]
    },
    {
     "name": "stdout",
     "output_type": "stream",
     "text": [
      "nan\n"
     ]
    },
    {
     "name": "stderr",
     "output_type": "stream",
     "text": [
      " 47%|████▋     | 1265/2707 [13:49<33:56,  1.41s/it]  "
     ]
    },
    {
     "name": "stdout",
     "output_type": "stream",
     "text": [
      "0.95\n"
     ]
    },
    {
     "name": "stderr",
     "output_type": "stream",
     "text": [
      " 47%|████▋     | 1280/2707 [14:00<58:07,  2.44s/it]"
     ]
    },
    {
     "name": "stdout",
     "output_type": "stream",
     "text": [
      "1.15\n"
     ]
    },
    {
     "name": "stderr",
     "output_type": "stream",
     "text": [
      " 48%|████▊     | 1286/2707 [14:08<56:35,  2.39s/it]"
     ]
    },
    {
     "name": "stdout",
     "output_type": "stream",
     "text": [
      "2.03\n"
     ]
    },
    {
     "name": "stderr",
     "output_type": "stream",
     "text": [
      " 49%|████▊     | 1318/2707 [14:20<33:52,  1.46s/it]"
     ]
    },
    {
     "name": "stdout",
     "output_type": "stream",
     "text": [
      "2.23\n"
     ]
    },
    {
     "name": "stderr",
     "output_type": "stream",
     "text": [
      " 49%|████▉     | 1320/2707 [14:27<52:00,  2.25s/it]  "
     ]
    },
    {
     "name": "stdout",
     "output_type": "stream",
     "text": [
      "0.99\n"
     ]
    },
    {
     "name": "stderr",
     "output_type": "stream",
     "text": [
      " 49%|████▉     | 1321/2707 [14:34<1:25:48,  3.71s/it]"
     ]
    },
    {
     "name": "stdout",
     "output_type": "stream",
     "text": [
      "0.95\n"
     ]
    },
    {
     "name": "stderr",
     "output_type": "stream",
     "text": [
      " 49%|████▉     | 1323/2707 [14:43<1:23:55,  3.64s/it]"
     ]
    },
    {
     "name": "stdout",
     "output_type": "stream",
     "text": [
      "0.76\n"
     ]
    },
    {
     "name": "stderr",
     "output_type": "stream",
     "text": [
      " 53%|█████▎    | 1430/2707 [15:08<47:11,  2.22s/it]  "
     ]
    },
    {
     "name": "stdout",
     "output_type": "stream",
     "text": [
      "0.9\n"
     ]
    },
    {
     "name": "stderr",
     "output_type": "stream",
     "text": [
      " 54%|█████▍    | 1472/2707 [15:26<55:30,  2.70s/it]  "
     ]
    },
    {
     "name": "stdout",
     "output_type": "stream",
     "text": [
      "1.68\n"
     ]
    },
    {
     "name": "stderr",
     "output_type": "stream",
     "text": [
      " 55%|█████▌    | 1491/2707 [15:36<32:57,  1.63s/it]"
     ]
    },
    {
     "name": "stdout",
     "output_type": "stream",
     "text": [
      "1.21\n"
     ]
    },
    {
     "name": "stderr",
     "output_type": "stream",
     "text": [
      " 56%|█████▌    | 1508/2707 [15:47<55:25,  2.77s/it]"
     ]
    },
    {
     "name": "stdout",
     "output_type": "stream",
     "text": [
      "nan\n"
     ]
    },
    {
     "name": "stderr",
     "output_type": "stream",
     "text": [
      " 62%|██████▏   | 1682/2707 [16:17<32:17,  1.89s/it]"
     ]
    },
    {
     "name": "stdout",
     "output_type": "stream",
     "text": [
      "1.4\n"
     ]
    },
    {
     "name": "stderr",
     "output_type": "stream",
     "text": [
      " 62%|██████▏   | 1683/2707 [16:26<59:49,  3.51s/it]"
     ]
    },
    {
     "name": "stdout",
     "output_type": "stream",
     "text": [
      "0.99\n"
     ]
    },
    {
     "name": "stderr",
     "output_type": "stream",
     "text": [
      " 62%|██████▏   | 1684/2707 [16:32<1:14:24,  4.36s/it]"
     ]
    },
    {
     "name": "stdout",
     "output_type": "stream",
     "text": [
      "0.7\n"
     ]
    },
    {
     "name": "stderr",
     "output_type": "stream",
     "text": [
      " 62%|██████▏   | 1685/2707 [16:38<1:21:05,  4.76s/it]"
     ]
    },
    {
     "name": "stdout",
     "output_type": "stream",
     "text": [
      "1.99\n"
     ]
    },
    {
     "name": "stderr",
     "output_type": "stream",
     "text": [
      " 62%|██████▏   | 1686/2707 [16:45<1:32:15,  5.42s/it]"
     ]
    },
    {
     "name": "stdout",
     "output_type": "stream",
     "text": [
      "1.47\n"
     ]
    },
    {
     "name": "stderr",
     "output_type": "stream",
     "text": [
      " 62%|██████▏   | 1687/2707 [16:53<1:43:06,  6.07s/it]"
     ]
    },
    {
     "name": "stdout",
     "output_type": "stream",
     "text": [
      "1.18\n"
     ]
    },
    {
     "name": "stderr",
     "output_type": "stream",
     "text": [
      " 62%|██████▏   | 1689/2707 [17:01<1:31:09,  5.37s/it]"
     ]
    },
    {
     "name": "stdout",
     "output_type": "stream",
     "text": [
      "1.53\n"
     ]
    },
    {
     "name": "stderr",
     "output_type": "stream",
     "text": [
      " 62%|██████▏   | 1690/2707 [17:10<1:47:28,  6.34s/it]"
     ]
    },
    {
     "name": "stdout",
     "output_type": "stream",
     "text": [
      "1.0\n"
     ]
    },
    {
     "name": "stderr",
     "output_type": "stream",
     "text": [
      " 62%|██████▏   | 1691/2707 [17:17<1:53:35,  6.71s/it]"
     ]
    },
    {
     "name": "stdout",
     "output_type": "stream",
     "text": [
      "0.98\n"
     ]
    },
    {
     "name": "stderr",
     "output_type": "stream",
     "text": [
      " 64%|██████▍   | 1733/2707 [17:41<49:16,  3.04s/it]  "
     ]
    },
    {
     "name": "stdout",
     "output_type": "stream",
     "text": [
      "nan\n"
     ]
    },
    {
     "name": "stderr",
     "output_type": "stream",
     "text": [
      " 64%|██████▍   | 1734/2707 [17:47<1:04:30,  3.98s/it]"
     ]
    },
    {
     "name": "stdout",
     "output_type": "stream",
     "text": [
      "nan\n"
     ]
    },
    {
     "name": "stderr",
     "output_type": "stream",
     "text": [
      " 64%|██████▍   | 1736/2707 [17:54<56:33,  3.49s/it]  "
     ]
    },
    {
     "name": "stdout",
     "output_type": "stream",
     "text": [
      "nan\n"
     ]
    },
    {
     "name": "stderr",
     "output_type": "stream",
     "text": [
      " 66%|██████▌   | 1779/2707 [18:07<34:05,  2.20s/it]"
     ]
    },
    {
     "name": "stdout",
     "output_type": "stream",
     "text": [
      "nan\n"
     ]
    },
    {
     "name": "stderr",
     "output_type": "stream",
     "text": [
      " 66%|██████▋   | 1799/2707 [18:24<24:58,  1.65s/it]"
     ]
    },
    {
     "name": "stdout",
     "output_type": "stream",
     "text": [
      "nan\n"
     ]
    },
    {
     "name": "stderr",
     "output_type": "stream",
     "text": [
      " 66%|██████▋   | 1800/2707 [18:32<52:04,  3.44s/it]"
     ]
    },
    {
     "name": "stdout",
     "output_type": "stream",
     "text": [
      "nan\n"
     ]
    },
    {
     "name": "stderr",
     "output_type": "stream",
     "text": [
      " 67%|██████▋   | 1811/2707 [18:59<36:36,  2.45s/it]  "
     ]
    },
    {
     "name": "stdout",
     "output_type": "stream",
     "text": [
      "nan\n"
     ]
    },
    {
     "name": "stderr",
     "output_type": "stream",
     "text": [
      " 67%|██████▋   | 1823/2707 [19:14<30:49,  2.09s/it]"
     ]
    },
    {
     "name": "stdout",
     "output_type": "stream",
     "text": [
      "nan\n"
     ]
    },
    {
     "name": "stderr",
     "output_type": "stream",
     "text": [
      " 67%|██████▋   | 1825/2707 [19:21<37:54,  2.58s/it]"
     ]
    },
    {
     "name": "stdout",
     "output_type": "stream",
     "text": [
      "nan\n"
     ]
    },
    {
     "name": "stderr",
     "output_type": "stream",
     "text": [
      " 70%|███████   | 1906/2707 [19:49<23:18,  1.75s/it]"
     ]
    },
    {
     "name": "stdout",
     "output_type": "stream",
     "text": [
      "7.13\n"
     ]
    },
    {
     "name": "stderr",
     "output_type": "stream",
     "text": [
      " 73%|███████▎  | 1977/2707 [20:06<20:42,  1.70s/it]"
     ]
    },
    {
     "name": "stdout",
     "output_type": "stream",
     "text": [
      "nan\n"
     ]
    },
    {
     "name": "stderr",
     "output_type": "stream",
     "text": [
      " 74%|███████▎  | 1990/2707 [20:16<21:53,  1.83s/it]"
     ]
    },
    {
     "name": "stdout",
     "output_type": "stream",
     "text": [
      "nan\n"
     ]
    },
    {
     "name": "stderr",
     "output_type": "stream",
     "text": [
      " 76%|███████▌  | 2046/2707 [20:36<16:28,  1.50s/it]"
     ]
    },
    {
     "name": "stdout",
     "output_type": "stream",
     "text": [
      "nan\n"
     ]
    },
    {
     "name": "stderr",
     "output_type": "stream",
     "text": [
      " 81%|████████  | 2190/2707 [21:03<22:03,  2.56s/it]"
     ]
    },
    {
     "name": "stdout",
     "output_type": "stream",
     "text": [
      "nan\n"
     ]
    },
    {
     "name": "stderr",
     "output_type": "stream",
     "text": [
      " 84%|████████▍ | 2287/2707 [21:27<11:03,  1.58s/it]"
     ]
    },
    {
     "name": "stdout",
     "output_type": "stream",
     "text": [
      "nan\n"
     ]
    },
    {
     "name": "stderr",
     "output_type": "stream",
     "text": [
      " 85%|████████▌ | 2312/2707 [21:38<08:58,  1.36s/it]"
     ]
    },
    {
     "name": "stdout",
     "output_type": "stream",
     "text": [
      "nan\n"
     ]
    },
    {
     "name": "stderr",
     "output_type": "stream",
     "text": [
      " 88%|████████▊ | 2386/2707 [22:06<14:34,  2.72s/it]"
     ]
    },
    {
     "name": "stdout",
     "output_type": "stream",
     "text": [
      "nan\n"
     ]
    },
    {
     "name": "stderr",
     "output_type": "stream",
     "text": [
      " 89%|████████▉ | 2403/2707 [22:16<12:26,  2.45s/it]"
     ]
    },
    {
     "name": "stdout",
     "output_type": "stream",
     "text": [
      "nan\n"
     ]
    },
    {
     "name": "stderr",
     "output_type": "stream",
     "text": [
      " 89%|████████▉ | 2405/2707 [22:23<12:43,  2.53s/it]"
     ]
    },
    {
     "name": "stdout",
     "output_type": "stream",
     "text": [
      "nan\n"
     ]
    },
    {
     "name": "stderr",
     "output_type": "stream",
     "text": [
      " 90%|█████████ | 2442/2707 [22:39<09:15,  2.10s/it]"
     ]
    },
    {
     "name": "stdout",
     "output_type": "stream",
     "text": [
      "nan\n"
     ]
    },
    {
     "name": "stderr",
     "output_type": "stream",
     "text": [
      " 91%|█████████ | 2462/2707 [22:49<06:51,  1.68s/it]"
     ]
    },
    {
     "name": "stdout",
     "output_type": "stream",
     "text": [
      "nan\n"
     ]
    },
    {
     "name": "stderr",
     "output_type": "stream",
     "text": [
      " 91%|█████████ | 2464/2707 [22:57<10:04,  2.49s/it]"
     ]
    },
    {
     "name": "stdout",
     "output_type": "stream",
     "text": [
      "nan\n"
     ]
    },
    {
     "name": "stderr",
     "output_type": "stream",
     "text": [
      " 91%|█████████▏| 2474/2707 [23:26<11:28,  2.96s/it]"
     ]
    },
    {
     "name": "stdout",
     "output_type": "stream",
     "text": [
      "nan\n"
     ]
    },
    {
     "name": "stderr",
     "output_type": "stream",
     "text": [
      " 91%|█████████▏| 2475/2707 [23:34<16:24,  4.24s/it]"
     ]
    },
    {
     "name": "stdout",
     "output_type": "stream",
     "text": [
      "nan\n"
     ]
    },
    {
     "name": "stderr",
     "output_type": "stream",
     "text": [
      " 92%|█████████▏| 2484/2707 [23:48<08:29,  2.29s/it]"
     ]
    },
    {
     "name": "stdout",
     "output_type": "stream",
     "text": [
      "nan\n"
     ]
    },
    {
     "name": "stderr",
     "output_type": "stream",
     "text": [
      " 92%|█████████▏| 2485/2707 [23:55<13:00,  3.52s/it]"
     ]
    },
    {
     "name": "stdout",
     "output_type": "stream",
     "text": [
      "2.97\n"
     ]
    },
    {
     "name": "stderr",
     "output_type": "stream",
     "text": [
      " 92%|█████████▏| 2489/2707 [24:14<16:09,  4.45s/it]"
     ]
    },
    {
     "name": "stdout",
     "output_type": "stream",
     "text": [
      "nan\n"
     ]
    },
    {
     "name": "stderr",
     "output_type": "stream",
     "text": [
      " 92%|█████████▏| 2490/2707 [24:20<17:45,  4.91s/it]"
     ]
    },
    {
     "name": "stdout",
     "output_type": "stream",
     "text": [
      "nan\n"
     ]
    },
    {
     "name": "stderr",
     "output_type": "stream",
     "text": [
      " 92%|█████████▏| 2493/2707 [24:42<22:23,  6.28s/it]"
     ]
    },
    {
     "name": "stdout",
     "output_type": "stream",
     "text": [
      "nan\n"
     ]
    },
    {
     "name": "stderr",
     "output_type": "stream",
     "text": [
      " 92%|█████████▏| 2494/2707 [24:49<23:43,  6.68s/it]"
     ]
    },
    {
     "name": "stdout",
     "output_type": "stream",
     "text": [
      "nan\n"
     ]
    },
    {
     "name": "stderr",
     "output_type": "stream",
     "text": [
      " 92%|█████████▏| 2496/2707 [24:57<17:00,  4.84s/it]"
     ]
    },
    {
     "name": "stdout",
     "output_type": "stream",
     "text": [
      "nan\n"
     ]
    },
    {
     "name": "stderr",
     "output_type": "stream",
     "text": [
      " 92%|█████████▏| 2497/2707 [25:04<19:41,  5.63s/it]"
     ]
    },
    {
     "name": "stdout",
     "output_type": "stream",
     "text": [
      "nan\n"
     ]
    },
    {
     "name": "stderr",
     "output_type": "stream",
     "text": [
      " 92%|█████████▏| 2498/2707 [25:11<21:05,  6.05s/it]"
     ]
    },
    {
     "name": "stdout",
     "output_type": "stream",
     "text": [
      "nan\n"
     ]
    },
    {
     "name": "stderr",
     "output_type": "stream",
     "text": [
      " 92%|█████████▏| 2499/2707 [25:18<22:11,  6.40s/it]"
     ]
    },
    {
     "name": "stdout",
     "output_type": "stream",
     "text": [
      "nan\n"
     ]
    },
    {
     "name": "stderr",
     "output_type": "stream",
     "text": [
      " 92%|█████████▏| 2500/2707 [25:26<23:21,  6.77s/it]"
     ]
    },
    {
     "name": "stdout",
     "output_type": "stream",
     "text": [
      "nan\n"
     ]
    },
    {
     "name": "stderr",
     "output_type": "stream",
     "text": [
      " 92%|█████████▏| 2501/2707 [25:33<23:31,  6.85s/it]"
     ]
    },
    {
     "name": "stdout",
     "output_type": "stream",
     "text": [
      "nan\n"
     ]
    },
    {
     "name": "stderr",
     "output_type": "stream",
     "text": [
      " 92%|█████████▏| 2502/2707 [25:39<22:25,  6.56s/it]"
     ]
    },
    {
     "name": "stdout",
     "output_type": "stream",
     "text": [
      "nan\n"
     ]
    },
    {
     "name": "stderr",
     "output_type": "stream",
     "text": [
      " 92%|█████████▏| 2503/2707 [25:44<21:06,  6.21s/it]"
     ]
    },
    {
     "name": "stdout",
     "output_type": "stream",
     "text": [
      "nan\n"
     ]
    },
    {
     "name": "stderr",
     "output_type": "stream",
     "text": [
      " 93%|█████████▎| 2505/2707 [25:59<22:34,  6.71s/it]"
     ]
    },
    {
     "name": "stdout",
     "output_type": "stream",
     "text": [
      "1.44\n"
     ]
    },
    {
     "name": "stderr",
     "output_type": "stream",
     "text": [
      " 93%|█████████▎| 2506/2707 [26:06<23:35,  7.04s/it]"
     ]
    },
    {
     "name": "stdout",
     "output_type": "stream",
     "text": [
      "1.41\n"
     ]
    },
    {
     "name": "stderr",
     "output_type": "stream",
     "text": [
      " 93%|█████████▎| 2507/2707 [26:14<23:47,  7.14s/it]"
     ]
    },
    {
     "name": "stdout",
     "output_type": "stream",
     "text": [
      "nan\n"
     ]
    },
    {
     "name": "stderr",
     "output_type": "stream",
     "text": [
      " 93%|█████████▎| 2508/2707 [26:21<23:28,  7.08s/it]"
     ]
    },
    {
     "name": "stdout",
     "output_type": "stream",
     "text": [
      "nan\n"
     ]
    },
    {
     "name": "stderr",
     "output_type": "stream",
     "text": [
      " 93%|█████████▎| 2510/2707 [26:28<16:15,  4.95s/it]"
     ]
    },
    {
     "name": "stdout",
     "output_type": "stream",
     "text": [
      "nan\n"
     ]
    },
    {
     "name": "stderr",
     "output_type": "stream",
     "text": [
      " 93%|█████████▎| 2521/2707 [26:36<06:03,  1.95s/it]"
     ]
    },
    {
     "name": "stdout",
     "output_type": "stream",
     "text": [
      "nan\n"
     ]
    },
    {
     "name": "stderr",
     "output_type": "stream",
     "text": [
      " 93%|█████████▎| 2522/2707 [26:49<14:20,  4.65s/it]"
     ]
    },
    {
     "name": "stdout",
     "output_type": "stream",
     "text": [
      "nan\n"
     ]
    },
    {
     "name": "stderr",
     "output_type": "stream",
     "text": [
      " 93%|█████████▎| 2524/2707 [26:55<11:39,  3.82s/it]"
     ]
    },
    {
     "name": "stdout",
     "output_type": "stream",
     "text": [
      "nan\n"
     ]
    },
    {
     "name": "stderr",
     "output_type": "stream",
     "text": [
      " 93%|█████████▎| 2525/2707 [27:03<14:54,  4.92s/it]"
     ]
    },
    {
     "name": "stdout",
     "output_type": "stream",
     "text": [
      "nan\n"
     ]
    },
    {
     "name": "stderr",
     "output_type": "stream",
     "text": [
      " 93%|█████████▎| 2527/2707 [27:21<20:51,  6.95s/it]"
     ]
    },
    {
     "name": "stdout",
     "output_type": "stream",
     "text": [
      "nan\n"
     ]
    },
    {
     "name": "stderr",
     "output_type": "stream",
     "text": [
      " 93%|█████████▎| 2528/2707 [27:29<21:49,  7.32s/it]"
     ]
    },
    {
     "name": "stdout",
     "output_type": "stream",
     "text": [
      "nan\n"
     ]
    },
    {
     "name": "stderr",
     "output_type": "stream",
     "text": [
      " 93%|█████████▎| 2530/2707 [27:36<16:56,  5.74s/it]"
     ]
    },
    {
     "name": "stdout",
     "output_type": "stream",
     "text": [
      "nan\n"
     ]
    },
    {
     "name": "stderr",
     "output_type": "stream",
     "text": [
      " 94%|█████████▎| 2532/2707 [27:44<12:36,  4.32s/it]"
     ]
    },
    {
     "name": "stdout",
     "output_type": "stream",
     "text": [
      "nan\n"
     ]
    },
    {
     "name": "stderr",
     "output_type": "stream",
     "text": [
      " 95%|█████████▍| 2562/2707 [28:24<14:20,  5.93s/it]"
     ]
    },
    {
     "name": "stdout",
     "output_type": "stream",
     "text": [
      "nan\n"
     ]
    },
    {
     "name": "stderr",
     "output_type": "stream",
     "text": [
      " 95%|█████████▍| 2565/2707 [28:37<10:26,  4.41s/it]"
     ]
    },
    {
     "name": "stdout",
     "output_type": "stream",
     "text": [
      "nan\n"
     ]
    },
    {
     "name": "stderr",
     "output_type": "stream",
     "text": [
      " 95%|█████████▍| 2566/2707 [28:43<11:50,  5.04s/it]"
     ]
    },
    {
     "name": "stdout",
     "output_type": "stream",
     "text": [
      "nan\n"
     ]
    },
    {
     "name": "stderr",
     "output_type": "stream",
     "text": [
      " 95%|█████████▍| 2567/2707 [28:51<13:12,  5.66s/it]"
     ]
    },
    {
     "name": "stdout",
     "output_type": "stream",
     "text": [
      "nan\n"
     ]
    },
    {
     "name": "stderr",
     "output_type": "stream",
     "text": [
      " 95%|█████████▍| 2568/2707 [28:58<14:36,  6.31s/it]"
     ]
    },
    {
     "name": "stdout",
     "output_type": "stream",
     "text": [
      "nan\n"
     ]
    },
    {
     "name": "stderr",
     "output_type": "stream",
     "text": [
      " 95%|█████████▍| 2569/2707 [29:07<15:54,  6.92s/it]"
     ]
    },
    {
     "name": "stdout",
     "output_type": "stream",
     "text": [
      "nan\n"
     ]
    },
    {
     "name": "stderr",
     "output_type": "stream",
     "text": [
      " 95%|█████████▍| 2571/2707 [29:16<11:54,  5.25s/it]"
     ]
    },
    {
     "name": "stdout",
     "output_type": "stream",
     "text": [
      "nan\n"
     ]
    },
    {
     "name": "stderr",
     "output_type": "stream",
     "text": [
      " 95%|█████████▌| 2572/2707 [29:25<14:47,  6.57s/it]"
     ]
    },
    {
     "name": "stdout",
     "output_type": "stream",
     "text": [
      "nan\n"
     ]
    },
    {
     "name": "stderr",
     "output_type": "stream",
     "text": [
      " 95%|█████████▌| 2574/2707 [29:32<10:14,  4.62s/it]"
     ]
    },
    {
     "name": "stdout",
     "output_type": "stream",
     "text": [
      "nan\n"
     ]
    },
    {
     "name": "stderr",
     "output_type": "stream",
     "text": [
      " 95%|█████████▌| 2576/2707 [29:37<08:38,  3.95s/it]"
     ]
    },
    {
     "name": "stdout",
     "output_type": "stream",
     "text": [
      "nan\n"
     ]
    },
    {
     "name": "stderr",
     "output_type": "stream",
     "text": [
      " 95%|█████████▌| 2581/2707 [30:04<09:15,  4.41s/it]"
     ]
    },
    {
     "name": "stdout",
     "output_type": "stream",
     "text": [
      "nan\n"
     ]
    },
    {
     "name": "stderr",
     "output_type": "stream",
     "text": [
      " 95%|█████████▌| 2583/2707 [30:09<07:01,  3.40s/it]"
     ]
    },
    {
     "name": "stdout",
     "output_type": "stream",
     "text": [
      "nan\n"
     ]
    },
    {
     "name": "stderr",
     "output_type": "stream",
     "text": [
      " 96%|█████████▌| 2590/2707 [30:24<07:24,  3.80s/it]"
     ]
    },
    {
     "name": "stdout",
     "output_type": "stream",
     "text": [
      "6.32\n"
     ]
    },
    {
     "name": "stderr",
     "output_type": "stream",
     "text": [
      " 96%|█████████▌| 2595/2707 [30:49<06:54,  3.70s/it]"
     ]
    },
    {
     "name": "stdout",
     "output_type": "stream",
     "text": [
      "nan\n"
     ]
    },
    {
     "name": "stderr",
     "output_type": "stream",
     "text": [
      " 96%|█████████▋| 2611/2707 [30:58<03:18,  2.06s/it]"
     ]
    },
    {
     "name": "stdout",
     "output_type": "stream",
     "text": [
      "nan\n"
     ]
    },
    {
     "name": "stderr",
     "output_type": "stream",
     "text": [
      " 97%|█████████▋| 2621/2707 [31:08<03:29,  2.43s/it]"
     ]
    },
    {
     "name": "stdout",
     "output_type": "stream",
     "text": [
      "nan\n"
     ]
    },
    {
     "name": "stderr",
     "output_type": "stream",
     "text": [
      " 97%|█████████▋| 2622/2707 [31:15<05:31,  3.90s/it]"
     ]
    },
    {
     "name": "stdout",
     "output_type": "stream",
     "text": [
      "3.1\n"
     ]
    },
    {
     "name": "stderr",
     "output_type": "stream",
     "text": [
      " 97%|█████████▋| 2623/2707 [31:22<06:43,  4.81s/it]"
     ]
    },
    {
     "name": "stdout",
     "output_type": "stream",
     "text": [
      "2.35\n"
     ]
    },
    {
     "name": "stderr",
     "output_type": "stream",
     "text": [
      " 97%|█████████▋| 2624/2707 [31:28<07:15,  5.25s/it]"
     ]
    },
    {
     "name": "stdout",
     "output_type": "stream",
     "text": [
      "2.28\n"
     ]
    },
    {
     "name": "stderr",
     "output_type": "stream",
     "text": [
      " 97%|█████████▋| 2625/2707 [31:34<07:30,  5.49s/it]"
     ]
    },
    {
     "name": "stdout",
     "output_type": "stream",
     "text": [
      "1.8\n"
     ]
    },
    {
     "name": "stderr",
     "output_type": "stream",
     "text": [
      " 97%|█████████▋| 2626/2707 [31:43<08:54,  6.60s/it]"
     ]
    },
    {
     "name": "stdout",
     "output_type": "stream",
     "text": [
      "1.58\n"
     ]
    },
    {
     "name": "stderr",
     "output_type": "stream",
     "text": [
      " 97%|█████████▋| 2628/2707 [31:49<05:57,  4.53s/it]"
     ]
    },
    {
     "name": "stdout",
     "output_type": "stream",
     "text": [
      "1.2\n"
     ]
    },
    {
     "name": "stderr",
     "output_type": "stream",
     "text": [
      " 97%|█████████▋| 2629/2707 [31:56<06:40,  5.13s/it]"
     ]
    },
    {
     "name": "stdout",
     "output_type": "stream",
     "text": [
      "3.15\n"
     ]
    },
    {
     "name": "stderr",
     "output_type": "stream",
     "text": [
      " 97%|█████████▋| 2630/2707 [32:03<07:10,  5.59s/it]"
     ]
    },
    {
     "name": "stdout",
     "output_type": "stream",
     "text": [
      "2.01\n"
     ]
    },
    {
     "name": "stderr",
     "output_type": "stream",
     "text": [
      " 97%|█████████▋| 2631/2707 [32:09<07:31,  5.94s/it]"
     ]
    },
    {
     "name": "stdout",
     "output_type": "stream",
     "text": [
      "3.45\n"
     ]
    },
    {
     "name": "stderr",
     "output_type": "stream",
     "text": [
      " 97%|█████████▋| 2632/2707 [32:17<08:03,  6.44s/it]"
     ]
    },
    {
     "name": "stdout",
     "output_type": "stream",
     "text": [
      "2.35\n"
     ]
    },
    {
     "name": "stderr",
     "output_type": "stream",
     "text": [
      " 97%|█████████▋| 2633/2707 [32:23<07:51,  6.37s/it]"
     ]
    },
    {
     "name": "stdout",
     "output_type": "stream",
     "text": [
      "1.45\n"
     ]
    },
    {
     "name": "stderr",
     "output_type": "stream",
     "text": [
      " 97%|█████████▋| 2634/2707 [32:29<07:41,  6.32s/it]"
     ]
    },
    {
     "name": "stdout",
     "output_type": "stream",
     "text": [
      "4.4\n"
     ]
    },
    {
     "name": "stderr",
     "output_type": "stream",
     "text": [
      " 97%|█████████▋| 2635/2707 [32:36<07:38,  6.37s/it]"
     ]
    },
    {
     "name": "stdout",
     "output_type": "stream",
     "text": [
      "nan\n"
     ]
    },
    {
     "name": "stderr",
     "output_type": "stream",
     "text": [
      " 97%|█████████▋| 2637/2707 [32:43<05:16,  4.52s/it]"
     ]
    },
    {
     "name": "stdout",
     "output_type": "stream",
     "text": [
      "2.8\n"
     ]
    },
    {
     "name": "stderr",
     "output_type": "stream",
     "text": [
      " 97%|█████████▋| 2639/2707 [32:49<04:09,  3.66s/it]"
     ]
    },
    {
     "name": "stdout",
     "output_type": "stream",
     "text": [
      "4.33\n"
     ]
    },
    {
     "name": "stderr",
     "output_type": "stream",
     "text": [
      " 98%|█████████▊| 2640/2707 [32:56<05:02,  4.51s/it]"
     ]
    },
    {
     "name": "stdout",
     "output_type": "stream",
     "text": [
      "3.83\n"
     ]
    },
    {
     "name": "stderr",
     "output_type": "stream",
     "text": [
      " 98%|█████████▊| 2645/2707 [33:03<02:12,  2.14s/it]"
     ]
    },
    {
     "name": "stdout",
     "output_type": "stream",
     "text": [
      "nan\n"
     ]
    },
    {
     "name": "stderr",
     "output_type": "stream",
     "text": [
      " 98%|█████████▊| 2647/2707 [33:10<03:13,  3.22s/it]"
     ]
    },
    {
     "name": "stdout",
     "output_type": "stream",
     "text": [
      "nan\n"
     ]
    },
    {
     "name": "stderr",
     "output_type": "stream",
     "text": [
      " 98%|█████████▊| 2648/2707 [33:18<04:27,  4.54s/it]"
     ]
    },
    {
     "name": "stdout",
     "output_type": "stream",
     "text": [
      "nan\n"
     ]
    },
    {
     "name": "stderr",
     "output_type": "stream",
     "text": [
      " 98%|█████████▊| 2649/2707 [33:25<05:16,  5.46s/it]"
     ]
    },
    {
     "name": "stdout",
     "output_type": "stream",
     "text": [
      "nan\n"
     ]
    },
    {
     "name": "stderr",
     "output_type": "stream",
     "text": [
      " 98%|█████████▊| 2650/2707 [33:32<05:34,  5.88s/it]"
     ]
    },
    {
     "name": "stdout",
     "output_type": "stream",
     "text": [
      "nan\n"
     ]
    },
    {
     "name": "stderr",
     "output_type": "stream",
     "text": [
      " 98%|█████████▊| 2651/2707 [33:43<06:47,  7.28s/it]"
     ]
    },
    {
     "name": "stdout",
     "output_type": "stream",
     "text": [
      "nan\n"
     ]
    },
    {
     "name": "stderr",
     "output_type": "stream",
     "text": [
      " 98%|█████████▊| 2652/2707 [33:49<06:22,  6.95s/it]"
     ]
    },
    {
     "name": "stdout",
     "output_type": "stream",
     "text": [
      "nan\n"
     ]
    },
    {
     "name": "stderr",
     "output_type": "stream",
     "text": [
      " 98%|█████████▊| 2654/2707 [33:56<04:22,  4.95s/it]"
     ]
    },
    {
     "name": "stdout",
     "output_type": "stream",
     "text": [
      "nan\n"
     ]
    },
    {
     "name": "stderr",
     "output_type": "stream",
     "text": [
      " 98%|█████████▊| 2655/2707 [34:05<05:19,  6.15s/it]"
     ]
    },
    {
     "name": "stdout",
     "output_type": "stream",
     "text": [
      "nan\n"
     ]
    },
    {
     "name": "stderr",
     "output_type": "stream",
     "text": [
      " 98%|█████████▊| 2656/2707 [34:13<05:47,  6.81s/it]"
     ]
    },
    {
     "name": "stdout",
     "output_type": "stream",
     "text": [
      "nan\n"
     ]
    },
    {
     "name": "stderr",
     "output_type": "stream",
     "text": [
      " 98%|█████████▊| 2657/2707 [34:21<05:45,  6.91s/it]"
     ]
    },
    {
     "name": "stdout",
     "output_type": "stream",
     "text": [
      "nan\n"
     ]
    },
    {
     "name": "stderr",
     "output_type": "stream",
     "text": [
      " 98%|█████████▊| 2658/2707 [34:27<05:26,  6.66s/it]"
     ]
    },
    {
     "name": "stdout",
     "output_type": "stream",
     "text": [
      "nan\n"
     ]
    },
    {
     "name": "stderr",
     "output_type": "stream",
     "text": [
      " 98%|█████████▊| 2659/2707 [34:33<05:23,  6.73s/it]"
     ]
    },
    {
     "name": "stdout",
     "output_type": "stream",
     "text": [
      "nan\n"
     ]
    },
    {
     "name": "stderr",
     "output_type": "stream",
     "text": [
      " 98%|█████████▊| 2660/2707 [34:40<05:12,  6.66s/it]"
     ]
    },
    {
     "name": "stdout",
     "output_type": "stream",
     "text": [
      "nan\n"
     ]
    },
    {
     "name": "stderr",
     "output_type": "stream",
     "text": [
      " 98%|█████████▊| 2661/2707 [34:48<05:30,  7.19s/it]"
     ]
    },
    {
     "name": "stdout",
     "output_type": "stream",
     "text": [
      "nan\n"
     ]
    },
    {
     "name": "stderr",
     "output_type": "stream",
     "text": [
      " 98%|█████████▊| 2662/2707 [34:56<05:32,  7.39s/it]"
     ]
    },
    {
     "name": "stdout",
     "output_type": "stream",
     "text": [
      "nan\n"
     ]
    },
    {
     "name": "stderr",
     "output_type": "stream",
     "text": [
      " 98%|█████████▊| 2663/2707 [35:07<06:14,  8.51s/it]"
     ]
    },
    {
     "name": "stdout",
     "output_type": "stream",
     "text": [
      "nan\n"
     ]
    },
    {
     "name": "stderr",
     "output_type": "stream",
     "text": [
      " 98%|█████████▊| 2664/2707 [35:15<05:55,  8.27s/it]"
     ]
    },
    {
     "name": "stdout",
     "output_type": "stream",
     "text": [
      "nan\n"
     ]
    },
    {
     "name": "stderr",
     "output_type": "stream",
     "text": [
      " 98%|█████████▊| 2665/2707 [35:22<05:26,  7.76s/it]"
     ]
    },
    {
     "name": "stdout",
     "output_type": "stream",
     "text": [
      "nan\n"
     ]
    },
    {
     "name": "stderr",
     "output_type": "stream",
     "text": [
      " 98%|█████████▊| 2666/2707 [35:28<04:54,  7.19s/it]"
     ]
    },
    {
     "name": "stdout",
     "output_type": "stream",
     "text": [
      "nan\n"
     ]
    },
    {
     "name": "stderr",
     "output_type": "stream",
     "text": [
      " 99%|█████████▊| 2667/2707 [35:33<04:30,  6.76s/it]"
     ]
    },
    {
     "name": "stdout",
     "output_type": "stream",
     "text": [
      "nan\n"
     ]
    },
    {
     "name": "stderr",
     "output_type": "stream",
     "text": [
      " 99%|█████████▊| 2668/2707 [35:40<04:24,  6.78s/it]"
     ]
    },
    {
     "name": "stdout",
     "output_type": "stream",
     "text": [
      "nan\n"
     ]
    },
    {
     "name": "stderr",
     "output_type": "stream",
     "text": [
      " 99%|█████████▊| 2669/2707 [35:48<04:28,  7.06s/it]"
     ]
    },
    {
     "name": "stdout",
     "output_type": "stream",
     "text": [
      "nan\n"
     ]
    },
    {
     "name": "stderr",
     "output_type": "stream",
     "text": [
      " 99%|█████████▊| 2670/2707 [35:55<04:21,  7.08s/it]"
     ]
    },
    {
     "name": "stdout",
     "output_type": "stream",
     "text": [
      "nan\n"
     ]
    },
    {
     "name": "stderr",
     "output_type": "stream",
     "text": [
      " 99%|█████████▊| 2671/2707 [36:02<04:16,  7.12s/it]"
     ]
    },
    {
     "name": "stdout",
     "output_type": "stream",
     "text": [
      "nan\n"
     ]
    },
    {
     "name": "stderr",
     "output_type": "stream",
     "text": [
      " 99%|█████████▊| 2672/2707 [36:08<03:56,  6.75s/it]"
     ]
    },
    {
     "name": "stdout",
     "output_type": "stream",
     "text": [
      "nan\n"
     ]
    },
    {
     "name": "stderr",
     "output_type": "stream",
     "text": [
      " 99%|█████████▊| 2673/2707 [36:19<04:27,  7.87s/it]"
     ]
    },
    {
     "name": "stdout",
     "output_type": "stream",
     "text": [
      "nan\n"
     ]
    },
    {
     "name": "stderr",
     "output_type": "stream",
     "text": [
      " 99%|█████████▉| 2674/2707 [36:27<04:25,  8.06s/it]"
     ]
    },
    {
     "name": "stdout",
     "output_type": "stream",
     "text": [
      "nan\n"
     ]
    },
    {
     "name": "stderr",
     "output_type": "stream",
     "text": [
      " 99%|█████████▉| 2675/2707 [36:34<04:08,  7.76s/it]"
     ]
    },
    {
     "name": "stdout",
     "output_type": "stream",
     "text": [
      "nan\n"
     ]
    },
    {
     "name": "stderr",
     "output_type": "stream",
     "text": [
      " 99%|█████████▉| 2676/2707 [36:41<03:53,  7.54s/it]"
     ]
    },
    {
     "name": "stdout",
     "output_type": "stream",
     "text": [
      "nan\n"
     ]
    },
    {
     "name": "stderr",
     "output_type": "stream",
     "text": [
      " 99%|█████████▉| 2677/2707 [36:48<03:38,  7.28s/it]"
     ]
    },
    {
     "name": "stdout",
     "output_type": "stream",
     "text": [
      "nan\n"
     ]
    },
    {
     "name": "stderr",
     "output_type": "stream",
     "text": [
      " 99%|█████████▉| 2678/2707 [36:54<03:19,  6.87s/it]"
     ]
    },
    {
     "name": "stdout",
     "output_type": "stream",
     "text": [
      "nan\n"
     ]
    },
    {
     "name": "stderr",
     "output_type": "stream",
     "text": [
      " 99%|█████████▉| 2679/2707 [37:02<03:22,  7.24s/it]"
     ]
    },
    {
     "name": "stdout",
     "output_type": "stream",
     "text": [
      "nan\n"
     ]
    },
    {
     "name": "stderr",
     "output_type": "stream",
     "text": [
      " 99%|█████████▉| 2680/2707 [37:09<03:14,  7.21s/it]"
     ]
    },
    {
     "name": "stdout",
     "output_type": "stream",
     "text": [
      "nan\n"
     ]
    },
    {
     "name": "stderr",
     "output_type": "stream",
     "text": [
      " 99%|█████████▉| 2681/2707 [37:16<03:06,  7.17s/it]"
     ]
    },
    {
     "name": "stdout",
     "output_type": "stream",
     "text": [
      "nan\n"
     ]
    },
    {
     "name": "stderr",
     "output_type": "stream",
     "text": [
      " 99%|█████████▉| 2682/2707 [37:24<03:05,  7.41s/it]"
     ]
    },
    {
     "name": "stdout",
     "output_type": "stream",
     "text": [
      "nan\n"
     ]
    },
    {
     "name": "stderr",
     "output_type": "stream",
     "text": [
      " 99%|█████████▉| 2684/2707 [37:34<02:10,  5.68s/it]"
     ]
    },
    {
     "name": "stdout",
     "output_type": "stream",
     "text": [
      "nan\n"
     ]
    },
    {
     "name": "stderr",
     "output_type": "stream",
     "text": [
      " 99%|█████████▉| 2685/2707 [37:41<02:18,  6.30s/it]"
     ]
    },
    {
     "name": "stdout",
     "output_type": "stream",
     "text": [
      "nan\n"
     ]
    },
    {
     "name": "stderr",
     "output_type": "stream",
     "text": [
      " 99%|█████████▉| 2686/2707 [37:56<03:06,  8.88s/it]"
     ]
    },
    {
     "name": "stdout",
     "output_type": "stream",
     "text": [
      "nan\n"
     ]
    },
    {
     "name": "stderr",
     "output_type": "stream",
     "text": [
      " 99%|█████████▉| 2687/2707 [38:04<02:51,  8.59s/it]"
     ]
    },
    {
     "name": "stdout",
     "output_type": "stream",
     "text": [
      "nan\n"
     ]
    },
    {
     "name": "stderr",
     "output_type": "stream",
     "text": [
      " 99%|█████████▉| 2688/2707 [38:11<02:34,  8.14s/it]"
     ]
    },
    {
     "name": "stdout",
     "output_type": "stream",
     "text": [
      "nan\n"
     ]
    },
    {
     "name": "stderr",
     "output_type": "stream",
     "text": [
      " 99%|█████████▉| 2689/2707 [38:19<02:23,  7.96s/it]"
     ]
    },
    {
     "name": "stdout",
     "output_type": "stream",
     "text": [
      "nan\n"
     ]
    },
    {
     "name": "stderr",
     "output_type": "stream",
     "text": [
      " 99%|█████████▉| 2690/2707 [38:26<02:13,  7.83s/it]"
     ]
    },
    {
     "name": "stdout",
     "output_type": "stream",
     "text": [
      "nan\n"
     ]
    },
    {
     "name": "stderr",
     "output_type": "stream",
     "text": [
      " 99%|█████████▉| 2691/2707 [38:35<02:06,  7.93s/it]"
     ]
    },
    {
     "name": "stdout",
     "output_type": "stream",
     "text": [
      "nan\n"
     ]
    },
    {
     "name": "stderr",
     "output_type": "stream",
     "text": [
      " 99%|█████████▉| 2692/2707 [38:42<01:57,  7.84s/it]"
     ]
    },
    {
     "name": "stdout",
     "output_type": "stream",
     "text": [
      "nan\n"
     ]
    },
    {
     "name": "stderr",
     "output_type": "stream",
     "text": [
      " 99%|█████████▉| 2693/2707 [38:49<01:43,  7.43s/it]"
     ]
    },
    {
     "name": "stdout",
     "output_type": "stream",
     "text": [
      "nan\n"
     ]
    },
    {
     "name": "stderr",
     "output_type": "stream",
     "text": [
      "100%|█████████▉| 2694/2707 [38:56<01:36,  7.39s/it]"
     ]
    },
    {
     "name": "stdout",
     "output_type": "stream",
     "text": [
      "nan\n"
     ]
    },
    {
     "name": "stderr",
     "output_type": "stream",
     "text": [
      "100%|█████████▉| 2695/2707 [39:03<01:27,  7.28s/it]"
     ]
    },
    {
     "name": "stdout",
     "output_type": "stream",
     "text": [
      "nan\n"
     ]
    },
    {
     "name": "stderr",
     "output_type": "stream",
     "text": [
      "100%|█████████▉| 2696/2707 [39:11<01:22,  7.50s/it]"
     ]
    },
    {
     "name": "stdout",
     "output_type": "stream",
     "text": [
      "nan\n"
     ]
    },
    {
     "name": "stderr",
     "output_type": "stream",
     "text": [
      "100%|█████████▉| 2697/2707 [39:19<01:15,  7.52s/it]"
     ]
    },
    {
     "name": "stdout",
     "output_type": "stream",
     "text": [
      "nan\n"
     ]
    },
    {
     "name": "stderr",
     "output_type": "stream",
     "text": [
      "100%|█████████▉| 2698/2707 [39:26<01:08,  7.57s/it]"
     ]
    },
    {
     "name": "stdout",
     "output_type": "stream",
     "text": [
      "nan\n"
     ]
    },
    {
     "name": "stderr",
     "output_type": "stream",
     "text": [
      "100%|█████████▉| 2699/2707 [39:33<00:58,  7.37s/it]"
     ]
    },
    {
     "name": "stdout",
     "output_type": "stream",
     "text": [
      "nan\n"
     ]
    },
    {
     "name": "stderr",
     "output_type": "stream",
     "text": [
      "100%|█████████▉| 2700/2707 [39:40<00:50,  7.15s/it]"
     ]
    },
    {
     "name": "stdout",
     "output_type": "stream",
     "text": [
      "nan\n"
     ]
    },
    {
     "name": "stderr",
     "output_type": "stream",
     "text": [
      "100%|█████████▉| 2701/2707 [39:47<00:42,  7.02s/it]"
     ]
    },
    {
     "name": "stdout",
     "output_type": "stream",
     "text": [
      "nan\n"
     ]
    },
    {
     "name": "stderr",
     "output_type": "stream",
     "text": [
      "100%|█████████▉| 2702/2707 [39:54<00:36,  7.20s/it]"
     ]
    },
    {
     "name": "stdout",
     "output_type": "stream",
     "text": [
      "nan\n"
     ]
    },
    {
     "name": "stderr",
     "output_type": "stream",
     "text": [
      "100%|█████████▉| 2703/2707 [40:01<00:28,  7.12s/it]"
     ]
    },
    {
     "name": "stdout",
     "output_type": "stream",
     "text": [
      "nan\n"
     ]
    },
    {
     "name": "stderr",
     "output_type": "stream",
     "text": [
      "100%|█████████▉| 2705/2707 [40:09<00:10,  5.08s/it]"
     ]
    },
    {
     "name": "stdout",
     "output_type": "stream",
     "text": [
      "nan\n"
     ]
    },
    {
     "name": "stderr",
     "output_type": "stream",
     "text": [
      "100%|██████████| 2707/2707 [40:09<00:00,  1.12it/s]\n"
     ]
    }
   ],
   "source": [
    "for link in tqdm(arts):\n",
    "    group = np.nan\n",
    "    name = np.nan\n",
    "    weight = np.nan\n",
    "    lock_type = np.nan\n",
    "    metal = np.nan\n",
    "    insert = np.nan\n",
    "    competitor = np.nan\n",
    "    i = 0\n",
    "    if int(link)//100000>spis[-1]:\n",
    "        i = len(spis)\n",
    "    else:\n",
    "        while int(link)//100000 > spis[i]:\n",
    "            i += 1\n",
    "    i += 1\n",
    "    if i < 10:\n",
    "        i = \"0\"+str(i)\n",
    "    current_link = f'https://basket-{i}.wbbasket.ru/vol{int(link)//100000}/part{int(link)//1000}/{link}/info/ru/card.json'\n",
    "    try:\n",
    "        basket = requests.get(current_link, verify=False, timeout=30).json()\n",
    "    except:\n",
    "        time.sleep(60)\n",
    "        basket = requests.get(current_link, verify=False, timeout=30).json()\n",
    "    try:\n",
    "        competitor = basket['selling']['brand_name']\n",
    "    except:\n",
    "        pass\n",
    "    try:\n",
    "        name = basket['imt_name'].lower()\n",
    "    except:\n",
    "        pass\n",
    "    try:\n",
    "        match basket['subj_name']:\n",
    "            case \"Ювелирные браслеты\": group = \"ЦБ БРАСЛЕТЫ\"\n",
    "            case \"Ювелирные цепочки\": group = \"ЦБ ЦЕПИ\"\n",
    "            case \"Ювелирные кольца\": group = \"КОЛЬЦА\"\n",
    "            case \"Ювелирные подвески\": group = \"ПОДВЕС\"\n",
    "            case \"Ювелирные серьги\": group = \"СЕРЬГИ\"\n",
    "    except:\n",
    "        pass\n",
    "    try:\n",
    "        for option in basket['options']:\n",
    "            if option['name'] == 'Минимальный вес (г)':\n",
    "                weight = float(option['value'].replace('г',''))\n",
    "            elif option['name'] == 'Вставка':\n",
    "                insert = option['value']\n",
    "            elif option['name'] == 'Вид замка':\n",
    "                lock_type = option['value']\n",
    "            elif option['name'] == 'Состав ювелирного изделия':\n",
    "                metal = option['value']\n",
    "    except:\n",
    "        pass\n",
    "    try:\n",
    "        for option in basket['grouped_options'][0]['options']:\n",
    "            if option['name'] == 'Минимальный вес (г)':\n",
    "                weight = float(option['value'].replace('г',''))\n",
    "            elif option['name'] == 'Вставка':\n",
    "                insert = option['value']\n",
    "            elif option['name'] == 'Вид замка':\n",
    "                lock_type = option['value']\n",
    "            elif option['name'] == 'Состав ювелирного изделия':\n",
    "                metal = option['value'].lower()\n",
    "    except:\n",
    "        pass\n",
    "    try:\n",
    "        if np.isnan(weight) and group in [\"ЦБ БРАСЛЕТЫ\",\"ЦБ ЦЕПИ\"]:\n",
    "            weight = float(bracs(link))\n",
    "    except:\n",
    "        pass\n",
    "    try:\n",
    "        if group == \"ЦБ ЦЕПИ\":\n",
    "            for option in basket['options']:\n",
    "                if 'плетен' in option['name']:\n",
    "                    lock_type = option['value']\n",
    "    except:\n",
    "        pass\n",
    "    try:\n",
    "        if group == \"ЦБ ЦЕПИ\":\n",
    "            for option in basket['grouped_options'][0]['options']:\n",
    "                if 'плетен' in option['name']:\n",
    "                    lock_type = option['value']\n",
    "    except:\n",
    "        pass\n",
    "    date.append(datetime.date.today())\n",
    "    weights.append(weight)\n",
    "    inserts.append(insert)\n",
    "    metals.append(metal)\n",
    "    locks.append(lock_type)\n",
    "    competitors.append(competitor)\n",
    "    names.append(name)\n",
    "    groups.append(group)"
   ],
   "metadata": {
    "collapsed": false,
    "ExecuteTime": {
     "end_time": "2024-03-18T20:15:59.376889Z",
     "start_time": "2024-03-18T19:35:49.970998Z"
    }
   },
   "id": "b2450bf895259a08",
   "execution_count": 78
  },
  {
   "cell_type": "markdown",
   "source": [],
   "metadata": {
    "collapsed": false
   },
   "id": "9c8be05b1fe8c0ce"
  },
  {
   "cell_type": "code",
   "outputs": [],
   "source": [
    "group = \"ЦБ БРАСЛЕТЫ\""
   ],
   "metadata": {
    "collapsed": false,
    "ExecuteTime": {
     "end_time": "2024-03-18T19:27:11.702169Z",
     "start_time": "2024-03-18T19:27:11.643085Z"
    }
   },
   "id": "c865e2eb19755cd2",
   "execution_count": 69
  },
  {
   "cell_type": "code",
   "outputs": [
    {
     "name": "stderr",
     "output_type": "stream",
     "text": [
      "100%|██████████| 2707/2707 [06:10<00:00,  7.31it/s]\n"
     ]
    }
   ],
   "source": [
    "artsizes = list()\n",
    "for link in tqdm(arts):\n",
    "    if group == \"ЦБ ЦЕПИ\" or group ==\"ЦБ БРАСЛЕТЫ\" or group == \"КОЛЬЦА\":\n",
    "        artsize = list()\n",
    "        url =f'https://card.wb.ru/cards/v2/detail?appType=1&curr=rub&dest=-1257786&spp=30&nm={link}'\n",
    "        try:\n",
    "            sizes = requests.get(url, verify=False, timeout=30).json()\n",
    "        except:\n",
    "            artsizes.append(np.nan)\n",
    "        try:\n",
    "            for option in sizes['data']['products'][0]['sizes']:\n",
    "                if len(option['stocks'])>0:\n",
    "                    size = option['origName']\n",
    "                    or1 = float(size.replace(\",\",\".\").replace(\"+\",\"\"))\n",
    "                    if (or1 > 10) and (or1 < 100): \n",
    "                        artsize.append(or1)\n",
    "                    try:\n",
    "                        or1 = size[:size.find(\"-\")]\n",
    "                        or2 = size[size.find(\"-\")+1:]\n",
    "                        if or1< 100 and or2 <100 and or1>10 and or2>10:\n",
    "                            for i in range(or1,or2+1):\n",
    "                                artsize.append(i)\n",
    "                    except:\n",
    "                        pass\n",
    "        except:\n",
    "            pass\n",
    "        artsizes.append(artsize)\n",
    "    else:\n",
    "        artsizes.append(np.nan)"
   ],
   "metadata": {
    "collapsed": false,
    "ExecuteTime": {
     "end_time": "2024-03-18T19:33:27.382491Z",
     "start_time": "2024-03-18T19:27:17.188886Z"
    }
   },
   "id": "382119f9b79f63e7",
   "execution_count": 70
  },
  {
   "cell_type": "code",
   "outputs": [
    {
     "data": {
      "text/plain": "[[16.0, 17.0, 18.0, 19.0, 20.0, 21.0],\n [16.0, 17.0, 18.0, 19.0, 20.0, 21.0, 22.0],\n [19.0],\n [16.0, 17.0, 19.0, 20.0, 21.0, 22.0, 23.0],\n [17.0, 18.0, 19.0, 20.0, 16.0, 21.0],\n [16.0, 17.0, 18.0],\n [17.0, 18.0, 19.0, 20.0],\n [17.0, 18.0, 19.0, 20.0, 21.0, 22.0],\n [17.0, 18.0, 19.0, 16.0],\n [17.0, 18.0, 19.0, 16.0, 20.0, 21.0],\n [17.0, 18.0, 19.0, 20.0],\n [17.0, 18.0, 19.0],\n [],\n [16.0, 17.0, 19.0, 20.0],\n [20.0],\n [18.0, 19.0, 17.0, 20.0],\n [17.0, 18.0],\n [16.0, 17.0, 18.0, 19.0, 20.0, 21.0],\n [17.0, 18.0, 19.0, 20.0, 21.0, 17.5, 18.5, 19.5, 20.5],\n [17.0, 16.0],\n [18.0, 15.5, 16.0, 16.5, 17.0, 17.5, 18.5, 19.0, 15.0, 19.5, 21.0],\n [16.0,\n  16.5,\n  17.0,\n  17.5,\n  18.0,\n  18.5,\n  19.0,\n  19.5,\n  20.0,\n  15.0,\n  15.5,\n  20.5,\n  21.0,\n  21.5,\n  22.0],\n [15.0, 16.0, 16.5, 18.0, 18.5, 15.5, 19.0, 19.5],\n [16.0, 17.0, 18.0, 19.0, 20.0, 21.0, 22.0],\n [17.0, 18.0, 19.0, 20.0],\n [16.0, 17.0, 18.0, 19.0, 20.0, 21.0, 22.0],\n [17.0, 18.0, 19.0, 20.0, 21.0],\n [17.0, 18.0, 19.0],\n [19.0],\n [18.0],\n [16.0],\n [17.0],\n [18.0, 19.0],\n [17.5, 19.0],\n [16.0, 16.5, 17.0, 17.5, 18.0, 15.5, 18.5, 19.0, 15.0, 20.0, 19.5],\n [17.0, 18.0, 19.0, 20.0, 21.0, 22.0],\n [18.0, 17.0, 19.0, 16.0, 21.0],\n [18.0, 20.0, 17.0, 19.0, 16.0, 24.0],\n [22.0, 23.0, 24.0, 25.0, 26.0, 27.0, 28.0, 21.0, 29.0],\n [17.0, 18.0, 19.0, 20.0, 16.0],\n [16.0,\n  16.5,\n  17.0,\n  17.5,\n  18.0,\n  18.5,\n  19.0,\n  19.5,\n  20.0,\n  15.5,\n  20.5,\n  21.0,\n  22.0,\n  21.5],\n [18.0],\n [20.0],\n [17.0, 17.5, 18.0, 18.5, 19.0, 22.0],\n [19.0, 18.0, 17.5, 19.5, 18.5, 20.0],\n [18.0, 19.0, 20.0],\n [19.5],\n [16.5, 17.0, 17.5, 18.5, 20.0],\n [17.0],\n [],\n [15.0, 16.5, 17.0, 17.5, 20.0],\n [16.0, 17.0, 18.0, 19.0, 20.0, 21.0],\n [17.0, 18.0, 19.0, 20.0, 16.0, 21.0],\n [17.0, 19.0, 18.0, 20.0],\n [17.0, 18.0, 19.0, 20.0],\n [20.0, 16.0],\n [16.0, 17.0, 18.0, 19.0],\n [16.0, 17.0, 18.0],\n [16.0],\n [17.0, 18.0, 19.0, 20.0],\n [17.0, 16.0, 20.0, 15.0],\n [18.0, 17.0, 17.5, 18.5],\n [17.0, 18.0, 19.0, 20.0],\n [17.0, 18.0],\n [17.0],\n [16.0, 17.0, 18.0, 19.0],\n [16.5, 17.0, 18.0, 15.5, 18.5, 20.0],\n [16.0, 17.0, 18.0],\n [18.0],\n [18.0],\n [19.0, 17.0],\n [16.0, 18.0, 19.0, 20.0],\n [16.0, 19.0],\n [16.0, 17.0, 19.0, 18.0],\n [18.0],\n [16.0, 18.0],\n [19.0, 16.0],\n [17.5],\n [20.0, 17.0, 21.0, 22.0],\n [17.0, 19.0, 20.0, 21.0, 25.0],\n [19.0],\n [16.0, 17.0, 18.0, 19.0, 21.0],\n [16.0, 17.0, 18.0, 19.0],\n [17.0],\n [16.0, 17.0, 18.0, 19.0],\n [16.0, 17.0, 18.0, 19.0, 20.0],\n [16.0, 17.0, 18.0, 19.0],\n [16.0, 18.0, 19.0],\n [17.0, 19.0],\n [21.0, 22.0, 18.0, 19.0, 20.0, 16.0, 17.0],\n [17.0],\n [17.0],\n [18.0],\n [17.0],\n [17.0, 19.0],\n [16.0, 17.0, 18.0, 19.0, 20.0, 21.0, 22.0],\n [17.0, 18.0, 19.0, 20.0],\n [16.0, 17.0],\n [],\n [],\n [18.0],\n [17.5, 18.0, 18.5, 19.5, 20.0, 20.5],\n [18.0],\n [],\n [17.0],\n [20.0, 21.0],\n [],\n [16.0, 18.0, 19.0],\n [18.5, 17.0],\n [16.0, 17.0, 18.0, 19.0, 20.0, 21.0, 22.0],\n [],\n [18.0],\n [],\n [16.0],\n [17.0, 18.0, 19.0],\n [18.0],\n [17.0],\n [],\n [17.0, 19.0, 18.0, 15.0, 16.0, 20.0, 21.0, 22.0],\n [17.0, 18.0, 19.0, 20.0, 21.0],\n [17.0],\n [],\n [],\n [17.0],\n [20.0],\n [17.0],\n [],\n [19.0],\n [21.0],\n [16.0, 17.0, 19.0, 20.0, 21.0, 22.0, 23.0],\n [17.0],\n [17.5, 18.0, 16.5],\n [17.0, 18.0],\n [19.0],\n [],\n [17.0, 18.0, 19.0],\n [16.0, 17.0, 18.0, 19.0, 20.0, 21.0],\n [17.0, 18.0],\n [17.0, 18.0, 19.0],\n [20.0, 21.0, 18.0, 17.0, 22.0],\n [16.0],\n [],\n [],\n [17.0, 19.0, 20.0, 18.0],\n [17.0],\n [19.0],\n [16.5, 17.0, 17.5, 18.0, 18.5, 20.0, 20.5, 21.0, 19.0, 19.5],\n [20.0],\n [],\n [19.0],\n [17.0, 18.0, 19.0, 20.0, 21.0],\n [17.5, 18.5, 19.0],\n [18.0],\n [17.0],\n [18.0],\n [20.0, 19.0, 17.0, 18.0, 16.0, 21.0],\n [17.0],\n [18.0],\n [20.0],\n [21.0],\n [21.0],\n [18.0, 19.0, 17.0, 20.0, 21.0],\n [20.0],\n [22.0],\n [18.0],\n [18.0, 19.0],\n [18.0],\n [18.0, 17.0, 16.0],\n [17.0, 18.0],\n [17.5],\n [],\n [16.5],\n [17.0, 18.0, 19.0],\n [17.0, 16.0],\n [16.0, 19.5],\n [17.0, 18.0, 19.0],\n [17.0, 18.0, 19.0],\n [17.0, 16.0, 20.0, 21.0, 22.0, 18.0, 19.0],\n [16.0, 17.0, 18.0, 19.0, 15.0, 20.0],\n [16.0, 17.0, 18.0, 20.0, 21.0],\n [17.0],\n [16.0, 17.0, 19.0, 20.0, 21.0],\n [16.0, 17.0, 18.0],\n [18.0, 19.0, 20.0],\n [18.0, 18.5, 19.0],\n [16.0],\n [18.0],\n [17.0, 18.0, 19.0, 20.0, 21.0],\n [17.0, 19.0],\n [16.0, 17.0, 18.0, 19.0],\n [16.0, 17.0, 19.0, 20.0, 21.0, 18.0],\n [],\n [18.0, 19.0],\n [17.0],\n [19.0],\n [17.0, 16.0, 18.0, 19.0, 20.0],\n [18.0],\n [17.0, 18.0, 19.0],\n [17.0, 18.0, 19.0],\n [16.0, 17.0],\n [17.0],\n [16.0, 18.0, 17.0, 19.0],\n [19.0, 17.0],\n [17.0, 18.0, 19.0, 20.0],\n [16.0, 17.0, 18.0],\n [16.0, 16.5, 17.5, 18.0, 18.5, 19.0, 19.5, 20.0, 20.5, 21.0, 17.0],\n [17.0, 19.0],\n [19.0],\n [17.0, 18.0, 19.0, 20.0, 21.0],\n [17.0, 18.0, 19.0],\n [],\n [],\n [16.0, 17.0, 18.0, 19.0],\n [16.0, 17.0, 18.0, 19.0],\n [16.0, 16.5, 17.0, 18.0, 18.5, 19.0, 19.5, 20.0, 20.5, 21.0],\n [16.0, 18.0],\n [16.0, 17.0, 18.0, 19.0],\n [22.0],\n [18.0, 19.0, 20.0, 17.0, 21.0, 22.0],\n [16.0, 18.0, 19.0],\n [18.0, 19.0, 17.0, 20.0],\n [17.0, 19.0, 20.0, 21.0, 22.0, 23.0],\n [18.0, 19.0, 20.0, 17.0],\n [18.0, 19.0, 17.0],\n [],\n [16.0, 17.0, 18.0, 19.0, 20.0],\n [17.0, 18.0, 19.0, 20.0, 21.0, 22.0, 23.0],\n [20.0, 21.0, 18.0, 19.0, 16.0, 17.0, 22.0],\n [17.0, 19.0, 20.0],\n [17.0, 18.0, 16.5, 17.5, 18.5],\n [18.0, 19.0, 20.0, 21.0, 17.0, 16.0],\n [16.0, 17.0, 18.0, 19.0, 20.0, 21.0, 22.0],\n [18.0],\n [17.0, 15.0, 19.0, 20.0, 21.0, 20.5],\n [23.0],\n [18.0, 19.0, 20.0, 21.0],\n [],\n [17.0, 18.0, 19.0, 16.0],\n [16.0, 16.5, 17.0, 17.5, 18.0, 18.5, 19.5, 20.0, 20.5, 21.0],\n [19.0, 20.0, 17.0, 21.0, 22.0],\n [16.0, 17.0, 18.0, 16.5, 17.5],\n [16.0, 17.0, 18.0, 19.0, 20.0],\n [16.0, 19.0, 17.0, 18.0],\n [18.0],\n [25.0, 23.0, 22.0],\n [18.0],\n [19.0, 18.0],\n [18.0, 19.0, 20.0, 21.0],\n [18.0],\n [16.0, 17.0, 18.0, 19.0, 20.0, 21.0],\n [19.0],\n [17.0, 18.0, 19.0],\n [21.0],\n [17.0],\n [],\n [19.5, 20.5],\n [],\n [18.5],\n [20.0],\n [17.0, 18.0, 19.0, 20.0, 21.0],\n [16.0, 17.0, 19.0, 20.0],\n [16.0, 17.0, 18.0, 19.0, 20.0, 21.0],\n [17.0],\n [17.0],\n [16.0, 17.0, 18.0, 19.0, 20.0, 22.0, 24.0],\n [19.0],\n [18.0],\n [17.0],\n [18.0],\n [16.0, 17.0, 18.0, 20.0, 21.0, 19.0, 22.0],\n [16.0, 17.0, 19.0, 20.0, 21.0],\n [17.5, 17.0, 18.0, 18.5],\n [19.0, 20.0],\n [16.0, 17.0, 18.0, 19.0, 20.0],\n [16.0, 17.0, 18.0, 19.0, 21.0, 22.0, 23.0],\n [20.0],\n [19.0, 20.0, 21.0],\n [18.0, 19.0, 20.0, 21.0, 22.0],\n [],\n [16.0, 17.0, 18.0, 19.0, 20.0, 21.0],\n [],\n [18.0, 17.0],\n [],\n [19.0],\n [19.0, 20.0],\n [17.0, 18.0, 21.0],\n [16.0, 17.0, 18.0, 19.0, 20.0, 21.0],\n [17.0],\n [18.0, 17.0, 19.0],\n [17.0, 19.0, 20.0, 21.0, 18.0],\n [20.0],\n [19.0],\n [17.5],\n [16.0, 17.0, 18.0, 19.0, 20.0, 21.0, 22.0, 23.0],\n [],\n [19.0, 18.5, 17.0],\n [20.0],\n [],\n [19.0],\n [20.0],\n [18.0],\n [17.0, 19.0, 20.0, 21.0, 22.0],\n [16.0, 17.0, 18.0],\n [17.0],\n [24.5],\n [16.0, 17.0, 18.0, 19.0, 21.0, 22.0],\n [18.0, 19.0, 20.0, 21.0],\n [17.0],\n [19.0, 18.0, 20.0, 16.0, 17.0, 21.0, 22.0],\n [16.0, 17.0, 18.0, 20.0, 21.0, 22.0],\n [16.0, 18.0],\n [],\n [17.0],\n [16.0, 17.0],\n [18.0, 20.0, 19.0, 17.0, 16.0],\n [],\n [18.0],\n [19.0, 18.0, 17.0, 20.0],\n [23.0],\n [16.0, 17.0, 19.0, 20.0],\n [20.0, 21.0],\n [18.0],\n [],\n [17.0, 18.0, 19.0, 20.0, 21.0],\n [17.0, 18.0],\n [17.0],\n [17.0, 19.0],\n [18.0, 19.0],\n [17.0, 18.0, 19.0],\n [18.0],\n [16.0],\n [17.0],\n [],\n [17.0],\n [16.5, 17.0, 17.5],\n [17.0],\n [18.0, 17.0],\n [17.0, 19.0, 18.0],\n [18.5],\n [18.0, 19.0],\n [17.0, 18.5],\n [18.0, 19.0],\n [18.0, 18.5],\n [18.0],\n [18.0],\n [18.0],\n [16.0, 17.0],\n [16.0, 17.0, 18.0],\n [],\n [18.5],\n [16.5, 17.5, 18.0, 19.0, 19.5, 20.0, 20.5, 21.0, 16.0, 21.5, 22.0],\n [16.0, 19.0, 17.0, 18.0, 21.0, 20.0],\n [17.0, 17.5, 18.0, 18.5, 19.0, 19.5, 20.0, 21.5, 22.0, 15.5, 22.5, 23.0],\n [17.0],\n [22.0, 18.0, 16.0, 17.0, 19.0],\n [19.0],\n [18.0],\n [17.0],\n [17.0, 19.0, 20.0, 18.0],\n [18.0, 19.0, 20.0, 21.0, 16.0, 17.0],\n [18.5, 17.0, 17.5, 15.5],\n [17.0, 18.0],\n [18.0],\n [17.0, 18.5],\n [18.5],\n [17.0],\n [17.0],\n [19.0],\n [17.0],\n [17.0],\n [20.0, 18.0, 19.0],\n [17.0],\n [16.0],\n [17.0],\n [18.0, 19.0, 17.0],\n [16.0],\n [18.0],\n [18.0, 19.0],\n [18.0],\n [17.0],\n [16.0, 17.0],\n [17.0],\n [17.0, 18.0],\n [],\n [18.0],\n [16.0],\n [16.0],\n [16.0, 17.0, 18.0, 19.0],\n [17.0, 18.0, 19.0, 20.0, 21.0],\n [16.0, 17.0, 18.0, 19.0, 20.0],\n [19.0, 16.0, 17.0, 18.0, 20.0],\n [18.0, 19.0],\n [17.0, 17.5, 18.5, 19.0, 16.0, 19.5, 20.0, 22.0, 20.5, 21.0, 21.5],\n [20.0],\n [17.0],\n [],\n [17.0, 18.5, 16.0, 16.5],\n [18.0],\n [18.0, 19.0],\n [17.0, 19.0, 21.0],\n [22.0, 23.0, 24.0, 25.0, 26.0, 27.0, 28.0, 21.0, 20.0, 29.0],\n [17.0, 19.0, 20.0, 21.0],\n [18.5, 16.5, 17.0, 18.0, 17.5],\n [16.0, 18.0, 19.0, 20.0],\n [],\n [16.0, 17.0, 18.0, 19.0, 20.0, 15.0],\n [16.0, 17.0, 18.0, 19.0, 20.0],\n [17.0, 22.0],\n [18.0, 19.0, 17.0, 20.0],\n [18.5, 19.0, 18.0, 17.0],\n [17.0],\n [20.0, 18.0, 19.0, 16.0, 17.0, 21.0],\n [16.0, 17.0, 18.0, 19.0],\n [],\n [17.0],\n [20.0],\n [16.0, 17.0, 18.0, 19.0, 20.0, 21.0],\n [16.0, 17.0, 18.0, 19.0, 20.0],\n [18.0, 18.5, 16.5, 19.0, 16.0],\n [],\n [16.0, 17.0, 18.0, 19.0],\n [21.0, 22.0, 23.0],\n [],\n [18.0],\n [20.0],\n [],\n [18.0],\n [18.0, 19.0, 16.0],\n [18.0, 17.0, 19.0],\n [19.0, 21.0],\n [16.0, 17.0, 17.5, 18.5, 19.0, 19.5, 22.0, 15.0, 22.5, 23.0],\n [16.0, 17.0],\n [17.0, 18.0, 19.0, 20.0, 21.0, 22.0],\n [16.0, 19.0],\n [],\n [17.0, 18.0, 19.0],\n [17.0, 19.0, 16.0],\n [],\n [17.0],\n [17.0, 18.0, 18.5, 16.0],\n [],\n [17.0, 18.0, 19.0, 16.0],\n [17.0, 18.0],\n [18.0],\n [19.0, 16.0, 20.0],\n [20.0, 19.0, 17.0, 18.0],\n [16.5, 18.5, 20.5, 21.0],\n [],\n [17.0, 18.0, 19.0, 20.0, 21.0],\n [17.0, 18.0, 19.0],\n [16.5, 17.5, 18.5, 15.5, 19.5, 20.5, 21.5],\n [17.0, 18.0],\n [17.0],\n [20.5],\n [16.0, 17.0, 19.0],\n [18.0],\n [18.0],\n [18.0, 20.0, 16.0],\n [16.0, 18.0, 19.0, 20.0],\n [20.0, 16.0, 19.0, 17.0, 18.0, 22.0, 23.0],\n [],\n [18.0],\n [20.0],\n [18.0, 18.5, 17.5],\n [17.0, 18.0, 19.0, 20.0],\n [16.0, 19.0, 20.0, 21.0, 22.0, 23.0],\n [18.0],\n [17.0, 16.0, 18.0, 19.0],\n [17.0, 16.0],\n [17.0, 18.0, 19.0, 16.0],\n [18.0],\n [16.5, 17.0, 17.5, 18.0, 18.5],\n [19.0, 21.0, 20.0, 22.0],\n [20.0, 21.0, 18.0, 19.0],\n [19.0, 16.0],\n [17.0, 24.0, 19.0],\n [17.0],\n [16.0, 19.0, 18.0, 17.0],\n [18.0],\n [16.0],\n [18.0, 21.5],\n [18.0],\n [],\n [19.0],\n [18.0],\n [17.0, 18.0],\n [25.0],\n [16.0, 17.0, 18.0],\n [],\n [18.0, 19.0, 20.0],\n [19.0],\n [17.0, 18.0, 19.0, 20.0, 21.0],\n [17.0, 18.0, 19.0, 20.0, 17.5, 18.5, 20.5],\n [17.0, 18.0, 19.0, 20.0, 22.0],\n [17.0, 18.0, 19.0],\n [],\n [16.0],\n [17.0, 20.0],\n [],\n [18.5, 20.0, 21.5, 23.0],\n [18.0, 16.0, 19.0, 20.0],\n [],\n [16.0, 20.0],\n [18.5, 20.5, 20.0, 19.0, 20.5, 21.0, 21.5, 22.0],\n [16.0, 18.0],\n [],\n [18.0],\n [18.0, 19.0, 20.0],\n [],\n [16.0, 20.0, 18.0, 19.0, 17.0],\n [17.0, 17.5, 16.5, 18.0, 18.5],\n [16.0, 17.0, 18.0, 19.0],\n [18.0],\n [16.0, 17.0, 20.0, 21.0, 18.0, 19.0],\n [16.0, 21.0],\n [16.0, 17.0, 18.0, 19.0],\n [16.0, 17.0, 18.0],\n [18.0],\n [17.0],\n [],\n [16.0, 17.0, 19.0],\n [19.0],\n [18.0, 19.0, 20.0],\n [16.0, 17.0, 18.0, 19.0],\n [16.0, 17.0, 18.0],\n [19.0, 18.0],\n [18.0, 20.0, 19.0],\n [17.0, 19.0],\n [17.0, 18.0],\n [18.5],\n [17.0, 18.0, 19.0, 20.0, 17.5],\n [16.0, 17.0, 18.0, 20.0],\n [19.0],\n [19.0, 18.0, 21.0, 16.0, 22.0],\n [19.0, 20.0, 21.0],\n [18.0],\n [],\n [16.0, 17.0, 18.0, 19.0, 19.5, 20.0, 21.0],\n [],\n [17.0],\n [17.0, 18.0, 19.0, 20.0],\n [15.0, 16.5, 17.0, 17.5, 18.0, 19.0, 19.5, 20.0, 15.5, 20.5],\n [19.0, 17.0, 18.0, 20.0],\n [],\n [19.0, 20.0, 21.0],\n [18.0, 19.0],\n [18.0, 19.0],\n [18.5, 20.0, 21.5],\n [],\n [22.0, 21.0, 18.0, 19.0, 20.0],\n [16.0, 18.0, 19.0],\n [17.0, 18.0, 20.0],\n [18.0],\n [17.0, 17.5, 18.0, 18.5, 19.0],\n [17.0],\n [17.0, 18.0, 19.0],\n [],\n [16.0, 17.0, 18.0, 19.0, 20.0],\n [18.0, 20.0],\n [18.0, 20.0, 21.0],\n [19.0, 17.0, 18.0, 21.0, 20.0],\n [17.0, 19.0, 16.0],\n [18.0, 18.5, 17.5],\n [19.0, 20.0],\n [],\n [17.0, 18.0, 16.0, 20.0],\n [17.0, 18.0, 19.0, 16.0],\n [16.0, 17.0, 18.0],\n [],\n [],\n [17.0, 18.0],\n [17.0],\n [15.0, 17.0, 19.0, 20.0],\n [18.0],\n [16.0, 17.0, 18.0, 16.5, 17.5],\n [19.0, 20.0],\n [18.0, 19.0],\n [17.0, 18.0, 19.0, 20.0, 21.0],\n [16.0, 19.0, 20.0],\n [22.0, 25.0, 28.0],\n [17.0, 19.0, 18.0, 20.0],\n [16.0, 17.0, 18.0, 19.0, 20.0],\n [],\n [17.0],\n [16.0],\n [17.5],\n [16.0],\n [],\n [20.0, 16.0, 21.0],\n [17.5, 18.5, 18.0],\n [17.5],\n [19.0],\n [19.0, 18.5],\n [19.0, 18.5],\n [17.0, 18.0, 19.0, 20.0],\n [22.0, 23.0, 24.0, 25.0, 26.0, 27.0, 28.0],\n [],\n [17.0, 18.0, 19.0, 16.0],\n [21.0, 23.0, 24.0, 25.0, 26.0, 27.0, 28.0, 29.0],\n [],\n [17.5],\n [17.0, 17.5, 18.5, 19.0, 18.0, 19.5, 16.0],\n [17.0, 18.0, 19.0, 16.0],\n [16.0, 17.5, 18.0],\n [17.0],\n [17.5, 18.5],\n [17.5, 16.5],\n [17.0],\n [18.0, 19.0, 20.0, 21.0, 22.0, 16.0, 17.0],\n [],\n [19.0],\n [18.0],\n [17.0, 17.5, 18.0, 18.5],\n [18.0, 18.5],\n [22.0, 23.0, 24.0, 26.0, 28.0],\n [18.0, 19.0, 16.0, 17.0],\n [22.0, 23.0, 24.0, 25.0, 26.0, 27.0, 28.0],\n [18.0, 19.0, 20.0, 21.0],\n [],\n [16.0, 16.5, 17.0, 17.5, 18.0, 18.5, 19.0, 19.5, 20.0, 20.5, 21.0, 21.5],\n [17.0],\n [17.0, 19.0, 20.0],\n [16.0, 17.0, 18.0, 19.0, 20.0, 15.0],\n [17.5, 18.0, 19.5, 21.5, 22.0, 20.5],\n [17.0, 20.0, 22.0, 18.0],\n [18.0],\n [16.0, 17.0, 19.0],\n [21.0, 20.0, 18.0, 19.0],\n [20.0],\n [17.0],\n [],\n [16.0, 17.0, 18.0, 19.0, 20.0],\n [],\n [16.0, 18.0, 19.0, 20.0],\n [],\n [18.0, 19.0, 16.0, 20.0],\n [17.0, 18.0, 19.0],\n [20.0, 21.0, 22.0, 23.0],\n [16.0, 17.0, 18.0, 19.0, 20.0, 21.0],\n [18.0],\n [18.0],\n [16.0, 17.0, 18.0, 19.0, 20.0],\n [],\n [17.0, 19.0, 18.5, 17.5, 18.0],\n [17.0, 18.0, 19.0, 20.0, 21.0],\n [16.0],\n [17.0, 18.0, 21.0, 19.0, 20.0],\n [19.0, 16.0, 20.0],\n [18.0, 19.0, 16.0, 20.0],\n [19.0, 17.0, 18.0, 20.0, 21.0],\n [],\n [],\n [16.0, 17.0, 18.0, 19.0, 15.0],\n [23.0, 25.0],\n [17.0, 20.0, 18.0, 19.0, 21.0],\n [17.0, 18.0],\n [17.5],\n [17.0, 19.0],\n [16.0, 17.0, 20.0],\n [16.0, 17.0, 18.0, 19.0],\n [17.0],\n [18.0, 19.0],\n [],\n [16.0, 16.5, 17.5, 18.0, 18.5, 19.0, 19.5, 20.0, 20.5, 21.0],\n [16.0, 18.0, 19.0],\n [],\n [16.0, 17.0, 18.0, 20.0],\n [],\n [17.0, 18.0, 19.0, 21.0],\n [],\n [],\n [22.0, 23.0, 24.0, 25.0, 26.0, 27.0, 28.0],\n [18.0],\n [],\n [17.0],\n [],\n [17.0],\n [16.0, 17.0, 18.0],\n [23.0],\n [16.0],\n [17.0, 18.0, 20.0, 19.0, 21.0],\n [15.5, 15.0, 18.0, 18.5],\n [],\n [17.0, 18.0, 19.0, 20.0],\n [21.5, 21.0],\n [16.0, 17.0, 18.0, 19.0],\n [25.0],\n [18.0, 19.0, 20.0],\n [],\n [16.5, 17.0, 18.5, 21.0, 15.5, 20.0, 20.5],\n [19.0, 20.0, 18.0, 21.0],\n [18.0],\n [19.0, 18.5, 19.5, 20.0],\n [],\n [16.0, 17.0, 18.0, 19.0, 20.0, 15.0],\n [18.0, 17.0, 20.0, 21.0],\n [],\n [17.0, 18.0, 19.0],\n [18.0, 17.0, 19.0, 20.0],\n [19.0],\n [],\n [],\n [17.0],\n [18.0],\n [19.0],\n [18.5],\n [],\n [17.5],\n [],\n [],\n [],\n [17.0, 19.0],\n [19.0, 20.0],\n [18.5, 18.0],\n [],\n [],\n [18.0],\n [17.0],\n [18.0],\n [19.0],\n [20.5],\n [17.0],\n [17.5],\n [19.0, 20.0, 18.0],\n [17.0],\n [18.0, 18.5, 19.0],\n [17.0],\n [20.0],\n [18.0, 20.0],\n [18.0, 19.0],\n [17.0],\n [17.0],\n [17.0],\n [18.0, 19.0],\n [18.0],\n [16.5],\n [18.0],\n [17.0],\n [17.0],\n [16.0, 18.0, 19.0, 20.0],\n [18.0],\n [18.0],\n [18.0],\n [17.0, 18.0, 19.0],\n [17.0, 18.0, 19.0, 20.0],\n [18.5],\n [20.0],\n [18.0],\n [16.0],\n [16.0, 17.0, 18.0, 19.0],\n [18.0, 19.0],\n [17.0, 18.0, 16.0, 19.0],\n [17.0, 18.0, 19.0, 20.0, 21.0],\n [18.0],\n [18.0],\n [16.0],\n [16.0, 15.0, 17.0, 18.5, 19.5, 20.0, 17.5],\n [19.0],\n [],\n [19.0, 20.0, 21.0],\n [19.0, 17.0, 18.0],\n [],\n [18.0, 19.0],\n [16.5],\n [16.0, 17.0, 18.0, 19.0, 20.0],\n [16.0],\n [16.5],\n [16.0, 17.0, 18.0],\n [17.0],\n [],\n [20.0],\n [16.5],\n [19.0],\n [17.0],\n [17.0, 18.0],\n [17.0],\n [16.0],\n [17.0, 21.0],\n [18.0, 19.0],\n [20.0, 17.0, 18.0, 19.0],\n [16.0, 17.0, 18.0, 19.0, 20.0],\n [17.5],\n [15.0],\n [17.0, 18.0, 19.0, 20.0],\n [16.5, 17.0, 17.5],\n [18.0, 19.0, 20.0, 16.0, 17.0],\n [16.0],\n [19.0],\n [17.0],\n [16.0],\n [17.0],\n [17.0, 18.0, 19.0, 20.0, 21.0],\n [17.5],\n [18.0, 20.0],\n [17.5],\n [22.0, 23.0, 24.0, 25.0, 26.0, 27.0, 28.0, 21.0, 29.0],\n [16.0, 17.0, 18.0, 19.0, 20.0],\n [17.0, 18.0, 16.0],\n [20.0],\n [16.0],\n [16.0, 17.0, 18.0, 19.0, 20.0],\n [17.0, 18.0],\n [19.0, 18.0],\n [19.0, 21.0],\n [17.0, 18.0, 20.0, 21.0],\n [18.0, 17.0],\n [19.0, 20.0],\n [17.0, 18.0],\n [19.0, 18.0, 20.0],\n [17.0, 18.0, 19.0],\n [18.0, 19.0, 20.0],\n [17.0],\n [16.0, 17.0, 18.0, 19.0],\n [],\n [19.0],\n [16.0, 18.0],\n [18.0, 17.0],\n [],\n [20.0],\n [19.5],\n [19.0],\n [16.0, 17.0, 18.0, 20.0],\n [17.0, 18.0],\n [],\n [16.5],\n [],\n [17.0],\n [16.0],\n [17.0],\n [20.0, 19.0],\n [18.0],\n [17.0, 18.0, 19.0],\n [18.0],\n [],\n [21.0],\n [20.0, 17.0, 19.0, 16.0],\n [18.0],\n [17.0, 20.0, 18.0, 19.0],\n [],\n [],\n [21.0],\n [19.0],\n [18.0, 19.0, 17.0, 20.0],\n [18.0, 19.0, 17.5, 18.5, 20.0, 20.5, 21.0, 21.5, 16.0, 16.5, 17.0],\n [19.0],\n [17.0, 18.0, 19.0, 20.0, 21.0, 22.0],\n [18.0, 19.0, 17.0],\n [18.0, 19.0, 17.0],\n [25.0],\n [22.0],\n [16.0, 17.0, 18.0, 19.0],\n [16.0, 17.0, 18.0],\n [17.0, 18.0, 19.0, 20.0, 21.0],\n [17.0],\n [17.0],\n [16.0, 17.0],\n [16.0, 17.0, 20.0],\n [17.0, 18.0, 19.0],\n [18.0],\n [18.5],\n [19.0, 17.0],\n [19.0],\n [19.0],\n [],\n [],\n [17.0, 18.0],\n [],\n [],\n [18.0, 19.0],\n [17.0],\n [17.0],\n [],\n [18.0],\n [],\n [18.0, 19.0],\n [16.0, 17.0, 18.0, 19.0],\n [18.0, 19.0, 20.0, 21.0, 22.0],\n [16.0, 17.0, 18.0, 19.0],\n [],\n [],\n [19.0],\n [],\n [16.5],\n [17.0],\n [17.0],\n [16.0, 17.0, 18.0, 19.0],\n [17.0, 18.0],\n [],\n [20.0, 19.0, 21.0, 22.0],\n [17.5, 18.0, 18.5, 19.0],\n [18.0],\n [21.0],\n [16.0],\n [16.0],\n [],\n [17.5],\n [16.0, 17.0, 18.0, 19.0],\n [17.0],\n [19.0],\n [17.0],\n [],\n [17.0, 19.0],\n [17.0],\n [],\n [20.0],\n [19.0],\n [18.0, 19.0, 20.0, 21.0, 22.0],\n [18.0],\n [18.0],\n [],\n [18.0, 17.0],\n [18.0, 21.0, 20.0, 19.0, 17.0],\n [19.0, 18.0],\n [24.0, 23.0, 22.0, 21.0, 20.0, 25.0],\n [16.0, 18.0],\n [16.0, 17.0, 18.0, 19.0, 20.0, 21.0],\n [],\n [19.0, 20.0, 21.0, 22.0, 23.0],\n [],\n [17.0],\n [],\n [],\n [],\n [17.0],\n [17.0, 18.0, 19.0, 16.0, 21.0],\n [],\n [19.0, 17.0, 18.0],\n [18.0, 17.0, 19.0],\n [19.0, 18.0],\n [18.0, 19.0],\n [18.0, 17.0, 19.0],\n [18.0, 19.0],\n [18.0, 19.0, 16.0, 20.0],\n [18.0, 21.0, 22.0],\n [19.0],\n [19.5],\n [18.0],\n [18.0],\n [21.0, 22.0, 23.0, 24.0, 25.0, 26.0, 27.0, 28.0, 29.0],\n [17.0, 18.0],\n [16.0, 17.0, 18.0, 19.0],\n [16.0, 17.0, 18.0, 19.0, 15.0, 20.0],\n [],\n [20.5, 19.5, 20.0, 21.0, 22.0],\n [],\n [16.0, 17.0, 18.0, 19.0, 20.0],\n [17.0, 18.0, 19.0],\n [17.0, 18.0, 19.0],\n [16.0, 19.0, 17.0, 18.0],\n [16.0, 19.0, 18.0],\n [17.0, 18.0, 19.0],\n [17.0],\n [16.0, 17.0, 18.0, 19.0],\n [20.0],\n [16.0],\n [17.0, 18.0, 19.0, 20.0],\n [],\n [17.0],\n [19.0],\n [],\n [],\n [20.0, 21.0],\n [17.0, 18.0, 19.0],\n [17.0],\n [],\n [19.0, 20.0],\n [],\n [],\n [],\n [],\n [17.0, 18.0],\n [17.0],\n [20.0, 21.0, 22.0, 23.0, 24.0, 25.0, 26.0, 27.0, 28.0],\n [],\n [],\n [],\n [],\n [],\n [],\n [],\n [17.0, 19.0],\n [16.0, 17.0],\n [17.0, 16.0, 18.0, 19.0, 21.0, 20.0],\n [16.0],\n [],\n [17.0, 18.0, 19.0],\n [18.0, 20.0],\n [18.0, 19.0, 20.0],\n [16.0],\n [],\n [16.0, 17.0],\n [19.0, 20.0, 17.0, 18.0],\n [],\n [17.0, 18.0, 20.0],\n [16.0, 17.0, 18.0, 19.0, 20.0, 21.0, 22.0],\n [17.0, 18.0, 19.0],\n [18.0, 19.0, 16.0, 20.0],\n [17.0],\n [17.0, 18.0, 19.0, 20.0, 21.0, 22.0],\n [17.0, 20.0, 16.0],\n ...]"
     },
     "execution_count": 71,
     "metadata": {},
     "output_type": "execute_result"
    }
   ],
   "source": [
    "artsizes"
   ],
   "metadata": {
    "collapsed": false,
    "ExecuteTime": {
     "end_time": "2024-03-18T19:33:32.673974Z",
     "start_time": "2024-03-18T19:33:32.597231Z"
    }
   },
   "id": "8a8acea29010801c",
   "execution_count": 71
  },
  {
   "cell_type": "markdown",
   "source": [
    "Проверка на тип колец"
   ],
   "metadata": {
    "collapsed": false
   },
   "id": "254c6e93d5ecf6ce"
  },
  {
   "cell_type": "code",
   "outputs": [],
   "source": [
    "if group == \"КОЛЬЦА\":\n",
    "    mar = str(input('Вас интересуют обручальные кольца?'))\n",
    "    if len(mar.lower()) > 0 and mar not in ['да','yes','д','y']:\n",
    "        married = False"
   ],
   "metadata": {
    "collapsed": false,
    "ExecuteTime": {
     "end_time": "2024-03-18T19:34:02.771152Z",
     "start_time": "2024-03-18T19:34:02.705423Z"
    }
   },
   "id": "14be56f31c76485c",
   "execution_count": 72
  },
  {
   "cell_type": "code",
   "outputs": [
    {
     "data": {
      "text/plain": "2707"
     },
     "execution_count": 81,
     "metadata": {},
     "output_type": "execute_result"
    }
   ],
   "source": [
    "len(artsizes)"
   ],
   "metadata": {
    "collapsed": false,
    "ExecuteTime": {
     "end_time": "2024-03-18T20:20:20.825950Z",
     "start_time": "2024-03-18T20:20:20.798159Z"
    }
   },
   "id": "cc7726c0fcc68f30",
   "execution_count": 81
  },
  {
   "cell_type": "markdown",
   "source": [
    "Данные в датасет"
   ],
   "metadata": {
    "collapsed": false
   },
   "id": "93da2ff231ce82f9"
  },
  {
   "cell_type": "code",
   "outputs": [
    {
     "ename": "ValueError",
     "evalue": "All arrays must be of the same length",
     "output_type": "error",
     "traceback": [
      "\u001B[1;31m---------------------------------------------------------------------------\u001B[0m",
      "\u001B[1;31mValueError\u001B[0m                                Traceback (most recent call last)",
      "Cell \u001B[1;32mIn[79], line 1\u001B[0m\n\u001B[1;32m----> 1\u001B[0m result \u001B[38;5;241m=\u001B[39m \u001B[43mpd\u001B[49m\u001B[38;5;241;43m.\u001B[39;49m\u001B[43mDataFrame\u001B[49m\u001B[43m(\u001B[49m\u001B[43m{\u001B[49m\u001B[38;5;124;43m'\u001B[39;49m\u001B[38;5;124;43mdata\u001B[39;49m\u001B[38;5;124;43m'\u001B[39;49m\u001B[43m:\u001B[49m\u001B[43m \u001B[49m\u001B[43mdate\u001B[49m\u001B[43m,\u001B[49m\n\u001B[0;32m      2\u001B[0m \u001B[43m                       \u001B[49m\u001B[38;5;124;43m'\u001B[39;49m\u001B[38;5;124;43mcompetitor\u001B[39;49m\u001B[38;5;124;43m'\u001B[39;49m\u001B[43m:\u001B[49m\u001B[43m \u001B[49m\u001B[43mcompetitors\u001B[49m\u001B[43m,\u001B[49m\n\u001B[0;32m      3\u001B[0m \u001B[43m                       \u001B[49m\u001B[38;5;124;43m'\u001B[39;49m\u001B[38;5;124;43mname\u001B[39;49m\u001B[38;5;124;43m'\u001B[39;49m\u001B[43m:\u001B[49m\u001B[43m \u001B[49m\u001B[43mnames\u001B[49m\u001B[43m,\u001B[49m\n\u001B[0;32m      4\u001B[0m \u001B[43m                       \u001B[49m\u001B[38;5;124;43m'\u001B[39;49m\u001B[38;5;124;43mgroup\u001B[39;49m\u001B[38;5;124;43m'\u001B[39;49m\u001B[43m:\u001B[49m\u001B[43m \u001B[49m\u001B[43mgroups\u001B[49m\u001B[43m,\u001B[49m\n\u001B[0;32m      5\u001B[0m \u001B[43m                       \u001B[49m\u001B[38;5;124;43m'\u001B[39;49m\u001B[38;5;124;43mweight\u001B[39;49m\u001B[38;5;124;43m'\u001B[39;49m\u001B[43m:\u001B[49m\u001B[43m \u001B[49m\u001B[43mweights\u001B[49m\u001B[43m,\u001B[49m\n\u001B[0;32m      6\u001B[0m \u001B[43m                       \u001B[49m\u001B[38;5;124;43m'\u001B[39;49m\u001B[38;5;124;43mprice\u001B[39;49m\u001B[38;5;124;43m'\u001B[39;49m\u001B[43m:\u001B[49m\u001B[43m \u001B[49m\u001B[43mprices\u001B[49m\u001B[43m,\u001B[49m\n\u001B[0;32m      7\u001B[0m \u001B[43m                       \u001B[49m\u001B[38;5;124;43m'\u001B[39;49m\u001B[38;5;124;43mprice_old\u001B[39;49m\u001B[38;5;124;43m'\u001B[39;49m\u001B[43m:\u001B[49m\u001B[43m \u001B[49m\u001B[43mpo\u001B[49m\u001B[43m,\u001B[49m\n\u001B[0;32m      8\u001B[0m \u001B[43m                       \u001B[49m\u001B[38;5;124;43m'\u001B[39;49m\u001B[38;5;124;43mdiscount\u001B[39;49m\u001B[38;5;124;43m'\u001B[39;49m\u001B[43m:\u001B[49m\u001B[43m \u001B[49m\u001B[43mdiscount\u001B[49m\u001B[43m,\u001B[49m\n\u001B[0;32m      9\u001B[0m \u001B[43m                       \u001B[49m\u001B[38;5;124;43m'\u001B[39;49m\u001B[38;5;124;43minsert\u001B[39;49m\u001B[38;5;124;43m'\u001B[39;49m\u001B[43m:\u001B[49m\u001B[43m \u001B[49m\u001B[43minserts\u001B[49m\u001B[43m,\u001B[49m\n\u001B[0;32m     10\u001B[0m \u001B[43m                       \u001B[49m\u001B[38;5;124;43m'\u001B[39;49m\u001B[38;5;124;43mmetal\u001B[39;49m\u001B[38;5;124;43m'\u001B[39;49m\u001B[43m:\u001B[49m\u001B[43m \u001B[49m\u001B[43mmetals\u001B[49m\u001B[43m,\u001B[49m\n\u001B[0;32m     11\u001B[0m \u001B[43m                       \u001B[49m\u001B[38;5;124;43m'\u001B[39;49m\u001B[38;5;124;43mlock\u001B[39;49m\u001B[38;5;124;43m'\u001B[39;49m\u001B[43m:\u001B[49m\u001B[43m \u001B[49m\u001B[43mlocks\u001B[49m\u001B[43m,\u001B[49m\n\u001B[0;32m     12\u001B[0m \u001B[43m                       \u001B[49m\u001B[38;5;124;43m'\u001B[39;49m\u001B[38;5;124;43marticle\u001B[39;49m\u001B[38;5;124;43m'\u001B[39;49m\u001B[43m:\u001B[49m\u001B[43m \u001B[49m\u001B[43marts\u001B[49m\u001B[43m,\u001B[49m\n\u001B[0;32m     13\u001B[0m \u001B[43m                       \u001B[49m\u001B[38;5;124;43m'\u001B[39;49m\u001B[38;5;124;43msizes\u001B[39;49m\u001B[38;5;124;43m'\u001B[39;49m\u001B[43m:\u001B[49m\u001B[43m \u001B[49m\u001B[43martsizes\u001B[49m\u001B[43m}\u001B[49m\u001B[43m)\u001B[49m\n",
      "File \u001B[1;32m~\\PycharmProjects\\pythonProject4\\.venv\\Lib\\site-packages\\pandas\\core\\frame.py:767\u001B[0m, in \u001B[0;36mDataFrame.__init__\u001B[1;34m(self, data, index, columns, dtype, copy)\u001B[0m\n\u001B[0;32m    761\u001B[0m     mgr \u001B[38;5;241m=\u001B[39m \u001B[38;5;28mself\u001B[39m\u001B[38;5;241m.\u001B[39m_init_mgr(\n\u001B[0;32m    762\u001B[0m         data, axes\u001B[38;5;241m=\u001B[39m{\u001B[38;5;124m\"\u001B[39m\u001B[38;5;124mindex\u001B[39m\u001B[38;5;124m\"\u001B[39m: index, \u001B[38;5;124m\"\u001B[39m\u001B[38;5;124mcolumns\u001B[39m\u001B[38;5;124m\"\u001B[39m: columns}, dtype\u001B[38;5;241m=\u001B[39mdtype, copy\u001B[38;5;241m=\u001B[39mcopy\n\u001B[0;32m    763\u001B[0m     )\n\u001B[0;32m    765\u001B[0m \u001B[38;5;28;01melif\u001B[39;00m \u001B[38;5;28misinstance\u001B[39m(data, \u001B[38;5;28mdict\u001B[39m):\n\u001B[0;32m    766\u001B[0m     \u001B[38;5;66;03m# GH#38939 de facto copy defaults to False only in non-dict cases\u001B[39;00m\n\u001B[1;32m--> 767\u001B[0m     mgr \u001B[38;5;241m=\u001B[39m \u001B[43mdict_to_mgr\u001B[49m\u001B[43m(\u001B[49m\u001B[43mdata\u001B[49m\u001B[43m,\u001B[49m\u001B[43m \u001B[49m\u001B[43mindex\u001B[49m\u001B[43m,\u001B[49m\u001B[43m \u001B[49m\u001B[43mcolumns\u001B[49m\u001B[43m,\u001B[49m\u001B[43m \u001B[49m\u001B[43mdtype\u001B[49m\u001B[38;5;241;43m=\u001B[39;49m\u001B[43mdtype\u001B[49m\u001B[43m,\u001B[49m\u001B[43m \u001B[49m\u001B[43mcopy\u001B[49m\u001B[38;5;241;43m=\u001B[39;49m\u001B[43mcopy\u001B[49m\u001B[43m,\u001B[49m\u001B[43m \u001B[49m\u001B[43mtyp\u001B[49m\u001B[38;5;241;43m=\u001B[39;49m\u001B[43mmanager\u001B[49m\u001B[43m)\u001B[49m\n\u001B[0;32m    768\u001B[0m \u001B[38;5;28;01melif\u001B[39;00m \u001B[38;5;28misinstance\u001B[39m(data, ma\u001B[38;5;241m.\u001B[39mMaskedArray):\n\u001B[0;32m    769\u001B[0m     \u001B[38;5;28;01mfrom\u001B[39;00m \u001B[38;5;21;01mnumpy\u001B[39;00m\u001B[38;5;21;01m.\u001B[39;00m\u001B[38;5;21;01mma\u001B[39;00m \u001B[38;5;28;01mimport\u001B[39;00m mrecords\n",
      "File \u001B[1;32m~\\PycharmProjects\\pythonProject4\\.venv\\Lib\\site-packages\\pandas\\core\\internals\\construction.py:503\u001B[0m, in \u001B[0;36mdict_to_mgr\u001B[1;34m(data, index, columns, dtype, typ, copy)\u001B[0m\n\u001B[0;32m    499\u001B[0m     \u001B[38;5;28;01melse\u001B[39;00m:\n\u001B[0;32m    500\u001B[0m         \u001B[38;5;66;03m# dtype check to exclude e.g. range objects, scalars\u001B[39;00m\n\u001B[0;32m    501\u001B[0m         arrays \u001B[38;5;241m=\u001B[39m [x\u001B[38;5;241m.\u001B[39mcopy() \u001B[38;5;28;01mif\u001B[39;00m \u001B[38;5;28mhasattr\u001B[39m(x, \u001B[38;5;124m\"\u001B[39m\u001B[38;5;124mdtype\u001B[39m\u001B[38;5;124m\"\u001B[39m) \u001B[38;5;28;01melse\u001B[39;00m x \u001B[38;5;28;01mfor\u001B[39;00m x \u001B[38;5;129;01min\u001B[39;00m arrays]\n\u001B[1;32m--> 503\u001B[0m \u001B[38;5;28;01mreturn\u001B[39;00m \u001B[43marrays_to_mgr\u001B[49m\u001B[43m(\u001B[49m\u001B[43marrays\u001B[49m\u001B[43m,\u001B[49m\u001B[43m \u001B[49m\u001B[43mcolumns\u001B[49m\u001B[43m,\u001B[49m\u001B[43m \u001B[49m\u001B[43mindex\u001B[49m\u001B[43m,\u001B[49m\u001B[43m \u001B[49m\u001B[43mdtype\u001B[49m\u001B[38;5;241;43m=\u001B[39;49m\u001B[43mdtype\u001B[49m\u001B[43m,\u001B[49m\u001B[43m \u001B[49m\u001B[43mtyp\u001B[49m\u001B[38;5;241;43m=\u001B[39;49m\u001B[43mtyp\u001B[49m\u001B[43m,\u001B[49m\u001B[43m \u001B[49m\u001B[43mconsolidate\u001B[49m\u001B[38;5;241;43m=\u001B[39;49m\u001B[43mcopy\u001B[49m\u001B[43m)\u001B[49m\n",
      "File \u001B[1;32m~\\PycharmProjects\\pythonProject4\\.venv\\Lib\\site-packages\\pandas\\core\\internals\\construction.py:114\u001B[0m, in \u001B[0;36marrays_to_mgr\u001B[1;34m(arrays, columns, index, dtype, verify_integrity, typ, consolidate)\u001B[0m\n\u001B[0;32m    111\u001B[0m \u001B[38;5;28;01mif\u001B[39;00m verify_integrity:\n\u001B[0;32m    112\u001B[0m     \u001B[38;5;66;03m# figure out the index, if necessary\u001B[39;00m\n\u001B[0;32m    113\u001B[0m     \u001B[38;5;28;01mif\u001B[39;00m index \u001B[38;5;129;01mis\u001B[39;00m \u001B[38;5;28;01mNone\u001B[39;00m:\n\u001B[1;32m--> 114\u001B[0m         index \u001B[38;5;241m=\u001B[39m \u001B[43m_extract_index\u001B[49m\u001B[43m(\u001B[49m\u001B[43marrays\u001B[49m\u001B[43m)\u001B[49m\n\u001B[0;32m    115\u001B[0m     \u001B[38;5;28;01melse\u001B[39;00m:\n\u001B[0;32m    116\u001B[0m         index \u001B[38;5;241m=\u001B[39m ensure_index(index)\n",
      "File \u001B[1;32m~\\PycharmProjects\\pythonProject4\\.venv\\Lib\\site-packages\\pandas\\core\\internals\\construction.py:677\u001B[0m, in \u001B[0;36m_extract_index\u001B[1;34m(data)\u001B[0m\n\u001B[0;32m    675\u001B[0m lengths \u001B[38;5;241m=\u001B[39m \u001B[38;5;28mlist\u001B[39m(\u001B[38;5;28mset\u001B[39m(raw_lengths))\n\u001B[0;32m    676\u001B[0m \u001B[38;5;28;01mif\u001B[39;00m \u001B[38;5;28mlen\u001B[39m(lengths) \u001B[38;5;241m>\u001B[39m \u001B[38;5;241m1\u001B[39m:\n\u001B[1;32m--> 677\u001B[0m     \u001B[38;5;28;01mraise\u001B[39;00m \u001B[38;5;167;01mValueError\u001B[39;00m(\u001B[38;5;124m\"\u001B[39m\u001B[38;5;124mAll arrays must be of the same length\u001B[39m\u001B[38;5;124m\"\u001B[39m)\n\u001B[0;32m    679\u001B[0m \u001B[38;5;28;01mif\u001B[39;00m have_dicts:\n\u001B[0;32m    680\u001B[0m     \u001B[38;5;28;01mraise\u001B[39;00m \u001B[38;5;167;01mValueError\u001B[39;00m(\n\u001B[0;32m    681\u001B[0m         \u001B[38;5;124m\"\u001B[39m\u001B[38;5;124mMixing dicts with non-Series may lead to ambiguous ordering.\u001B[39m\u001B[38;5;124m\"\u001B[39m\n\u001B[0;32m    682\u001B[0m     )\n",
      "\u001B[1;31mValueError\u001B[0m: All arrays must be of the same length"
     ]
    }
   ],
   "source": [
    "result = pd.DataFrame({'data': date,\n",
    "                       'competitor': competitors,\n",
    "                       'name': names,\n",
    "                       'group': groups,\n",
    "                       'weight': weights,\n",
    "                       'price': prices,\n",
    "                       'price_old': po,\n",
    "                       'discount': discount,\n",
    "                       'insert': inserts,\n",
    "                       'metal': metals,\n",
    "                       'lock': locks,\n",
    "                       'article': arts,\n",
    "                       'sizes': artsizes})"
   ],
   "metadata": {
    "collapsed": false,
    "ExecuteTime": {
     "end_time": "2024-03-18T20:19:40.598232Z",
     "start_time": "2024-03-18T20:19:40.078258Z"
    }
   },
   "id": "370ae019b77c43ea",
   "execution_count": 79
  },
  {
   "cell_type": "code",
   "outputs": [
    {
     "name": "stdout",
     "output_type": "stream",
     "text": [
      "<class 'pandas.core.frame.DataFrame'>\n",
      "RangeIndex: 1463 entries, 0 to 1462\n",
      "Data columns (total 13 columns):\n",
      " #   Column      Non-Null Count  Dtype  \n",
      "---  ------      --------------  -----  \n",
      " 0   data        1463 non-null   object \n",
      " 1   competitor  1440 non-null   object \n",
      " 2   name        1457 non-null   object \n",
      " 3   group       1463 non-null   object \n",
      " 4   weight      1418 non-null   float64\n",
      " 5   price       1463 non-null   int32  \n",
      " 6   price_old   1463 non-null   object \n",
      " 7   discount    1463 non-null   float64\n",
      " 8   insert      1223 non-null   object \n",
      " 9   metal       1443 non-null   object \n",
      " 10  lock        1420 non-null   object \n",
      " 11  article     1463 non-null   object \n",
      " 12  sizes       1463 non-null   object \n",
      "dtypes: float64(2), int32(1), object(10)\n",
      "memory usage: 143.0+ KB\n",
      "None\n"
     ]
    }
   ],
   "source": [
    "result['price'] = result['price'].astype('int')\n",
    "print(result.info())"
   ],
   "metadata": {
    "collapsed": false,
    "ExecuteTime": {
     "end_time": "2024-03-18T18:27:52.926470Z",
     "start_time": "2024-03-18T18:27:52.854332Z"
    }
   },
   "id": "b8de750982cdba2d",
   "execution_count": 51
  },
  {
   "cell_type": "markdown",
   "source": [
    "Работа с данными"
   ],
   "metadata": {
    "collapsed": false
   },
   "id": "a5de7c76adf1ff43"
  },
  {
   "cell_type": "code",
   "outputs": [],
   "source": [
    "groupdf = list()\n",
    "ii = list()\n",
    "avprice = list()\n",
    "insertgroup = list()\n",
    "charmgr = list()\n",
    "result = result.drop(result[\"каучук\" in result['insert'] or \"жемчуг\" in result['insert'] or \"серебро\" in result['metal'] or \"каучук\" in result['metal'] or \"жемчуг\" in result['metal'] or np.isnan(result['weight'])].index)\n",
    "avgpr = result['price']/result['weight']\n",
    "result.insert(loc=len(result.columns),column='Price per gramm',value=avgpr)\n",
    "result = result.drop(result[result['Price per gramm']<3000].index)\n",
    "result = result.drop(result[result['Price per gramm']>15000].index)\n",
    "cat = np.where(result['Price per gramm']<=5500, \"до 5500\",\n",
    "        np.where(\n",
    "        (result['Price per gramm'] <= 6000), '5 500 руб. - 6 000 руб.',\n",
    "        np.where(\n",
    "        (result['Price per gramm'] <= 6500), '6 000 руб. - 6 500 руб.',\n",
    "        np.where(\n",
    "        (result['Price per gramm'] <= 7000), '6 500 руб. - 7 000 руб.',\n",
    "        np.where(\n",
    "        (result['Price per gramm'] <= 8000), '7 000 руб. - 8 000 руб.',\n",
    "        np.where(\n",
    "        (result['Price per gramm'] <= 9000), '8 000 руб. - 9 000 руб.',\n",
    "        np.where(\n",
    "        (result['Price per gramm'] <= 10000), '9 000 руб. -10 000 руб.',  'свыше 10 000 руб.'\n",
    "        )))))))\n",
    "result.insert(loc=len(result.columns),column='group_price',value=cat)"
   ],
   "metadata": {
    "collapsed": false,
    "ExecuteTime": {
     "end_time": "2024-03-18T18:28:03.927700Z",
     "start_time": "2024-03-18T18:28:03.861070Z"
    }
   },
   "id": "df75c586f7d71ec3",
   "execution_count": 52
  },
  {
   "cell_type": "markdown",
   "source": [
    "Определяемся с категорией товарам и направлением"
   ],
   "metadata": {
    "collapsed": false
   },
   "id": "943986ae2b9becf3"
  },
  {
   "cell_type": "code",
   "outputs": [
    {
     "name": "stderr",
     "output_type": "stream",
     "text": [
      "100%|██████████| 1341/1341 [00:00<00:00, 5819.41it/s]\n"
     ]
    }
   ],
   "source": [
    "for i in tqdm(range(0,len(result))):\n",
    "    insertgroup.append(\"\")\n",
    "    inss = str(result.iloc[i]['insert']).split(';')\n",
    "    for ins in inss:\n",
    "        ins = str(ins).strip().lower()\n",
    "        if ins == \"бриллиант\" or ins == \"сапфир\" or ins ==\"рубин\" or ins == \"изумруд\" or ins == \"бриллиант натуральный\" or ins == \"сапфир натуральный\" or ins == \"рубин натуральный\" or ins == \"изумруд натуральный\" or ins ==\"бриллианты\" or ins == \"\":\n",
    "            insertgroup[-1] = \"ДК\"\n",
    "            charmgr.append('ДК')\n",
    "            break\n",
    "        elif ins == \"фианит\" or ins == \"бриллиант искусственный\" or ins == \"бриллиант выращенный\" or ins ==\"бриллианит\" or ins == \"бриллиант синтетический\" or \"фианит\" in str(result.iloc[i]['insert']).lower():\n",
    "            insertgroup[-1] = \"ИФ\"\n",
    "        elif \"нет\" in ins or \"без\" in ins or  str(result.iloc[i]['insert']).lower().strip() == \"золото\" or str(result.iloc[i]['insert']).lower() == \"эмаль\" or ins == \"nan\":\n",
    "            insertgroup[-1] = \"БК\"\n",
    "            charmgr.append('БК')\n",
    "            break\n",
    "        elif \"бр\" in ins and \"искусственный\" not in str(result.iloc[i]['insert']).lower() and \"выращенный\" not in str(result.iloc[i]['insert']).lower() and \"синтетический\" not in str(result.iloc[i]['insert']).lower():\n",
    "            insertgroup[-1] = \"ДК\"\n",
    "            charmgr.append('ДК')\n",
    "            break\n",
    "        elif insertgroup[-1] != \"ИФ\":\n",
    "            insertgroup[-1] = \"ПДК\"\n",
    "    if insertgroup[-1] in ['ИФ', 'ПДК']:\n",
    "        charmgr.append('ПДК')\n",
    "    if result.iloc[i]['group'] == \"ПОДВЕС\" and insertgroup[-1] in ['БК','ИФ']:\n",
    "        insertgroup[-1] = insertgroup[-1] + \" \" + result.iloc[i]['group'] + \" \" + charms(i)\n",
    "    elif result.iloc[i]['group'] == \"ПОДВЕС\":\n",
    "        insertgroup[-1] = insertgroup[-1] + \" \" + result.iloc[i]['group']\n",
    "    elif result.iloc[i]['group'] == \"СЕРЬГИ\":\n",
    "        insertgroup[-1] = insertgroup[-1] + \" \" + result.iloc[i]['group']\n",
    "    elif result.iloc[i]['group'] in ['ЦБ ЦЕПИ', 'ЦБ БРАСЛЕТЫ']:\n",
    "        insertgroup[-1] = result.iloc[i]['group']\n",
    "        charmgr[-1] = \"ЦБ\"\n",
    "    elif result.iloc[i]['group'] == \"КОЛЬЦА\" and married:\n",
    "        insertgroup[-1] = insertgroup[-1] + \" \" + result.iloc[i]['group'] + \" \" + \"ОБРУЧ\"\n",
    "    elif result.iloc[i]['group'] == \"КОЛЬЦА\":\n",
    "        insertgroup[-1] = insertgroup[-1] + \" \" + result.iloc[i]['group']\n",
    "    else:\n",
    "        ii.append(i)\n",
    "        charmgr.pop()\n",
    "if len(ii)>0:\n",
    "    result= result.drop(labels=ii,axis=0)\n",
    "result.insert(loc=len(result.columns),column='product_group(ТГ)',value=insertgroup)\n",
    "result.insert(loc=len(result.columns),column='product_direction(ТН)',value=charmgr)"
   ],
   "metadata": {
    "collapsed": false,
    "ExecuteTime": {
     "end_time": "2024-03-18T18:28:10.258969Z",
     "start_time": "2024-03-18T18:28:09.992494Z"
    }
   },
   "id": "7a62023c43ed8751",
   "execution_count": 53
  },
  {
   "cell_type": "code",
   "outputs": [
    {
     "data": {
      "text/plain": "            data                  competitor  \\\n0     2024-03-18                    АНАЛЕММА   \n1     2024-03-18         Ювелирный Дом АРКАД   \n2     2024-03-18             Цепочка Золотая   \n4     2024-03-18         Ювелирный Дом АРКАД   \n5     2024-03-18                     KARATOV   \n...          ...                         ...   \n1457  2024-03-18                     ЮТД МАЙ   \n1458  2024-03-18  Московский ювелирный завод   \n1459  2024-03-18  Московский ювелирный завод   \n1460  2024-03-18  Московский ювелирный завод   \n1461  2024-03-18                     SVETLOV   \n\n                                      name    group  weight   price price_old  \\\n0                золотая цепочка 585 нонна  ЦБ ЦЕПИ    1.68   10370     10916   \n1     цепочка золотая 585 на шею ювелирная  ЦБ ЦЕПИ    1.05    5939      6252   \n2        золотая цепочка женская 585 нонна  ЦБ ЦЕПИ    3.05   15896     15896   \n4     цепочка золотая 585 на шею ювелирная  ЦБ ЦЕПИ    0.68    3922      4129   \n5         золотая цепочка на шею 585 пробы  ЦБ ЦЕПИ    1.72    9350      9843   \n...                                    ...      ...     ...     ...       ...   \n1457         цепь brill красное золото 585  ЦБ ЦЕПИ    1.71    9806     10323   \n1458           цепочка из золота 585 пробы  ЦБ ЦЕПИ    1.99   18081     18081   \n1459           цепочка из золота 585 пробы  ЦБ ЦЕПИ    3.90   35435     35435   \n1460           цепочка из золота 585 пробы  ЦБ ЦЕПИ    2.71   24623     24623   \n1461             ювелирная цепь золото 585  ЦБ ЦЕПИ   20.71  171956    171956   \n\n      discount                                 insert  \\\n0         0.95                            без вставки   \n1         0.95  цепочка на крестины; Женская; ребенку   \n2         1.00                            без вставки   \n4         0.95     цепь на шею; детская; цепь золотая   \n5         0.95                            без вставки   \n...        ...                                    ...   \n1457      0.95                            без вставки   \n1458      1.00                            без вставки   \n1459      1.00                                    NaN   \n1460      1.00                            без вставки   \n1461      1.00                       нет; без вставки   \n\n                               metal                                    lock  \\\n0             золото красное; золото          Нонна с алмазной гранью; нонна   \n1     золото красное; красное золото   панцирь; панцирное; панцирное двойное   \n2         золото красное; золото 585  нонна; нона с алмазной гранью; бисмарк   \n4     золото красное; красное золото                     сингапур; панцирная   \n5                     золото красное                                сингапур   \n...                              ...                                     ...   \n1457                  золото красное                   якорное; брилл; brill   \n1458                    золото белое                                 якорное   \n1459                    золото белое                                 якорное   \n1460                  золото красное                                 якорное   \n1461                  золото красное                                 бисмарк   \n\n        article                                       sizes  Price per gramm  \\\n0     135946719              [45.0, 50.0, 55.0, 40.0, 60.0]      6172.619048   \n1      19386579  [35.0, 40.0, 45.0, 50.0, 55.0, 60.0, 65.0]      5656.190476   \n2      54700189        [40.0, 45.0, 50.0, 55.0, 60.0, 65.0]      5211.803279   \n4     186107714              [35.0, 40.0, 45.0, 50.0, 55.0]      5767.647059   \n5      13141141        [40.0, 45.0, 55.0, 50.0, 60.0, 65.0]      5436.046512   \n...         ...                                         ...              ...   \n1457  148339058                                      [40.0]      5734.502924   \n1458  126645200                                      [45.0]      9085.929648   \n1459  125871259                                      [45.0]      9085.897436   \n1460  126645224                                      [45.0]      9085.977860   \n1461   14364119                                      [60.0]      8303.042009   \n\n                  group_price product_group(ТГ) product_direction(ТН)  \n0     6 000 руб. - 6 500 руб.           ЦБ ЦЕПИ                    ЦБ  \n1     5 500 руб. - 6 000 руб.           ЦБ ЦЕПИ                    ЦБ  \n2                     до 5500           ЦБ ЦЕПИ                    ЦБ  \n4     5 500 руб. - 6 000 руб.           ЦБ ЦЕПИ                    ЦБ  \n5                     до 5500           ЦБ ЦЕПИ                    ЦБ  \n...                       ...               ...                   ...  \n1457  5 500 руб. - 6 000 руб.           ЦБ ЦЕПИ                    ЦБ  \n1458  9 000 руб. -10 000 руб.           ЦБ ЦЕПИ                    ЦБ  \n1459  9 000 руб. -10 000 руб.           ЦБ ЦЕПИ                    ЦБ  \n1460  9 000 руб. -10 000 руб.           ЦБ ЦЕПИ                    ЦБ  \n1461  8 000 руб. - 9 000 руб.           ЦБ ЦЕПИ                    ЦБ  \n\n[1341 rows x 17 columns]",
      "text/html": "<div>\n<style scoped>\n    .dataframe tbody tr th:only-of-type {\n        vertical-align: middle;\n    }\n\n    .dataframe tbody tr th {\n        vertical-align: top;\n    }\n\n    .dataframe thead th {\n        text-align: right;\n    }\n</style>\n<table border=\"1\" class=\"dataframe\">\n  <thead>\n    <tr style=\"text-align: right;\">\n      <th></th>\n      <th>data</th>\n      <th>competitor</th>\n      <th>name</th>\n      <th>group</th>\n      <th>weight</th>\n      <th>price</th>\n      <th>price_old</th>\n      <th>discount</th>\n      <th>insert</th>\n      <th>metal</th>\n      <th>lock</th>\n      <th>article</th>\n      <th>sizes</th>\n      <th>Price per gramm</th>\n      <th>group_price</th>\n      <th>product_group(ТГ)</th>\n      <th>product_direction(ТН)</th>\n    </tr>\n  </thead>\n  <tbody>\n    <tr>\n      <th>0</th>\n      <td>2024-03-18</td>\n      <td>АНАЛЕММА</td>\n      <td>золотая цепочка 585 нонна</td>\n      <td>ЦБ ЦЕПИ</td>\n      <td>1.68</td>\n      <td>10370</td>\n      <td>10916</td>\n      <td>0.95</td>\n      <td>без вставки</td>\n      <td>золото красное; золото</td>\n      <td>Нонна с алмазной гранью; нонна</td>\n      <td>135946719</td>\n      <td>[45.0, 50.0, 55.0, 40.0, 60.0]</td>\n      <td>6172.619048</td>\n      <td>6 000 руб. - 6 500 руб.</td>\n      <td>ЦБ ЦЕПИ</td>\n      <td>ЦБ</td>\n    </tr>\n    <tr>\n      <th>1</th>\n      <td>2024-03-18</td>\n      <td>Ювелирный Дом АРКАД</td>\n      <td>цепочка золотая 585 на шею ювелирная</td>\n      <td>ЦБ ЦЕПИ</td>\n      <td>1.05</td>\n      <td>5939</td>\n      <td>6252</td>\n      <td>0.95</td>\n      <td>цепочка на крестины; Женская; ребенку</td>\n      <td>золото красное; красное золото</td>\n      <td>панцирь; панцирное; панцирное двойное</td>\n      <td>19386579</td>\n      <td>[35.0, 40.0, 45.0, 50.0, 55.0, 60.0, 65.0]</td>\n      <td>5656.190476</td>\n      <td>5 500 руб. - 6 000 руб.</td>\n      <td>ЦБ ЦЕПИ</td>\n      <td>ЦБ</td>\n    </tr>\n    <tr>\n      <th>2</th>\n      <td>2024-03-18</td>\n      <td>Цепочка Золотая</td>\n      <td>золотая цепочка женская 585 нонна</td>\n      <td>ЦБ ЦЕПИ</td>\n      <td>3.05</td>\n      <td>15896</td>\n      <td>15896</td>\n      <td>1.00</td>\n      <td>без вставки</td>\n      <td>золото красное; золото 585</td>\n      <td>нонна; нона с алмазной гранью; бисмарк</td>\n      <td>54700189</td>\n      <td>[40.0, 45.0, 50.0, 55.0, 60.0, 65.0]</td>\n      <td>5211.803279</td>\n      <td>до 5500</td>\n      <td>ЦБ ЦЕПИ</td>\n      <td>ЦБ</td>\n    </tr>\n    <tr>\n      <th>4</th>\n      <td>2024-03-18</td>\n      <td>Ювелирный Дом АРКАД</td>\n      <td>цепочка золотая 585 на шею ювелирная</td>\n      <td>ЦБ ЦЕПИ</td>\n      <td>0.68</td>\n      <td>3922</td>\n      <td>4129</td>\n      <td>0.95</td>\n      <td>цепь на шею; детская; цепь золотая</td>\n      <td>золото красное; красное золото</td>\n      <td>сингапур; панцирная</td>\n      <td>186107714</td>\n      <td>[35.0, 40.0, 45.0, 50.0, 55.0]</td>\n      <td>5767.647059</td>\n      <td>5 500 руб. - 6 000 руб.</td>\n      <td>ЦБ ЦЕПИ</td>\n      <td>ЦБ</td>\n    </tr>\n    <tr>\n      <th>5</th>\n      <td>2024-03-18</td>\n      <td>KARATOV</td>\n      <td>золотая цепочка на шею 585 пробы</td>\n      <td>ЦБ ЦЕПИ</td>\n      <td>1.72</td>\n      <td>9350</td>\n      <td>9843</td>\n      <td>0.95</td>\n      <td>без вставки</td>\n      <td>золото красное</td>\n      <td>сингапур</td>\n      <td>13141141</td>\n      <td>[40.0, 45.0, 55.0, 50.0, 60.0, 65.0]</td>\n      <td>5436.046512</td>\n      <td>до 5500</td>\n      <td>ЦБ ЦЕПИ</td>\n      <td>ЦБ</td>\n    </tr>\n    <tr>\n      <th>...</th>\n      <td>...</td>\n      <td>...</td>\n      <td>...</td>\n      <td>...</td>\n      <td>...</td>\n      <td>...</td>\n      <td>...</td>\n      <td>...</td>\n      <td>...</td>\n      <td>...</td>\n      <td>...</td>\n      <td>...</td>\n      <td>...</td>\n      <td>...</td>\n      <td>...</td>\n      <td>...</td>\n      <td>...</td>\n    </tr>\n    <tr>\n      <th>1457</th>\n      <td>2024-03-18</td>\n      <td>ЮТД МАЙ</td>\n      <td>цепь brill красное золото 585</td>\n      <td>ЦБ ЦЕПИ</td>\n      <td>1.71</td>\n      <td>9806</td>\n      <td>10323</td>\n      <td>0.95</td>\n      <td>без вставки</td>\n      <td>золото красное</td>\n      <td>якорное; брилл; brill</td>\n      <td>148339058</td>\n      <td>[40.0]</td>\n      <td>5734.502924</td>\n      <td>5 500 руб. - 6 000 руб.</td>\n      <td>ЦБ ЦЕПИ</td>\n      <td>ЦБ</td>\n    </tr>\n    <tr>\n      <th>1458</th>\n      <td>2024-03-18</td>\n      <td>Московский ювелирный завод</td>\n      <td>цепочка из золота 585 пробы</td>\n      <td>ЦБ ЦЕПИ</td>\n      <td>1.99</td>\n      <td>18081</td>\n      <td>18081</td>\n      <td>1.00</td>\n      <td>без вставки</td>\n      <td>золото белое</td>\n      <td>якорное</td>\n      <td>126645200</td>\n      <td>[45.0]</td>\n      <td>9085.929648</td>\n      <td>9 000 руб. -10 000 руб.</td>\n      <td>ЦБ ЦЕПИ</td>\n      <td>ЦБ</td>\n    </tr>\n    <tr>\n      <th>1459</th>\n      <td>2024-03-18</td>\n      <td>Московский ювелирный завод</td>\n      <td>цепочка из золота 585 пробы</td>\n      <td>ЦБ ЦЕПИ</td>\n      <td>3.90</td>\n      <td>35435</td>\n      <td>35435</td>\n      <td>1.00</td>\n      <td>NaN</td>\n      <td>золото белое</td>\n      <td>якорное</td>\n      <td>125871259</td>\n      <td>[45.0]</td>\n      <td>9085.897436</td>\n      <td>9 000 руб. -10 000 руб.</td>\n      <td>ЦБ ЦЕПИ</td>\n      <td>ЦБ</td>\n    </tr>\n    <tr>\n      <th>1460</th>\n      <td>2024-03-18</td>\n      <td>Московский ювелирный завод</td>\n      <td>цепочка из золота 585 пробы</td>\n      <td>ЦБ ЦЕПИ</td>\n      <td>2.71</td>\n      <td>24623</td>\n      <td>24623</td>\n      <td>1.00</td>\n      <td>без вставки</td>\n      <td>золото красное</td>\n      <td>якорное</td>\n      <td>126645224</td>\n      <td>[45.0]</td>\n      <td>9085.977860</td>\n      <td>9 000 руб. -10 000 руб.</td>\n      <td>ЦБ ЦЕПИ</td>\n      <td>ЦБ</td>\n    </tr>\n    <tr>\n      <th>1461</th>\n      <td>2024-03-18</td>\n      <td>SVETLOV</td>\n      <td>ювелирная цепь золото 585</td>\n      <td>ЦБ ЦЕПИ</td>\n      <td>20.71</td>\n      <td>171956</td>\n      <td>171956</td>\n      <td>1.00</td>\n      <td>нет; без вставки</td>\n      <td>золото красное</td>\n      <td>бисмарк</td>\n      <td>14364119</td>\n      <td>[60.0]</td>\n      <td>8303.042009</td>\n      <td>8 000 руб. - 9 000 руб.</td>\n      <td>ЦБ ЦЕПИ</td>\n      <td>ЦБ</td>\n    </tr>\n  </tbody>\n</table>\n<p>1341 rows × 17 columns</p>\n</div>"
     },
     "execution_count": 54,
     "metadata": {},
     "output_type": "execute_result"
    }
   ],
   "source": [
    "result"
   ],
   "metadata": {
    "collapsed": false,
    "ExecuteTime": {
     "end_time": "2024-03-18T18:28:16.805424Z",
     "start_time": "2024-03-18T18:28:16.775792Z"
    }
   },
   "id": "e348f7c428f89d80",
   "execution_count": 54
  },
  {
   "cell_type": "markdown",
   "source": [
    "Расписываем серьги "
   ],
   "metadata": {
    "collapsed": false
   },
   "id": "e9a3caae6a179cb5"
  },
  {
   "cell_type": "code",
   "outputs": [
    {
     "name": "stderr",
     "output_type": "stream",
     "text": [
      "100%|██████████| 1341/1341 [00:00<00:00, 334337.61it/s]\n"
     ]
    }
   ],
   "source": [
    "for i in tqdm(result.index):\n",
    "    if result.at[i, 'group'] == \"СЕРЬГИ\":\n",
    "        if \"англ\" in str(result.at[i, 'lock']).lower() or \"нгл\" in str(result.at[i, 'lock']).lower():\n",
    "            result.at[i, 'lock'] = \"английский\"\n",
    "        elif \"франц\" in str(result.at[i, 'lock']).lower() or \"зск\" in str(result.at[i, 'lock']).lower():\n",
    "            result.at[i, 'lock'] = \"французский\"\n",
    "        elif \"штиф\" in str(result.at[i, 'lock']).lower() or \"фтов\" in str(result.at[i, 'lock']).lower():\n",
    "            result.at[i, 'lock'] = \"штифтовой\"\n",
    "        elif \"конг\" in str(result.at[i, 'lock']).lower():\n",
    "            result.at[i, 'lock'] = \"конго\"\n",
    "        elif \"винт\" in str(result.at[i, 'lock']).lower():\n",
    "            result.at[i, 'lock'] = \"винтовой\"\n",
    "        elif \"зажим\" in str(result.at[i, 'lock']).lower():\n",
    "            result.at[i, 'lock'] = \"зажим\"\n",
    "        elif \"петля\" in str(result.at[i, 'lock']).lower():\n",
    "            result.at[i, 'lock'] = \"петля\"\n",
    "        elif \"прот\" in str(result.at[i, 'lock']).lower():\n",
    "            result.at[i, 'lock'] = \"протяжки\"\n",
    "        elif \"пус\" in str(result.at[i, 'lock']).lower():\n",
    "            result.at[i, 'lock'] = \"пуссеты\"\n",
    "        elif \"прод\" in str(result.at[i, 'lock']).lower():\n",
    "            result.at[i, 'lock'] = \"продевки\"\n",
    "        elif \"без\" in str(result.at[i, 'lock']).lower():\n",
    "            result.at[i, 'lock'] = \"без застежки\"\n",
    "        else:\n",
    "            result.at[i, 'lock'] = \"неопределенно\""
   ],
   "metadata": {
    "collapsed": false,
    "ExecuteTime": {
     "end_time": "2024-03-18T18:28:32.658628Z",
     "start_time": "2024-03-18T18:28:32.635484Z"
    }
   },
   "id": "356d0f2d6e8bdb11",
   "execution_count": 55
  },
  {
   "cell_type": "markdown",
   "source": [
    "Расписываем цепи"
   ],
   "metadata": {
    "collapsed": false
   },
   "id": "2ea67b68b2241808"
  },
  {
   "cell_type": "code",
   "outputs": [
    {
     "name": "stderr",
     "output_type": "stream",
     "text": [
      "100%|██████████| 1341/1341 [00:00<00:00, 12603.21it/s]\n"
     ]
    }
   ],
   "source": [
    "for i in tqdm(result.index):\n",
    "    if result.at[i, 'group'] == \"ЦБ ЦЕПИ\":\n",
    "        if \"ром\" in str(result.at[i, 'lock']).lower() and \"двой\" in str(result.at[i, 'lock']).lower():\n",
    "            result.at[i, 'lock'] = \"ромб двойной\"\n",
    "        elif \"ром\" in str(result.at[i, 'lock']).lower() and \"трой\" in str(result.at[i, 'lock']).lower():\n",
    "            result.at[i, 'lock'] = \"ромб тройной\"\n",
    "        elif \"ром\" in str(result.at[i, 'lock']).lower():\n",
    "            result.at[i, 'lock'] = \"ромб\"\n",
    "        elif \"бис\" in str(result.at[i, 'lock']).lower() or \"марк\" in str(result.at[i, 'lock']).lower():\n",
    "            result.at[i, 'lock'] = \"бисмарк\"\n",
    "        elif \"нон\" in str(result.at[i, 'lock']).lower():\n",
    "            result.at[i, 'lock'] = \"нонна\"\n",
    "        elif \"якор\" in str(result.at[i, 'lock']).lower():\n",
    "            result.at[i, 'lock'] = \"якорь\"\n",
    "        elif \"панц\" in str(result.at[i, 'lock']).lower() or \"цирь\" in str(result.at[i, 'lock']).lower():\n",
    "            result.at[i, 'lock'] = \"панцирь\"\n",
    "        elif \"синг\" in str(result.at[i, 'lock']).lower() or \"апур\" in str(result.at[i, 'lock']).lower():\n",
    "            result.at[i, 'lock'] = \"сингапур\"\n",
    "        elif \"лав\" in str(result.at[i, 'lock']).lower() or \"лов\" in str(result.at[i, 'lock']).lower() or \"lov\" in str(result.at[i, 'lock']).lower():\n",
    "            result.at[i, 'lock'] = \"лав\"\n",
    "        elif \"тонд\" in str(result.at[i, 'lock']).lower():\n",
    "            result.at[i, 'lock'] = \"тондо\"\n",
    "        elif \"фанта\" in str(result.at[i, 'lock']).lower():\n",
    "            result.at[i, 'lock'] = \"фантазия\"\n",
    "        elif \"рол\" in str(result.at[i, 'lock']).lower():\n",
    "            result.at[i, 'lock'] = \"ролло\"\n",
    "        elif \"рол\" in str(result.at[i, 'lock']).lower():\n",
    "            result.at[i, 'lock'] = \"ролло\"\n",
    "        elif \"фига\" in str(result.at[i, 'lock']).lower():\n",
    "            result.at[i, 'lock'] = \"фигаро\"\n",
    "        elif \"корд\" in str(result.at[i, 'lock']).lower():\n",
    "            result.at[i, 'lock'] = \"корда\"\n",
    "        elif \"улит\" in str(result.at[i, 'lock']).lower():\n",
    "            result.at[i, 'lock'] = \"улитка\"\n",
    "        elif \"перл\" in str(result.at[i, 'lock']).lower():\n",
    "            result.at[i, 'lock'] = \"перлина\"\n",
    "        elif \"сней\" in str(result.at[i, 'lock']).lower() or \"snak\" in str(result.at[i, 'lock']).lower() or \"змей\" in str(result.at[i, 'lock']).lower():\n",
    "            result.at[i, 'lock'] = \"снейк\"\n",
    "        else:\n",
    "            result.at[i, 'lock'] = \"неопределенно\""
   ],
   "metadata": {
    "collapsed": false,
    "ExecuteTime": {
     "end_time": "2024-03-18T18:28:36.990263Z",
     "start_time": "2024-03-18T18:28:36.866309Z"
    }
   },
   "id": "ba467a7fced0030d",
   "execution_count": 56
  },
  {
   "cell_type": "markdown",
   "source": [
    "Данные в файл на сервер и к себе"
   ],
   "metadata": {
    "collapsed": false
   },
   "id": "130c72fae18deeb1"
  },
  {
   "cell_type": "code",
   "outputs": [],
   "source": [
    "adres = r'\\\\gold585.int\\uk\\Общее хранилище файлов\\Служба аналитики\\МЮР\\tg_tn'.encode().decode('UTF-8')+r'\\wildberries_' + str(datetime.date.today().day) + \"_\" + str(datetime.date.today().month) + \"_\" + str(datetime.date.today().year)+\".xlsx\"\n",
    "try:\n",
    "    oldres = pd.read_excel(adres)\n",
    "except:\n",
    "    oldres = pd.DataFrame()\n",
    "oldres = pd.concat([oldres,result],ignore_index=True)\n",
    "oldres.to_excel(adres, index=False)\n",
    "adresm = \"wildberries_\"+ str(datetime.date.today().day) + \"_\" + str(datetime.date.today().month) + \"_\" + str(datetime.date.today().year)+\" \"+\".xlsx\"\n",
    "try:\n",
    "    oldresm = pd.read_excel(adresm)\n",
    "except:\n",
    "    oldresm = pd.DataFrame()\n",
    "oldresm = pd.concat([oldresm,result],ignore_index=True)\n",
    "oldresm.to_excel(adresm, index=False)"
   ],
   "metadata": {
    "collapsed": false,
    "ExecuteTime": {
     "end_time": "2024-03-18T18:28:57.751688Z",
     "start_time": "2024-03-18T18:28:43.412038Z"
    }
   },
   "id": "e76e03fbecb9cfa5",
   "execution_count": 57
  },
  {
   "cell_type": "code",
   "outputs": [
    {
     "name": "stdout",
     "output_type": "stream",
     "text": [
      "lock\n",
      "английский       2817\n",
      "винтовой          762\n",
      "французский       211\n",
      "конго             153\n",
      "петля             148\n",
      "штифтовой         130\n",
      "неопределенно      36\n",
      "зажим              19\n",
      "без застежки       18\n",
      "протяжки            8\n",
      "пуссеты             8\n",
      "продевки            3\n",
      "Name: count, dtype: int64\n"
     ]
    }
   ],
   "source": [
    "res = oldresm[oldresm['group'] == \"СЕРЬГИ\"]\n",
    "if len(res)>0:\n",
    "    print(res['lock'].value_counts())"
   ],
   "metadata": {
    "collapsed": false,
    "ExecuteTime": {
     "end_time": "2024-03-18T18:29:01.194108Z",
     "start_time": "2024-03-18T18:29:01.175462Z"
    }
   },
   "id": "86f060c4792fef0a",
   "execution_count": 58
  },
  {
   "cell_type": "code",
   "outputs": [
    {
     "name": "stdout",
     "output_type": "stream",
     "text": [
      "lock\n",
      "якорь            243\n",
      "неопределенно    216\n",
      "панцирь          140\n",
      "бисмарк          125\n",
      "ромб двойной     106\n",
      "сингапур          89\n",
      "снейк             82\n",
      "нонна             78\n",
      "лав               66\n",
      "фантазия          48\n",
      "ромб тройной      36\n",
      "перлина           31\n",
      "корда             30\n",
      "ролло             23\n",
      "фигаро            10\n",
      "ромб               8\n",
      "тондо              8\n",
      "улитка             2\n",
      "Name: count, dtype: int64\n"
     ]
    }
   ],
   "source": [
    "res = oldresm[oldresm['group'] == \"ЦБ ЦЕПИ\"]\n",
    "if len(res)>0:\n",
    "    print(res['lock'].value_counts())"
   ],
   "metadata": {
    "collapsed": false,
    "ExecuteTime": {
     "end_time": "2024-03-18T18:29:08.448438Z",
     "start_time": "2024-03-18T18:29:08.437741Z"
    }
   },
   "id": "c71d43cef020d5b1",
   "execution_count": 59
  },
  {
   "cell_type": "markdown",
   "source": [],
   "metadata": {
    "collapsed": false
   },
   "id": "c0d54e87985df984"
  }
 ],
 "metadata": {
  "kernelspec": {
   "display_name": "Python 3",
   "language": "python",
   "name": "python3"
  },
  "language_info": {
   "codemirror_mode": {
    "name": "ipython",
    "version": 2
   },
   "file_extension": ".py",
   "mimetype": "text/x-python",
   "name": "python",
   "nbconvert_exporter": "python",
   "pygments_lexer": "ipython2",
   "version": "2.7.6"
  }
 },
 "nbformat": 4,
 "nbformat_minor": 5
}
