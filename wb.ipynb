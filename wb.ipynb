{
 "cells": [
  {
   "cell_type": "markdown",
   "source": [
    "Импорт библиотек"
   ],
   "metadata": {
    "collapsed": false
   },
   "id": "32ce4a82fd8d9255"
  },
  {
   "cell_type": "code",
   "outputs": [],
   "source": [
    "from selenium import webdriver\n",
    "import time\n",
    "import datetime\n",
    "import math\n",
    "from tqdm import tqdm\n",
    "from bs4 import BeautifulSoup as bs\n",
    "import requests\n",
    "import numpy as np\n",
    "import openpyxl\n",
    "import pandas as pd\n",
    "import warnings"
   ],
   "metadata": {
    "collapsed": false,
    "ExecuteTime": {
     "end_time": "2024-03-22T12:41:20.423577Z",
     "start_time": "2024-03-22T12:41:20.313042Z"
    }
   },
   "id": "3cfd914e6d08ccbc",
   "execution_count": 9
  },
  {
   "cell_type": "markdown",
   "source": [
    "Функция для определения типа подвесок"
   ],
   "metadata": {
    "collapsed": false
   },
   "id": "247ec5cbbc700abf"
  },
  {
   "cell_type": "code",
   "outputs": [],
   "source": [
    "def charms (i):\n",
    "    name = str(result.iloc[i]['name'])\n",
    "    if \"крест\" in name or \"христиан\" in name or \"икона\" in name or \"мусульман\" in name or \"спаси\" in name or \"сохрани\" in name or \"месяц\" in name or \"аллах\" in name or \"пророк\" in name or \"будда\" in name or \"отче\" in name or \"молитва\" in name or \"икона\" in name or \"лунниц\" in name or \"ангел\" in name or \"эрцгамм\" in name or \"чудо\" in name or \"фатим\" in name or \"иисус\" in name or \"б.м\" in name or \"давид\" in name or \"матрон\" in name or \"госп\" in name or \"хамс\" in name:\n",
    "        return \"КУЛЬТ\"\n",
    "    else:\n",
    "        return \"ДЕКОР\""
   ],
   "metadata": {
    "collapsed": false,
    "ExecuteTime": {
     "end_time": "2024-03-22T12:41:22.203453Z",
     "start_time": "2024-03-22T12:41:22.185622Z"
    }
   },
   "id": "fcd6966ee217bad6",
   "execution_count": 10
  },
  {
   "cell_type": "markdown",
   "source": [
    "Попытка вытащить вес из карточки по браслетам и цепям"
   ],
   "metadata": {
    "collapsed": false
   },
   "id": "3e9c6ed493101b79"
  },
  {
   "cell_type": "code",
   "outputs": [],
   "source": [
    "def bracs (link):\n",
    "    url =f'https://card.wb.ru/cards/v2/detail?appType=1&curr=rub&dest=-1257786&spp=30&nm={link}'\n",
    "    sizes = requests.get(url, verify=False, timeout=30).json()\n",
    "    try:\n",
    "        r = sizes['data']['products'][0]['sizes'][0]['name']\n",
    "        if r.rfind(\"-\") > -1:\n",
    "            wei = r[r.rfind(\"-\")+1:].strip().lower().replace(\",\",\".\").replace(\"гр.\",\"\").replace(\"гр\",\"\")\n",
    "        elif r.rfind(\"~\") > -1:\n",
    "            wei = r[r.rfind(\"~\")+1:].strip().lower().replace(\",\", \".\").replace(\"гр.\",\"\").replace(\"гр\",\"\")\n",
    "        elif r.rfind(\" \") > -1:\n",
    "            wei = r[r.rfind(\" \")+1:].strip().lower().replace(\",\", \".\").replace(\"гр.\",\"\").replace(\"гр\",\"\")\n",
    "        wei = float(wei)\n",
    "        if wei > 0 and wei < 15:\n",
    "            return wei\n",
    "    except:\n",
    "        return np.nan"
   ],
   "metadata": {
    "collapsed": false,
    "ExecuteTime": {
     "end_time": "2024-03-22T12:41:24.086392Z",
     "start_time": "2024-03-22T12:41:24.032870Z"
    }
   },
   "id": "fd44cc9461b7f43e",
   "execution_count": 11
  },
  {
   "cell_type": "code",
   "outputs": [],
   "source": [
    "married = True\n",
    "parsesize = False\n",
    "warnings.filterwarnings('ignore')\n",
    "links=list()\n",
    "spis = [143, 287, 431, 719, 1007, 1061, 1115, 1169, 1313, 1601, 1655, 1919, 2045, 2189,2405]\n",
    "p=1\n",
    "arts = list()\n",
    "prices = list()\n",
    "po = list()\n",
    "date = list()\n",
    "discount = list()\n",
    "url = str(input('Введите ссылку:'))\n",
    "url1 = url[:url.find(\"page=\")+5]\n",
    "url2 = url[url.find(\"&\", url.find(\"page=\")):]"
   ],
   "metadata": {
    "collapsed": false,
    "ExecuteTime": {
     "end_time": "2024-03-22T12:44:19.509942Z",
     "start_time": "2024-03-22T12:44:17.732879Z"
    }
   },
   "id": "39973b3e8d2e0f6",
   "execution_count": 13
  },
  {
   "cell_type": "markdown",
   "source": [
    "Цикл пагинатор"
   ],
   "metadata": {
    "collapsed": false
   },
   "id": "846654e781bb5ae9"
  },
  {
   "cell_type": "code",
   "outputs": [
    {
     "name": "stderr",
     "output_type": "stream",
     "text": [
      "The chromedriver version (122.0.6261.128) detected in PATH at C:\\Users\\Petrov.Ilya\\PycharmProjects\\pythonProject4\\chromedriver.exe might not be compatible with the detected chrome version (123.0.6312.58); currently, chromedriver 123.0.6312.58 is recommended for chrome 123.*, so it is advised to delete the driver in PATH and retry\n"
     ]
    }
   ],
   "source": [
    "mwd = webdriver.Chrome()\n",
    "mwd.maximize_window()\n",
    "while True:\n",
    "    url = url1 + str(p) + url2\n",
    "    mwd.get(url)\n",
    "    time.sleep(1.5)\n",
    "    step = 1900\n",
    "    while True:\n",
    "        step0=step-1900\n",
    "        lh = mwd.execute_script(\"return document.body.scrollHeight\")\n",
    "        mwd.execute_script(f\"window.scrollTo({step0}, {step});\")\n",
    "        time.sleep(1)\n",
    "        nh = mwd.execute_script(\"return document.body.scrollHeight\")\n",
    "        step+=1900\n",
    "        if nh==lh:\n",
    "            break\n",
    "    soup = bs(mwd.page_source, \"html.parser\")\n",
    "    artss =  soup.find_all('article',id=True)\n",
    "    for art in artss:\n",
    "        arts.append(art['data-nm-id'])\n",
    "    for art in artss:\n",
    "        if str(art).find('price__lower-price wallet-price')>0:\n",
    "            prl = art.findNext('ins',attrs={'class':'price__lower-price wallet-price'}).text.strip()[:-2]\n",
    "            if prl.find('\\xa0')>0:\n",
    "                prl = prl.replace('\\xa0','')\n",
    "            prices.append(prl)\n",
    "            po.append(math.ceil(int(prl)/0.95))\n",
    "            discount.append(0.95)\n",
    "        else:\n",
    "            prl = art.findNext('ins',attrs={'class': 'price__lower-price'}).text.strip()[:-2]\n",
    "            if prl.find('\\xa0')>0:\n",
    "                prl = prl.replace('\\xa0','')\n",
    "            prices.append(prl)\n",
    "            po.append(prl)\n",
    "            discount.append(1)\n",
    "    if p == 1:\n",
    "        page_counts = int(soup.find(attrs={'data-link': 'html{spaceFormatted:pagerModel.totalItems}'}).text.replace(' ',''))//100+1\n",
    "    if p == page_counts:\n",
    "        break\n",
    "    p+=1\n",
    "mwd.close()"
   ],
   "metadata": {
    "collapsed": false,
    "ExecuteTime": {
     "end_time": "2024-03-22T12:48:57.498189Z",
     "start_time": "2024-03-22T12:44:22.720224Z"
    }
   },
   "id": "4b855eb3dec338d0",
   "execution_count": 14
  },
  {
   "cell_type": "code",
   "outputs": [],
   "source": [
    "weights = list()\n",
    "inserts = list()\n",
    "metals = list()\n",
    "locks = list()\n",
    "competitors = list()\n",
    "names = list()\n",
    "groups =list()"
   ],
   "metadata": {
    "collapsed": false,
    "ExecuteTime": {
     "end_time": "2024-03-22T12:49:04.689483Z",
     "start_time": "2024-03-22T12:49:04.683952Z"
    }
   },
   "id": "5828fc6e1b26cb94",
   "execution_count": 15
  },
  {
   "cell_type": "code",
   "outputs": [
    {
     "data": {
      "text/plain": "['141724926',\n '174204113',\n '14088790',\n '162929172',\n '11311917',\n '62049217',\n '50890684',\n '2213254',\n '132627994',\n '59511109',\n '14091689',\n '164735883',\n '16202142',\n '16202141',\n '81898041',\n '124885523',\n '14088779',\n '51618046',\n '119933140',\n '153984107',\n '54637205',\n '159511305',\n '3109941',\n '2703931',\n '42649666',\n '54700228',\n '18670902',\n '3048498',\n '6040057',\n '114277599',\n '12570383',\n '12695359',\n '112494776',\n '5920017',\n '81270616',\n '10514560',\n '110066995',\n '167795540',\n '8149503',\n '2294363',\n '12695578',\n '136006948',\n '62054842',\n '115877955',\n '115079320',\n '65258015',\n '50670404',\n '10232261',\n '19071480',\n '9661980',\n '2213253',\n '11311915',\n '28322442',\n '33917558',\n '16202145',\n '16202138',\n '153984113',\n '81997175',\n '142801841',\n '11843168',\n '5920021',\n '164717456',\n '6296781',\n '189809154',\n '28743297',\n '19133416',\n '76430148',\n '16202139',\n '8149504',\n '5600533',\n '16202136',\n '78128293',\n '114544277',\n '105301464',\n '16202137',\n '93282951',\n '62601004',\n '14088784',\n '142794834',\n '54639247',\n '2070786',\n '4234135',\n '30955824',\n '10232272',\n '41656230',\n '53609193',\n '12029833',\n '5920022',\n '12700896',\n '132156456',\n '153006564',\n '87482946',\n '91600719',\n '183937894',\n '90324540',\n '8149501',\n '30154236',\n '27166262',\n '16300236',\n '75164325',\n '62601000',\n '13141100',\n '14745549',\n '8149498',\n '16199129',\n '13141071',\n '48325338',\n '124936676',\n '95071539',\n '3323360',\n '8149505',\n '16202143',\n '139264496',\n '162493136',\n '159694246',\n '157293600',\n '163231731',\n '5670037',\n '2960401',\n '17825069',\n '103419072',\n '142802398',\n '59514885',\n '115875358',\n '59514884',\n '76430147',\n '207813964',\n '77247674',\n '87456994',\n '87456992',\n '67849076',\n '120724370',\n '90326648',\n '95832949',\n '10523577',\n '52174315',\n '179689866',\n '27280671',\n '148332248',\n '6296782',\n '5920019',\n '3048501',\n '26995964',\n '10720517',\n '116413919',\n '3048503',\n '188909886',\n '188459081',\n '157004879',\n '140313222',\n '113257802',\n '189747933',\n '11856922',\n '189580542',\n '179689874',\n '180950796',\n '104536929',\n '182771469',\n '148531550',\n '169689353',\n '188318191',\n '39793597',\n '9145813',\n '161692097',\n '28498976',\n '90325470',\n '185742775',\n '17618263',\n '13141076',\n '69201540',\n '179689858',\n '104537074',\n '188318193',\n '188318164',\n '157004909',\n '189083952',\n '180977272',\n '13141080',\n '180950810',\n '179689840',\n '182771471',\n '157004881',\n '164708349',\n '186731211',\n '179977801',\n '189083929',\n '181003828',\n '188318184',\n '186731210',\n '140239227',\n '76428185',\n '184457931',\n '159699510',\n '97027832',\n '8352488',\n '13141074',\n '76428187',\n '90324539',\n '14088783',\n '180934424',\n '180953622',\n '84000396',\n '188499631',\n '8149508',\n '161183698',\n '47930601',\n '17618262',\n '140234427',\n '91288736',\n '149812440',\n '45491421',\n '73761065',\n '104537073',\n '165288852',\n '148338126',\n '149812525',\n '159739405',\n '7278896',\n '159739404',\n '159739403',\n '180938374',\n '153984108',\n '76426487',\n '76428186',\n '76432697',\n '180934428',\n '17259834',\n '76426484',\n '180934429',\n '10514559',\n '65278093',\n '16319604',\n '10232265',\n '10232268',\n '141619785',\n '155757882',\n '149968145',\n '211864543',\n '161840936',\n '124963561',\n '7919695',\n '125001184',\n '145274605',\n '19306910',\n '8149502',\n '12570392',\n '12570387',\n '115821732',\n '11843176',\n '115825337',\n '120723964',\n '50670398',\n '16943782',\n '157004887',\n '174960587',\n '161850023',\n '116808315',\n '181128656',\n '86605317',\n '25940499',\n '145709436',\n '161926341',\n '120723707',\n '28320031',\n '19049873',\n '10755328',\n '83985156',\n '18670907',\n '10317035',\n '39157166',\n '137599976',\n '104327406',\n '103251871',\n '16202146',\n '75162212',\n '3048502',\n '145207592',\n '66868927',\n '10232271',\n '146847875',\n '41288155',\n '189083925',\n '66827208',\n '115784895',\n '44900922',\n '83743248',\n '75392916',\n '9661984',\n '167754743',\n '78448089',\n '96162795',\n '152765495',\n '97656248',\n '158492402',\n '114278845',\n '10144963',\n '145204677',\n '34675677',\n '10317038',\n '17730375',\n '2262438',\n '165825194',\n '10144962',\n '70355243',\n '48432582',\n '91275998',\n '2960406',\n '11843178',\n '171102599',\n '64049658',\n '54700067',\n '17276139',\n '145204678',\n '28688293',\n '13141068',\n '148532459',\n '179689848',\n '167881442',\n '207813963',\n '197299234',\n '197299236',\n '179689870',\n '188459096',\n '8149493',\n '167881481',\n '203147124',\n '197299240',\n '197299238',\n '197299242',\n '16319603',\n '154201640',\n '182771467',\n '186625494',\n '186567492',\n '182712022',\n '133830779',\n '188618804',\n '156400215',\n '154201634',\n '189294826',\n '208865351',\n '164375909',\n '188459103',\n '186625492',\n '188305234',\n '207813966',\n '207813968',\n '190466122',\n '179689832',\n '38400094',\n '190466105',\n '190466102',\n '38646320',\n '165826715',\n '140895285',\n '70284129',\n '65258010',\n '133830780',\n '75129377',\n '142933447',\n '154201637',\n '179689852',\n '186567476',\n '192785029',\n '7269826',\n '188459840',\n '188459101',\n '188459848',\n '189747938',\n '189747944',\n '188459089',\n '188318189',\n '179977809',\n '189294877',\n '157004889',\n '189083939',\n '189083942',\n '181003829',\n '188318177',\n '188459086',\n '157004906',\n '189083932',\n '188818446',\n '189294853',\n '185331541',\n '186731208',\n '188318188',\n '182771477',\n '189294855',\n '188318173',\n '164375951',\n '164375924',\n '204198534',\n '98623560',\n '3048500',\n '175394555',\n '44552766',\n '148366781',\n '38408968',\n '41293352',\n '188909301',\n '14745547',\n '75166429',\n '189747925',\n '54402002',\n '140327737',\n '204196518',\n '98059560',\n '159336389',\n '18670904',\n '76382557',\n '14557116',\n '177638974',\n '115822784',\n '180938376',\n '180938375',\n '124041930',\n '40467793',\n '198255764',\n '198247568',\n '50892814',\n '48649889',\n '196776047',\n '140833257',\n '3302070',\n '37532436',\n '3239135',\n '189705941',\n '19434932',\n '8834076',\n '4234262',\n '34729766',\n '25961235',\n '7394808',\n '12570368',\n '37542037',\n '50670403',\n '42938513',\n '99998757',\n '51618049',\n '75375222',\n '33917557',\n '115827658',\n '37585652',\n '81353893',\n '99680608',\n '19424089',\n '10232269',\n '16202150',\n '70398336',\n '37580788',\n '16202140',\n '11891703',\n '17276147',\n '2125899',\n '4752709',\n '3048499',\n '10232262',\n '5419922',\n '14175386',\n '66868926',\n '152115144',\n '28321991',\n '92569329',\n '17825071',\n '137714940',\n '172054778',\n '144826834',\n '27206725',\n '11311916',\n '65159001',\n '19424105',\n '27993054',\n '2070779',\n '137744886',\n '27577951',\n '13141099',\n '143755733',\n '28687786',\n '114476058',\n '5078593',\n '180415510',\n '13141110',\n '14088780',\n '167766510',\n '81491598',\n '76433213',\n '189706462',\n '4234268',\n '5920020',\n '119799240',\n '14088781',\n '159820939',\n '38412507',\n '51618048',\n '37528583',\n '149898783',\n '19424169',\n '4304500',\n '151156544',\n '141079824',\n '138237891',\n '30955825',\n '91284850',\n '150416784',\n '33019369',\n '28703404',\n '140833422',\n '37831305',\n '16300243',\n '206797995',\n '187211330',\n '100012150',\n '160362765',\n '16151702',\n '66124277',\n '16202148',\n '4234264',\n '170549761',\n '151670013',\n '17856338',\n '45490878',\n '49248582',\n '3026660',\n '5079842',\n '29486724',\n '6463428',\n '10232260',\n '2070785',\n '140303648',\n '120723039',\n '44703972',\n '149811539',\n '16202149',\n '7950770',\n '152544062',\n '125916208',\n '62601031',\n '160701353',\n '184532580',\n '149726154',\n '140232117',\n '18670906',\n '152721281',\n '147122989',\n '90324531',\n '8778855',\n '53422172',\n '39344371',\n '139973568',\n '76382558',\n '169689345',\n '10232266',\n '110406554',\n '72774307',\n '70398335',\n '42602863',\n '28499023',\n '53565416',\n '30823783',\n '66370519',\n '62910838',\n '180934425',\n '14168244',\n '168208902',\n '10144964',\n '149044297',\n '171376782',\n '37582125',\n '152931698',\n '10232270',\n '10144967',\n '13656701',\n '37561353',\n '28689312',\n '77220773',\n '5137214',\n '90324537',\n '90325492',\n '136975491',\n '28690966',\n '147123007',\n '81324463',\n '200609864',\n '191282891',\n '200604314',\n '191276954',\n '200609868',\n '53265179',\n '200609915',\n '37580093',\n '170549920',\n '37558336',\n '19459319',\n '147122998',\n '170549746',\n '99942976',\n '144830224',\n '72359846',\n '11843192',\n '44556110',\n '19459324',\n '8149506',\n '10514561',\n '75421834',\n '172078407',\n '90168479',\n '15073182',\n '17825070',\n '3797210',\n '44557258',\n '76426475',\n '135541479',\n '153984106',\n '134659186',\n '184546612',\n '28007827',\n '184560502',\n '60371365',\n '14168250',\n '10232263',\n '179633124',\n '185025018',\n '42603086',\n '174784019',\n '3620191',\n '14558751',\n '91938457',\n '104157194',\n '137971077',\n '13643815',\n '119997500',\n '98623561',\n '151824236',\n '145320271',\n '151439971',\n '10523568',\n '119996593',\n '154252969',\n '114066182',\n '144181997',\n '144654735',\n '10475069',\n '2396100',\n '171373791',\n '123315576',\n '149965532',\n '149965522',\n '154764227',\n '154764243',\n '158851773',\n '177676290',\n '72352316',\n '37531353',\n '195350717',\n '12625782',\n '168824022',\n '14088786',\n '12570382',\n '3072886',\n '195341545',\n '5839439',\n '4282490',\n '12695337',\n '2760702',\n '5676143',\n '6700405',\n '4304503',\n '4234260',\n '3026659',\n '19459323',\n '182712009',\n '19938100',\n '18670905',\n '30826979',\n '28318642',\n '144830222',\n '161849714',\n '28692879',\n '186683109',\n '183024866',\n '152953756',\n '171381397',\n '157955177',\n '114476059',\n '164381089',\n '9504373',\n '186567498',\n '53325614',\n '99798317',\n '14088785',\n '16008285',\n '149776238',\n '39344382',\n '10720518',\n '26268701',\n '157004904',\n '164708323',\n '207523407',\n '141724415',\n '139972239',\n '120816808',\n '138670705',\n '170852255',\n '170656100',\n '87135923',\n '197300230',\n '17618265',\n '7696026',\n '135541480',\n '26062746',\n '211937735',\n '201330258',\n '197917388',\n '197917400',\n '12695584',\n '15054974',\n '182712012',\n '186815318',\n '183808796',\n '197917398',\n '15296365',\n '168678377',\n '12372837',\n '182724241',\n '39344383',\n '26951568',\n '94952820',\n '173095272',\n '53265181',\n '202658930',\n '164381076',\n '86188928',\n '177702432',\n '119996594',\n '171435061',\n '118780546',\n '177681224',\n '201338321',\n '159539287',\n '3239134',\n '186814670',\n '171379115',\n '203504108',\n '10523570',\n '166948834',\n '14069081',\n '81301247',\n '98032868',\n '9415712',\n '143303296',\n '37537686',\n '2724059',\n '10523571',\n '202658934',\n '28321225',\n '197917390',\n '87358785',\n '177647744',\n '6959439',\n '177402227',\n '212731558',\n '188318195',\n '12014675',\n '196406341',\n '196412015',\n '10433802',\n '212751978',\n '122842543',\n '188729897',\n '212731547',\n '53472430',\n '202658951',\n '170379608',\n '212731549',\n '12625785',\n '188459080',\n '185721187',\n '28499019',\n '182709624',\n '12570373',\n '206797277',\n '190859576',\n '125168028',\n '29606147',\n '13658527',\n '203147049',\n '5074292',\n '175738795',\n '94952824',\n '9504347',\n '94952830',\n '203147019',\n '185772326',\n '12916723',\n '9661983',\n '11460367',\n '11460368',\n '94952815',\n '94952803',\n '91265435',\n '138992836',\n '19478828',\n '11460366',\n '32757242',\n '210920074',\n '94952816',\n '12562567',\n '182712020',\n '215237758',\n '197917403',\n '217847916',\n '139206854',\n '94952818',\n '14069080',\n '140298043',\n '211873299',\n '94952823',\n '53327010',\n '156112850',\n '182746910',\n '207813977',\n '170656449',\n '14069075',\n '211486086',\n '174783868',\n '36361915',\n '135842313',\n '137731824',\n '178971438',\n '140133440',\n '11278775',\n '41322462',\n '14069083',\n '145188306',\n '85662700',\n '185773425',\n '14069085',\n '146267425',\n '32958058',\n '13656699',\n '111756522',\n '202658950',\n '14069084',\n '9507128',\n '186616446',\n '146267811',\n '76723659',\n '8778861',\n '12651551',\n '141224504',\n '27702650',\n '97964415',\n '15296363',\n '196720079',\n '99789994',\n '19478827',\n '195783214',\n '14069076',\n '9507129',\n '179977788',\n '85655914',\n '117936154',\n '85659708',\n '197917401',\n '14175387',\n '140323983',\n '51618050',\n '143797817',\n '211933037',\n '41325467',\n '10433808',\n '207813947',\n '11843170',\n '140663910',\n '94952817',\n '27577919',\n '197917409',\n '211945732',\n '177689232',\n '9507127',\n '94952821',\n '190466110',\n '64242105',\n '27577965',\n '17923905',\n '27577938',\n '190466097',\n '39838197',\n '147509152',\n '190466094',\n '155705780',\n '196148559',\n '32954267',\n '152009305',\n '16318290',\n '16318289',\n '16318288',\n '99940420',\n '177672528',\n '8140281',\n '48649281',\n '8140280',\n '197917410',\n '140750543',\n '152737474',\n '186819148',\n '114544273',\n '164381077',\n '72359860',\n '158443583',\n '64045884',\n '201388436',\n '173996334',\n '168303391',\n '17045718',\n '10144965',\n '184119975',\n '76432334',\n '76433214',\n '141079831',\n '72359855',\n '42936218',\n '148498299',\n '165042852',\n '43362714',\n '180098108',\n '86187061',\n '89136848',\n '153984109',\n '188904426',\n '168302758',\n '19097274',\n '14745550',\n '4234134',\n '7528661',\n '4000440',\n '179689853',\n '186567494',\n '65159013',\n '4752706',\n '189747905',\n '189747918',\n '14175382',\n '189083914',\n '188818454',\n '125916209',\n '16151696',\n '182712018',\n '197917402',\n '180950795',\n '188318190',\n '10523575',\n '188505254',\n '188459085',\n '188505260',\n '181003824',\n '182746907',\n '185025021',\n '188455786',\n '181003826',\n '189083906',\n '186616445',\n '8858191',\n '188459097',\n '179977783',\n '28499028',\n '185025034',\n '188818451',\n '189083937',\n '189083900',\n '189083940',\n '186731236',\n '185331506',\n '180877944',\n '189294839',\n '164251403',\n '189083938',\n '189692220',\n '157004884',\n '188818442',\n '157004891',\n '189083904',\n '183024883',\n '189294831',\n '157004886',\n '179977805',\n '185331510',\n '189294869',\n '189083935',\n '157004885',\n '189083930',\n '179977806',\n '147122997',\n '94920990',\n '60596952',\n '76433348',\n '170822754',\n '195274122',\n '180144542',\n ...]"
     },
     "execution_count": 16,
     "metadata": {},
     "output_type": "execute_result"
    }
   ],
   "source": [
    "arts"
   ],
   "metadata": {
    "collapsed": false,
    "ExecuteTime": {
     "end_time": "2024-03-22T12:49:05.632024Z",
     "start_time": "2024-03-22T12:49:05.616304Z"
    }
   },
   "id": "5fbf385d642a562a",
   "execution_count": 16
  },
  {
   "cell_type": "markdown",
   "source": [
    "Собираем инфу с карточки товара"
   ],
   "metadata": {
    "collapsed": false
   },
   "id": "416c25b11360f65"
  },
  {
   "cell_type": "code",
   "outputs": [
    {
     "name": "stderr",
     "output_type": "stream",
     "text": [
      "100%|██████████| 2756/2756 [05:46<00:00,  7.95it/s]\n"
     ]
    }
   ],
   "source": [
    "for link in tqdm(arts):\n",
    "    group = np.nan\n",
    "    name = np.nan\n",
    "    weight = np.nan\n",
    "    lock_type = np.nan\n",
    "    metal = np.nan\n",
    "    insert = np.nan\n",
    "    competitor = np.nan\n",
    "    i = 0\n",
    "    if int(link)//100000>spis[-1]:\n",
    "        i = len(spis)\n",
    "    else:\n",
    "        while int(link)//100000 > spis[i]:\n",
    "            i += 1\n",
    "    i += 1\n",
    "    if i < 10:\n",
    "        i = \"0\"+str(i)\n",
    "    current_link = f'https://basket-{i}.wbbasket.ru/vol{int(link)//100000}/part{int(link)//1000}/{link}/info/ru/card.json'\n",
    "    try:\n",
    "        basket = requests.get(current_link, verify=False, timeout=30).json()\n",
    "    except:\n",
    "        time.sleep(60)\n",
    "        basket = requests.get(current_link, verify=False, timeout=30).json()\n",
    "    try:\n",
    "        competitor = basket['selling']['brand_name']\n",
    "    except:\n",
    "        pass\n",
    "    try:\n",
    "        name = basket['imt_name'].lower()\n",
    "    except:\n",
    "        pass\n",
    "    try:\n",
    "        match basket['subj_name']:\n",
    "            case \"Ювелирные браслеты\": group = \"ЦБ БРАСЛЕТЫ\"\n",
    "            case \"Ювелирные цепочки\": group = \"ЦБ ЦЕПИ\"\n",
    "            case \"Ювелирные кольца\": group = \"КОЛЬЦА\"\n",
    "            case \"Ювелирные подвески\": group = \"ПОДВЕС\"\n",
    "            case \"Ювелирные серьги\": group = \"СЕРЬГИ\"\n",
    "    except:\n",
    "        pass\n",
    "    try:\n",
    "        for option in basket['options']:\n",
    "            if option['name'] == 'Минимальный вес (г)':\n",
    "                weight = float(option['value'].replace('г',''))\n",
    "            elif option['name'] == 'Вставка':\n",
    "                insert = option['value']\n",
    "            elif option['name'] == 'Вид замка':\n",
    "                lock_type = option['value']\n",
    "            elif option['name'] == 'Состав ювелирного изделия':\n",
    "                metal = option['value']\n",
    "    except:\n",
    "        pass\n",
    "    try:\n",
    "        for option in basket['grouped_options'][0]['options']:\n",
    "            if option['name'] == 'Минимальный вес (г)':\n",
    "                weight = float(option['value'].replace('г',''))\n",
    "            elif option['name'] == 'Вставка':\n",
    "                insert = option['value']\n",
    "            elif option['name'] == 'Вид замка':\n",
    "                lock_type = option['value']\n",
    "            elif option['name'] == 'Состав ювелирного изделия':\n",
    "                metal = option['value'].lower()\n",
    "    except:\n",
    "        pass\n",
    "    try:\n",
    "        if np.isnan(weight) and group in [\"ЦБ БРАСЛЕТЫ\",\"ЦБ ЦЕПИ\"]:\n",
    "            weight = float(bracs(link))\n",
    "    except:\n",
    "        pass\n",
    "    try:\n",
    "        if group == \"ЦБ ЦЕПИ\":\n",
    "            for option in basket['options']:\n",
    "                if 'плетен' in option['name']:\n",
    "                    lock_type = option['value']\n",
    "    except:\n",
    "        pass\n",
    "    try:\n",
    "        if group == \"ЦБ ЦЕПИ\":\n",
    "            for option in basket['grouped_options'][0]['options']:\n",
    "                if 'плетен' in option['name']:\n",
    "                    lock_type = option['value']\n",
    "    except:\n",
    "        pass\n",
    "    date.append(datetime.date.today())\n",
    "    weights.append(weight)\n",
    "    inserts.append(insert)\n",
    "    metals.append(metal)\n",
    "    locks.append(lock_type)\n",
    "    competitors.append(competitor)\n",
    "    names.append(name)\n",
    "    groups.append(group)"
   ],
   "metadata": {
    "collapsed": false,
    "ExecuteTime": {
     "end_time": "2024-03-22T12:54:58.501864Z",
     "start_time": "2024-03-22T12:49:11.634604Z"
    }
   },
   "id": "b2450bf895259a08",
   "execution_count": 17
  },
  {
   "cell_type": "markdown",
   "source": [
    "Условие для парсинга размеров"
   ],
   "metadata": {
    "collapsed": false
   },
   "id": "3335974f36ed6836"
  },
  {
   "cell_type": "code",
   "outputs": [],
   "source": [
    "if group == \"ЦБ ЦЕПИ\" or group ==\"ЦБ БРАСЛЕТЫ\" or group == \"КОЛЬЦА\":\n",
    "    strsize = input('Вас интересует размер? [y/n]')\n",
    "    if strsize.lower() in ['yes','y','д','да']:\n",
    "        parsesize = True"
   ],
   "metadata": {
    "collapsed": false,
    "ExecuteTime": {
     "end_time": "2024-03-22T12:55:05.189594Z",
     "start_time": "2024-03-22T12:55:02.779584Z"
    }
   },
   "id": "c6bae09917086c4a",
   "execution_count": 18
  },
  {
   "cell_type": "markdown",
   "source": [
    "Парсинг размеров"
   ],
   "metadata": {
    "collapsed": false
   },
   "id": "e514db2f7a8c5cb1"
  },
  {
   "cell_type": "code",
   "outputs": [],
   "source": [
    "if parsesize:\n",
    "    artsizes = list()\n",
    "    for link in tqdm(arts):\n",
    "        artsize = list()\n",
    "        url =f'https://card.wb.ru/cards/v2/detail?appType=1&curr=rub&dest=-1257786&spp=30&nm={link}'\n",
    "        try:\n",
    "            sizes = requests.get(url, verify=False, timeout=30).json()\n",
    "        except:\n",
    "            artsizes.append(np.nan)\n",
    "        try:\n",
    "            for option in sizes['data']['products'][0]['sizes']:\n",
    "                if len(option['stocks'])>0:\n",
    "                    size = option['origName']\n",
    "                    or1 = float(size.replace(\",\",\".\").replace(\"+\",\"\"))\n",
    "                    if (or1 > 10) and (or1 < 100): \n",
    "                        artsize.append(or1)\n",
    "                    try:\n",
    "                        or1 = size[:size.find(\"-\")]\n",
    "                        or2 = size[size.find(\"-\")+1:]\n",
    "                        if or1< 100 and or2 <100 and or1>10 and or2>10:\n",
    "                            for i in range(or1,or2+1):\n",
    "                                artsize.append(i)\n",
    "                    except:\n",
    "                        pass\n",
    "        except:\n",
    "            pass\n",
    "        artsizes.append(artsize)"
   ],
   "metadata": {
    "collapsed": false,
    "ExecuteTime": {
     "end_time": "2024-03-22T12:55:08.101558Z",
     "start_time": "2024-03-22T12:55:08.092454Z"
    }
   },
   "id": "382119f9b79f63e7",
   "execution_count": 19
  },
  {
   "cell_type": "markdown",
   "source": [
    "Проверка на тип колец"
   ],
   "metadata": {
    "collapsed": false
   },
   "id": "254c6e93d5ecf6ce"
  },
  {
   "cell_type": "code",
   "outputs": [],
   "source": [
    "if group == \"КОЛЬЦА\":\n",
    "    mar = str(input('Вас интересуют обручальные кольца? [y/n]'))\n",
    "    if len(mar.lower()) > 0 and mar not in ['да','yes','д','y']:\n",
    "        married = False"
   ],
   "metadata": {
    "collapsed": false,
    "ExecuteTime": {
     "end_time": "2024-03-22T12:55:11.579733Z",
     "start_time": "2024-03-22T12:55:11.575100Z"
    }
   },
   "id": "14be56f31c76485c",
   "execution_count": 20
  },
  {
   "cell_type": "markdown",
   "source": [
    "Данные в датасет"
   ],
   "metadata": {
    "collapsed": false
   },
   "id": "93da2ff231ce82f9"
  },
  {
   "cell_type": "code",
   "outputs": [],
   "source": [
    "if parsesize:\n",
    "    result = pd.DataFrame({'data': date,\n",
    "                       'competitor': competitors,\n",
    "                       'name': names,\n",
    "                       'group': groups,\n",
    "                       'weight': weights,\n",
    "                       'price': prices,\n",
    "                       'price_old': po,\n",
    "                       'discount': discount,\n",
    "                       'insert': inserts,\n",
    "                       'metal': metals,\n",
    "                       'lock': locks,\n",
    "                       'article': arts,\n",
    "                       'sizes': artsizes})\n",
    "else:\n",
    "    result = pd.DataFrame({'data': date,\n",
    "                       'competitor': competitors,\n",
    "                       'name': names,\n",
    "                       'group': groups,\n",
    "                       'weight': weights,\n",
    "                       'price': prices,\n",
    "                       'price_old': po,\n",
    "                       'discount': discount,\n",
    "                       'insert': inserts,\n",
    "                       'metal': metals,\n",
    "                       'lock': locks,\n",
    "                       'article': arts})"
   ],
   "metadata": {
    "collapsed": false,
    "ExecuteTime": {
     "end_time": "2024-03-22T12:55:14.537581Z",
     "start_time": "2024-03-22T12:55:14.511310Z"
    }
   },
   "id": "370ae019b77c43ea",
   "execution_count": 21
  },
  {
   "cell_type": "code",
   "outputs": [
    {
     "name": "stdout",
     "output_type": "stream",
     "text": [
      "<class 'pandas.core.frame.DataFrame'>\n",
      "RangeIndex: 2756 entries, 0 to 2755\n",
      "Data columns (total 12 columns):\n",
      " #   Column      Non-Null Count  Dtype  \n",
      "---  ------      --------------  -----  \n",
      " 0   data        2756 non-null   object \n",
      " 1   competitor  2670 non-null   object \n",
      " 2   name        2750 non-null   object \n",
      " 3   group       2756 non-null   object \n",
      " 4   weight      2565 non-null   float64\n",
      " 5   price       2756 non-null   int32  \n",
      " 6   price_old   2756 non-null   object \n",
      " 7   discount    2756 non-null   float64\n",
      " 8   insert      2412 non-null   object \n",
      " 9   metal       2702 non-null   object \n",
      " 10  lock        2467 non-null   object \n",
      " 11  article     2756 non-null   object \n",
      "dtypes: float64(2), int32(1), object(9)\n",
      "memory usage: 247.7+ KB\n",
      "None\n"
     ]
    }
   ],
   "source": [
    "result['price'] = result['price'].astype('int')\n",
    "print(result.info())"
   ],
   "metadata": {
    "collapsed": false,
    "ExecuteTime": {
     "end_time": "2024-03-22T12:55:17.165971Z",
     "start_time": "2024-03-22T12:55:17.151147Z"
    }
   },
   "id": "b8de750982cdba2d",
   "execution_count": 22
  },
  {
   "cell_type": "code",
   "outputs": [],
   "source": [
    "result2 = result"
   ],
   "metadata": {
    "collapsed": false,
    "ExecuteTime": {
     "end_time": "2024-03-22T13:10:08.521165Z",
     "start_time": "2024-03-22T13:10:08.514746Z"
    }
   },
   "id": "7ffd667efa42a075",
   "execution_count": 28
  },
  {
   "cell_type": "code",
   "outputs": [
    {
     "data": {
      "text/plain": "competitor\nSOKOLOV                        402\nGOLD CENTER                    215\nРадуга...                      148\nMostar Jewellery               112\nPLATINA                        103\n                              ... \nЗОЛОТО АЛЕКСАНДРА ВАСИЛЬЕВА      1\nConstantine Filatov              1\nO! JEWELRY                       1\nCONTESSA J                       1\nLovenda Gold                     1\nName: count, Length: 145, dtype: int64"
     },
     "execution_count": 29,
     "metadata": {},
     "output_type": "execute_result"
    }
   ],
   "source": [
    "result2 = result2[result2['weight']>0]\n",
    "result2['competitor'].value_counts()"
   ],
   "metadata": {
    "collapsed": false,
    "ExecuteTime": {
     "end_time": "2024-03-22T13:10:12.296039Z",
     "start_time": "2024-03-22T13:10:12.283173Z"
    }
   },
   "id": "3f175b29b9766bc",
   "execution_count": 29
  },
  {
   "cell_type": "markdown",
   "source": [
    "Работа с данными"
   ],
   "metadata": {
    "collapsed": false
   },
   "id": "a5de7c76adf1ff43"
  },
  {
   "cell_type": "code",
   "outputs": [],
   "source": [
    "groupdf = list()\n",
    "ii = list()\n",
    "avprice = list()\n",
    "insertgroup = list()\n",
    "charmgr = list()\n",
    "for i in range(len(result)):\n",
    "    if np.isnan(result.iloc[i]['weight']):\n",
    "        result.at[i, 'weight'] = \"Нет веса\"\n",
    "resultout = result[result['weight'] == \"Нет веса\"]\n",
    "result = result.drop(result[\"каучук\" in result['insert'] or \"жемчуг\" in result['insert'] or \"серебро\" in result['metal'] or \"каучук\" in result['metal'] or \"жемчуг\" in result['metal'] or result['weight'] == \"Нет веса\"].index)\n",
    "avgpr = result['price']/result['weight'].astype(float)\n",
    "result.insert(loc=len(result.columns),column='Price per gramm',value=avgpr)\n",
    "# result = result.drop(result[result['Price per gramm']<3000].index)\n",
    "cat = np.where(result['Price per gramm']<=5500, \"до 5500\",\n",
    "        np.where(\n",
    "        (result['Price per gramm'] <= 6000), '5 500 руб. - 6 000 руб.',\n",
    "        np.where(\n",
    "        (result['Price per gramm'] <= 6500), '6 000 руб. - 6 500 руб.',\n",
    "        np.where(\n",
    "        (result['Price per gramm'] <= 7000), '6 500 руб. - 7 000 руб.',\n",
    "        np.where(\n",
    "        (result['Price per gramm'] <= 8000), '7 000 руб. - 8 000 руб.',\n",
    "        np.where(\n",
    "        (result['Price per gramm'] <= 9000), '8 000 руб. - 9 000 руб.',\n",
    "        np.where(\n",
    "        (result['Price per gramm'] <= 10000), '9 000 руб. -10 000 руб.',  'свыше 10 000 руб.'\n",
    "        )))))))\n",
    "result.insert(loc=len(result.columns),column='group_price',value=cat)"
   ],
   "metadata": {
    "collapsed": false,
    "ExecuteTime": {
     "end_time": "2024-03-22T12:56:36.398417Z",
     "start_time": "2024-03-22T12:56:36.186362Z"
    }
   },
   "id": "df75c586f7d71ec3",
   "execution_count": 26
  },
  {
   "cell_type": "code",
   "outputs": [
    {
     "data": {
      "text/plain": "competitor\nISTAMBULGOLD                  42\nAmorem                        24\nотличный                      11\nTurkeyGold                     9\nЮвелирная Компания Палитра     8\nЮВЭЛДИ                         5\nGOLD CENTER                    5\nAluaShop                       4\nSOKOLOV                        4\nAsemShop                       3\nBUT!JEWELS                     3\nОтличный                       3\nНариман                        2\nAzade                          2\nDiamdor                        2\nЮТД МАЙ                        2\nMadoff                         2\nSLAVA GORSHKOV jewelry         2\nIQ Diamonds                    2\nMostar Jewellery               1\nРусские самоцветы              1\nИдрисова                       1\nKrastsvetmet                   1\nСибзолото                      1\nDINASTIA.GOLD                  1\nDIA                            1\nName: count, dtype: int64"
     },
     "execution_count": 27,
     "metadata": {},
     "output_type": "execute_result"
    }
   ],
   "source": [
    "resultout['competitor'].value_counts()"
   ],
   "metadata": {
    "collapsed": false,
    "ExecuteTime": {
     "end_time": "2024-03-22T12:56:37.733009Z",
     "start_time": "2024-03-22T12:56:37.724969Z"
    }
   },
   "id": "75bc6d26e1557cbf",
   "execution_count": 27
  },
  {
   "cell_type": "markdown",
   "source": [
    "Определяемся с категорией товарам и направлением"
   ],
   "metadata": {
    "collapsed": false
   },
   "id": "943986ae2b9becf3"
  },
  {
   "cell_type": "code",
   "outputs": [],
   "source": [
    "for i in tqdm(range(0,len(result))):\n",
    "    insertgroup.append(\"\")\n",
    "    inss = str(result.iloc[i]['insert']).split(';')\n",
    "    for ins in inss:\n",
    "        ins = str(ins).strip().lower()\n",
    "        if ins == \"бриллиант\" or ins == \"сапфир\" or ins ==\"рубин\" or ins == \"изумруд\" or ins == \"бриллиант натуральный\" or ins == \"сапфир натуральный\" or ins == \"рубин натуральный\" or ins == \"изумруд натуральный\" or ins ==\"бриллианты\":\n",
    "            insertgroup[-1] = \"ДК\"\n",
    "            charmgr.append('ДК')\n",
    "            break\n",
    "        elif ins == \"фианит\" or ins == \"бриллиант искусственный\" or ins == \"бриллиант выращенный\" or ins ==\"бриллианит\" or ins == \"бриллиант синтетический\" or \"фианит\" in str(result.iloc[i]['insert']).lower():\n",
    "            insertgroup[-1] = \"ИФ\"\n",
    "        elif \"нет\" in ins or \"без\" in ins or  str(result.iloc[i]['insert']).lower().strip() == \"золото\" or str(result.iloc[i]['insert']).lower() == \"эмаль\" or ins == \"nan\":\n",
    "            insertgroup[-1] = \"БК\"\n",
    "            charmgr.append('БК')\n",
    "            break\n",
    "        elif \"бр\" in ins and \"искусственный\" not in str(result.iloc[i]['insert']).lower() and \"выращенный\" not in str(result.iloc[i]['insert']).lower() and \"синтетический\" not in str(result.iloc[i]['insert']).lower():\n",
    "            insertgroup[-1] = \"ДК\"\n",
    "            charmgr.append('ДК')\n",
    "            break\n",
    "        elif insertgroup[-1] != \"ИФ\":\n",
    "            insertgroup[-1] = \"ПДК\"\n",
    "    if insertgroup[-1] in ['ИФ', 'ПДК']:\n",
    "        charmgr.append('ПДК')\n",
    "    if result.iloc[i]['group'] == \"ПОДВЕС\" and insertgroup[-1] in ['БК','ИФ']:\n",
    "        insertgroup[-1] = insertgroup[-1] + \" \" + result.iloc[i]['group'] + \" \" + charms(i)\n",
    "    elif result.iloc[i]['group'] == \"ПОДВЕС\":\n",
    "        insertgroup[-1] = insertgroup[-1] + \" \" + result.iloc[i]['group']\n",
    "    elif result.iloc[i]['group'] == \"СЕРЬГИ\":\n",
    "        insertgroup[-1] = insertgroup[-1] + \" \" + result.iloc[i]['group']\n",
    "    elif result.iloc[i]['group'] in ['ЦБ ЦЕПИ', 'ЦБ БРАСЛЕТЫ']:\n",
    "        insertgroup[-1] = result.iloc[i]['group']\n",
    "        charmgr[-1] = \"ЦБ\"\n",
    "    elif result.iloc[i]['group'] == \"КОЛЬЦА\" and married:\n",
    "        insertgroup[-1] = insertgroup[-1] + \" \" + result.iloc[i]['group'] + \" \" + \"ОБРУЧ\"\n",
    "    elif result.iloc[i]['group'] == \"КОЛЬЦА\":\n",
    "        insertgroup[-1] = insertgroup[-1] + \" \" + result.iloc[i]['group']\n",
    "    else:\n",
    "        ii.append(i)\n",
    "        charmgr.pop()\n",
    "if len(ii)>0:\n",
    "    result= result.drop(labels=ii,axis=0)\n",
    "result.insert(loc=len(result.columns),column='product_group(ТГ)',value=insertgroup)\n",
    "result.insert(loc=len(result.columns),column='product_direction(ТН)',value=charmgr)"
   ],
   "metadata": {
    "collapsed": false
   },
   "id": "7a62023c43ed8751",
   "execution_count": null
  },
  {
   "cell_type": "code",
   "outputs": [],
   "source": [
    "result"
   ],
   "metadata": {
    "collapsed": false
   },
   "id": "e348f7c428f89d80",
   "execution_count": null
  },
  {
   "cell_type": "markdown",
   "source": [
    "Расписываем серьги "
   ],
   "metadata": {
    "collapsed": false
   },
   "id": "e9a3caae6a179cb5"
  },
  {
   "cell_type": "code",
   "outputs": [],
   "source": [
    "for i in tqdm(result.index):\n",
    "    if result.at[i, 'group'] == \"СЕРЬГИ\":\n",
    "        if \"англ\" in str(result.at[i, 'lock']).lower() or \"нгл\" in str(result.at[i, 'lock']).lower():\n",
    "            result.at[i, 'lock'] = \"английский\"\n",
    "        elif \"франц\" in str(result.at[i, 'lock']).lower() or \"зск\" in str(result.at[i, 'lock']).lower():\n",
    "            result.at[i, 'lock'] = \"французский\"\n",
    "        elif \"штиф\" in str(result.at[i, 'lock']).lower() or \"фтов\" in str(result.at[i, 'lock']).lower():\n",
    "            result.at[i, 'lock'] = \"штифтовой\"\n",
    "        elif \"конг\" in str(result.at[i, 'lock']).lower():\n",
    "            result.at[i, 'lock'] = \"конго\"\n",
    "        elif \"винт\" in str(result.at[i, 'lock']).lower():\n",
    "            result.at[i, 'lock'] = \"винтовой\"\n",
    "        elif \"зажим\" in str(result.at[i, 'lock']).lower():\n",
    "            result.at[i, 'lock'] = \"зажим\"\n",
    "        elif \"петля\" in str(result.at[i, 'lock']).lower():\n",
    "            result.at[i, 'lock'] = \"петля\"\n",
    "        elif \"прот\" in str(result.at[i, 'lock']).lower():\n",
    "            result.at[i, 'lock'] = \"протяжки\"\n",
    "        elif \"пус\" in str(result.at[i, 'lock']).lower():\n",
    "            result.at[i, 'lock'] = \"пуссеты\"\n",
    "        elif \"прод\" in str(result.at[i, 'lock']).lower():\n",
    "            result.at[i, 'lock'] = \"продевки\"\n",
    "        elif \"без\" in str(result.at[i, 'lock']).lower():\n",
    "            result.at[i, 'lock'] = \"без застежки\"\n",
    "        else:\n",
    "            result.at[i, 'lock'] = \"неопределенно\""
   ],
   "metadata": {
    "collapsed": false
   },
   "id": "356d0f2d6e8bdb11",
   "execution_count": null
  },
  {
   "cell_type": "markdown",
   "source": [
    "Расписываем цепи"
   ],
   "metadata": {
    "collapsed": false
   },
   "id": "2ea67b68b2241808"
  },
  {
   "cell_type": "code",
   "outputs": [],
   "source": [
    "for i in tqdm(result.index):\n",
    "    if result.at[i, 'group'] == \"ЦБ ЦЕПИ\":\n",
    "        if \"ром\" in str(result.at[i, 'lock']).lower() and \"двой\" in str(result.at[i, 'lock']).lower():\n",
    "            result.at[i, 'lock'] = \"ромб двойной\"\n",
    "        elif \"ром\" in str(result.at[i, 'lock']).lower() and \"трой\" in str(result.at[i, 'lock']).lower():\n",
    "            result.at[i, 'lock'] = \"ромб тройной\"\n",
    "        elif \"ром\" in str(result.at[i, 'lock']).lower():\n",
    "            result.at[i, 'lock'] = \"ромб\"\n",
    "        elif \"бис\" in str(result.at[i, 'lock']).lower() or \"марк\" in str(result.at[i, 'lock']).lower():\n",
    "            result.at[i, 'lock'] = \"бисмарк\"\n",
    "        elif \"нон\" in str(result.at[i, 'lock']).lower():\n",
    "            result.at[i, 'lock'] = \"нонна\"\n",
    "        elif \"якор\" in str(result.at[i, 'lock']).lower():\n",
    "            result.at[i, 'lock'] = \"якорь\"\n",
    "        elif \"панц\" in str(result.at[i, 'lock']).lower() or \"цирь\" in str(result.at[i, 'lock']).lower():\n",
    "            result.at[i, 'lock'] = \"панцирь\"\n",
    "        elif \"синг\" in str(result.at[i, 'lock']).lower() or \"апур\" in str(result.at[i, 'lock']).lower():\n",
    "            result.at[i, 'lock'] = \"сингапур\"\n",
    "        elif \"лав\" in str(result.at[i, 'lock']).lower() or \"лов\" in str(result.at[i, 'lock']).lower() or \"lov\" in str(result.at[i, 'lock']).lower():\n",
    "            result.at[i, 'lock'] = \"лав\"\n",
    "        elif \"тонд\" in str(result.at[i, 'lock']).lower():\n",
    "            result.at[i, 'lock'] = \"тондо\"\n",
    "        elif \"фанта\" in str(result.at[i, 'lock']).lower():\n",
    "            result.at[i, 'lock'] = \"фантазия\"\n",
    "        elif \"рол\" in str(result.at[i, 'lock']).lower():\n",
    "            result.at[i, 'lock'] = \"ролло\"\n",
    "        elif \"рол\" in str(result.at[i, 'lock']).lower():\n",
    "            result.at[i, 'lock'] = \"ролло\"\n",
    "        elif \"фига\" in str(result.at[i, 'lock']).lower():\n",
    "            result.at[i, 'lock'] = \"фигаро\"\n",
    "        elif \"корд\" in str(result.at[i, 'lock']).lower():\n",
    "            result.at[i, 'lock'] = \"корда\"\n",
    "        elif \"улит\" in str(result.at[i, 'lock']).lower():\n",
    "            result.at[i, 'lock'] = \"улитка\"\n",
    "        elif \"перл\" in str(result.at[i, 'lock']).lower():\n",
    "            result.at[i, 'lock'] = \"перлина\"\n",
    "        elif \"сней\" in str(result.at[i, 'lock']).lower() or \"snak\" in str(result.at[i, 'lock']).lower() or \"змей\" in str(result.at[i, 'lock']).lower():\n",
    "            result.at[i, 'lock'] = \"снейк\"\n",
    "        else:\n",
    "            result.at[i, 'lock'] = \"неопределенно\""
   ],
   "metadata": {
    "collapsed": false
   },
   "id": "ba467a7fced0030d",
   "execution_count": null
  },
  {
   "cell_type": "markdown",
   "source": [
    "Данные в файл на сервер и к себе"
   ],
   "metadata": {
    "collapsed": false
   },
   "id": "130c72fae18deeb1"
  },
  {
   "cell_type": "code",
   "outputs": [],
   "source": [
    "# if parsesize:\n",
    "#   adres = r'\\\\gold585.int\\uk\\Общее хранилище файлов\\Служба аналитики\\МЮР\\tg_tn'.encode().decode('UTF-8')+r'\\wildberries_' + str(datetime.date.today().    day) + \"_\" + str(datetime.date.today().month) + \"_\" + str(datetime.date.today().year)+\"_with_size\"+\".xlsx\"\n",
    "# else:\n",
    "#     adres = r'\\\\gold585.int\\uk\\Общее хранилище файлов\\Служба аналитики\\МЮР\\tg_tn'.encode().decode('UTF-8')+r'\\wildberries_' + str(datetime.date.today().    day) + \"_\" + str(datetime.date.today().month) + \"_\" + str(datetime.date.today().year)+\".xlsx\"\n",
    "# try:\n",
    "#     oldres = pd.read_excel(adres)\n",
    "# except:\n",
    "#     oldres = pd.DataFrame()\n",
    "# oldres = pd.concat([oldres,result],ignore_index=True)\n",
    "# oldres.to_excel(adres, index=False)\n",
    "if parsesize:\n",
    "    adresm = \"wildberries_\"+ str(datetime.date.today().day) + \"_\" + str(datetime.date.today().month) + \"_\" + str(datetime.date.today().year)+\"_with_size\"+\".xlsx\"\n",
    "else:\n",
    "    adresm = \"wildberries_\"+ str(datetime.date.today().day) + \"_\" + str(datetime.date.today().month) + \"_\" + str(datetime.date.today().year)+\".xlsx\"\n",
    "try:\n",
    "    oldresm = pd.read_excel(adresm)\n",
    "except:\n",
    "    oldresm = pd.DataFrame()\n",
    "oldresm = pd.concat([oldresm,result],ignore_index=True)\n",
    "oldresm.to_excel(adresm, index=False)"
   ],
   "metadata": {
    "collapsed": false
   },
   "id": "e76e03fbecb9cfa5",
   "execution_count": null
  },
  {
   "cell_type": "code",
   "outputs": [],
   "source": [
    "res = oldresm[oldresm['group'] == \"СЕРЬГИ\"]\n",
    "if len(res)>0:\n",
    "    print(res['lock'].value_counts())"
   ],
   "metadata": {
    "collapsed": false
   },
   "id": "86f060c4792fef0a",
   "execution_count": null
  },
  {
   "cell_type": "code",
   "outputs": [],
   "source": [
    "res = oldresm[oldresm['group'] == \"ЦБ ЦЕПИ\"]\n",
    "if len(res)>0:\n",
    "    print(res['lock'].value_counts())"
   ],
   "metadata": {
    "collapsed": false
   },
   "id": "c71d43cef020d5b1",
   "execution_count": null
  },
  {
   "cell_type": "markdown",
   "source": [],
   "metadata": {
    "collapsed": false
   },
   "id": "c0d54e87985df984"
  }
 ],
 "metadata": {
  "kernelspec": {
   "display_name": "Python 3",
   "language": "python",
   "name": "python3"
  },
  "language_info": {
   "codemirror_mode": {
    "name": "ipython",
    "version": 2
   },
   "file_extension": ".py",
   "mimetype": "text/x-python",
   "name": "python",
   "nbconvert_exporter": "python",
   "pygments_lexer": "ipython2",
   "version": "2.7.6"
  }
 },
 "nbformat": 4,
 "nbformat_minor": 5
}
