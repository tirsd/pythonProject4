{
 "cells": [
  {
   "cell_type": "markdown",
   "source": [
    "Импорт библиотек"
   ],
   "metadata": {
    "collapsed": false
   },
   "id": "32ce4a82fd8d9255"
  },
  {
   "cell_type": "code",
   "outputs": [],
   "source": [
    "from selenium import webdriver\n",
    "import time\n",
    "import datetime\n",
    "import math\n",
    "from tqdm import tqdm\n",
    "from bs4 import BeautifulSoup as bs\n",
    "import requests\n",
    "import numpy as np\n",
    "import openpyxl\n",
    "import pandas as pd\n",
    "import warnings"
   ],
   "metadata": {
    "collapsed": false,
    "ExecuteTime": {
     "end_time": "2024-03-19T17:08:28.302401Z",
     "start_time": "2024-03-19T17:08:27.447121Z"
    }
   },
   "id": "3cfd914e6d08ccbc",
   "execution_count": 1
  },
  {
   "cell_type": "markdown",
   "source": [
    "Функция для определения типа подвесок"
   ],
   "metadata": {
    "collapsed": false
   },
   "id": "247ec5cbbc700abf"
  },
  {
   "cell_type": "code",
   "outputs": [],
   "source": [
    "def charms (i):\n",
    "    name = str(result.iloc[i]['name'])\n",
    "    if \"крест\" in name or \"христиан\" in name or \"икона\" in name or \"мусульман\" in name or \"спаси\" in name or \"сохрани\" in name or \"месяц\" in name or \"аллах\" in name or \"пророк\" in name or \"будда\" in name or \"отче\" in name or \"молитва\" in name or \"икона\" in name or \"лунниц\" in name or \"ангел\" in name or \"эрцгамм\" in name or \"чудо\" in name or \"фатим\" in name or \"иисус\" in name or \"б.м\" in name or \"давид\" in name or \"матрон\" in name or \"госп\" in name or \"хамс\" in name:\n",
    "        return \"КУЛЬТ\"\n",
    "    else:\n",
    "        return \"ДЕКОР\""
   ],
   "metadata": {
    "collapsed": false,
    "ExecuteTime": {
     "end_time": "2024-03-19T17:08:30.498829Z",
     "start_time": "2024-03-19T17:08:30.469341Z"
    }
   },
   "id": "fcd6966ee217bad6",
   "execution_count": 2
  },
  {
   "cell_type": "markdown",
   "source": [
    "Попытка вытащить вес из карточки по браслетам и цепям"
   ],
   "metadata": {
    "collapsed": false
   },
   "id": "3e9c6ed493101b79"
  },
  {
   "cell_type": "code",
   "outputs": [],
   "source": [
    "def bracs (link):\n",
    "    url =f'https://card.wb.ru/cards/v2/detail?appType=1&curr=rub&dest=-1257786&spp=30&nm={link}'\n",
    "    sizes = requests.get(url, verify=False, timeout=30).json()\n",
    "    try:\n",
    "        r = sizes['data']['products'][0]['sizes'][0]['name']\n",
    "        if r.rfind(\"-\") > -1:\n",
    "            wei = r[r.rfind(\"-\")+1:].strip().lower().replace(\",\",\".\").replace(\"гр.\",\"\").replace(\"гр\",\"\")\n",
    "        elif r.rfind(\"~\") > -1:\n",
    "            wei = r[r.rfind(\"~\")+1:].strip().lower().replace(\",\", \".\").replace(\"гр.\",\"\").replace(\"гр\",\"\")\n",
    "        elif r.rfind(\" \") > -1:\n",
    "            wei = r[r.rfind(\" \")+1:].strip().lower().replace(\",\", \".\").replace(\"гр.\",\"\").replace(\"гр\",\"\")\n",
    "        wei = float(wei)\n",
    "        if wei > 0 and wei < 15:\n",
    "            return wei\n",
    "    except:\n",
    "        return np.nan"
   ],
   "metadata": {
    "collapsed": false,
    "ExecuteTime": {
     "end_time": "2024-03-19T17:08:32.986243Z",
     "start_time": "2024-03-19T17:08:32.976875Z"
    }
   },
   "id": "fd44cc9461b7f43e",
   "execution_count": 3
  },
  {
   "cell_type": "code",
   "outputs": [],
   "source": [
    "married = True\n",
    "parsesize = False\n",
    "warnings.filterwarnings('ignore')\n",
    "links=list()\n",
    "spis = [143, 287, 431, 719, 1007, 1061, 1115, 1169, 1313, 1601, 1655, 1919, 2045, 2189,2405]\n",
    "p=1\n",
    "arts = list()\n",
    "prices = list()\n",
    "po = list()\n",
    "date = list()\n",
    "discount = list()\n",
    "url = str(input('Введите ссылку:'))\n",
    "url1 = url[:url.find(\"page=\")+5]\n",
    "url2 = url[url.find(\"&\", url.find(\"page=\")):]"
   ],
   "metadata": {
    "collapsed": false,
    "ExecuteTime": {
     "end_time": "2024-03-19T17:08:38.298557Z",
     "start_time": "2024-03-19T17:08:36.211281Z"
    }
   },
   "id": "39973b3e8d2e0f6",
   "execution_count": 4
  },
  {
   "cell_type": "markdown",
   "source": [
    "Цикл пагинатор"
   ],
   "metadata": {
    "collapsed": false
   },
   "id": "846654e781bb5ae9"
  },
  {
   "cell_type": "code",
   "outputs": [],
   "source": [
    "mwd = webdriver.Chrome()\n",
    "mwd.maximize_window()\n",
    "while True:\n",
    "    url = url1 + str(p) + url2\n",
    "    mwd.get(url)\n",
    "    time.sleep(1.5)\n",
    "    step = 1900\n",
    "    while True:\n",
    "        step0=step-1900\n",
    "        lh = mwd.execute_script(\"return document.body.scrollHeight\")\n",
    "        mwd.execute_script(f\"window.scrollTo({step0}, {step});\")\n",
    "        time.sleep(1)\n",
    "        nh = mwd.execute_script(\"return document.body.scrollHeight\")\n",
    "        step+=1900\n",
    "        if nh==lh:\n",
    "            break\n",
    "    soup = bs(mwd.page_source, \"html.parser\")\n",
    "    artss =  soup.find_all('article',id=True)\n",
    "    for art in artss:\n",
    "        arts.append(art['data-nm-id'])\n",
    "    for art in artss:\n",
    "        if str(art).find('price__lower-price wallet-price')>0:\n",
    "            prl = art.findNext('ins',attrs={'class':'price__lower-price wallet-price'}).text.strip()[:-2]\n",
    "            if prl.find('\\xa0')>0:\n",
    "                prl = prl.replace('\\xa0','')\n",
    "            prices.append(prl)\n",
    "            po.append(math.ceil(int(prl)/0.95))\n",
    "            discount.append(0.95)\n",
    "        else:\n",
    "            prl = art.findNext('ins',attrs={'class': 'price__lower-price'}).text.strip()[:-2]\n",
    "            if prl.find('\\xa0')>0:\n",
    "                prl = prl.replace('\\xa0','')\n",
    "            prices.append(prl)\n",
    "            po.append(prl)\n",
    "            discount.append(1)\n",
    "    if p == 1:\n",
    "        page_counts = int(soup.find(attrs={'data-link': 'html{spaceFormatted:pagerModel.totalItems}'}).text.replace(' ',''))//100+1\n",
    "    if p == page_counts:\n",
    "        break\n",
    "    p+=1\n",
    "mwd.close()"
   ],
   "metadata": {
    "collapsed": false,
    "ExecuteTime": {
     "end_time": "2024-03-19T17:17:59.596845Z",
     "start_time": "2024-03-19T17:08:41.167616Z"
    }
   },
   "id": "4b855eb3dec338d0",
   "execution_count": 5
  },
  {
   "cell_type": "code",
   "outputs": [],
   "source": [
    "weights = list()\n",
    "inserts = list()\n",
    "metals = list()\n",
    "locks = list()\n",
    "competitors = list()\n",
    "names = list()\n",
    "groups =list()"
   ],
   "metadata": {
    "collapsed": false,
    "ExecuteTime": {
     "end_time": "2024-03-19T17:18:19.459137Z",
     "start_time": "2024-03-19T17:18:19.454652Z"
    }
   },
   "id": "5828fc6e1b26cb94",
   "execution_count": 6
  },
  {
   "cell_type": "code",
   "outputs": [
    {
     "data": {
      "text/plain": "['17641482',\n '35443032',\n '113256091',\n '139434433',\n '140882886',\n '13140596',\n '35495746',\n '7058175',\n '143294405',\n '37695907',\n '140993119',\n '139388358',\n '165282599',\n '152931636',\n '13140637',\n '13140601',\n '17641481',\n '13140598',\n '15877256',\n '163807314',\n '154024696',\n '198341800',\n '134882081',\n '149881588',\n '13140763',\n '140996083',\n '194274972',\n '155146930',\n '147953592',\n '15939685',\n '138797947',\n '116340526',\n '166064935',\n '13140597',\n '138793369',\n '10195507',\n '166059903',\n '158369105',\n '40021689',\n '176774563',\n '13140642',\n '54005592',\n '37047034',\n '13140618',\n '2306709',\n '194275145',\n '139385395',\n '101310307',\n '134162717',\n '159549142',\n '116340510',\n '37695906',\n '15877259',\n '13140773',\n '7567655',\n '10589462',\n '19939668',\n '72528431',\n '42933828',\n '66473290',\n '2943722',\n '3797193',\n '2890998',\n '13514451',\n '2776956',\n '43773177',\n '175090521',\n '9114223',\n '114502979',\n '117789961',\n '155960278',\n '13294573',\n '36212389',\n '7738746',\n '211494283',\n '5920008',\n '146240906',\n '5422188',\n '6395103',\n '6959428',\n '7567684',\n '10674259',\n '66018620',\n '34539391',\n '7844134',\n '34576425',\n '116686508',\n '139293628',\n '84337961',\n '4177813',\n '101295593',\n '156376642',\n '7738721',\n '116682338',\n '84336621',\n '6981776',\n '7738766',\n '26603378',\n '7738786',\n '11714892',\n '7738770',\n '7573323',\n '6981809',\n '14258552',\n '41802683',\n '11832381',\n '74466311',\n '10441842',\n '41777859',\n '4282457',\n '14543182',\n '7738778',\n '161367814',\n '15708380',\n '3998455',\n '14403444',\n '6981774',\n '194142952',\n '15877255',\n '11432225',\n '117232747',\n '159663730',\n '26085241',\n '146231116',\n '11832368',\n '64765778',\n '54655493',\n '37001561',\n '11832364',\n '13365898',\n '4783789',\n '6395101',\n '6983139',\n '9930235',\n '106795550',\n '64257274',\n '169872633',\n '59562121',\n '159550001',\n '124117988',\n '7738734',\n '66700397',\n '10379594',\n '7966841',\n '10195502',\n '97944971',\n '150246515',\n '15660395',\n '10783804',\n '64788557',\n '66350266',\n '30588195',\n '14077519',\n '15437093',\n '7738787',\n '10589460',\n '7723012',\n '2710123',\n '7567678',\n '5074272',\n '7284208',\n '11118890',\n '68009677',\n '11909956',\n '27181432',\n '6981799',\n '18778951',\n '5920009',\n '166070511',\n '3072864',\n '10193488',\n '13140619',\n '10195508',\n '4406241',\n '2943739',\n '139356992',\n '9114227',\n '6981765',\n '54336337',\n '145156779',\n '7172810',\n '76976427',\n '3196633',\n '32290522',\n '161367793',\n '6981798',\n '6981770',\n '10793420',\n '3026666',\n '140024256',\n '41807969',\n '9024002',\n '106383588',\n '11909960',\n '117232744',\n '2776953',\n '54774272',\n '6981762',\n '143366309',\n '3624218',\n '48989480',\n '12570173',\n '197323931',\n '15254468',\n '47680941',\n '9930234',\n '3048453',\n '15877263',\n '161367790',\n '165961882',\n '163793806',\n '149804774',\n '30422680',\n '15709023',\n '173478077',\n '156431091',\n '2882521',\n '168775453',\n '93294534',\n '4157694',\n '159042440',\n '15332261',\n '35782413',\n '26602756',\n '148523602',\n '99131513',\n '11832366',\n '7567680',\n '146240908',\n '114408983',\n '7966838',\n '140024255',\n '13294037',\n '116682342',\n '116340521',\n '7738719',\n '2178139',\n '11909959',\n '89129761',\n '148504686',\n '15877262',\n '7723035',\n '14596501',\n '3072865',\n '5796256',\n '3503912',\n '123680186',\n '62205654',\n '4000411',\n '135771405',\n '2710124',\n '139359445',\n '12485175',\n '96381864',\n '98825277',\n '15512172',\n '9930232',\n '38412550',\n '2531865',\n '9839962',\n '2862915',\n '159554880',\n '177953990',\n '118987478',\n '162160893',\n '12651553',\n '166054300',\n '211679791',\n '7269779',\n '2048364',\n '6505343',\n '2891000',\n '6595466',\n '176653315',\n '53332603',\n '5707698',\n '3184405',\n '5379840',\n '66344957',\n '49878871',\n '2776954',\n '7844135',\n '140024257',\n '12401761',\n '14361062',\n '4987823',\n '125168040',\n '3998447',\n '116682341',\n '14744188',\n '12570172',\n '4234106',\n '26603379',\n '9616207',\n '6395100',\n '76684531',\n '7966837',\n '8454069',\n '6395105',\n '10515390',\n '14091692',\n '6161194',\n '5582555',\n '53331466',\n '118099230',\n '10650062',\n '68652394',\n '24763012',\n '208908677',\n '8696277',\n '20928499',\n '116340522',\n '54774273',\n '11754296',\n '8797570',\n '6395099',\n '142806249',\n '10674262',\n '10783803',\n '7738712',\n '15380731',\n '161367786',\n '81765905',\n '8797572',\n '10984456',\n '8696263',\n '185406460',\n '83756380',\n '12075363',\n '74811562',\n '183583723',\n '13140651',\n '3277327',\n '185857477',\n '155840442',\n '12075374',\n '173974061',\n '148514527',\n '53327716',\n '12485180',\n '161367871',\n '161503481',\n '6981773',\n '159554664',\n '200533888',\n '138220004',\n '176310457',\n '10521145',\n '188370121',\n '16637300',\n '12075372',\n '10521172',\n '174411002',\n '181121687',\n '6395098',\n '9839973',\n '122268026',\n '53852549',\n '99896339',\n '30582440',\n '15267393',\n '173479160',\n '178299434',\n '140940243',\n '51356715',\n '6395096',\n '6981763',\n '7738747',\n '173122461',\n '156636264',\n '51356277',\n '8454116',\n '180921178',\n '171584132',\n '156100522',\n '7738720',\n '174885841',\n '183475872',\n '138781500',\n '7966840',\n '8696270',\n '173288530',\n '185406457',\n '7738717',\n '144149285',\n '16719674',\n '161367787',\n '195953188',\n '6673367',\n '102647358',\n '47696399',\n '151364406',\n '161549022',\n '169284211',\n '174210229',\n '174411007',\n '116812607',\n '169284193',\n '161367845',\n '153744462',\n '161367779',\n '161367776',\n '116582728',\n '167579697',\n '174210217',\n '123490930',\n '178186309',\n '178436582',\n '169284197',\n '169284210',\n '112456204',\n '7738782',\n '116804289',\n '6395104',\n '32736703',\n '174210237',\n '6981804',\n '14543181',\n '116817417',\n '15469374',\n '7738742',\n '116572477',\n '6981767',\n '6981771',\n '6981810',\n '173922074',\n '172055022',\n '7738714',\n '173478072',\n '173478090',\n '117653901',\n '182330877',\n '117652142',\n '172055024',\n '13498967',\n '6395102',\n '54002080',\n '64897516',\n '116340523',\n '169646350',\n '136836940',\n '37867719',\n '161927180',\n '139744988',\n '143349423',\n '73195366',\n '137970723',\n '139435215',\n '148496749',\n '162545772',\n '191984532',\n '13615483',\n '116340517',\n '16844489',\n '7738780',\n '100110811',\n '172456094',\n '189575785',\n '140024254',\n '180781076',\n '178264969',\n '2552728',\n '159554806',\n '173973060',\n '175435666',\n '159843747',\n '18466618',\n '165608078',\n '172456095',\n '156065523',\n '51356359',\n '185857456',\n '162694905',\n '13365897',\n '172669957',\n '207266112',\n '178656631',\n '125999520',\n '173942600',\n '171534748',\n '51356395',\n '198019640',\n '14403445',\n '152932003',\n '175873031',\n '64247143',\n '2776951',\n '139242164',\n '13140636',\n '105648343',\n '113173672',\n '136399266',\n '104491721',\n '78585423',\n '175441104',\n '11909963',\n '10698325',\n '11116914',\n '96381858',\n '63380055',\n '97941362',\n '200307194',\n '12598463',\n '14370445',\n '15912267',\n '121062929',\n '9145797',\n '16363844',\n '68007477',\n '10470751',\n '162586683',\n '12099528',\n '44656410',\n '81737782',\n '148921999',\n '188466572',\n '11298810',\n '79613556',\n '122868121',\n '14370448',\n '149490257',\n '149142063',\n '143348984',\n '152299337',\n '200327330',\n '11754293',\n '149489394',\n '178669952',\n '161469935',\n '144430432',\n '51356361',\n '180388445',\n '10515380',\n '12570190',\n '173973391',\n '9839972',\n '10521141',\n '143347594',\n '17944340',\n '154189586',\n '26085244',\n '10515397',\n '122032408',\n '29390688',\n '9839961',\n '8778749',\n '173288528',\n '189689095',\n '14403441',\n '10650063',\n '11843878',\n '10521137',\n '12099520',\n '204160350',\n '139367557',\n '108897441',\n '55275163',\n '11909961',\n '143926667',\n '39298098',\n '25538562',\n '168656180',\n '12485173',\n '10521168',\n '30422594',\n '30422635',\n '30422668',\n '12485178',\n '30422683',\n '11311870',\n '8081385',\n '30422636',\n '11754295',\n '30422676',\n '12570255',\n '6958236',\n '163565012',\n '177374710',\n '149403300',\n '72009834',\n '149140655',\n '149140551',\n '149609411',\n '82371469',\n '82371481',\n '14159129',\n '15877258',\n '4282450',\n '175438964',\n '161929044',\n '13140668',\n '3026644',\n '5217078',\n '12570184',\n '138892055',\n '12570182',\n '10521169',\n '11909958',\n '9891387',\n '123680174',\n '123680235',\n '180391445',\n '155383014',\n '2890993',\n '76976428',\n '11689493',\n '14088793',\n '43044482',\n '41136417',\n '167181897',\n '155698130',\n '165865942',\n '173008980',\n '165507981',\n '197323933',\n '13140638',\n '189518793',\n '144040329',\n '44077138',\n '13634364',\n '137726576',\n '136407206',\n '130921155',\n '87001721',\n '149612092',\n '104500338',\n '12601093',\n '9930242',\n '2445261',\n '155961590',\n '138759813',\n '13140654',\n '159549273',\n '104481568',\n '127556447',\n '15512170',\n '3184406',\n '6296747',\n '165915909',\n '7528598',\n '137717806',\n '151824239',\n '26603377',\n '159554380',\n '6959427',\n '158764190',\n '170855675',\n '197601225',\n '104487416',\n '105648342',\n '165923134',\n '110271883',\n '146198294',\n '13007389',\n '15380725',\n '18979689',\n '17599753',\n '101653048',\n '54918966',\n '104492467',\n '144043265',\n '17416693',\n '3499714',\n '6463303',\n '17042112',\n '163809373',\n '76691161',\n '4783779',\n '67809727',\n '109837585',\n '13140595',\n '3833409',\n '20928498',\n '4841832',\n '7528585',\n '51507995',\n '86649894',\n '17599754',\n '38140299',\n '7284218',\n '145144075',\n '110273232',\n '44077122',\n '154071708',\n '178921426',\n '151367504',\n '159102025',\n '8454068',\n '10984454',\n '47706610',\n '163650032',\n '152148925',\n '138789229',\n '41765659',\n '189566737',\n '16944004',\n '146843916',\n '132688820',\n '159554430',\n '46244058',\n '144298081',\n '4474338',\n '155698338',\n '182781577',\n '16690683',\n '13294036',\n '168019272',\n '35453635',\n '21477532',\n '126013787',\n '18466615',\n '18466629',\n '21477537',\n '24881001',\n '31345453',\n '86274795',\n '138263723',\n '149255289',\n '147670960',\n '191473092',\n '191499088',\n '137124356',\n '191554131',\n '191473101',\n '191499082',\n '191554142',\n '191554133',\n '171124318',\n '191554124',\n '191473099',\n '209408820',\n '191554135',\n '191554143',\n '191960320',\n '209413206',\n '161549020',\n '97059826',\n '209408815',\n '172267227',\n '97059835',\n '188788792',\n '191554144',\n '190401598',\n '204960388',\n '204867016',\n '209416733',\n '172267203',\n '190937352',\n '209397586',\n '175449631',\n '174210232',\n '176762043',\n '169284204',\n '209413324',\n '209416722',\n '161367784',\n '209412965',\n '175452219',\n '190938033',\n '169503019',\n '171124259',\n '173478080',\n '140352910',\n '170754940',\n '167579702',\n '174891533',\n '207213364',\n '191270958',\n '191270063',\n '174363901',\n '176762047',\n '168405562',\n '122258825',\n '209416723',\n '174210231',\n '209417429',\n '209416731',\n '172055047',\n '134296170',\n '193715723',\n '116783704',\n '190937351',\n '161549014',\n '162403680',\n '209411823',\n '176762044',\n '168405548',\n '205045652',\n '209411938',\n '209413205',\n '174411009',\n '180613048',\n '190935588',\n '141198910',\n '188797813',\n '164278349',\n '176741140',\n '174410991',\n '39278012',\n '204867049',\n '208739120',\n '163329215',\n '116857403',\n '163650036',\n '161649122',\n '97059816',\n '97059838',\n '176741138',\n '169284206',\n '76674084',\n '189433749',\n '37312020',\n '174210226',\n '54774275',\n '169284209',\n '164279535',\n '190679799',\n '209412955',\n '174778989',\n '116786282',\n '16751059',\n '123490937',\n '151362948',\n '139359448',\n '209417787',\n '209412076',\n '8770190',\n '16751080',\n '173288545',\n '192579252',\n '169284208',\n '178186304',\n '192773405',\n '116675776',\n '162313723',\n '123490931',\n '163329240',\n '173478088',\n '169501913',\n '173288548',\n '164278389',\n '123490933',\n '169284200',\n '169284203',\n '169284195',\n '116839224',\n '182330851',\n '185671111',\n '173478075',\n '164278365',\n '7738773',\n '123490934',\n '7747329',\n '116596151',\n '209412081',\n '163329228',\n '171835007',\n '146767110',\n '174475061',\n '152171050',\n '152087514',\n '164278374',\n '117638667',\n '161367773',\n '163329233',\n '163650046',\n '169284207',\n '184284194',\n '6981801',\n '182330853',\n '117635815',\n '174363870',\n '146388421',\n '161367788',\n '161367873',\n '158722759',\n '171584107',\n '123490932',\n '138210238',\n '140302833',\n '180921144',\n '162313671',\n '200522614',\n '185406440',\n '173479398',\n '47710697',\n '208728838',\n '123490935',\n '186454312',\n '174363857',\n '186720047',\n '164278380',\n '176762046',\n '164348661',\n '173478067',\n '125168024',\n '183594322',\n '178186297',\n '117645701',\n '174411005',\n '206849839',\n '175859055',\n '164278384',\n '186454311',\n '174363859',\n '117651541',\n '164348657',\n '182330887',\n '153533829',\n '193120971',\n '159022813',\n '174363878',\n '185595422',\n '64901375',\n '172055009',\n '178345212',\n '97611593',\n '42603724',\n '51432644',\n '169756112',\n '164135525',\n '18466634',\n '41775790',\n '75600587',\n '2552772',\n '170185648',\n '162313698',\n '51431527',\n '163416491',\n '189532493',\n '189532794',\n '10038671',\n '161557748',\n '161469984',\n '18466636',\n '138784576',\n '188472066',\n '189015790',\n '189015792',\n '100110787',\n '185456825',\n '75527168',\n '89085771',\n '18783079',\n '163793405',\n '38519855',\n '140298126',\n '8310404',\n '173971891',\n '138754396',\n '173972738',\n '161909001',\n '173972488',\n '173969825',\n '41138365',\n '42948180',\n '31368441',\n '191907458',\n '191906932',\n '37967905',\n '176669752',\n '196202945',\n '176205355',\n '189616256',\n '173145741',\n '4783778',\n '191918916',\n '178264970',\n '196483081',\n '17294094',\n '15380718',\n '196277558',\n '196776048',\n '132797015',\n '188565604',\n '196776062',\n '51356230',\n '51356222',\n '141143802',\n '2247876',\n '102343579',\n '17908306',\n '16081289',\n '14088799',\n '4262533',\n '176710096',\n '136423411',\n '2154901',\n '37834633',\n '184489043',\n '51356375',\n '137970721',\n '36650361',\n '7284220',\n '76976429',\n '161866562',\n '38680593',\n '169116441',\n '165886224',\n '16406425',\n ...]"
     },
     "execution_count": 8,
     "metadata": {},
     "output_type": "execute_result"
    }
   ],
   "source": [
    "arts"
   ],
   "metadata": {
    "collapsed": false,
    "ExecuteTime": {
     "end_time": "2024-03-19T17:19:51.322501Z",
     "start_time": "2024-03-19T17:19:51.298005Z"
    }
   },
   "id": "5fbf385d642a562a",
   "execution_count": 8
  },
  {
   "cell_type": "markdown",
   "source": [
    "Собираем инфу с карточки товара"
   ],
   "metadata": {
    "collapsed": false
   },
   "id": "416c25b11360f65"
  },
  {
   "cell_type": "code",
   "outputs": [
    {
     "name": "stderr",
     "output_type": "stream",
     "text": [
      "  0%|          | 0/5406 [01:00<?, ?it/s]\n"
     ]
    },
    {
     "ename": "JSONDecodeError",
     "evalue": "Expecting value: line 1 column 1 (char 0)",
     "output_type": "error",
     "traceback": [
      "\u001B[1;31m---------------------------------------------------------------------------\u001B[0m",
      "\u001B[1;31mJSONDecodeError\u001B[0m                           Traceback (most recent call last)",
      "File \u001B[1;32m~\\PycharmProjects\\pythonProject4\\.venv\\Lib\\site-packages\\requests\\models.py:971\u001B[0m, in \u001B[0;36mResponse.json\u001B[1;34m(self, **kwargs)\u001B[0m\n\u001B[0;32m    970\u001B[0m \u001B[38;5;28;01mtry\u001B[39;00m:\n\u001B[1;32m--> 971\u001B[0m     \u001B[38;5;28;01mreturn\u001B[39;00m \u001B[43mcomplexjson\u001B[49m\u001B[38;5;241;43m.\u001B[39;49m\u001B[43mloads\u001B[49m\u001B[43m(\u001B[49m\u001B[38;5;28;43mself\u001B[39;49m\u001B[38;5;241;43m.\u001B[39;49m\u001B[43mtext\u001B[49m\u001B[43m,\u001B[49m\u001B[43m \u001B[49m\u001B[38;5;241;43m*\u001B[39;49m\u001B[38;5;241;43m*\u001B[39;49m\u001B[43mkwargs\u001B[49m\u001B[43m)\u001B[49m\n\u001B[0;32m    972\u001B[0m \u001B[38;5;28;01mexcept\u001B[39;00m JSONDecodeError \u001B[38;5;28;01mas\u001B[39;00m e:\n\u001B[0;32m    973\u001B[0m     \u001B[38;5;66;03m# Catch JSON-related errors and raise as requests.JSONDecodeError\u001B[39;00m\n\u001B[0;32m    974\u001B[0m     \u001B[38;5;66;03m# This aliases json.JSONDecodeError and simplejson.JSONDecodeError\u001B[39;00m\n",
      "File \u001B[1;32m~\\AppData\\Local\\Programs\\Python\\Python312\\Lib\\json\\__init__.py:346\u001B[0m, in \u001B[0;36mloads\u001B[1;34m(s, cls, object_hook, parse_float, parse_int, parse_constant, object_pairs_hook, **kw)\u001B[0m\n\u001B[0;32m    343\u001B[0m \u001B[38;5;28;01mif\u001B[39;00m (\u001B[38;5;28mcls\u001B[39m \u001B[38;5;129;01mis\u001B[39;00m \u001B[38;5;28;01mNone\u001B[39;00m \u001B[38;5;129;01mand\u001B[39;00m object_hook \u001B[38;5;129;01mis\u001B[39;00m \u001B[38;5;28;01mNone\u001B[39;00m \u001B[38;5;129;01mand\u001B[39;00m\n\u001B[0;32m    344\u001B[0m         parse_int \u001B[38;5;129;01mis\u001B[39;00m \u001B[38;5;28;01mNone\u001B[39;00m \u001B[38;5;129;01mand\u001B[39;00m parse_float \u001B[38;5;129;01mis\u001B[39;00m \u001B[38;5;28;01mNone\u001B[39;00m \u001B[38;5;129;01mand\u001B[39;00m\n\u001B[0;32m    345\u001B[0m         parse_constant \u001B[38;5;129;01mis\u001B[39;00m \u001B[38;5;28;01mNone\u001B[39;00m \u001B[38;5;129;01mand\u001B[39;00m object_pairs_hook \u001B[38;5;129;01mis\u001B[39;00m \u001B[38;5;28;01mNone\u001B[39;00m \u001B[38;5;129;01mand\u001B[39;00m \u001B[38;5;129;01mnot\u001B[39;00m kw):\n\u001B[1;32m--> 346\u001B[0m     \u001B[38;5;28;01mreturn\u001B[39;00m \u001B[43m_default_decoder\u001B[49m\u001B[38;5;241;43m.\u001B[39;49m\u001B[43mdecode\u001B[49m\u001B[43m(\u001B[49m\u001B[43ms\u001B[49m\u001B[43m)\u001B[49m\n\u001B[0;32m    347\u001B[0m \u001B[38;5;28;01mif\u001B[39;00m \u001B[38;5;28mcls\u001B[39m \u001B[38;5;129;01mis\u001B[39;00m \u001B[38;5;28;01mNone\u001B[39;00m:\n",
      "File \u001B[1;32m~\\AppData\\Local\\Programs\\Python\\Python312\\Lib\\json\\decoder.py:337\u001B[0m, in \u001B[0;36mJSONDecoder.decode\u001B[1;34m(self, s, _w)\u001B[0m\n\u001B[0;32m    333\u001B[0m \u001B[38;5;250m\u001B[39m\u001B[38;5;124;03m\"\"\"Return the Python representation of ``s`` (a ``str`` instance\u001B[39;00m\n\u001B[0;32m    334\u001B[0m \u001B[38;5;124;03mcontaining a JSON document).\u001B[39;00m\n\u001B[0;32m    335\u001B[0m \n\u001B[0;32m    336\u001B[0m \u001B[38;5;124;03m\"\"\"\u001B[39;00m\n\u001B[1;32m--> 337\u001B[0m obj, end \u001B[38;5;241m=\u001B[39m \u001B[38;5;28;43mself\u001B[39;49m\u001B[38;5;241;43m.\u001B[39;49m\u001B[43mraw_decode\u001B[49m\u001B[43m(\u001B[49m\u001B[43ms\u001B[49m\u001B[43m,\u001B[49m\u001B[43m \u001B[49m\u001B[43midx\u001B[49m\u001B[38;5;241;43m=\u001B[39;49m\u001B[43m_w\u001B[49m\u001B[43m(\u001B[49m\u001B[43ms\u001B[49m\u001B[43m,\u001B[49m\u001B[43m \u001B[49m\u001B[38;5;241;43m0\u001B[39;49m\u001B[43m)\u001B[49m\u001B[38;5;241;43m.\u001B[39;49m\u001B[43mend\u001B[49m\u001B[43m(\u001B[49m\u001B[43m)\u001B[49m\u001B[43m)\u001B[49m\n\u001B[0;32m    338\u001B[0m end \u001B[38;5;241m=\u001B[39m _w(s, end)\u001B[38;5;241m.\u001B[39mend()\n",
      "File \u001B[1;32m~\\AppData\\Local\\Programs\\Python\\Python312\\Lib\\json\\decoder.py:355\u001B[0m, in \u001B[0;36mJSONDecoder.raw_decode\u001B[1;34m(self, s, idx)\u001B[0m\n\u001B[0;32m    354\u001B[0m \u001B[38;5;28;01mexcept\u001B[39;00m \u001B[38;5;167;01mStopIteration\u001B[39;00m \u001B[38;5;28;01mas\u001B[39;00m err:\n\u001B[1;32m--> 355\u001B[0m     \u001B[38;5;28;01mraise\u001B[39;00m JSONDecodeError(\u001B[38;5;124m\"\u001B[39m\u001B[38;5;124mExpecting value\u001B[39m\u001B[38;5;124m\"\u001B[39m, s, err\u001B[38;5;241m.\u001B[39mvalue) \u001B[38;5;28;01mfrom\u001B[39;00m \u001B[38;5;28;01mNone\u001B[39;00m\n\u001B[0;32m    356\u001B[0m \u001B[38;5;28;01mreturn\u001B[39;00m obj, end\n",
      "\u001B[1;31mJSONDecodeError\u001B[0m: Expecting value: line 1 column 1 (char 0)",
      "\nDuring handling of the above exception, another exception occurred:\n",
      "\u001B[1;31mJSONDecodeError\u001B[0m                           Traceback (most recent call last)",
      "Cell \u001B[1;32mIn[7], line 23\u001B[0m\n\u001B[0;32m     21\u001B[0m \u001B[38;5;28;01mexcept\u001B[39;00m:\n\u001B[0;32m     22\u001B[0m     time\u001B[38;5;241m.\u001B[39msleep(\u001B[38;5;241m60\u001B[39m)\n\u001B[1;32m---> 23\u001B[0m     basket \u001B[38;5;241m=\u001B[39m \u001B[43mrequests\u001B[49m\u001B[38;5;241;43m.\u001B[39;49m\u001B[43mget\u001B[49m\u001B[43m(\u001B[49m\u001B[43mcurrent_link\u001B[49m\u001B[43m,\u001B[49m\u001B[43m \u001B[49m\u001B[43mverify\u001B[49m\u001B[38;5;241;43m=\u001B[39;49m\u001B[38;5;28;43;01mFalse\u001B[39;49;00m\u001B[43m,\u001B[49m\u001B[43m \u001B[49m\u001B[43mtimeout\u001B[49m\u001B[38;5;241;43m=\u001B[39;49m\u001B[38;5;241;43m30\u001B[39;49m\u001B[43m)\u001B[49m\u001B[38;5;241;43m.\u001B[39;49m\u001B[43mjson\u001B[49m\u001B[43m(\u001B[49m\u001B[43m)\u001B[49m\n\u001B[0;32m     24\u001B[0m \u001B[38;5;28;01mtry\u001B[39;00m:\n\u001B[0;32m     25\u001B[0m     competitor \u001B[38;5;241m=\u001B[39m basket[\u001B[38;5;124m'\u001B[39m\u001B[38;5;124mselling\u001B[39m\u001B[38;5;124m'\u001B[39m][\u001B[38;5;124m'\u001B[39m\u001B[38;5;124mbrand_name\u001B[39m\u001B[38;5;124m'\u001B[39m]\n",
      "File \u001B[1;32m~\\PycharmProjects\\pythonProject4\\.venv\\Lib\\site-packages\\requests\\models.py:975\u001B[0m, in \u001B[0;36mResponse.json\u001B[1;34m(self, **kwargs)\u001B[0m\n\u001B[0;32m    971\u001B[0m     \u001B[38;5;28;01mreturn\u001B[39;00m complexjson\u001B[38;5;241m.\u001B[39mloads(\u001B[38;5;28mself\u001B[39m\u001B[38;5;241m.\u001B[39mtext, \u001B[38;5;241m*\u001B[39m\u001B[38;5;241m*\u001B[39mkwargs)\n\u001B[0;32m    972\u001B[0m \u001B[38;5;28;01mexcept\u001B[39;00m JSONDecodeError \u001B[38;5;28;01mas\u001B[39;00m e:\n\u001B[0;32m    973\u001B[0m     \u001B[38;5;66;03m# Catch JSON-related errors and raise as requests.JSONDecodeError\u001B[39;00m\n\u001B[0;32m    974\u001B[0m     \u001B[38;5;66;03m# This aliases json.JSONDecodeError and simplejson.JSONDecodeError\u001B[39;00m\n\u001B[1;32m--> 975\u001B[0m     \u001B[38;5;28;01mraise\u001B[39;00m RequestsJSONDecodeError(e\u001B[38;5;241m.\u001B[39mmsg, e\u001B[38;5;241m.\u001B[39mdoc, e\u001B[38;5;241m.\u001B[39mpos)\n",
      "\u001B[1;31mJSONDecodeError\u001B[0m: Expecting value: line 1 column 1 (char 0)"
     ]
    }
   ],
   "source": [
    "for link in tqdm(arts):\n",
    "    group = np.nan\n",
    "    name = np.nan\n",
    "    weight = np.nan\n",
    "    lock_type = np.nan\n",
    "    metal = np.nan\n",
    "    insert = np.nan\n",
    "    competitor = np.nan\n",
    "    i = 0\n",
    "    if int(link)//100000>spis[-1]:\n",
    "        i = len(spis)\n",
    "    else:\n",
    "        while int(link)//100000 > spis[i]:\n",
    "            i += 1\n",
    "    i += 1\n",
    "    if i < 10:\n",
    "        i = \"0\"+str(i)\n",
    "    current_link = f'https://basket-{i}.wbbasket.ru/vol{int(link)//100000}/part{int(link)//1000}/{link}/info/ru/card.json'\n",
    "    try:\n",
    "        basket = requests.get(current_link, verify=False, timeout=30).json()\n",
    "    except:\n",
    "        time.sleep(60)\n",
    "        basket = requests.get(current_link, verify=False, timeout=30).json()\n",
    "    try:\n",
    "        competitor = basket['selling']['brand_name']\n",
    "    except:\n",
    "        pass\n",
    "    try:\n",
    "        name = basket['imt_name'].lower()\n",
    "    except:\n",
    "        pass\n",
    "    try:\n",
    "        match basket['subj_name']:\n",
    "            case \"Ювелирные браслеты\": group = \"ЦБ БРАСЛЕТЫ\"\n",
    "            case \"Ювелирные цепочки\": group = \"ЦБ ЦЕПИ\"\n",
    "            case \"Ювелирные кольца\": group = \"КОЛЬЦА\"\n",
    "            case \"Ювелирные подвески\": group = \"ПОДВЕС\"\n",
    "            case \"Ювелирные серьги\": group = \"СЕРЬГИ\"\n",
    "    except:\n",
    "        pass\n",
    "    try:\n",
    "        for option in basket['options']:\n",
    "            if option['name'] == 'Минимальный вес (г)':\n",
    "                weight = float(option['value'].replace('г',''))\n",
    "            elif option['name'] == 'Вставка':\n",
    "                insert = option['value']\n",
    "            elif option['name'] == 'Вид замка':\n",
    "                lock_type = option['value']\n",
    "            elif option['name'] == 'Состав ювелирного изделия':\n",
    "                metal = option['value']\n",
    "    except:\n",
    "        pass\n",
    "    try:\n",
    "        for option in basket['grouped_options'][0]['options']:\n",
    "            if option['name'] == 'Минимальный вес (г)':\n",
    "                weight = float(option['value'].replace('г',''))\n",
    "            elif option['name'] == 'Вставка':\n",
    "                insert = option['value']\n",
    "            elif option['name'] == 'Вид замка':\n",
    "                lock_type = option['value']\n",
    "            elif option['name'] == 'Состав ювелирного изделия':\n",
    "                metal = option['value'].lower()\n",
    "    except:\n",
    "        pass\n",
    "    try:\n",
    "        if np.isnan(weight) and group in [\"ЦБ БРАСЛЕТЫ\",\"ЦБ ЦЕПИ\"]:\n",
    "            weight = float(bracs(link))\n",
    "    except:\n",
    "        pass\n",
    "    try:\n",
    "        if group == \"ЦБ ЦЕПИ\":\n",
    "            for option in basket['options']:\n",
    "                if 'плетен' in option['name']:\n",
    "                    lock_type = option['value']\n",
    "    except:\n",
    "        pass\n",
    "    try:\n",
    "        if group == \"ЦБ ЦЕПИ\":\n",
    "            for option in basket['grouped_options'][0]['options']:\n",
    "                if 'плетен' in option['name']:\n",
    "                    lock_type = option['value']\n",
    "    except:\n",
    "        pass\n",
    "    date.append(datetime.date.today())\n",
    "    weights.append(weight)\n",
    "    inserts.append(insert)\n",
    "    metals.append(metal)\n",
    "    locks.append(lock_type)\n",
    "    competitors.append(competitor)\n",
    "    names.append(name)\n",
    "    groups.append(group)"
   ],
   "metadata": {
    "collapsed": false,
    "ExecuteTime": {
     "end_time": "2024-03-19T17:19:23.568902Z",
     "start_time": "2024-03-19T17:18:22.362178Z"
    }
   },
   "id": "b2450bf895259a08",
   "execution_count": 7
  },
  {
   "cell_type": "markdown",
   "source": [
    "Условие для парсинга размеров"
   ],
   "metadata": {
    "collapsed": false
   },
   "id": "3335974f36ed6836"
  },
  {
   "cell_type": "code",
   "outputs": [],
   "source": [
    "if group == \"ЦБ ЦЕПИ\" or group ==\"ЦБ БРАСЛЕТЫ\" or group == \"КОЛЬЦА\":\n",
    "    strsize = input('Вас интересует размер? [y/n]')\n",
    "    if strsize.lower() in ['yes','y','д','да']:\n",
    "        parsesize = True"
   ],
   "metadata": {
    "collapsed": false,
    "ExecuteTime": {
     "end_time": "2024-03-19T07:23:50.744624Z",
     "start_time": "2024-03-19T07:23:46.167342Z"
    }
   },
   "id": "c6bae09917086c4a",
   "execution_count": 56
  },
  {
   "cell_type": "markdown",
   "source": [
    "Парсинг размеров"
   ],
   "metadata": {
    "collapsed": false
   },
   "id": "e514db2f7a8c5cb1"
  },
  {
   "cell_type": "code",
   "outputs": [],
   "source": [
    "if parsesize:\n",
    "    artsizes = list()\n",
    "    for link in tqdm(arts):\n",
    "        artsize = list()\n",
    "        url =f'https://card.wb.ru/cards/v2/detail?appType=1&curr=rub&dest=-1257786&spp=30&nm={link}'\n",
    "        try:\n",
    "            sizes = requests.get(url, verify=False, timeout=30).json()\n",
    "        except:\n",
    "            artsizes.append(np.nan)\n",
    "        try:\n",
    "            for option in sizes['data']['products'][0]['sizes']:\n",
    "                if len(option['stocks'])>0:\n",
    "                    size = option['origName']\n",
    "                    or1 = float(size.replace(\",\",\".\").replace(\"+\",\"\"))\n",
    "                    if (or1 > 10) and (or1 < 100): \n",
    "                        artsize.append(or1)\n",
    "                    try:\n",
    "                        or1 = size[:size.find(\"-\")]\n",
    "                        or2 = size[size.find(\"-\")+1:]\n",
    "                        if or1< 100 and or2 <100 and or1>10 and or2>10:\n",
    "                            for i in range(or1,or2+1):\n",
    "                                artsize.append(i)\n",
    "                    except:\n",
    "                        pass\n",
    "        except:\n",
    "            pass\n",
    "        artsizes.append(artsize)"
   ],
   "metadata": {
    "collapsed": false,
    "ExecuteTime": {
     "end_time": "2024-03-19T07:23:54.661878Z",
     "start_time": "2024-03-19T07:23:54.653732Z"
    }
   },
   "id": "382119f9b79f63e7",
   "execution_count": 57
  },
  {
   "cell_type": "markdown",
   "source": [
    "Проверка на тип колец"
   ],
   "metadata": {
    "collapsed": false
   },
   "id": "254c6e93d5ecf6ce"
  },
  {
   "cell_type": "code",
   "outputs": [],
   "source": [
    "if group == \"КОЛЬЦА\":\n",
    "    mar = str(input('Вас интересуют обручальные кольца? [y/n]'))\n",
    "    if len(mar.lower()) > 0 and mar not in ['да','yes','д','y']:\n",
    "        married = False"
   ],
   "metadata": {
    "collapsed": false,
    "ExecuteTime": {
     "end_time": "2024-03-19T07:24:46.424741Z",
     "start_time": "2024-03-19T07:24:43.400280Z"
    }
   },
   "id": "14be56f31c76485c",
   "execution_count": 59
  },
  {
   "cell_type": "markdown",
   "source": [
    "Данные в датасет"
   ],
   "metadata": {
    "collapsed": false
   },
   "id": "93da2ff231ce82f9"
  },
  {
   "cell_type": "code",
   "outputs": [],
   "source": [
    "if parsesize:\n",
    "    result = pd.DataFrame({'data': date,\n",
    "                       'competitor': competitors,\n",
    "                       'name': names,\n",
    "                       'group': groups,\n",
    "                       'weight': weights,\n",
    "                       'price': prices,\n",
    "                       'price_old': po,\n",
    "                       'discount': discount,\n",
    "                       'insert': inserts,\n",
    "                       'metal': metals,\n",
    "                       'lock': locks,\n",
    "                       'article': arts,\n",
    "                       'sizes': artsizes})\n",
    "else:\n",
    "    result = pd.DataFrame({'data': date,\n",
    "                       'competitor': competitors,\n",
    "                       'name': names,\n",
    "                       'group': groups,\n",
    "                       'weight': weights,\n",
    "                       'price': prices,\n",
    "                       'price_old': po,\n",
    "                       'discount': discount,\n",
    "                       'insert': inserts,\n",
    "                       'metal': metals,\n",
    "                       'lock': locks,\n",
    "                       'article': arts,})"
   ],
   "metadata": {
    "collapsed": false,
    "ExecuteTime": {
     "end_time": "2024-03-19T07:24:52.112347Z",
     "start_time": "2024-03-19T07:24:52.081307Z"
    }
   },
   "id": "370ae019b77c43ea",
   "execution_count": 60
  },
  {
   "cell_type": "code",
   "outputs": [
    {
     "name": "stdout",
     "output_type": "stream",
     "text": [
      "<class 'pandas.core.frame.DataFrame'>\n",
      "RangeIndex: 5000 entries, 0 to 4999\n",
      "Data columns (total 12 columns):\n",
      " #   Column      Non-Null Count  Dtype  \n",
      "---  ------      --------------  -----  \n",
      " 0   data        5000 non-null   object \n",
      " 1   competitor  4822 non-null   object \n",
      " 2   name        4998 non-null   object \n",
      " 3   group       5000 non-null   object \n",
      " 4   weight      4722 non-null   float64\n",
      " 5   price       5000 non-null   int32  \n",
      " 6   price_old   5000 non-null   object \n",
      " 7   discount    5000 non-null   float64\n",
      " 8   insert      4935 non-null   object \n",
      " 9   metal       4989 non-null   object \n",
      " 10  lock        0 non-null      float64\n",
      " 11  article     5000 non-null   object \n",
      "dtypes: float64(3), int32(1), object(8)\n",
      "memory usage: 449.3+ KB\n",
      "None\n"
     ]
    }
   ],
   "source": [
    "result['price'] = result['price'].astype('int')\n",
    "print(result.info())"
   ],
   "metadata": {
    "collapsed": false,
    "ExecuteTime": {
     "end_time": "2024-03-19T07:24:54.728897Z",
     "start_time": "2024-03-19T07:24:54.712614Z"
    }
   },
   "id": "b8de750982cdba2d",
   "execution_count": 61
  },
  {
   "cell_type": "markdown",
   "source": [
    "Работа с данными"
   ],
   "metadata": {
    "collapsed": false
   },
   "id": "a5de7c76adf1ff43"
  },
  {
   "cell_type": "code",
   "outputs": [],
   "source": [
    "groupdf = list()\n",
    "ii = list()\n",
    "avprice = list()\n",
    "insertgroup = list()\n",
    "charmgr = list()\n",
    "result = result.drop(result[\"каучук\" in result['insert'] or \"жемчуг\" in result['insert'] or \"серебро\" in result['metal'] or \"каучук\" in result['metal'] or \"жемчуг\" in result['metal'] or np.isnan(result['weight'])].index)\n",
    "avgpr = result['price']/result['weight']\n",
    "result.insert(loc=len(result.columns),column='Price per gramm',value=avgpr)\n",
    "result = result.drop(result[result['Price per gramm']<3000].index)\n",
    "cat = np.where(result['Price per gramm']<=5500, \"до 5500\",\n",
    "        np.where(\n",
    "        (result['Price per gramm'] <= 6000), '5 500 руб. - 6 000 руб.',\n",
    "        np.where(\n",
    "        (result['Price per gramm'] <= 6500), '6 000 руб. - 6 500 руб.',\n",
    "        np.where(\n",
    "        (result['Price per gramm'] <= 7000), '6 500 руб. - 7 000 руб.',\n",
    "        np.where(\n",
    "        (result['Price per gramm'] <= 8000), '7 000 руб. - 8 000 руб.',\n",
    "        np.where(\n",
    "        (result['Price per gramm'] <= 9000), '8 000 руб. - 9 000 руб.',\n",
    "        np.where(\n",
    "        (result['Price per gramm'] <= 10000), '9 000 руб. -10 000 руб.',  'свыше 10 000 руб.'\n",
    "        )))))))\n",
    "result.insert(loc=len(result.columns),column='group_price',value=cat)"
   ],
   "metadata": {
    "collapsed": false,
    "ExecuteTime": {
     "end_time": "2024-03-19T07:24:58.535702Z",
     "start_time": "2024-03-19T07:24:58.510936Z"
    }
   },
   "id": "df75c586f7d71ec3",
   "execution_count": 62
  },
  {
   "cell_type": "markdown",
   "source": [
    "Определяемся с категорией товарам и направлением"
   ],
   "metadata": {
    "collapsed": false
   },
   "id": "943986ae2b9becf3"
  },
  {
   "cell_type": "code",
   "outputs": [
    {
     "name": "stderr",
     "output_type": "stream",
     "text": [
      "100%|██████████| 4418/4418 [00:02<00:00, 2184.24it/s]\n"
     ]
    }
   ],
   "source": [
    "for i in tqdm(range(0,len(result))):\n",
    "    insertgroup.append(\"\")\n",
    "    inss = str(result.iloc[i]['insert']).split(';')\n",
    "    for ins in inss:\n",
    "        ins = str(ins).strip().lower()\n",
    "        if ins == \"бриллиант\" or ins == \"сапфир\" or ins ==\"рубин\" or ins == \"изумруд\" or ins == \"бриллиант натуральный\" or ins == \"сапфир натуральный\" or ins == \"рубин натуральный\" or ins == \"изумруд натуральный\" or ins ==\"бриллианты\" or ins == \"\":\n",
    "            insertgroup[-1] = \"ДК\"\n",
    "            charmgr.append('ДК')\n",
    "            break\n",
    "        elif ins == \"фианит\" or ins == \"бриллиант искусственный\" or ins == \"бриллиант выращенный\" or ins ==\"бриллианит\" or ins == \"бриллиант синтетический\" or \"фианит\" in str(result.iloc[i]['insert']).lower():\n",
    "            insertgroup[-1] = \"ИФ\"\n",
    "        elif \"нет\" in ins or \"без\" in ins or  str(result.iloc[i]['insert']).lower().strip() == \"золото\" or str(result.iloc[i]['insert']).lower() == \"эмаль\" or ins == \"nan\":\n",
    "            insertgroup[-1] = \"БК\"\n",
    "            charmgr.append('БК')\n",
    "            break\n",
    "        elif \"бр\" in ins and \"искусственный\" not in str(result.iloc[i]['insert']).lower() and \"выращенный\" not in str(result.iloc[i]['insert']).lower() and \"синтетический\" not in str(result.iloc[i]['insert']).lower():\n",
    "            insertgroup[-1] = \"ДК\"\n",
    "            charmgr.append('ДК')\n",
    "            break\n",
    "        elif insertgroup[-1] != \"ИФ\":\n",
    "            insertgroup[-1] = \"ПДК\"\n",
    "    if insertgroup[-1] in ['ИФ', 'ПДК']:\n",
    "        charmgr.append('ПДК')\n",
    "    if result.iloc[i]['group'] == \"ПОДВЕС\" and insertgroup[-1] in ['БК','ИФ']:\n",
    "        insertgroup[-1] = insertgroup[-1] + \" \" + result.iloc[i]['group'] + \" \" + charms(i)\n",
    "    elif result.iloc[i]['group'] == \"ПОДВЕС\":\n",
    "        insertgroup[-1] = insertgroup[-1] + \" \" + result.iloc[i]['group']\n",
    "    elif result.iloc[i]['group'] == \"СЕРЬГИ\":\n",
    "        insertgroup[-1] = insertgroup[-1] + \" \" + result.iloc[i]['group']\n",
    "    elif result.iloc[i]['group'] in ['ЦБ ЦЕПИ', 'ЦБ БРАСЛЕТЫ']:\n",
    "        insertgroup[-1] = result.iloc[i]['group']\n",
    "        charmgr[-1] = \"ЦБ\"\n",
    "    elif result.iloc[i]['group'] == \"КОЛЬЦА\" and married:\n",
    "        insertgroup[-1] = insertgroup[-1] + \" \" + result.iloc[i]['group'] + \" \" + \"ОБРУЧ\"\n",
    "    elif result.iloc[i]['group'] == \"КОЛЬЦА\":\n",
    "        insertgroup[-1] = insertgroup[-1] + \" \" + result.iloc[i]['group']\n",
    "    else:\n",
    "        ii.append(i)\n",
    "        charmgr.pop()\n",
    "if len(ii)>0:\n",
    "    result= result.drop(labels=ii,axis=0)\n",
    "result.insert(loc=len(result.columns),column='product_group(ТГ)',value=insertgroup)\n",
    "result.insert(loc=len(result.columns),column='product_direction(ТН)',value=charmgr)"
   ],
   "metadata": {
    "collapsed": false,
    "ExecuteTime": {
     "end_time": "2024-03-19T07:25:02.294310Z",
     "start_time": "2024-03-19T07:25:00.248716Z"
    }
   },
   "id": "7a62023c43ed8751",
   "execution_count": 63
  },
  {
   "cell_type": "code",
   "outputs": [
    {
     "data": {
      "text/plain": "            data                        competitor  \\\n0     2024-03-19                           KARATOV   \n1     2024-03-19                           SOKOLOV   \n2     2024-03-19                           KARATOV   \n3     2024-03-19                         REDzoloto   \n4     2024-03-19  Ювелирный магазин ЗОЛОТОЕ ДЕРЕВО   \n...          ...                               ...   \n4995  2024-03-19                     Maxim Demidov   \n4996  2024-03-19                     Maxim Demidov   \n4997  2024-03-19                     Maxim Demidov   \n4998  2024-03-19                     Maxim Demidov   \n4999  2024-03-19                     Maxim Demidov   \n\n                                                   name   group  weight  \\\n0                   кольцо обручальное золото 585 пробы  КОЛЬЦА    1.60   \n1       кольцо золотое 585 пробы с фианитом помолвочное  КОЛЬЦА    0.93   \n2                          кольцо обручальное 585 пробы  КОЛЬЦА    0.56   \n3                  кольцо золотое 585 пробы с фианитами  КОЛЬЦА    1.33   \n4                            золотое кольцо обручальное  КОЛЬЦА    1.70   \n...                                                 ...     ...     ...   \n4995  из белого золота (585 пробы) с натуральным тан...  КОЛЬЦА    4.22   \n4996  из белого золота (585 пробы) с натуральным тан...  КОЛЬЦА    4.31   \n4997  из белого золота (585 пробы) с натуральным тур...  КОЛЬЦА    7.14   \n4998  из белого золота (585 пробы) с натуральным сап...  КОЛЬЦА    4.23   \n4999  из белого золота (585 пробы) с натуральным гел...  КОЛЬЦА    4.11   \n\n       price price_old  discount                insert  \\\n0       9438      9935      0.95           без вставки   \n1       5684      5984      0.95                фианит   \n2       3590      3779      0.95           без вставки   \n3      12118     12756      0.95                фианит   \n4       9851     10370      0.95           без вставки   \n...      ...       ...       ...                   ...   \n4995  275330    275330      1.00  танзанит натуральный   \n4996  246081    246081      1.00  танзанит натуральный   \n4997  239254    239254      1.00  турмалин натуральный   \n4998  209144    209144      1.00    сапфир натуральный   \n4999  195680    195680      1.00              гелиодор   \n\n                                  metal  lock    article  Price per gramm  \\\n0                        золото красное   NaN   17641482      5898.750000   \n1                        золото красное   NaN  113256091      6111.827957   \n2                        золото красное   NaN   17641481      6410.714286   \n3                        золото красное   NaN   35443032      9111.278195   \n4                        золото красное   NaN  140882886      5794.705882   \n...                                 ...   ...        ...              ...   \n4995  золото белое; золото радированное   NaN  187217319     65244.075829   \n4996                       золото белое   NaN  187217294     57095.359629   \n4997  золото белое; золото радированное   NaN  187217316     33508.963585   \n4998  золото белое; золото радированное   NaN  187217338     49443.026005   \n4999  золото белое; золото радированное   NaN  187217296     47610.705596   \n\n                  group_price product_group(ТГ) product_direction(ТН)  \n0     5 500 руб. - 6 000 руб.   БК КОЛЬЦА ОБРУЧ                    БК  \n1     6 000 руб. - 6 500 руб.   ИФ КОЛЬЦА ОБРУЧ                   ПДК  \n2     6 000 руб. - 6 500 руб.   БК КОЛЬЦА ОБРУЧ                    БК  \n3     9 000 руб. -10 000 руб.   ИФ КОЛЬЦА ОБРУЧ                   ПДК  \n4     5 500 руб. - 6 000 руб.   БК КОЛЬЦА ОБРУЧ                    БК  \n...                       ...               ...                   ...  \n4995        свыше 10 000 руб.  ПДК КОЛЬЦА ОБРУЧ                   ПДК  \n4996        свыше 10 000 руб.  ПДК КОЛЬЦА ОБРУЧ                   ПДК  \n4997        свыше 10 000 руб.  ПДК КОЛЬЦА ОБРУЧ                   ПДК  \n4998        свыше 10 000 руб.   ДК КОЛЬЦА ОБРУЧ                    ДК  \n4999        свыше 10 000 руб.  ПДК КОЛЬЦА ОБРУЧ                   ПДК  \n\n[4418 rows x 16 columns]",
      "text/html": "<div>\n<style scoped>\n    .dataframe tbody tr th:only-of-type {\n        vertical-align: middle;\n    }\n\n    .dataframe tbody tr th {\n        vertical-align: top;\n    }\n\n    .dataframe thead th {\n        text-align: right;\n    }\n</style>\n<table border=\"1\" class=\"dataframe\">\n  <thead>\n    <tr style=\"text-align: right;\">\n      <th></th>\n      <th>data</th>\n      <th>competitor</th>\n      <th>name</th>\n      <th>group</th>\n      <th>weight</th>\n      <th>price</th>\n      <th>price_old</th>\n      <th>discount</th>\n      <th>insert</th>\n      <th>metal</th>\n      <th>lock</th>\n      <th>article</th>\n      <th>Price per gramm</th>\n      <th>group_price</th>\n      <th>product_group(ТГ)</th>\n      <th>product_direction(ТН)</th>\n    </tr>\n  </thead>\n  <tbody>\n    <tr>\n      <th>0</th>\n      <td>2024-03-19</td>\n      <td>KARATOV</td>\n      <td>кольцо обручальное золото 585 пробы</td>\n      <td>КОЛЬЦА</td>\n      <td>1.60</td>\n      <td>9438</td>\n      <td>9935</td>\n      <td>0.95</td>\n      <td>без вставки</td>\n      <td>золото красное</td>\n      <td>NaN</td>\n      <td>17641482</td>\n      <td>5898.750000</td>\n      <td>5 500 руб. - 6 000 руб.</td>\n      <td>БК КОЛЬЦА ОБРУЧ</td>\n      <td>БК</td>\n    </tr>\n    <tr>\n      <th>1</th>\n      <td>2024-03-19</td>\n      <td>SOKOLOV</td>\n      <td>кольцо золотое 585 пробы с фианитом помолвочное</td>\n      <td>КОЛЬЦА</td>\n      <td>0.93</td>\n      <td>5684</td>\n      <td>5984</td>\n      <td>0.95</td>\n      <td>фианит</td>\n      <td>золото красное</td>\n      <td>NaN</td>\n      <td>113256091</td>\n      <td>6111.827957</td>\n      <td>6 000 руб. - 6 500 руб.</td>\n      <td>ИФ КОЛЬЦА ОБРУЧ</td>\n      <td>ПДК</td>\n    </tr>\n    <tr>\n      <th>2</th>\n      <td>2024-03-19</td>\n      <td>KARATOV</td>\n      <td>кольцо обручальное 585 пробы</td>\n      <td>КОЛЬЦА</td>\n      <td>0.56</td>\n      <td>3590</td>\n      <td>3779</td>\n      <td>0.95</td>\n      <td>без вставки</td>\n      <td>золото красное</td>\n      <td>NaN</td>\n      <td>17641481</td>\n      <td>6410.714286</td>\n      <td>6 000 руб. - 6 500 руб.</td>\n      <td>БК КОЛЬЦА ОБРУЧ</td>\n      <td>БК</td>\n    </tr>\n    <tr>\n      <th>3</th>\n      <td>2024-03-19</td>\n      <td>REDzoloto</td>\n      <td>кольцо золотое 585 пробы с фианитами</td>\n      <td>КОЛЬЦА</td>\n      <td>1.33</td>\n      <td>12118</td>\n      <td>12756</td>\n      <td>0.95</td>\n      <td>фианит</td>\n      <td>золото красное</td>\n      <td>NaN</td>\n      <td>35443032</td>\n      <td>9111.278195</td>\n      <td>9 000 руб. -10 000 руб.</td>\n      <td>ИФ КОЛЬЦА ОБРУЧ</td>\n      <td>ПДК</td>\n    </tr>\n    <tr>\n      <th>4</th>\n      <td>2024-03-19</td>\n      <td>Ювелирный магазин ЗОЛОТОЕ ДЕРЕВО</td>\n      <td>золотое кольцо обручальное</td>\n      <td>КОЛЬЦА</td>\n      <td>1.70</td>\n      <td>9851</td>\n      <td>10370</td>\n      <td>0.95</td>\n      <td>без вставки</td>\n      <td>золото красное</td>\n      <td>NaN</td>\n      <td>140882886</td>\n      <td>5794.705882</td>\n      <td>5 500 руб. - 6 000 руб.</td>\n      <td>БК КОЛЬЦА ОБРУЧ</td>\n      <td>БК</td>\n    </tr>\n    <tr>\n      <th>...</th>\n      <td>...</td>\n      <td>...</td>\n      <td>...</td>\n      <td>...</td>\n      <td>...</td>\n      <td>...</td>\n      <td>...</td>\n      <td>...</td>\n      <td>...</td>\n      <td>...</td>\n      <td>...</td>\n      <td>...</td>\n      <td>...</td>\n      <td>...</td>\n      <td>...</td>\n      <td>...</td>\n    </tr>\n    <tr>\n      <th>4995</th>\n      <td>2024-03-19</td>\n      <td>Maxim Demidov</td>\n      <td>из белого золота (585 пробы) с натуральным тан...</td>\n      <td>КОЛЬЦА</td>\n      <td>4.22</td>\n      <td>275330</td>\n      <td>275330</td>\n      <td>1.00</td>\n      <td>танзанит натуральный</td>\n      <td>золото белое; золото радированное</td>\n      <td>NaN</td>\n      <td>187217319</td>\n      <td>65244.075829</td>\n      <td>свыше 10 000 руб.</td>\n      <td>ПДК КОЛЬЦА ОБРУЧ</td>\n      <td>ПДК</td>\n    </tr>\n    <tr>\n      <th>4996</th>\n      <td>2024-03-19</td>\n      <td>Maxim Demidov</td>\n      <td>из белого золота (585 пробы) с натуральным тан...</td>\n      <td>КОЛЬЦА</td>\n      <td>4.31</td>\n      <td>246081</td>\n      <td>246081</td>\n      <td>1.00</td>\n      <td>танзанит натуральный</td>\n      <td>золото белое</td>\n      <td>NaN</td>\n      <td>187217294</td>\n      <td>57095.359629</td>\n      <td>свыше 10 000 руб.</td>\n      <td>ПДК КОЛЬЦА ОБРУЧ</td>\n      <td>ПДК</td>\n    </tr>\n    <tr>\n      <th>4997</th>\n      <td>2024-03-19</td>\n      <td>Maxim Demidov</td>\n      <td>из белого золота (585 пробы) с натуральным тур...</td>\n      <td>КОЛЬЦА</td>\n      <td>7.14</td>\n      <td>239254</td>\n      <td>239254</td>\n      <td>1.00</td>\n      <td>турмалин натуральный</td>\n      <td>золото белое; золото радированное</td>\n      <td>NaN</td>\n      <td>187217316</td>\n      <td>33508.963585</td>\n      <td>свыше 10 000 руб.</td>\n      <td>ПДК КОЛЬЦА ОБРУЧ</td>\n      <td>ПДК</td>\n    </tr>\n    <tr>\n      <th>4998</th>\n      <td>2024-03-19</td>\n      <td>Maxim Demidov</td>\n      <td>из белого золота (585 пробы) с натуральным сап...</td>\n      <td>КОЛЬЦА</td>\n      <td>4.23</td>\n      <td>209144</td>\n      <td>209144</td>\n      <td>1.00</td>\n      <td>сапфир натуральный</td>\n      <td>золото белое; золото радированное</td>\n      <td>NaN</td>\n      <td>187217338</td>\n      <td>49443.026005</td>\n      <td>свыше 10 000 руб.</td>\n      <td>ДК КОЛЬЦА ОБРУЧ</td>\n      <td>ДК</td>\n    </tr>\n    <tr>\n      <th>4999</th>\n      <td>2024-03-19</td>\n      <td>Maxim Demidov</td>\n      <td>из белого золота (585 пробы) с натуральным гел...</td>\n      <td>КОЛЬЦА</td>\n      <td>4.11</td>\n      <td>195680</td>\n      <td>195680</td>\n      <td>1.00</td>\n      <td>гелиодор</td>\n      <td>золото белое; золото радированное</td>\n      <td>NaN</td>\n      <td>187217296</td>\n      <td>47610.705596</td>\n      <td>свыше 10 000 руб.</td>\n      <td>ПДК КОЛЬЦА ОБРУЧ</td>\n      <td>ПДК</td>\n    </tr>\n  </tbody>\n</table>\n<p>4418 rows × 16 columns</p>\n</div>"
     },
     "execution_count": 64,
     "metadata": {},
     "output_type": "execute_result"
    }
   ],
   "source": [
    "result"
   ],
   "metadata": {
    "collapsed": false,
    "ExecuteTime": {
     "end_time": "2024-03-19T07:25:03.652537Z",
     "start_time": "2024-03-19T07:25:03.628186Z"
    }
   },
   "id": "e348f7c428f89d80",
   "execution_count": 64
  },
  {
   "cell_type": "markdown",
   "source": [
    "Расписываем серьги "
   ],
   "metadata": {
    "collapsed": false
   },
   "id": "e9a3caae6a179cb5"
  },
  {
   "cell_type": "code",
   "outputs": [
    {
     "name": "stderr",
     "output_type": "stream",
     "text": [
      "100%|██████████| 4418/4418 [00:00<00:00, 220771.25it/s]\n"
     ]
    }
   ],
   "source": [
    "for i in tqdm(result.index):\n",
    "    if result.at[i, 'group'] == \"СЕРЬГИ\":\n",
    "        if \"англ\" in str(result.at[i, 'lock']).lower() or \"нгл\" in str(result.at[i, 'lock']).lower():\n",
    "            result.at[i, 'lock'] = \"английский\"\n",
    "        elif \"франц\" in str(result.at[i, 'lock']).lower() or \"зск\" in str(result.at[i, 'lock']).lower():\n",
    "            result.at[i, 'lock'] = \"французский\"\n",
    "        elif \"штиф\" in str(result.at[i, 'lock']).lower() or \"фтов\" in str(result.at[i, 'lock']).lower():\n",
    "            result.at[i, 'lock'] = \"штифтовой\"\n",
    "        elif \"конг\" in str(result.at[i, 'lock']).lower():\n",
    "            result.at[i, 'lock'] = \"конго\"\n",
    "        elif \"винт\" in str(result.at[i, 'lock']).lower():\n",
    "            result.at[i, 'lock'] = \"винтовой\"\n",
    "        elif \"зажим\" in str(result.at[i, 'lock']).lower():\n",
    "            result.at[i, 'lock'] = \"зажим\"\n",
    "        elif \"петля\" in str(result.at[i, 'lock']).lower():\n",
    "            result.at[i, 'lock'] = \"петля\"\n",
    "        elif \"прот\" in str(result.at[i, 'lock']).lower():\n",
    "            result.at[i, 'lock'] = \"протяжки\"\n",
    "        elif \"пус\" in str(result.at[i, 'lock']).lower():\n",
    "            result.at[i, 'lock'] = \"пуссеты\"\n",
    "        elif \"прод\" in str(result.at[i, 'lock']).lower():\n",
    "            result.at[i, 'lock'] = \"продевки\"\n",
    "        elif \"без\" in str(result.at[i, 'lock']).lower():\n",
    "            result.at[i, 'lock'] = \"без застежки\"\n",
    "        else:\n",
    "            result.at[i, 'lock'] = \"неопределенно\""
   ],
   "metadata": {
    "collapsed": false,
    "ExecuteTime": {
     "end_time": "2024-03-19T07:25:13.047780Z",
     "start_time": "2024-03-19T07:25:13.014883Z"
    }
   },
   "id": "356d0f2d6e8bdb11",
   "execution_count": 65
  },
  {
   "cell_type": "markdown",
   "source": [
    "Расписываем цепи"
   ],
   "metadata": {
    "collapsed": false
   },
   "id": "2ea67b68b2241808"
  },
  {
   "cell_type": "code",
   "outputs": [
    {
     "name": "stderr",
     "output_type": "stream",
     "text": [
      "100%|██████████| 4418/4418 [00:00<00:00, 104204.85it/s]\n"
     ]
    }
   ],
   "source": [
    "for i in tqdm(result.index):\n",
    "    if result.at[i, 'group'] == \"ЦБ ЦЕПИ\":\n",
    "        if \"ром\" in str(result.at[i, 'lock']).lower() and \"двой\" in str(result.at[i, 'lock']).lower():\n",
    "            result.at[i, 'lock'] = \"ромб двойной\"\n",
    "        elif \"ром\" in str(result.at[i, 'lock']).lower() and \"трой\" in str(result.at[i, 'lock']).lower():\n",
    "            result.at[i, 'lock'] = \"ромб тройной\"\n",
    "        elif \"ром\" in str(result.at[i, 'lock']).lower():\n",
    "            result.at[i, 'lock'] = \"ромб\"\n",
    "        elif \"бис\" in str(result.at[i, 'lock']).lower() or \"марк\" in str(result.at[i, 'lock']).lower():\n",
    "            result.at[i, 'lock'] = \"бисмарк\"\n",
    "        elif \"нон\" in str(result.at[i, 'lock']).lower():\n",
    "            result.at[i, 'lock'] = \"нонна\"\n",
    "        elif \"якор\" in str(result.at[i, 'lock']).lower():\n",
    "            result.at[i, 'lock'] = \"якорь\"\n",
    "        elif \"панц\" in str(result.at[i, 'lock']).lower() or \"цирь\" in str(result.at[i, 'lock']).lower():\n",
    "            result.at[i, 'lock'] = \"панцирь\"\n",
    "        elif \"синг\" in str(result.at[i, 'lock']).lower() or \"апур\" in str(result.at[i, 'lock']).lower():\n",
    "            result.at[i, 'lock'] = \"сингапур\"\n",
    "        elif \"лав\" in str(result.at[i, 'lock']).lower() or \"лов\" in str(result.at[i, 'lock']).lower() or \"lov\" in str(result.at[i, 'lock']).lower():\n",
    "            result.at[i, 'lock'] = \"лав\"\n",
    "        elif \"тонд\" in str(result.at[i, 'lock']).lower():\n",
    "            result.at[i, 'lock'] = \"тондо\"\n",
    "        elif \"фанта\" in str(result.at[i, 'lock']).lower():\n",
    "            result.at[i, 'lock'] = \"фантазия\"\n",
    "        elif \"рол\" in str(result.at[i, 'lock']).lower():\n",
    "            result.at[i, 'lock'] = \"ролло\"\n",
    "        elif \"рол\" in str(result.at[i, 'lock']).lower():\n",
    "            result.at[i, 'lock'] = \"ролло\"\n",
    "        elif \"фига\" in str(result.at[i, 'lock']).lower():\n",
    "            result.at[i, 'lock'] = \"фигаро\"\n",
    "        elif \"корд\" in str(result.at[i, 'lock']).lower():\n",
    "            result.at[i, 'lock'] = \"корда\"\n",
    "        elif \"улит\" in str(result.at[i, 'lock']).lower():\n",
    "            result.at[i, 'lock'] = \"улитка\"\n",
    "        elif \"перл\" in str(result.at[i, 'lock']).lower():\n",
    "            result.at[i, 'lock'] = \"перлина\"\n",
    "        elif \"сней\" in str(result.at[i, 'lock']).lower() or \"snak\" in str(result.at[i, 'lock']).lower() or \"змей\" in str(result.at[i, 'lock']).lower():\n",
    "            result.at[i, 'lock'] = \"снейк\"\n",
    "        else:\n",
    "            result.at[i, 'lock'] = \"неопределенно\""
   ],
   "metadata": {
    "collapsed": false,
    "ExecuteTime": {
     "end_time": "2024-03-19T07:25:14.891509Z",
     "start_time": "2024-03-19T07:25:14.823954Z"
    }
   },
   "id": "ba467a7fced0030d",
   "execution_count": 66
  },
  {
   "cell_type": "markdown",
   "source": [
    "Данные в файл на сервер и к себе"
   ],
   "metadata": {
    "collapsed": false
   },
   "id": "130c72fae18deeb1"
  },
  {
   "cell_type": "code",
   "outputs": [],
   "source": [
    "# if parsesize:\n",
    "#   adres = r'\\\\gold585.int\\uk\\Общее хранилище файлов\\Служба аналитики\\МЮР\\tg_tn'.encode().decode('UTF-8')+r'\\wildberries_' + str(datetime.date.today().    day) + \"_\" + str(datetime.date.today().month) + \"_\" + str(datetime.date.today().year)+\"_with_size\"+\".xlsx\"\n",
    "# else:\n",
    "#     adres = r'\\\\gold585.int\\uk\\Общее хранилище файлов\\Служба аналитики\\МЮР\\tg_tn'.encode().decode('UTF-8')+r'\\wildberries_' + str(datetime.date.today().    day) + \"_\" + str(datetime.date.today().month) + \"_\" + str(datetime.date.today().year)+\".xlsx\"\n",
    "# try:\n",
    "#     oldres = pd.read_excel(adres)\n",
    "# except:\n",
    "#     oldres = pd.DataFrame()\n",
    "# oldres = pd.concat([oldres,result],ignore_index=True)\n",
    "# oldres.to_excel(adres, index=False)\n",
    "if parsesize:\n",
    "    adresm = \"wildberries_\"+ str(datetime.date.today().day) + \"_\" + str(datetime.date.today().month) + \"_\" + str(datetime.date.today().year)+\"_with_size\"+\".xlsx\"\n",
    "else:\n",
    "    adresm = \"wildberries_\"+ str(datetime.date.today().day) + \"_\" + str(datetime.date.today().month) + \"_\" + str(datetime.date.today().year)+\".xlsx\"\n",
    "try:\n",
    "    oldresm = pd.read_excel(adresm)\n",
    "except:\n",
    "    oldresm = pd.DataFrame()\n",
    "oldresm = pd.concat([oldresm,result],ignore_index=True)\n",
    "oldresm.to_excel(adresm, index=False)"
   ],
   "metadata": {
    "collapsed": false,
    "ExecuteTime": {
     "end_time": "2024-03-19T07:25:20.430541Z",
     "start_time": "2024-03-19T07:25:16.993874Z"
    }
   },
   "id": "e76e03fbecb9cfa5",
   "execution_count": 67
  },
  {
   "cell_type": "code",
   "outputs": [],
   "source": [
    "res = oldresm[oldresm['group'] == \"СЕРЬГИ\"]\n",
    "if len(res)>0:\n",
    "    print(res['lock'].value_counts())"
   ],
   "metadata": {
    "collapsed": false,
    "ExecuteTime": {
     "end_time": "2024-03-19T07:25:22.053261Z",
     "start_time": "2024-03-19T07:25:22.046822Z"
    }
   },
   "id": "86f060c4792fef0a",
   "execution_count": 68
  },
  {
   "cell_type": "code",
   "outputs": [],
   "source": [
    "res = oldresm[oldresm['group'] == \"ЦБ ЦЕПИ\"]\n",
    "if len(res)>0:\n",
    "    print(res['lock'].value_counts())"
   ],
   "metadata": {
    "collapsed": false,
    "ExecuteTime": {
     "end_time": "2024-03-19T07:25:23.272962Z",
     "start_time": "2024-03-19T07:25:23.266959Z"
    }
   },
   "id": "c71d43cef020d5b1",
   "execution_count": 69
  },
  {
   "cell_type": "markdown",
   "source": [],
   "metadata": {
    "collapsed": false
   },
   "id": "c0d54e87985df984"
  }
 ],
 "metadata": {
  "kernelspec": {
   "display_name": "Python 3",
   "language": "python",
   "name": "python3"
  },
  "language_info": {
   "codemirror_mode": {
    "name": "ipython",
    "version": 2
   },
   "file_extension": ".py",
   "mimetype": "text/x-python",
   "name": "python",
   "nbconvert_exporter": "python",
   "pygments_lexer": "ipython2",
   "version": "2.7.6"
  }
 },
 "nbformat": 4,
 "nbformat_minor": 5
}
