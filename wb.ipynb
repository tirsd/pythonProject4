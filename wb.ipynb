{
 "cells": [
  {
   "cell_type": "markdown",
   "source": [
    "Импорт библиотек"
   ],
   "metadata": {
    "collapsed": false
   },
   "id": "32ce4a82fd8d9255"
  },
  {
   "cell_type": "code",
   "outputs": [],
   "source": [
    "from selenium import webdriver\n",
    "import time\n",
    "import datetime\n",
    "import math\n",
    "from tqdm import tqdm\n",
    "from bs4 import BeautifulSoup as bs\n",
    "import requests\n",
    "import numpy as np\n",
    "import openpyxl\n",
    "import pandas as pd\n",
    "import warnings"
   ],
   "metadata": {
    "collapsed": false,
    "ExecuteTime": {
     "end_time": "2024-03-19T07:04:46.855539Z",
     "start_time": "2024-03-19T07:04:46.850342Z"
    }
   },
   "id": "3cfd914e6d08ccbc",
   "execution_count": 49
  },
  {
   "cell_type": "markdown",
   "source": [
    "Функция для определения типа подвесок"
   ],
   "metadata": {
    "collapsed": false
   },
   "id": "247ec5cbbc700abf"
  },
  {
   "cell_type": "code",
   "outputs": [],
   "source": [
    "def charms (i):\n",
    "    name = str(result.iloc[i]['name'])\n",
    "    if \"крест\" in name or \"христиан\" in name or \"икона\" in name or \"мусульман\" in name or \"спаси\" in name or \"сохрани\" in name or \"месяц\" in name or \"аллах\" in name or \"пророк\" in name or \"будда\" in name or \"отче\" in name or \"молитва\" in name or \"икона\" in name or \"лунниц\" in name or \"ангел\" in name or \"эрцгамм\" in name or \"чудо\" in name or \"фатим\" in name or \"иисус\" in name or \"б.м\" in name or \"давид\" in name or \"матрон\" in name or \"госп\" in name or \"хамс\" in name:\n",
    "        return \"КУЛЬТ\"\n",
    "    else:\n",
    "        return \"ДЕКОР\""
   ],
   "metadata": {
    "collapsed": false,
    "ExecuteTime": {
     "end_time": "2024-03-19T07:04:49.083168Z",
     "start_time": "2024-03-19T07:04:49.076191Z"
    }
   },
   "id": "fcd6966ee217bad6",
   "execution_count": 50
  },
  {
   "cell_type": "markdown",
   "source": [
    "Попытка вытащить вес из карточки по браслетам и цепям"
   ],
   "metadata": {
    "collapsed": false
   },
   "id": "3e9c6ed493101b79"
  },
  {
   "cell_type": "code",
   "outputs": [],
   "source": [
    "def bracs (link):\n",
    "    url =f'https://card.wb.ru/cards/v2/detail?appType=1&curr=rub&dest=-1257786&spp=30&nm={link}'\n",
    "    sizes = requests.get(url, verify=False, timeout=30).json()\n",
    "    try:\n",
    "        r = sizes['data']['products'][0]['sizes'][0]['name']\n",
    "        if r.rfind(\"-\") > -1:\n",
    "            wei = r[r.rfind(\"-\")+1:].strip().lower().replace(\",\",\".\").replace(\"гр.\",\"\").replace(\"гр\",\"\")\n",
    "        elif r.rfind(\"~\") > -1:\n",
    "            wei = r[r.rfind(\"~\")+1:].strip().lower().replace(\",\", \".\").replace(\"гр.\",\"\").replace(\"гр\",\"\")\n",
    "        elif r.rfind(\" \") > -1:\n",
    "            wei = r[r.rfind(\" \")+1:].strip().lower().replace(\",\", \".\").replace(\"гр.\",\"\").replace(\"гр\",\"\")\n",
    "        wei = float(wei)\n",
    "        if wei > 0 and wei < 15:\n",
    "            return wei\n",
    "    except:\n",
    "        return np.nan"
   ],
   "metadata": {
    "collapsed": false,
    "ExecuteTime": {
     "end_time": "2024-03-19T07:04:52.256152Z",
     "start_time": "2024-03-19T07:04:52.247774Z"
    }
   },
   "id": "fd44cc9461b7f43e",
   "execution_count": 51
  },
  {
   "cell_type": "code",
   "outputs": [],
   "source": [
    "married = True\n",
    "parsesize = False\n",
    "warnings.filterwarnings('ignore')\n",
    "links=list()\n",
    "spis = [143, 287, 431, 719, 1007, 1061, 1115, 1169, 1313, 1601, 1655, 1919, 2045, 2189,2405]\n",
    "p=1\n",
    "arts = list()\n",
    "prices = list()\n",
    "po = list()\n",
    "date = list()\n",
    "discount = list()\n",
    "url = str(input('Введите ссылку:'))\n",
    "url1 = url[:url.find(\"page=\")+5]\n",
    "url2 = url[url.find(\"&\", url.find(\"page=\")):]"
   ],
   "metadata": {
    "collapsed": false,
    "ExecuteTime": {
     "end_time": "2024-03-19T07:04:56.163721Z",
     "start_time": "2024-03-19T07:04:54.506747Z"
    }
   },
   "id": "39973b3e8d2e0f6",
   "execution_count": 52
  },
  {
   "cell_type": "markdown",
   "source": [
    "Цикл пагинатор"
   ],
   "metadata": {
    "collapsed": false
   },
   "id": "846654e781bb5ae9"
  },
  {
   "cell_type": "code",
   "outputs": [],
   "source": [
    "mwd = webdriver.Chrome()\n",
    "mwd.maximize_window()\n",
    "while True:\n",
    "    url = url1 + str(p) + url2\n",
    "    mwd.get(url)\n",
    "    time.sleep(1.5)\n",
    "    step = 1900\n",
    "    while True:\n",
    "        step0=step-1900\n",
    "        lh = mwd.execute_script(\"return document.body.scrollHeight\")\n",
    "        mwd.execute_script(f\"window.scrollTo({step0}, {step});\")\n",
    "        time.sleep(1)\n",
    "        nh = mwd.execute_script(\"return document.body.scrollHeight\")\n",
    "        step+=1900\n",
    "        if nh==lh:\n",
    "            break\n",
    "    soup = bs(mwd.page_source, \"html.parser\")\n",
    "    artss =  soup.find_all('article',id=True)\n",
    "    for art in artss:\n",
    "        arts.append(art['data-nm-id'])\n",
    "    for art in artss:\n",
    "        if str(art).find('price__lower-price wallet-price')>0:\n",
    "            prl = art.findNext('ins',attrs={'class':'price__lower-price wallet-price'}).text.strip()[:-2]\n",
    "            if prl.find('\\xa0')>0:\n",
    "                prl = prl.replace('\\xa0','')\n",
    "            prices.append(prl)\n",
    "            po.append(math.ceil(int(prl)/0.95))\n",
    "            discount.append(0.95)\n",
    "        else:\n",
    "            prl = art.findNext('ins',attrs={'class': 'price__lower-price'}).text.strip()[:-2]\n",
    "            if prl.find('\\xa0')>0:\n",
    "                prl = prl.replace('\\xa0','')\n",
    "            prices.append(prl)\n",
    "            po.append(prl)\n",
    "            discount.append(1)\n",
    "    if p == 1:\n",
    "        page_counts = int(soup.find(attrs={'data-link': 'html{spaceFormatted:pagerModel.totalItems}'}).text.replace(' ',''))//100+1\n",
    "    if p == page_counts:\n",
    "        break\n",
    "    p+=1\n",
    "mwd.close()"
   ],
   "metadata": {
    "collapsed": false,
    "ExecuteTime": {
     "end_time": "2024-03-19T07:12:55.850440Z",
     "start_time": "2024-03-19T07:04:59.195491Z"
    }
   },
   "id": "4b855eb3dec338d0",
   "execution_count": 53
  },
  {
   "cell_type": "code",
   "outputs": [],
   "source": [
    "weights = list()\n",
    "inserts = list()\n",
    "metals = list()\n",
    "locks = list()\n",
    "competitors = list()\n",
    "names = list()\n",
    "groups =list()"
   ],
   "metadata": {
    "collapsed": false,
    "ExecuteTime": {
     "end_time": "2024-03-19T07:13:16.921875Z",
     "start_time": "2024-03-19T07:13:16.911090Z"
    }
   },
   "id": "5828fc6e1b26cb94",
   "execution_count": 54
  },
  {
   "cell_type": "markdown",
   "source": [
    "Собираем инфу с карточки товара"
   ],
   "metadata": {
    "collapsed": false
   },
   "id": "416c25b11360f65"
  },
  {
   "cell_type": "code",
   "outputs": [
    {
     "name": "stderr",
     "output_type": "stream",
     "text": [
      "100%|██████████| 5000/5000 [09:46<00:00,  8.52it/s]  \n"
     ]
    }
   ],
   "source": [
    "for link in tqdm(arts):\n",
    "    group = np.nan\n",
    "    name = np.nan\n",
    "    weight = np.nan\n",
    "    lock_type = np.nan\n",
    "    metal = np.nan\n",
    "    insert = np.nan\n",
    "    competitor = np.nan\n",
    "    i = 0\n",
    "    if int(link)//100000>spis[-1]:\n",
    "        i = len(spis)\n",
    "    else:\n",
    "        while int(link)//100000 > spis[i]:\n",
    "            i += 1\n",
    "    i += 1\n",
    "    if i < 10:\n",
    "        i = \"0\"+str(i)\n",
    "    current_link = f'https://basket-{i}.wbbasket.ru/vol{int(link)//100000}/part{int(link)//1000}/{link}/info/ru/card.json'\n",
    "    try:\n",
    "        basket = requests.get(current_link, verify=False, timeout=30).json()\n",
    "    except:\n",
    "        time.sleep(60)\n",
    "        basket = requests.get(current_link, verify=False, timeout=30).json()\n",
    "    try:\n",
    "        competitor = basket['selling']['brand_name']\n",
    "    except:\n",
    "        pass\n",
    "    try:\n",
    "        name = basket['imt_name'].lower()\n",
    "    except:\n",
    "        pass\n",
    "    try:\n",
    "        match basket['subj_name']:\n",
    "            case \"Ювелирные браслеты\": group = \"ЦБ БРАСЛЕТЫ\"\n",
    "            case \"Ювелирные цепочки\": group = \"ЦБ ЦЕПИ\"\n",
    "            case \"Ювелирные кольца\": group = \"КОЛЬЦА\"\n",
    "            case \"Ювелирные подвески\": group = \"ПОДВЕС\"\n",
    "            case \"Ювелирные серьги\": group = \"СЕРЬГИ\"\n",
    "    except:\n",
    "        pass\n",
    "    try:\n",
    "        for option in basket['options']:\n",
    "            if option['name'] == 'Минимальный вес (г)':\n",
    "                weight = float(option['value'].replace('г',''))\n",
    "            elif option['name'] == 'Вставка':\n",
    "                insert = option['value']\n",
    "            elif option['name'] == 'Вид замка':\n",
    "                lock_type = option['value']\n",
    "            elif option['name'] == 'Состав ювелирного изделия':\n",
    "                metal = option['value']\n",
    "    except:\n",
    "        pass\n",
    "    try:\n",
    "        for option in basket['grouped_options'][0]['options']:\n",
    "            if option['name'] == 'Минимальный вес (г)':\n",
    "                weight = float(option['value'].replace('г',''))\n",
    "            elif option['name'] == 'Вставка':\n",
    "                insert = option['value']\n",
    "            elif option['name'] == 'Вид замка':\n",
    "                lock_type = option['value']\n",
    "            elif option['name'] == 'Состав ювелирного изделия':\n",
    "                metal = option['value'].lower()\n",
    "    except:\n",
    "        pass\n",
    "    try:\n",
    "        if np.isnan(weight) and group in [\"ЦБ БРАСЛЕТЫ\",\"ЦБ ЦЕПИ\"]:\n",
    "            weight = float(bracs(link))\n",
    "    except:\n",
    "        pass\n",
    "    try:\n",
    "        if group == \"ЦБ ЦЕПИ\":\n",
    "            for option in basket['options']:\n",
    "                if 'плетен' in option['name']:\n",
    "                    lock_type = option['value']\n",
    "    except:\n",
    "        pass\n",
    "    try:\n",
    "        if group == \"ЦБ ЦЕПИ\":\n",
    "            for option in basket['grouped_options'][0]['options']:\n",
    "                if 'плетен' in option['name']:\n",
    "                    lock_type = option['value']\n",
    "    except:\n",
    "        pass\n",
    "    date.append(datetime.date.today())\n",
    "    weights.append(weight)\n",
    "    inserts.append(insert)\n",
    "    metals.append(metal)\n",
    "    locks.append(lock_type)\n",
    "    competitors.append(competitor)\n",
    "    names.append(name)\n",
    "    groups.append(group)"
   ],
   "metadata": {
    "collapsed": false,
    "ExecuteTime": {
     "end_time": "2024-03-19T07:23:05.837017Z",
     "start_time": "2024-03-19T07:13:19.049584Z"
    }
   },
   "id": "b2450bf895259a08",
   "execution_count": 55
  },
  {
   "cell_type": "markdown",
   "source": [
    "Условие для парсинга размеров"
   ],
   "metadata": {
    "collapsed": false
   },
   "id": "3335974f36ed6836"
  },
  {
   "cell_type": "code",
   "outputs": [],
   "source": [
    "if group == \"ЦБ ЦЕПИ\" or group ==\"ЦБ БРАСЛЕТЫ\" or group == \"КОЛЬЦА\":\n",
    "    strsize = input('Вас интересует размер? [y/n]')\n",
    "    if strsize.lower() in ['yes','y','д','да']:\n",
    "        parsesize = True"
   ],
   "metadata": {
    "collapsed": false,
    "ExecuteTime": {
     "end_time": "2024-03-19T07:23:50.744624Z",
     "start_time": "2024-03-19T07:23:46.167342Z"
    }
   },
   "id": "c6bae09917086c4a",
   "execution_count": 56
  },
  {
   "cell_type": "markdown",
   "source": [
    "Парсинг размеров"
   ],
   "metadata": {
    "collapsed": false
   },
   "id": "e514db2f7a8c5cb1"
  },
  {
   "cell_type": "code",
   "outputs": [],
   "source": [
    "if parsesize:\n",
    "    artsizes = list()\n",
    "    for link in tqdm(arts):\n",
    "        artsize = list()\n",
    "        url =f'https://card.wb.ru/cards/v2/detail?appType=1&curr=rub&dest=-1257786&spp=30&nm={link}'\n",
    "        try:\n",
    "            sizes = requests.get(url, verify=False, timeout=30).json()\n",
    "        except:\n",
    "            artsizes.append(np.nan)\n",
    "        try:\n",
    "            for option in sizes['data']['products'][0]['sizes']:\n",
    "                if len(option['stocks'])>0:\n",
    "                    size = option['origName']\n",
    "                    or1 = float(size.replace(\",\",\".\").replace(\"+\",\"\"))\n",
    "                    if (or1 > 10) and (or1 < 100): \n",
    "                        artsize.append(or1)\n",
    "                    try:\n",
    "                        or1 = size[:size.find(\"-\")]\n",
    "                        or2 = size[size.find(\"-\")+1:]\n",
    "                        if or1< 100 and or2 <100 and or1>10 and or2>10:\n",
    "                            for i in range(or1,or2+1):\n",
    "                                artsize.append(i)\n",
    "                    except:\n",
    "                        pass\n",
    "        except:\n",
    "            pass\n",
    "        artsizes.append(artsize)"
   ],
   "metadata": {
    "collapsed": false,
    "ExecuteTime": {
     "end_time": "2024-03-19T07:23:54.661878Z",
     "start_time": "2024-03-19T07:23:54.653732Z"
    }
   },
   "id": "382119f9b79f63e7",
   "execution_count": 57
  },
  {
   "cell_type": "markdown",
   "source": [
    "Проверка на тип колец"
   ],
   "metadata": {
    "collapsed": false
   },
   "id": "254c6e93d5ecf6ce"
  },
  {
   "cell_type": "code",
   "outputs": [],
   "source": [
    "if group == \"КОЛЬЦА\":\n",
    "    mar = str(input('Вас интересуют обручальные кольца? [y/n]'))\n",
    "    if len(mar.lower()) > 0 and mar not in ['да','yes','д','y']:\n",
    "        married = False"
   ],
   "metadata": {
    "collapsed": false,
    "ExecuteTime": {
     "end_time": "2024-03-19T07:24:46.424741Z",
     "start_time": "2024-03-19T07:24:43.400280Z"
    }
   },
   "id": "14be56f31c76485c",
   "execution_count": 59
  },
  {
   "cell_type": "markdown",
   "source": [
    "Данные в датасет"
   ],
   "metadata": {
    "collapsed": false
   },
   "id": "93da2ff231ce82f9"
  },
  {
   "cell_type": "code",
   "outputs": [],
   "source": [
    "if parsesize:\n",
    "    result = pd.DataFrame({'data': date,\n",
    "                       'competitor': competitors,\n",
    "                       'name': names,\n",
    "                       'group': groups,\n",
    "                       'weight': weights,\n",
    "                       'price': prices,\n",
    "                       'price_old': po,\n",
    "                       'discount': discount,\n",
    "                       'insert': inserts,\n",
    "                       'metal': metals,\n",
    "                       'lock': locks,\n",
    "                       'article': arts,\n",
    "                       'sizes': artsizes})\n",
    "else:\n",
    "    result = pd.DataFrame({'data': date,\n",
    "                       'competitor': competitors,\n",
    "                       'name': names,\n",
    "                       'group': groups,\n",
    "                       'weight': weights,\n",
    "                       'price': prices,\n",
    "                       'price_old': po,\n",
    "                       'discount': discount,\n",
    "                       'insert': inserts,\n",
    "                       'metal': metals,\n",
    "                       'lock': locks,\n",
    "                       'article': arts,})"
   ],
   "metadata": {
    "collapsed": false,
    "ExecuteTime": {
     "end_time": "2024-03-19T07:24:52.112347Z",
     "start_time": "2024-03-19T07:24:52.081307Z"
    }
   },
   "id": "370ae019b77c43ea",
   "execution_count": 60
  },
  {
   "cell_type": "code",
   "outputs": [
    {
     "name": "stdout",
     "output_type": "stream",
     "text": [
      "<class 'pandas.core.frame.DataFrame'>\n",
      "RangeIndex: 5000 entries, 0 to 4999\n",
      "Data columns (total 12 columns):\n",
      " #   Column      Non-Null Count  Dtype  \n",
      "---  ------      --------------  -----  \n",
      " 0   data        5000 non-null   object \n",
      " 1   competitor  4822 non-null   object \n",
      " 2   name        4998 non-null   object \n",
      " 3   group       5000 non-null   object \n",
      " 4   weight      4722 non-null   float64\n",
      " 5   price       5000 non-null   int32  \n",
      " 6   price_old   5000 non-null   object \n",
      " 7   discount    5000 non-null   float64\n",
      " 8   insert      4935 non-null   object \n",
      " 9   metal       4989 non-null   object \n",
      " 10  lock        0 non-null      float64\n",
      " 11  article     5000 non-null   object \n",
      "dtypes: float64(3), int32(1), object(8)\n",
      "memory usage: 449.3+ KB\n",
      "None\n"
     ]
    }
   ],
   "source": [
    "result['price'] = result['price'].astype('int')\n",
    "print(result.info())"
   ],
   "metadata": {
    "collapsed": false,
    "ExecuteTime": {
     "end_time": "2024-03-19T07:24:54.728897Z",
     "start_time": "2024-03-19T07:24:54.712614Z"
    }
   },
   "id": "b8de750982cdba2d",
   "execution_count": 61
  },
  {
   "cell_type": "markdown",
   "source": [
    "Работа с данными"
   ],
   "metadata": {
    "collapsed": false
   },
   "id": "a5de7c76adf1ff43"
  },
  {
   "cell_type": "code",
   "outputs": [],
   "source": [
    "groupdf = list()\n",
    "ii = list()\n",
    "avprice = list()\n",
    "insertgroup = list()\n",
    "charmgr = list()\n",
    "result = result.drop(result[\"каучук\" in result['insert'] or \"жемчуг\" in result['insert'] or \"серебро\" in result['metal'] or \"каучук\" in result['metal'] or \"жемчуг\" in result['metal'] or np.isnan(result['weight'])].index)\n",
    "avgpr = result['price']/result['weight']\n",
    "result.insert(loc=len(result.columns),column='Price per gramm',value=avgpr)\n",
    "result = result.drop(result[result['Price per gramm']<3000].index)\n",
    "cat = np.where(result['Price per gramm']<=5500, \"до 5500\",\n",
    "        np.where(\n",
    "        (result['Price per gramm'] <= 6000), '5 500 руб. - 6 000 руб.',\n",
    "        np.where(\n",
    "        (result['Price per gramm'] <= 6500), '6 000 руб. - 6 500 руб.',\n",
    "        np.where(\n",
    "        (result['Price per gramm'] <= 7000), '6 500 руб. - 7 000 руб.',\n",
    "        np.where(\n",
    "        (result['Price per gramm'] <= 8000), '7 000 руб. - 8 000 руб.',\n",
    "        np.where(\n",
    "        (result['Price per gramm'] <= 9000), '8 000 руб. - 9 000 руб.',\n",
    "        np.where(\n",
    "        (result['Price per gramm'] <= 10000), '9 000 руб. -10 000 руб.',  'свыше 10 000 руб.'\n",
    "        )))))))\n",
    "result.insert(loc=len(result.columns),column='group_price',value=cat)"
   ],
   "metadata": {
    "collapsed": false,
    "ExecuteTime": {
     "end_time": "2024-03-19T07:24:58.535702Z",
     "start_time": "2024-03-19T07:24:58.510936Z"
    }
   },
   "id": "df75c586f7d71ec3",
   "execution_count": 62
  },
  {
   "cell_type": "markdown",
   "source": [
    "Определяемся с категорией товарам и направлением"
   ],
   "metadata": {
    "collapsed": false
   },
   "id": "943986ae2b9becf3"
  },
  {
   "cell_type": "code",
   "outputs": [
    {
     "name": "stderr",
     "output_type": "stream",
     "text": [
      "100%|██████████| 4418/4418 [00:02<00:00, 2184.24it/s]\n"
     ]
    }
   ],
   "source": [
    "for i in tqdm(range(0,len(result))):\n",
    "    insertgroup.append(\"\")\n",
    "    inss = str(result.iloc[i]['insert']).split(';')\n",
    "    for ins in inss:\n",
    "        ins = str(ins).strip().lower()\n",
    "        if ins == \"бриллиант\" or ins == \"сапфир\" or ins ==\"рубин\" or ins == \"изумруд\" or ins == \"бриллиант натуральный\" or ins == \"сапфир натуральный\" or ins == \"рубин натуральный\" or ins == \"изумруд натуральный\" or ins ==\"бриллианты\" or ins == \"\":\n",
    "            insertgroup[-1] = \"ДК\"\n",
    "            charmgr.append('ДК')\n",
    "            break\n",
    "        elif ins == \"фианит\" or ins == \"бриллиант искусственный\" or ins == \"бриллиант выращенный\" or ins ==\"бриллианит\" or ins == \"бриллиант синтетический\" or \"фианит\" in str(result.iloc[i]['insert']).lower():\n",
    "            insertgroup[-1] = \"ИФ\"\n",
    "        elif \"нет\" in ins or \"без\" in ins or  str(result.iloc[i]['insert']).lower().strip() == \"золото\" or str(result.iloc[i]['insert']).lower() == \"эмаль\" or ins == \"nan\":\n",
    "            insertgroup[-1] = \"БК\"\n",
    "            charmgr.append('БК')\n",
    "            break\n",
    "        elif \"бр\" in ins and \"искусственный\" not in str(result.iloc[i]['insert']).lower() and \"выращенный\" not in str(result.iloc[i]['insert']).lower() and \"синтетический\" not in str(result.iloc[i]['insert']).lower():\n",
    "            insertgroup[-1] = \"ДК\"\n",
    "            charmgr.append('ДК')\n",
    "            break\n",
    "        elif insertgroup[-1] != \"ИФ\":\n",
    "            insertgroup[-1] = \"ПДК\"\n",
    "    if insertgroup[-1] in ['ИФ', 'ПДК']:\n",
    "        charmgr.append('ПДК')\n",
    "    if result.iloc[i]['group'] == \"ПОДВЕС\" and insertgroup[-1] in ['БК','ИФ']:\n",
    "        insertgroup[-1] = insertgroup[-1] + \" \" + result.iloc[i]['group'] + \" \" + charms(i)\n",
    "    elif result.iloc[i]['group'] == \"ПОДВЕС\":\n",
    "        insertgroup[-1] = insertgroup[-1] + \" \" + result.iloc[i]['group']\n",
    "    elif result.iloc[i]['group'] == \"СЕРЬГИ\":\n",
    "        insertgroup[-1] = insertgroup[-1] + \" \" + result.iloc[i]['group']\n",
    "    elif result.iloc[i]['group'] in ['ЦБ ЦЕПИ', 'ЦБ БРАСЛЕТЫ']:\n",
    "        insertgroup[-1] = result.iloc[i]['group']\n",
    "        charmgr[-1] = \"ЦБ\"\n",
    "    elif result.iloc[i]['group'] == \"КОЛЬЦА\" and married:\n",
    "        insertgroup[-1] = insertgroup[-1] + \" \" + result.iloc[i]['group'] + \" \" + \"ОБРУЧ\"\n",
    "    elif result.iloc[i]['group'] == \"КОЛЬЦА\":\n",
    "        insertgroup[-1] = insertgroup[-1] + \" \" + result.iloc[i]['group']\n",
    "    else:\n",
    "        ii.append(i)\n",
    "        charmgr.pop()\n",
    "if len(ii)>0:\n",
    "    result= result.drop(labels=ii,axis=0)\n",
    "result.insert(loc=len(result.columns),column='product_group(ТГ)',value=insertgroup)\n",
    "result.insert(loc=len(result.columns),column='product_direction(ТН)',value=charmgr)"
   ],
   "metadata": {
    "collapsed": false,
    "ExecuteTime": {
     "end_time": "2024-03-19T07:25:02.294310Z",
     "start_time": "2024-03-19T07:25:00.248716Z"
    }
   },
   "id": "7a62023c43ed8751",
   "execution_count": 63
  },
  {
   "cell_type": "code",
   "outputs": [
    {
     "data": {
      "text/plain": "            data                        competitor  \\\n0     2024-03-19                           KARATOV   \n1     2024-03-19                           SOKOLOV   \n2     2024-03-19                           KARATOV   \n3     2024-03-19                         REDzoloto   \n4     2024-03-19  Ювелирный магазин ЗОЛОТОЕ ДЕРЕВО   \n...          ...                               ...   \n4995  2024-03-19                     Maxim Demidov   \n4996  2024-03-19                     Maxim Demidov   \n4997  2024-03-19                     Maxim Demidov   \n4998  2024-03-19                     Maxim Demidov   \n4999  2024-03-19                     Maxim Demidov   \n\n                                                   name   group  weight  \\\n0                   кольцо обручальное золото 585 пробы  КОЛЬЦА    1.60   \n1       кольцо золотое 585 пробы с фианитом помолвочное  КОЛЬЦА    0.93   \n2                          кольцо обручальное 585 пробы  КОЛЬЦА    0.56   \n3                  кольцо золотое 585 пробы с фианитами  КОЛЬЦА    1.33   \n4                            золотое кольцо обручальное  КОЛЬЦА    1.70   \n...                                                 ...     ...     ...   \n4995  из белого золота (585 пробы) с натуральным тан...  КОЛЬЦА    4.22   \n4996  из белого золота (585 пробы) с натуральным тан...  КОЛЬЦА    4.31   \n4997  из белого золота (585 пробы) с натуральным тур...  КОЛЬЦА    7.14   \n4998  из белого золота (585 пробы) с натуральным сап...  КОЛЬЦА    4.23   \n4999  из белого золота (585 пробы) с натуральным гел...  КОЛЬЦА    4.11   \n\n       price price_old  discount                insert  \\\n0       9438      9935      0.95           без вставки   \n1       5684      5984      0.95                фианит   \n2       3590      3779      0.95           без вставки   \n3      12118     12756      0.95                фианит   \n4       9851     10370      0.95           без вставки   \n...      ...       ...       ...                   ...   \n4995  275330    275330      1.00  танзанит натуральный   \n4996  246081    246081      1.00  танзанит натуральный   \n4997  239254    239254      1.00  турмалин натуральный   \n4998  209144    209144      1.00    сапфир натуральный   \n4999  195680    195680      1.00              гелиодор   \n\n                                  metal  lock    article  Price per gramm  \\\n0                        золото красное   NaN   17641482      5898.750000   \n1                        золото красное   NaN  113256091      6111.827957   \n2                        золото красное   NaN   17641481      6410.714286   \n3                        золото красное   NaN   35443032      9111.278195   \n4                        золото красное   NaN  140882886      5794.705882   \n...                                 ...   ...        ...              ...   \n4995  золото белое; золото радированное   NaN  187217319     65244.075829   \n4996                       золото белое   NaN  187217294     57095.359629   \n4997  золото белое; золото радированное   NaN  187217316     33508.963585   \n4998  золото белое; золото радированное   NaN  187217338     49443.026005   \n4999  золото белое; золото радированное   NaN  187217296     47610.705596   \n\n                  group_price product_group(ТГ) product_direction(ТН)  \n0     5 500 руб. - 6 000 руб.   БК КОЛЬЦА ОБРУЧ                    БК  \n1     6 000 руб. - 6 500 руб.   ИФ КОЛЬЦА ОБРУЧ                   ПДК  \n2     6 000 руб. - 6 500 руб.   БК КОЛЬЦА ОБРУЧ                    БК  \n3     9 000 руб. -10 000 руб.   ИФ КОЛЬЦА ОБРУЧ                   ПДК  \n4     5 500 руб. - 6 000 руб.   БК КОЛЬЦА ОБРУЧ                    БК  \n...                       ...               ...                   ...  \n4995        свыше 10 000 руб.  ПДК КОЛЬЦА ОБРУЧ                   ПДК  \n4996        свыше 10 000 руб.  ПДК КОЛЬЦА ОБРУЧ                   ПДК  \n4997        свыше 10 000 руб.  ПДК КОЛЬЦА ОБРУЧ                   ПДК  \n4998        свыше 10 000 руб.   ДК КОЛЬЦА ОБРУЧ                    ДК  \n4999        свыше 10 000 руб.  ПДК КОЛЬЦА ОБРУЧ                   ПДК  \n\n[4418 rows x 16 columns]",
      "text/html": "<div>\n<style scoped>\n    .dataframe tbody tr th:only-of-type {\n        vertical-align: middle;\n    }\n\n    .dataframe tbody tr th {\n        vertical-align: top;\n    }\n\n    .dataframe thead th {\n        text-align: right;\n    }\n</style>\n<table border=\"1\" class=\"dataframe\">\n  <thead>\n    <tr style=\"text-align: right;\">\n      <th></th>\n      <th>data</th>\n      <th>competitor</th>\n      <th>name</th>\n      <th>group</th>\n      <th>weight</th>\n      <th>price</th>\n      <th>price_old</th>\n      <th>discount</th>\n      <th>insert</th>\n      <th>metal</th>\n      <th>lock</th>\n      <th>article</th>\n      <th>Price per gramm</th>\n      <th>group_price</th>\n      <th>product_group(ТГ)</th>\n      <th>product_direction(ТН)</th>\n    </tr>\n  </thead>\n  <tbody>\n    <tr>\n      <th>0</th>\n      <td>2024-03-19</td>\n      <td>KARATOV</td>\n      <td>кольцо обручальное золото 585 пробы</td>\n      <td>КОЛЬЦА</td>\n      <td>1.60</td>\n      <td>9438</td>\n      <td>9935</td>\n      <td>0.95</td>\n      <td>без вставки</td>\n      <td>золото красное</td>\n      <td>NaN</td>\n      <td>17641482</td>\n      <td>5898.750000</td>\n      <td>5 500 руб. - 6 000 руб.</td>\n      <td>БК КОЛЬЦА ОБРУЧ</td>\n      <td>БК</td>\n    </tr>\n    <tr>\n      <th>1</th>\n      <td>2024-03-19</td>\n      <td>SOKOLOV</td>\n      <td>кольцо золотое 585 пробы с фианитом помолвочное</td>\n      <td>КОЛЬЦА</td>\n      <td>0.93</td>\n      <td>5684</td>\n      <td>5984</td>\n      <td>0.95</td>\n      <td>фианит</td>\n      <td>золото красное</td>\n      <td>NaN</td>\n      <td>113256091</td>\n      <td>6111.827957</td>\n      <td>6 000 руб. - 6 500 руб.</td>\n      <td>ИФ КОЛЬЦА ОБРУЧ</td>\n      <td>ПДК</td>\n    </tr>\n    <tr>\n      <th>2</th>\n      <td>2024-03-19</td>\n      <td>KARATOV</td>\n      <td>кольцо обручальное 585 пробы</td>\n      <td>КОЛЬЦА</td>\n      <td>0.56</td>\n      <td>3590</td>\n      <td>3779</td>\n      <td>0.95</td>\n      <td>без вставки</td>\n      <td>золото красное</td>\n      <td>NaN</td>\n      <td>17641481</td>\n      <td>6410.714286</td>\n      <td>6 000 руб. - 6 500 руб.</td>\n      <td>БК КОЛЬЦА ОБРУЧ</td>\n      <td>БК</td>\n    </tr>\n    <tr>\n      <th>3</th>\n      <td>2024-03-19</td>\n      <td>REDzoloto</td>\n      <td>кольцо золотое 585 пробы с фианитами</td>\n      <td>КОЛЬЦА</td>\n      <td>1.33</td>\n      <td>12118</td>\n      <td>12756</td>\n      <td>0.95</td>\n      <td>фианит</td>\n      <td>золото красное</td>\n      <td>NaN</td>\n      <td>35443032</td>\n      <td>9111.278195</td>\n      <td>9 000 руб. -10 000 руб.</td>\n      <td>ИФ КОЛЬЦА ОБРУЧ</td>\n      <td>ПДК</td>\n    </tr>\n    <tr>\n      <th>4</th>\n      <td>2024-03-19</td>\n      <td>Ювелирный магазин ЗОЛОТОЕ ДЕРЕВО</td>\n      <td>золотое кольцо обручальное</td>\n      <td>КОЛЬЦА</td>\n      <td>1.70</td>\n      <td>9851</td>\n      <td>10370</td>\n      <td>0.95</td>\n      <td>без вставки</td>\n      <td>золото красное</td>\n      <td>NaN</td>\n      <td>140882886</td>\n      <td>5794.705882</td>\n      <td>5 500 руб. - 6 000 руб.</td>\n      <td>БК КОЛЬЦА ОБРУЧ</td>\n      <td>БК</td>\n    </tr>\n    <tr>\n      <th>...</th>\n      <td>...</td>\n      <td>...</td>\n      <td>...</td>\n      <td>...</td>\n      <td>...</td>\n      <td>...</td>\n      <td>...</td>\n      <td>...</td>\n      <td>...</td>\n      <td>...</td>\n      <td>...</td>\n      <td>...</td>\n      <td>...</td>\n      <td>...</td>\n      <td>...</td>\n      <td>...</td>\n    </tr>\n    <tr>\n      <th>4995</th>\n      <td>2024-03-19</td>\n      <td>Maxim Demidov</td>\n      <td>из белого золота (585 пробы) с натуральным тан...</td>\n      <td>КОЛЬЦА</td>\n      <td>4.22</td>\n      <td>275330</td>\n      <td>275330</td>\n      <td>1.00</td>\n      <td>танзанит натуральный</td>\n      <td>золото белое; золото радированное</td>\n      <td>NaN</td>\n      <td>187217319</td>\n      <td>65244.075829</td>\n      <td>свыше 10 000 руб.</td>\n      <td>ПДК КОЛЬЦА ОБРУЧ</td>\n      <td>ПДК</td>\n    </tr>\n    <tr>\n      <th>4996</th>\n      <td>2024-03-19</td>\n      <td>Maxim Demidov</td>\n      <td>из белого золота (585 пробы) с натуральным тан...</td>\n      <td>КОЛЬЦА</td>\n      <td>4.31</td>\n      <td>246081</td>\n      <td>246081</td>\n      <td>1.00</td>\n      <td>танзанит натуральный</td>\n      <td>золото белое</td>\n      <td>NaN</td>\n      <td>187217294</td>\n      <td>57095.359629</td>\n      <td>свыше 10 000 руб.</td>\n      <td>ПДК КОЛЬЦА ОБРУЧ</td>\n      <td>ПДК</td>\n    </tr>\n    <tr>\n      <th>4997</th>\n      <td>2024-03-19</td>\n      <td>Maxim Demidov</td>\n      <td>из белого золота (585 пробы) с натуральным тур...</td>\n      <td>КОЛЬЦА</td>\n      <td>7.14</td>\n      <td>239254</td>\n      <td>239254</td>\n      <td>1.00</td>\n      <td>турмалин натуральный</td>\n      <td>золото белое; золото радированное</td>\n      <td>NaN</td>\n      <td>187217316</td>\n      <td>33508.963585</td>\n      <td>свыше 10 000 руб.</td>\n      <td>ПДК КОЛЬЦА ОБРУЧ</td>\n      <td>ПДК</td>\n    </tr>\n    <tr>\n      <th>4998</th>\n      <td>2024-03-19</td>\n      <td>Maxim Demidov</td>\n      <td>из белого золота (585 пробы) с натуральным сап...</td>\n      <td>КОЛЬЦА</td>\n      <td>4.23</td>\n      <td>209144</td>\n      <td>209144</td>\n      <td>1.00</td>\n      <td>сапфир натуральный</td>\n      <td>золото белое; золото радированное</td>\n      <td>NaN</td>\n      <td>187217338</td>\n      <td>49443.026005</td>\n      <td>свыше 10 000 руб.</td>\n      <td>ДК КОЛЬЦА ОБРУЧ</td>\n      <td>ДК</td>\n    </tr>\n    <tr>\n      <th>4999</th>\n      <td>2024-03-19</td>\n      <td>Maxim Demidov</td>\n      <td>из белого золота (585 пробы) с натуральным гел...</td>\n      <td>КОЛЬЦА</td>\n      <td>4.11</td>\n      <td>195680</td>\n      <td>195680</td>\n      <td>1.00</td>\n      <td>гелиодор</td>\n      <td>золото белое; золото радированное</td>\n      <td>NaN</td>\n      <td>187217296</td>\n      <td>47610.705596</td>\n      <td>свыше 10 000 руб.</td>\n      <td>ПДК КОЛЬЦА ОБРУЧ</td>\n      <td>ПДК</td>\n    </tr>\n  </tbody>\n</table>\n<p>4418 rows × 16 columns</p>\n</div>"
     },
     "execution_count": 64,
     "metadata": {},
     "output_type": "execute_result"
    }
   ],
   "source": [
    "result"
   ],
   "metadata": {
    "collapsed": false,
    "ExecuteTime": {
     "end_time": "2024-03-19T07:25:03.652537Z",
     "start_time": "2024-03-19T07:25:03.628186Z"
    }
   },
   "id": "e348f7c428f89d80",
   "execution_count": 64
  },
  {
   "cell_type": "markdown",
   "source": [
    "Расписываем серьги "
   ],
   "metadata": {
    "collapsed": false
   },
   "id": "e9a3caae6a179cb5"
  },
  {
   "cell_type": "code",
   "outputs": [
    {
     "name": "stderr",
     "output_type": "stream",
     "text": [
      "100%|██████████| 4418/4418 [00:00<00:00, 220771.25it/s]\n"
     ]
    }
   ],
   "source": [
    "for i in tqdm(result.index):\n",
    "    if result.at[i, 'group'] == \"СЕРЬГИ\":\n",
    "        if \"англ\" in str(result.at[i, 'lock']).lower() or \"нгл\" in str(result.at[i, 'lock']).lower():\n",
    "            result.at[i, 'lock'] = \"английский\"\n",
    "        elif \"франц\" in str(result.at[i, 'lock']).lower() or \"зск\" in str(result.at[i, 'lock']).lower():\n",
    "            result.at[i, 'lock'] = \"французский\"\n",
    "        elif \"штиф\" in str(result.at[i, 'lock']).lower() or \"фтов\" in str(result.at[i, 'lock']).lower():\n",
    "            result.at[i, 'lock'] = \"штифтовой\"\n",
    "        elif \"конг\" in str(result.at[i, 'lock']).lower():\n",
    "            result.at[i, 'lock'] = \"конго\"\n",
    "        elif \"винт\" in str(result.at[i, 'lock']).lower():\n",
    "            result.at[i, 'lock'] = \"винтовой\"\n",
    "        elif \"зажим\" in str(result.at[i, 'lock']).lower():\n",
    "            result.at[i, 'lock'] = \"зажим\"\n",
    "        elif \"петля\" in str(result.at[i, 'lock']).lower():\n",
    "            result.at[i, 'lock'] = \"петля\"\n",
    "        elif \"прот\" in str(result.at[i, 'lock']).lower():\n",
    "            result.at[i, 'lock'] = \"протяжки\"\n",
    "        elif \"пус\" in str(result.at[i, 'lock']).lower():\n",
    "            result.at[i, 'lock'] = \"пуссеты\"\n",
    "        elif \"прод\" in str(result.at[i, 'lock']).lower():\n",
    "            result.at[i, 'lock'] = \"продевки\"\n",
    "        elif \"без\" in str(result.at[i, 'lock']).lower():\n",
    "            result.at[i, 'lock'] = \"без застежки\"\n",
    "        else:\n",
    "            result.at[i, 'lock'] = \"неопределенно\""
   ],
   "metadata": {
    "collapsed": false,
    "ExecuteTime": {
     "end_time": "2024-03-19T07:25:13.047780Z",
     "start_time": "2024-03-19T07:25:13.014883Z"
    }
   },
   "id": "356d0f2d6e8bdb11",
   "execution_count": 65
  },
  {
   "cell_type": "markdown",
   "source": [
    "Расписываем цепи"
   ],
   "metadata": {
    "collapsed": false
   },
   "id": "2ea67b68b2241808"
  },
  {
   "cell_type": "code",
   "outputs": [
    {
     "name": "stderr",
     "output_type": "stream",
     "text": [
      "100%|██████████| 4418/4418 [00:00<00:00, 104204.85it/s]\n"
     ]
    }
   ],
   "source": [
    "for i in tqdm(result.index):\n",
    "    if result.at[i, 'group'] == \"ЦБ ЦЕПИ\":\n",
    "        if \"ром\" in str(result.at[i, 'lock']).lower() and \"двой\" in str(result.at[i, 'lock']).lower():\n",
    "            result.at[i, 'lock'] = \"ромб двойной\"\n",
    "        elif \"ром\" in str(result.at[i, 'lock']).lower() and \"трой\" in str(result.at[i, 'lock']).lower():\n",
    "            result.at[i, 'lock'] = \"ромб тройной\"\n",
    "        elif \"ром\" in str(result.at[i, 'lock']).lower():\n",
    "            result.at[i, 'lock'] = \"ромб\"\n",
    "        elif \"бис\" in str(result.at[i, 'lock']).lower() or \"марк\" in str(result.at[i, 'lock']).lower():\n",
    "            result.at[i, 'lock'] = \"бисмарк\"\n",
    "        elif \"нон\" in str(result.at[i, 'lock']).lower():\n",
    "            result.at[i, 'lock'] = \"нонна\"\n",
    "        elif \"якор\" in str(result.at[i, 'lock']).lower():\n",
    "            result.at[i, 'lock'] = \"якорь\"\n",
    "        elif \"панц\" in str(result.at[i, 'lock']).lower() or \"цирь\" in str(result.at[i, 'lock']).lower():\n",
    "            result.at[i, 'lock'] = \"панцирь\"\n",
    "        elif \"синг\" in str(result.at[i, 'lock']).lower() or \"апур\" in str(result.at[i, 'lock']).lower():\n",
    "            result.at[i, 'lock'] = \"сингапур\"\n",
    "        elif \"лав\" in str(result.at[i, 'lock']).lower() or \"лов\" in str(result.at[i, 'lock']).lower() or \"lov\" in str(result.at[i, 'lock']).lower():\n",
    "            result.at[i, 'lock'] = \"лав\"\n",
    "        elif \"тонд\" in str(result.at[i, 'lock']).lower():\n",
    "            result.at[i, 'lock'] = \"тондо\"\n",
    "        elif \"фанта\" in str(result.at[i, 'lock']).lower():\n",
    "            result.at[i, 'lock'] = \"фантазия\"\n",
    "        elif \"рол\" in str(result.at[i, 'lock']).lower():\n",
    "            result.at[i, 'lock'] = \"ролло\"\n",
    "        elif \"рол\" in str(result.at[i, 'lock']).lower():\n",
    "            result.at[i, 'lock'] = \"ролло\"\n",
    "        elif \"фига\" in str(result.at[i, 'lock']).lower():\n",
    "            result.at[i, 'lock'] = \"фигаро\"\n",
    "        elif \"корд\" in str(result.at[i, 'lock']).lower():\n",
    "            result.at[i, 'lock'] = \"корда\"\n",
    "        elif \"улит\" in str(result.at[i, 'lock']).lower():\n",
    "            result.at[i, 'lock'] = \"улитка\"\n",
    "        elif \"перл\" in str(result.at[i, 'lock']).lower():\n",
    "            result.at[i, 'lock'] = \"перлина\"\n",
    "        elif \"сней\" in str(result.at[i, 'lock']).lower() or \"snak\" in str(result.at[i, 'lock']).lower() or \"змей\" in str(result.at[i, 'lock']).lower():\n",
    "            result.at[i, 'lock'] = \"снейк\"\n",
    "        else:\n",
    "            result.at[i, 'lock'] = \"неопределенно\""
   ],
   "metadata": {
    "collapsed": false,
    "ExecuteTime": {
     "end_time": "2024-03-19T07:25:14.891509Z",
     "start_time": "2024-03-19T07:25:14.823954Z"
    }
   },
   "id": "ba467a7fced0030d",
   "execution_count": 66
  },
  {
   "cell_type": "markdown",
   "source": [
    "Данные в файл на сервер и к себе"
   ],
   "metadata": {
    "collapsed": false
   },
   "id": "130c72fae18deeb1"
  },
  {
   "cell_type": "code",
   "outputs": [],
   "source": [
    "# if parsesize:\n",
    "#   adres = r'\\\\gold585.int\\uk\\Общее хранилище файлов\\Служба аналитики\\МЮР\\tg_tn'.encode().decode('UTF-8')+r'\\wildberries_' + str(datetime.date.today().    day) + \"_\" + str(datetime.date.today().month) + \"_\" + str(datetime.date.today().year)+\"_with_size\"+\".xlsx\"\n",
    "# else:\n",
    "#     adres = r'\\\\gold585.int\\uk\\Общее хранилище файлов\\Служба аналитики\\МЮР\\tg_tn'.encode().decode('UTF-8')+r'\\wildberries_' + str(datetime.date.today().    day) + \"_\" + str(datetime.date.today().month) + \"_\" + str(datetime.date.today().year)+\".xlsx\"\n",
    "# try:\n",
    "#     oldres = pd.read_excel(adres)\n",
    "# except:\n",
    "#     oldres = pd.DataFrame()\n",
    "# oldres = pd.concat([oldres,result],ignore_index=True)\n",
    "# oldres.to_excel(adres, index=False)\n",
    "if parsesize:\n",
    "    adresm = \"wildberries_\"+ str(datetime.date.today().day) + \"_\" + str(datetime.date.today().month) + \"_\" + str(datetime.date.today().year)+\"_with_size\"+\".xlsx\"\n",
    "else:\n",
    "    adresm = \"wildberries_\"+ str(datetime.date.today().day) + \"_\" + str(datetime.date.today().month) + \"_\" + str(datetime.date.today().year)+\".xlsx\"\n",
    "try:\n",
    "    oldresm = pd.read_excel(adresm)\n",
    "except:\n",
    "    oldresm = pd.DataFrame()\n",
    "oldresm = pd.concat([oldresm,result],ignore_index=True)\n",
    "oldresm.to_excel(adresm, index=False)"
   ],
   "metadata": {
    "collapsed": false,
    "ExecuteTime": {
     "end_time": "2024-03-19T07:25:20.430541Z",
     "start_time": "2024-03-19T07:25:16.993874Z"
    }
   },
   "id": "e76e03fbecb9cfa5",
   "execution_count": 67
  },
  {
   "cell_type": "code",
   "outputs": [],
   "source": [
    "res = oldresm[oldresm['group'] == \"СЕРЬГИ\"]\n",
    "if len(res)>0:\n",
    "    print(res['lock'].value_counts())"
   ],
   "metadata": {
    "collapsed": false,
    "ExecuteTime": {
     "end_time": "2024-03-19T07:25:22.053261Z",
     "start_time": "2024-03-19T07:25:22.046822Z"
    }
   },
   "id": "86f060c4792fef0a",
   "execution_count": 68
  },
  {
   "cell_type": "code",
   "outputs": [],
   "source": [
    "res = oldresm[oldresm['group'] == \"ЦБ ЦЕПИ\"]\n",
    "if len(res)>0:\n",
    "    print(res['lock'].value_counts())"
   ],
   "metadata": {
    "collapsed": false,
    "ExecuteTime": {
     "end_time": "2024-03-19T07:25:23.272962Z",
     "start_time": "2024-03-19T07:25:23.266959Z"
    }
   },
   "id": "c71d43cef020d5b1",
   "execution_count": 69
  },
  {
   "cell_type": "markdown",
   "source": [],
   "metadata": {
    "collapsed": false
   },
   "id": "c0d54e87985df984"
  }
 ],
 "metadata": {
  "kernelspec": {
   "display_name": "Python 3",
   "language": "python",
   "name": "python3"
  },
  "language_info": {
   "codemirror_mode": {
    "name": "ipython",
    "version": 2
   },
   "file_extension": ".py",
   "mimetype": "text/x-python",
   "name": "python",
   "nbconvert_exporter": "python",
   "pygments_lexer": "ipython2",
   "version": "2.7.6"
  }
 },
 "nbformat": 4,
 "nbformat_minor": 5
}
