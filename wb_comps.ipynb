{
 "cells": [
  {
   "cell_type": "code",
   "execution_count": 135,
   "id": "initial_id",
   "metadata": {
    "collapsed": true,
    "ExecuteTime": {
     "end_time": "2024-03-27T06:42:08.414272Z",
     "start_time": "2024-03-27T06:42:08.344850Z"
    }
   },
   "outputs": [],
   "source": [
    "import pandas\n",
    "import numpy as np\n",
    "import warnings"
   ]
  },
  {
   "cell_type": "code",
   "outputs": [
    {
     "data": {
      "text/plain": "                                                    Thumb        SKU  \\\n0       https://basket-01.wb.ru/vol30/part3048/3048451...    3048451   \n1       https://basket-08.wb.ru/vol1132/part113256/113...  113256091   \n2       https://basket-12.wb.ru/vol1804/part180497/180...  180497628   \n3       https://basket-01.wb.ru/vol34/part3436/3436272...    3436272   \n4       https://basket-01.wb.ru/vol29/part2900/2900455...    2900455   \n...                                                   ...        ...   \n130779  https://basket-10.wb.ru/vol1561/part156145/156...  156145094   \n130780  https://basket-03.wb.ru/vol397/part39713/39713...   39713384   \n130781  https://basket-11.wb.ru/vol1628/part162899/162...  162899864   \n130782  https://basket-05.wb.ru/vol765/part76578/76578...   76578794   \n130783  https://basket-05.wb.ru/vol824/part82441/82441...   82441244   \n\n                                                     Name  Revenue  Sales  \\\n0               Кольцо женское золотое 585 пробы с камнем  4122674    497   \n1         Кольцо золотое 585 пробы с фианитом помолвочное  3827480    667   \n2               Кольцо Возвышенное красное сердце Подарок  3726944   2260   \n3                    Ювелирная цепочка на шею серебро 925  3247398   5481   \n4                           Цепочка на шею из серебра 925  3029294   4561   \n...                                                   ...      ...    ...   \n130779               Ювелирный чокер с натуральным камнем        0      0   \n130780               Часы наручные мужские из серебра 925        0      0   \n130781                 Колье золотое с эмалью и аметистом        0      0   \n130782                                  Ювелирная цепочка        0      0   \n130783  Часы наручные из золота 585 пробы 233.01.00.00...        0      0   \n\n                                                 Category  Category Position  \\\n0       Ювелирные изделия/Украшения из золота/Ювелирно...                446   \n1       Ювелирные изделия/Украшения из золота/Ювелирно...                 14   \n2                                Ювелирные изделия/Кольца                  4   \n3       Ювелирные изделия/Украшения из серебра/Ювелирн...                143   \n4       Ювелирные изделия/Украшения из серебра/Ювелирн...                200   \n...                                                   ...                ...   \n130779  Ювелирные изделия/Украшения из серебра/Ювелирн...                226   \n130780              Ювелирные изделия/Часы/Ювелирные часы                 14   \n130781                                                NaN                 -1   \n130782  Ювелирные изделия/Украшения из серебра/Ювелирн...               4322   \n130783              Ювелирные изделия/Часы/Ювелирные часы                 67   \n\n                    Brand                          Seller  Balance  Comments  \\\n0                 SOKOLOV               АО Лакса Трейдинг      281      2354   \n1                 SOKOLOV               АО Лакса Трейдинг      408      3645   \n2                 PANDORA                ИП Зубелевич Т Г      600      1240   \n3                 SOKOLOV               АО Лакса Трейдинг     3924     14806   \n4                 SOKOLOV               АО Лакса Трейдинг     2377      5083   \n...                   ...                             ...      ...       ...   \n130779          L'ATTRICE                    ООО Латтриче        1         0   \n130780            SOKOLOV               АО Лакса Трейдинг        4       177   \n130781  Русские самоцветы  ООО ИЮД Русские Самоцветы 1912        0         0   \n130782           Кимберли   Достовалова Ирина Геннадьевна       20         0   \n130783            SOKOLOV               АО Лакса Трейдинг        1         7   \n\n        Rating  Final price  SPP Price  Days in stock Turnover  Turnover days  \n0            5        11949      11949             30     1,26             24  \n1            5         5801       5801             30      1,5             20  \n2            5         1515       1515             30      1,4             21  \n3            5          844        844             30     1,57             19  \n4            5          943        943             30     2,25             13  \n...        ...          ...        ...            ...      ...            ...  \n130779       0         2199       2199             30        0              0  \n130780       5        11697      11697              3        0              0  \n130781       0       135941     135941              0        0              0  \n130782       0         1202       1202             30        0              0  \n130783       4       107403     107403              1        0              0  \n\n[130784 rows x 17 columns]",
      "text/html": "<div>\n<style scoped>\n    .dataframe tbody tr th:only-of-type {\n        vertical-align: middle;\n    }\n\n    .dataframe tbody tr th {\n        vertical-align: top;\n    }\n\n    .dataframe thead th {\n        text-align: right;\n    }\n</style>\n<table border=\"1\" class=\"dataframe\">\n  <thead>\n    <tr style=\"text-align: right;\">\n      <th></th>\n      <th>Thumb</th>\n      <th>SKU</th>\n      <th>Name</th>\n      <th>Revenue</th>\n      <th>Sales</th>\n      <th>Category</th>\n      <th>Category Position</th>\n      <th>Brand</th>\n      <th>Seller</th>\n      <th>Balance</th>\n      <th>Comments</th>\n      <th>Rating</th>\n      <th>Final price</th>\n      <th>SPP Price</th>\n      <th>Days in stock</th>\n      <th>Turnover</th>\n      <th>Turnover days</th>\n    </tr>\n  </thead>\n  <tbody>\n    <tr>\n      <th>0</th>\n      <td>https://basket-01.wb.ru/vol30/part3048/3048451...</td>\n      <td>3048451</td>\n      <td>Кольцо женское золотое 585 пробы с камнем</td>\n      <td>4122674</td>\n      <td>497</td>\n      <td>Ювелирные изделия/Украшения из золота/Ювелирно...</td>\n      <td>446</td>\n      <td>SOKOLOV</td>\n      <td>АО Лакса Трейдинг</td>\n      <td>281</td>\n      <td>2354</td>\n      <td>5</td>\n      <td>11949</td>\n      <td>11949</td>\n      <td>30</td>\n      <td>1,26</td>\n      <td>24</td>\n    </tr>\n    <tr>\n      <th>1</th>\n      <td>https://basket-08.wb.ru/vol1132/part113256/113...</td>\n      <td>113256091</td>\n      <td>Кольцо золотое 585 пробы с фианитом помолвочное</td>\n      <td>3827480</td>\n      <td>667</td>\n      <td>Ювелирные изделия/Украшения из золота/Ювелирно...</td>\n      <td>14</td>\n      <td>SOKOLOV</td>\n      <td>АО Лакса Трейдинг</td>\n      <td>408</td>\n      <td>3645</td>\n      <td>5</td>\n      <td>5801</td>\n      <td>5801</td>\n      <td>30</td>\n      <td>1,5</td>\n      <td>20</td>\n    </tr>\n    <tr>\n      <th>2</th>\n      <td>https://basket-12.wb.ru/vol1804/part180497/180...</td>\n      <td>180497628</td>\n      <td>Кольцо Возвышенное красное сердце Подарок</td>\n      <td>3726944</td>\n      <td>2260</td>\n      <td>Ювелирные изделия/Кольца</td>\n      <td>4</td>\n      <td>PANDORA</td>\n      <td>ИП Зубелевич Т Г</td>\n      <td>600</td>\n      <td>1240</td>\n      <td>5</td>\n      <td>1515</td>\n      <td>1515</td>\n      <td>30</td>\n      <td>1,4</td>\n      <td>21</td>\n    </tr>\n    <tr>\n      <th>3</th>\n      <td>https://basket-01.wb.ru/vol34/part3436/3436272...</td>\n      <td>3436272</td>\n      <td>Ювелирная цепочка на шею серебро 925</td>\n      <td>3247398</td>\n      <td>5481</td>\n      <td>Ювелирные изделия/Украшения из серебра/Ювелирн...</td>\n      <td>143</td>\n      <td>SOKOLOV</td>\n      <td>АО Лакса Трейдинг</td>\n      <td>3924</td>\n      <td>14806</td>\n      <td>5</td>\n      <td>844</td>\n      <td>844</td>\n      <td>30</td>\n      <td>1,57</td>\n      <td>19</td>\n    </tr>\n    <tr>\n      <th>4</th>\n      <td>https://basket-01.wb.ru/vol29/part2900/2900455...</td>\n      <td>2900455</td>\n      <td>Цепочка на шею из серебра 925</td>\n      <td>3029294</td>\n      <td>4561</td>\n      <td>Ювелирные изделия/Украшения из серебра/Ювелирн...</td>\n      <td>200</td>\n      <td>SOKOLOV</td>\n      <td>АО Лакса Трейдинг</td>\n      <td>2377</td>\n      <td>5083</td>\n      <td>5</td>\n      <td>943</td>\n      <td>943</td>\n      <td>30</td>\n      <td>2,25</td>\n      <td>13</td>\n    </tr>\n    <tr>\n      <th>...</th>\n      <td>...</td>\n      <td>...</td>\n      <td>...</td>\n      <td>...</td>\n      <td>...</td>\n      <td>...</td>\n      <td>...</td>\n      <td>...</td>\n      <td>...</td>\n      <td>...</td>\n      <td>...</td>\n      <td>...</td>\n      <td>...</td>\n      <td>...</td>\n      <td>...</td>\n      <td>...</td>\n      <td>...</td>\n    </tr>\n    <tr>\n      <th>130779</th>\n      <td>https://basket-10.wb.ru/vol1561/part156145/156...</td>\n      <td>156145094</td>\n      <td>Ювелирный чокер с натуральным камнем</td>\n      <td>0</td>\n      <td>0</td>\n      <td>Ювелирные изделия/Украшения из серебра/Ювелирн...</td>\n      <td>226</td>\n      <td>L'ATTRICE</td>\n      <td>ООО Латтриче</td>\n      <td>1</td>\n      <td>0</td>\n      <td>0</td>\n      <td>2199</td>\n      <td>2199</td>\n      <td>30</td>\n      <td>0</td>\n      <td>0</td>\n    </tr>\n    <tr>\n      <th>130780</th>\n      <td>https://basket-03.wb.ru/vol397/part39713/39713...</td>\n      <td>39713384</td>\n      <td>Часы наручные мужские из серебра 925</td>\n      <td>0</td>\n      <td>0</td>\n      <td>Ювелирные изделия/Часы/Ювелирные часы</td>\n      <td>14</td>\n      <td>SOKOLOV</td>\n      <td>АО Лакса Трейдинг</td>\n      <td>4</td>\n      <td>177</td>\n      <td>5</td>\n      <td>11697</td>\n      <td>11697</td>\n      <td>3</td>\n      <td>0</td>\n      <td>0</td>\n    </tr>\n    <tr>\n      <th>130781</th>\n      <td>https://basket-11.wb.ru/vol1628/part162899/162...</td>\n      <td>162899864</td>\n      <td>Колье золотое с эмалью и аметистом</td>\n      <td>0</td>\n      <td>0</td>\n      <td>NaN</td>\n      <td>-1</td>\n      <td>Русские самоцветы</td>\n      <td>ООО ИЮД Русские Самоцветы 1912</td>\n      <td>0</td>\n      <td>0</td>\n      <td>0</td>\n      <td>135941</td>\n      <td>135941</td>\n      <td>0</td>\n      <td>0</td>\n      <td>0</td>\n    </tr>\n    <tr>\n      <th>130782</th>\n      <td>https://basket-05.wb.ru/vol765/part76578/76578...</td>\n      <td>76578794</td>\n      <td>Ювелирная цепочка</td>\n      <td>0</td>\n      <td>0</td>\n      <td>Ювелирные изделия/Украшения из серебра/Ювелирн...</td>\n      <td>4322</td>\n      <td>Кимберли</td>\n      <td>Достовалова Ирина Геннадьевна</td>\n      <td>20</td>\n      <td>0</td>\n      <td>0</td>\n      <td>1202</td>\n      <td>1202</td>\n      <td>30</td>\n      <td>0</td>\n      <td>0</td>\n    </tr>\n    <tr>\n      <th>130783</th>\n      <td>https://basket-05.wb.ru/vol824/part82441/82441...</td>\n      <td>82441244</td>\n      <td>Часы наручные из золота 585 пробы 233.01.00.00...</td>\n      <td>0</td>\n      <td>0</td>\n      <td>Ювелирные изделия/Часы/Ювелирные часы</td>\n      <td>67</td>\n      <td>SOKOLOV</td>\n      <td>АО Лакса Трейдинг</td>\n      <td>1</td>\n      <td>7</td>\n      <td>4</td>\n      <td>107403</td>\n      <td>107403</td>\n      <td>1</td>\n      <td>0</td>\n      <td>0</td>\n    </tr>\n  </tbody>\n</table>\n<p>130784 rows × 17 columns</p>\n</div>"
     },
     "execution_count": 136,
     "metadata": {},
     "output_type": "execute_result"
    }
   ],
   "source": [
    "warnings.filterwarnings(\"ignore\")\n",
    "df = pandas.read_csv('wbcomps.csv',sep=\";\")\n",
    "df"
   ],
   "metadata": {
    "collapsed": false,
    "ExecuteTime": {
     "end_time": "2024-03-27T06:42:10.018122Z",
     "start_time": "2024-03-27T06:42:08.945856Z"
    }
   },
   "id": "8d48e91d72f066cb",
   "execution_count": 136
  },
  {
   "cell_type": "code",
   "outputs": [],
   "source": [
    "def tabl(dataf,stroka,probas):\n",
    "    dataf['Category'] = dataf['Category'].fillna('Нет')\n",
    "    dataf = dataf.query(f'Category.str.contains(\"{stroka}|Нет\")')\n",
    "    dataf = dataf[dataf['Name'].str.contains(f\"{stroka}|{probas}\")|~dataf['Category'].str.contains(\"Нет\")].reset_index(drop=True)\n",
    "    for i in range(len(dataf)):\n",
    "        if dataf['Category'][i] != 'Нет':\n",
    "            dataf.at[i,'Category'] = dataf['Category'][i][dataf['Category'][i].rfind(\"/\")+1:]\n",
    "        elif \"кольцо\" in dataf['Name'][i].lower():\n",
    "            dataf.at[i,'Category'] = \"Ювелирное кольцо\"\n",
    "        elif \"браслет\" in dataf['Name'][i].lower():\n",
    "            dataf.at[i,'Category'] = \"Ювелирный браслет\"\n",
    "        elif \"цеп\" in dataf['Name'][i].lower():\n",
    "            dataf.at[i,'Category'] = \"Ювелирная цепочка\"\n",
    "        elif \"серьг\" in dataf['Name'][i].lower():\n",
    "            dataf.at[i,'Category'] = \"Ювелирные серьги\"\n",
    "        elif \"подвес\" in dataf['Name'][i].lower():\n",
    "            dataf.at[i,'Category'] = \"Ювелирная подвеска\"\n",
    "    dataf['Category'] = np.where(dataf['Category'].str.contains('кольц|браслет|цеп|серьг|подвес'),dataf['Category'],\"Другое\")\n",
    "    dataf['Catcount'] = np.where(dataf['Sales']>0,1,0)\n",
    "    dataf['stockcard'] = np.where(dataf['Balance']>0,1,0)\n",
    "    ser2 = dataf.groupby('Category').agg({'Category':'count','Balance':'sum','stockcard':'sum','Catcount':'sum','Sales':'sum','Revenue':'sum'})\n",
    "    prodsdf = pandas.DataFrame(columns=['prod1','prod2','prod3','prod1v','prod2v','prod3v'])\n",
    "    for i in dataf['Category'].unique():\n",
    "        prods = list()\n",
    "        prods2 = list()\n",
    "        s = dataf[dataf['Category'] == i]\n",
    "        s1 = s.groupby('Seller').agg({'Sales':'sum','Seller':'max'}).sort_values(by='Sales', ascending=False)\n",
    "        s2 = s.groupby('Seller').agg({'Revenue':'sum','Seller':'max'}).sort_values(by='Revenue', ascending=False)\n",
    "        for i in range(3):\n",
    "            prods.append(s1.iloc[i]['Seller'])\n",
    "            prods2.append(s2.iloc[i]['Seller'])\n",
    "        prods = prods + prods2\n",
    "        prodsdf.loc[len(prodsdf)] = prods\n",
    "    for i in prodsdf.columns.values:\n",
    "        ser2[i] = prodsdf[i].values\n",
    "    return ser2"
   ],
   "metadata": {
    "collapsed": false,
    "ExecuteTime": {
     "end_time": "2024-03-27T06:42:12.105941Z",
     "start_time": "2024-03-27T06:42:12.093839Z"
    }
   },
   "id": "35650bcaf88214fc",
   "execution_count": 137
  },
  {
   "cell_type": "code",
   "outputs": [],
   "source": [
    "word = \"серебр\"\n",
    "proba = 925\n",
    "ser = tabl(df,word,proba)\n",
    "ser.to_excel(f\"wb_{word}.xlsx\")"
   ],
   "metadata": {
    "collapsed": false,
    "ExecuteTime": {
     "end_time": "2024-03-27T06:42:18.982170Z",
     "start_time": "2024-03-27T06:42:12.838367Z"
    }
   },
   "id": "e1a5e6c0193d0e4a",
   "execution_count": 138
  },
  {
   "cell_type": "code",
   "outputs": [],
   "source": [
    "df1 = df[~df['Category'].str.contains(word)]\n",
    "word = \"золот\"\n",
    "proba = 585\n",
    "ser = tabl(df1,word,proba)\n",
    "ser.to_excel(f\"wb_{word}.xlsx\")"
   ],
   "metadata": {
    "collapsed": false,
    "ExecuteTime": {
     "end_time": "2024-03-27T06:42:22.768118Z",
     "start_time": "2024-03-27T06:42:20.034880Z"
    }
   },
   "id": "bbc45bd863f22ae0",
   "execution_count": 139
  },
  {
   "cell_type": "code",
   "outputs": [],
   "source": [
    "df['Catcount'] = np.where(df['Sales']>0,1,0)\n",
    "df['stockcard'] = np.where(df['Balance']>0,1,0)\n",
    "comps = df.groupby('Seller').agg({'Name':'count','Balance':'sum','stockcard':'sum','Catcount':'sum','Revenue':'sum','Sales':'sum'}).sort_values(by='Sales', ascending=False).reset_index()\n",
    "comps.columns = ['Продавец','Количество карточек','Товара в наличии','Карточек с остатком','Карточек с продажами','Выручка','Количество продаж']\n",
    "comps = comps.head(20)\n",
    "comps.to_excel(\"wb_comps.xlsx\")"
   ],
   "metadata": {
    "collapsed": false,
    "ExecuteTime": {
     "end_time": "2024-03-27T06:42:23.479785Z",
     "start_time": "2024-03-27T06:42:23.416588Z"
    }
   },
   "id": "41381e4e6aa982cf",
   "execution_count": 140
  },
  {
   "cell_type": "code",
   "outputs": [],
   "source": [
    "sells = df[['Name','Seller','Balance','Sales','Revenue','Final price']]\n",
    "sells = sells.head(20)\n",
    "sells.to_excel(\"wb_sells.xlsx\")"
   ],
   "metadata": {
    "collapsed": false,
    "ExecuteTime": {
     "end_time": "2024-03-27T06:42:26.539271Z",
     "start_time": "2024-03-27T06:42:26.511932Z"
    }
   },
   "id": "5cd32ebfe94b0ed8",
   "execution_count": 141
  },
  {
   "cell_type": "code",
   "outputs": [],
   "source": [],
   "metadata": {
    "collapsed": false
   },
   "id": "3c97e3e178c3aeb"
  }
 ],
 "metadata": {
  "kernelspec": {
   "display_name": "Python 3",
   "language": "python",
   "name": "python3"
  },
  "language_info": {
   "codemirror_mode": {
    "name": "ipython",
    "version": 2
   },
   "file_extension": ".py",
   "mimetype": "text/x-python",
   "name": "python",
   "nbconvert_exporter": "python",
   "pygments_lexer": "ipython2",
   "version": "2.7.6"
  }
 },
 "nbformat": 4,
 "nbformat_minor": 5
}
