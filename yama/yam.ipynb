{
 "cells": [
  {
   "cell_type": "code",
   "execution_count": null,
   "id": "initial_id",
   "metadata": {
    "collapsed": true
   },
   "outputs": [],
   "source": [
    "import requests\n",
    "from bs4 import BeautifulSoup as bs\n",
    "import warnings\n",
    "import numpy as np\n",
    "import pandas as pd\n",
    "import json\n",
    "import math\n",
    "from tqdm import tqdm\n",
    "import datetime\n",
    "import openpyxl\n",
    "import time\n",
    "from selenium import webdriver\n",
    "warnings.filterwarnings('ignore')"
   ]
  },
  {
   "cell_type": "code",
   "outputs": [],
   "source": [
    "def parse(l):\n",
    "    art = \"\"\n",
    "    metal =\"\"\n",
    "    insert = \"\"\n",
    "    weight = np.nan\n",
    "    lock = \"\"\n",
    "    group = \"\"\n",
    "    try:\n",
    "        url = f'https://market.yandex.ru{l}'\n",
    "        mwd.get(url)\n",
    "        time.sleep(1)\n",
    "        lh = mwd.execute_script(\"return document.body.scrollHeight\")\n",
    "        mwd.execute_script(f\"window.scrollTo(0, {lh/2});\")\n",
    "        time.sleep(1)\n",
    "        soup = bs(mwd.page_source, 'html.parser')\n",
    "        r = soup.find('div',attrs={'data-apiary-widget-id':'/content/page/fancyPage/specsBlock'})\n",
    "        rq = r.find_all('span')\n",
    "        try:\n",
    "            competitors.append(soup.find('div',attrs={'data-zone-name':'shop-name'}).find('a').text) \n",
    "        except:\n",
    "            competitors.append(\"\")\n",
    "        for i in range(1,len(rq)):\n",
    "            if rq[i].text == \"Артикул\":\n",
    "                art = rq[i+1].text\n",
    "            elif rq[i].text == \"Тип\":\n",
    "                group = rq[i+1].text\n",
    "            elif rq[i].text == \"Вид металла\":\n",
    "                metal = rq[i+1].text\n",
    "            elif rq[i].text == \"Вставка\":\n",
    "                insert = rq[i+1].text\n",
    "            elif rq[i].text == \"Средний вес изделия\" or \"средний вес\" in rq[i].text.lower():\n",
    "                weight = float(str(rq[i+1].text).replace(' г','').strip())\n",
    "            elif rq[i].text == \"Тип замка\" and group == \"серьги\":\n",
    "                lock = rq[i+1].text\n",
    "            elif rq[i].text == \"Плетение\" and (group == \"цепь\"):\n",
    "                lock = rq[i+1].text\n",
    "    except:\n",
    "        pass\n",
    "    return art, group, metal, insert, weight, lock"
   ],
   "metadata": {
    "collapsed": false
   },
   "id": "47eb0b130506fa72",
   "execution_count": null
  },
  {
   "cell_type": "code",
   "outputs": [],
   "source": [
    "def paginator (url,i):\n",
    "    try:\n",
    "        mwdd.get(url+f'&page={i}')\n",
    "        lh = mwdd.execute_script(\"return document.body.scrollHeight\")\n",
    "        mwdd.execute_script(f\"window.scrollTo(0, {lh/2});\")\n",
    "        time.sleep(1)\n",
    "        mwdd.execute_script(f\"window.scrollTo({lh/2}, {lh});\")\n",
    "        time.sleep(2)\n",
    "        soup = bs(mwdd.page_source,'html.parser')\n",
    "        rr = soup.find_all('div',attrs={'data-baobab-name':'productSnippet','data-zone-name':'productSnippet'})\n",
    "        rprices = list()\n",
    "        rpo = list()\n",
    "        rlinks = list()\n",
    "        for r in rr:\n",
    "            jsonn = json.loads(r['data-zone-data'])\n",
    "            rprices.append(jsonn['additionalPrices'][0]['priceValue'])\n",
    "            rpo.append(round(rprices[-1]/0.99, 0))\n",
    "            link = r.find('a')\n",
    "            rlinks.append(link['href'])\n",
    "        prices.extend(rprices)\n",
    "        links.extend(rlinks)\n",
    "        po.extend(rpo)\n",
    "        print(f\"Карточка загружена с {len(rlinks)} товарами\")\n",
    "        print(f\"Всего {len(links)} товаров\")\n",
    "    except:\n",
    "        pass"
   ],
   "metadata": {
    "collapsed": false
   },
   "id": "7c908d922acb5558",
   "execution_count": null
  },
  {
   "cell_type": "code",
   "outputs": [],
   "source": [
    "cookies = {\n",
    "    'skid': '1496035721710998877',\n",
    "    'i': 'QlfLIYd4Khw/ayO6fW+Y4DkU70QIVlgX9VPKengp4jGykVV9GSgJi+N/kMjSGHIn8omeRYzyCznuBIGluUqodkFXvJw=',\n",
    "    'yandexuid': '5007902401710998877',\n",
    "    'yuidss': '5007902401710998877',\n",
    "    'ymex': '2026358878.yrts.1710998878',\n",
    "    'gdpr': '0',\n",
    "    'receive-cookie-deprecation': '1',\n",
    "    'bh': 'EkEiQ2hyb21pdW0iO3Y9IjEyMiIsICJOb3QoQTpCcmFuZCI7dj0iMjQiLCAiR29vZ2xlIENocm9tZSI7dj0iMTIyIioCPzA6CSJXaW5kb3dzIg==',\n",
    "    'yashr': '7876832101710998879',\n",
    "    '_ym_uid': '1710998879351184267',\n",
    "    '_ym_d': '1710998880',\n",
    "    'bh': 'Ej8iQ2hyb21pdW0iO3Y9IjEyMiIsIk5vdChBOkJyYW5kIjt2PSIyNCIsIkdvb2dsZSBDaHJvbWUiO3Y9IjEyMiIaBSJ4ODYiIhAiMTIyLjAuNjI2MS4xMjkiKgI/MDoJIldpbmRvd3MiQgciOC4wLjAiSgQiNjQiUlwiQ2hyb21pdW0iO3Y9IjEyMi4wLjYyNjEuMTI5IiwiTm90KEE6QnJhbmQiO3Y9IjI0LjAuMC4wIiwiR29vZ2xlIENocm9tZSI7dj0iMTIyLjAuNjI2MS4xMjkiIg==',\n",
    "    '_ym_isad': '2',\n",
    "    'is_gdpr': '0',\n",
    "    'is_gdpr_b': 'CKexKBDg8QE=',\n",
    "    '_yasc': 'ehe/5DLm7FpTT524Evsvrxo7se82Nr7VIfu7IDnoHVaYM8Hlp3OGwcMUJHmX7UukMftvoZSZNAbv',\n",
    "}\n",
    "\n",
    "headers = {\n",
    "    'authority': 'yandex.ru',\n",
    "    'accept': '*/*',\n",
    "    'accept-language': 'ru-RU,ru;q=0.9',\n",
    "    # 'cookie': 'skid=1496035721710998877; i=QlfLIYd4Khw/ayO6fW+Y4DkU70QIVlgX9VPKengp4jGykVV9GSgJi+N/kMjSGHIn8omeRYzyCznuBIGluUqodkFXvJw=; yandexuid=5007902401710998877; yuidss=5007902401710998877; ymex=2026358878.yrts.1710998878; gdpr=0; receive-cookie-deprecation=1; bh=EkEiQ2hyb21pdW0iO3Y9IjEyMiIsICJOb3QoQTpCcmFuZCI7dj0iMjQiLCAiR29vZ2xlIENocm9tZSI7dj0iMTIyIioCPzA6CSJXaW5kb3dzIg==; yashr=7876832101710998879; _ym_uid=1710998879351184267; _ym_d=1710998880; bh=Ej8iQ2hyb21pdW0iO3Y9IjEyMiIsIk5vdChBOkJyYW5kIjt2PSIyNCIsIkdvb2dsZSBDaHJvbWUiO3Y9IjEyMiIaBSJ4ODYiIhAiMTIyLjAuNjI2MS4xMjkiKgI/MDoJIldpbmRvd3MiQgciOC4wLjAiSgQiNjQiUlwiQ2hyb21pdW0iO3Y9IjEyMi4wLjYyNjEuMTI5IiwiTm90KEE6QnJhbmQiO3Y9IjI0LjAuMC4wIiwiR29vZ2xlIENocm9tZSI7dj0iMTIyLjAuNjI2MS4xMjkiIg==; _ym_isad=2; is_gdpr=0; is_gdpr_b=CKexKBDg8QE=; _yasc=ehe/5DLm7FpTT524Evsvrxo7se82Nr7VIfu7IDnoHVaYM8Hlp3OGwcMUJHmX7UukMftvoZSZNAbv',\n",
    "    'origin': 'https://market.yandex.ru',\n",
    "    'referer': 'https://market.yandex.ru/',\n",
    "    'sec-ch-ua': '\"Chromium\";v=\"122\", \"Not(A:Brand\";v=\"24\", \"Google Chrome\";v=\"122\"',\n",
    "    'sec-ch-ua-mobile': '?0',\n",
    "    'sec-ch-ua-platform': '\"Windows\"',\n",
    "    'sec-fetch-dest': 'empty',\n",
    "    'sec-fetch-mode': 'cors',\n",
    "    'sec-fetch-site': 'same-site',\n",
    "    'user-agent': 'Mozilla/5.0 (Windows NT 10.0; Win64; x64) AppleWebKit/537.36 (KHTML, like Gecko) Chrome/122.0.0.0 Safari/537.36',\n",
    "}\n",
    "\n",
    "params = {\n",
    "    'parentOrigin': 'https://market.yandex.ru',\n",
    "    'rn': '104283',\n",
    "    'reqNum': '1',\n",
    "    'serviceId': '9',\n",
    "    'client': 'market2',\n",
    "    'ns': '25',\n",
    "}"
   ],
   "metadata": {
    "collapsed": false
   },
   "id": "95cf601365f236ac",
   "execution_count": null
  },
  {
   "cell_type": "code",
   "outputs": [],
   "source": [
    "prices = list()\n",
    "po = list()\n",
    "slugs = list()\n",
    "competitors = list()\n",
    "links = list()\n",
    "url = input('Введите ссылку:')"
   ],
   "metadata": {
    "collapsed": false
   },
   "id": "36351a83f816a72",
   "execution_count": null
  },
  {
   "cell_type": "code",
   "outputs": [],
   "source": [
    "mwdd = webdriver.Chrome()\n",
    "mwdd.maximize_window()\n",
    "for i in tqdm(range(1,51)):\n",
    "    try:\n",
    "        paginator(url,i)\n",
    "    except:\n",
    "        pass\n",
    "mwdd.close()"
   ],
   "metadata": {
    "collapsed": false
   },
   "id": "b3b22b43fad861c8",
   "execution_count": null
  },
  {
   "cell_type": "code",
   "outputs": [],
   "source": [
    "len(links)"
   ],
   "metadata": {
    "collapsed": false
   },
   "id": "ecd981b0e0eda832",
   "execution_count": null
  },
  {
   "cell_type": "code",
   "outputs": [],
   "source": [
    "prices[300]"
   ],
   "metadata": {
    "collapsed": false
   },
   "id": "1af1f742c0718be7",
   "execution_count": null
  },
  {
   "cell_type": "code",
   "outputs": [],
   "source": [
    "cookies = {\n",
    "    'i': 'vNFxzYVrEJNIBDz1/OPzJ+B1FC7vQiwU/o6vbA28741dHFGxzFLuO1bigxFGrQ/9Arl74OLN+skTJmFPF8+n3gnVTB0=',\n",
    "    'yandexuid': '9005796171709810767',\n",
    "    'yuidss': '9005796171709810767',\n",
    "    'ymex': '2025170768.yrts.1709810768',\n",
    "    'gdpr': '0',\n",
    "    'yashr': '272879471709810768',\n",
    "    'receive-cookie-deprecation': '1',\n",
    "    '_ym_uid': '1709810765961117923',\n",
    "    '_ym_d': '1709810766',\n",
    "    'L': 'Zmx7BnppWXBRckV4C1B9dmZbAFREUHhWAhoIGVFeWCwkCQk=.1709810808.15641.330364.9ce1bb1655f4709b79817b7edf437dd5',\n",
    "    'yandex_login': 'tirsdionisa',\n",
    "    'is_gdpr': '0',\n",
    "    'amcuid': '9088375001710142529',\n",
    "    'skid': '1975196821710147835',\n",
    "    'Session_id': '3:1710355511.5.0.1709810808074:ElyiuQ:7e.1.2:1|391289393.0.2.3:1709810808|3:10284465.809014.OSMrVXyZNCA4biXqKML_0PNquYg',\n",
    "    'sessar': '1.1187.CiCB10sdfqMQxvUTXyo2BuQv-r6Kw8yQZ5JY04-kOyAv7g.PoRKeDXbpLzmCbiM3h3d43zOAglJ4zjVontR9tA2X08',\n",
    "    'sessionid2': '3:1710355511.5.0.1709810808074:ElyiuQ:7e.1.2:1|391289393.0.2.3:1709810808|3:10284465.809014.fakesign0000000000000000000',\n",
    "    'yp': '2025170808.udn.cDrQmNC70YzRjyDQn9C10YLRgNC+0LI%3D#1726123514.szm.1_25:1536x864:1536x738',\n",
    "    'my': 'YwA=',\n",
    "    'is_gdpr_b': 'CL/XRBCt8AEoAg==',\n",
    "    'bh': 'Ej8iQ2hyb21pdW0iO3Y9IjEyMiIsIk5vdChBOkJyYW5kIjt2PSIyNCIsIkdvb2dsZSBDaHJvbWUiO3Y9IjEyMiIaBSJ4ODYiIhAiMTIyLjAuNjI2MS4xMjkiKgI/MDoJIldpbmRvd3MiQgciOC4wLjAiSgQiNjQiUlwiQ2hyb21pdW0iO3Y9IjEyMi4wLjYyNjEuMTI5IiwiTm90KEE6QnJhbmQiO3Y9IjI0LjAuMC4wIiwiR29vZ2xlIENocm9tZSI7dj0iMTIyLjAuNjI2MS4xMjkiIg==',\n",
    "    'oq_shown_onboardings': '%5B%5D',\n",
    "    'oq_last_shown_date': '1710853574220',\n",
    "    'yandexmarket': '48%2CRUR%2C1%2C%2C%2C%2C2%2C0%2C0%2C118936%2C0%2C0%2C12%2C0%2C0',\n",
    "    'upa_completed': '1',\n",
    "    'nec': '1',\n",
    "    'yabs-vdrf': 'Filfb203ThHu1ilfb202mhbS1n_9bB03ems01eF9b2m1_rh41dF9b2m2C-Rq10',\n",
    "    'visits': '1710853574-1710853574-1710950395',\n",
    "    'spvuid_market:product_f63bcc_expired:1711036795093': '1710950395012%2F7b06fe660047e80a87e585ae19140600%2F1%2F1',\n",
    "    'ugcp': '1',\n",
    "    'rcrr': 'true',\n",
    "    'global_delivery_point_skeleton': '{%22deliveryType%22:%22PICKUP%22%2C%22outletType%22:%22pickup%22%2C%22regionName%22:%22%D0%9C%D1%83%D1%80%D0%B8%D0%BD%D0%BE%22%2C%22addressLineWidth%22:263}',\n",
    "    'fetch_loyalty_notifications_time_stamp': '2024-03-20T15:59:57.770Z',\n",
    "    '_ym_isad': '2',\n",
    "    'spvuid_market:list_e3fa8a_expired:1711036888538': '1710950488480%2Fb3b39b257f7bcf24021c18b419140600%2F1%2F1',\n",
    "    '_yasc': '2kUll+ow1ojkNIIBJUACsGQBUo6KP3tE6boiIo37AZW1/qCiX5DmMCiR7/kPbVZ8wFZTZkIqYQ==',\n",
    "    'spvuid_market:product_0ed066_expired:1711036955334': '1710950554921%2F08c87356435d02a3e5e80db819140600%2F1%2F1',\n",
    "    'parent_reqid_seq': '1710950395012%2F7b06fe660047e80a87e585ae19140600%2F1%2F1%2C1710950488480%2Fb3b39b257f7bcf24021c18b419140600%2F1%2F1%2C1710950554921%2F08c87356435d02a3e5e80db819140600%2F1%2F1%2C1710950577897%2F67573021f9ba086935806cb919140600%2F1%2F1%2C1710950615758%2F94dc46140c9b7fce1635aebb19140600%2F1%2F1',\n",
    "}\n",
    "\n",
    "headers = {\n",
    "    'authority': 'market.yandex.ru',\n",
    "    'accept': '*/*',\n",
    "    'accept-language': 'ru-RU,ru;q=0.9,en-US;q=0.8,en;q=0.7',\n",
    "    'content-type': 'application/json',\n",
    "    # 'cookie': 'i=vNFxzYVrEJNIBDz1/OPzJ+B1FC7vQiwU/o6vbA28741dHFGxzFLuO1bigxFGrQ/9Arl74OLN+skTJmFPF8+n3gnVTB0=; yandexuid=9005796171709810767; yuidss=9005796171709810767; ymex=2025170768.yrts.1709810768; gdpr=0; yashr=272879471709810768; receive-cookie-deprecation=1; _ym_uid=1709810765961117923; _ym_d=1709810766; L=Zmx7BnppWXBRckV4C1B9dmZbAFREUHhWAhoIGVFeWCwkCQk=.1709810808.15641.330364.9ce1bb1655f4709b79817b7edf437dd5; yandex_login=tirsdionisa; is_gdpr=0; amcuid=9088375001710142529; skid=1975196821710147835; Session_id=3:1710355511.5.0.1709810808074:ElyiuQ:7e.1.2:1|391289393.0.2.3:1709810808|3:10284465.809014.OSMrVXyZNCA4biXqKML_0PNquYg; sessar=1.1187.CiCB10sdfqMQxvUTXyo2BuQv-r6Kw8yQZ5JY04-kOyAv7g.PoRKeDXbpLzmCbiM3h3d43zOAglJ4zjVontR9tA2X08; sessionid2=3:1710355511.5.0.1709810808074:ElyiuQ:7e.1.2:1|391289393.0.2.3:1709810808|3:10284465.809014.fakesign0000000000000000000; yp=2025170808.udn.cDrQmNC70YzRjyDQn9C10YLRgNC+0LI%3D#1726123514.szm.1_25:1536x864:1536x738; my=YwA=; is_gdpr_b=CL/XRBCt8AEoAg==; bh=Ej8iQ2hyb21pdW0iO3Y9IjEyMiIsIk5vdChBOkJyYW5kIjt2PSIyNCIsIkdvb2dsZSBDaHJvbWUiO3Y9IjEyMiIaBSJ4ODYiIhAiMTIyLjAuNjI2MS4xMjkiKgI/MDoJIldpbmRvd3MiQgciOC4wLjAiSgQiNjQiUlwiQ2hyb21pdW0iO3Y9IjEyMi4wLjYyNjEuMTI5IiwiTm90KEE6QnJhbmQiO3Y9IjI0LjAuMC4wIiwiR29vZ2xlIENocm9tZSI7dj0iMTIyLjAuNjI2MS4xMjkiIg==; oq_shown_onboardings=%5B%5D; oq_last_shown_date=1710853574220; yandexmarket=48%2CRUR%2C1%2C%2C%2C%2C2%2C0%2C0%2C118936%2C0%2C0%2C12%2C0%2C0; upa_completed=1; nec=1; yabs-vdrf=Filfb203ThHu1ilfb202mhbS1n_9bB03ems01eF9b2m1_rh41dF9b2m2C-Rq10; visits=1710853574-1710853574-1710950395; spvuid_market:product_f63bcc_expired:1711036795093=1710950395012%2F7b06fe660047e80a87e585ae19140600%2F1%2F1; ugcp=1; rcrr=true; global_delivery_point_skeleton={%22deliveryType%22:%22PICKUP%22%2C%22outletType%22:%22pickup%22%2C%22regionName%22:%22%D0%9C%D1%83%D1%80%D0%B8%D0%BD%D0%BE%22%2C%22addressLineWidth%22:263}; fetch_loyalty_notifications_time_stamp=2024-03-20T15:59:57.770Z; _ym_isad=2; spvuid_market:list_e3fa8a_expired:1711036888538=1710950488480%2Fb3b39b257f7bcf24021c18b419140600%2F1%2F1; _yasc=2kUll+ow1ojkNIIBJUACsGQBUo6KP3tE6boiIo37AZW1/qCiX5DmMCiR7/kPbVZ8wFZTZkIqYQ==; spvuid_market:product_0ed066_expired:1711036955334=1710950554921%2F08c87356435d02a3e5e80db819140600%2F1%2F1; parent_reqid_seq=1710950395012%2F7b06fe660047e80a87e585ae19140600%2F1%2F1%2C1710950488480%2Fb3b39b257f7bcf24021c18b419140600%2F1%2F1%2C1710950554921%2F08c87356435d02a3e5e80db819140600%2F1%2F1%2C1710950577897%2F67573021f9ba086935806cb919140600%2F1%2F1%2C1710950615758%2F94dc46140c9b7fce1635aebb19140600%2F1%2F1',\n",
    "    'origin': 'https://market.yandex.ru',\n",
    "    'referer': 'https://market.yandex.ru/product--sergi-iz-zolota-s-fianitami-iakhont-iuvelirnyi-art-128718/78931682?sku=102846519443&do-waremd5=i8G8fo8CCPG3hEvHQXDA3g&uniqueId=5925510',\n",
    "    'sec-ch-ua': '\"Chromium\";v=\"122\", \"Not(A:Brand\";v=\"24\", \"Google Chrome\";v=\"122\"',\n",
    "    'sec-ch-ua-mobile': '?0',\n",
    "    'sec-ch-ua-platform': '\"Windows\"',\n",
    "    'sec-fetch-dest': 'empty',\n",
    "    'sec-fetch-mode': 'cors',\n",
    "    'sec-fetch-site': 'same-origin',\n",
    "    'sk': 'ud0dfead8a0db01b4f7b4fa3435a199b0',\n",
    "    'user-agent': 'Mozilla/5.0 (Windows NT 10.0; Win64; x64) AppleWebKit/537.36 (KHTML, like Gecko) Chrome/122.0.0.0 Safari/537.36',\n",
    "    'x-market-app-version': '2024.1.182.t2229288102',\n",
    "    'x-market-core-service': '<UNKNOWN>',\n",
    "    'x-market-page-id': 'market:product',\n",
    "    'x-requested-with': 'XMLHttpRequest',\n",
    "    'x-retpath-y': 'https://market.yandex.ru/product--sergi-iz-zolota-s-fianitami-iakhont-iuvelirnyi-art-128718/78931682?sku=102846519443&do-waremd5=i8G8fo8CCPG3hEvHQXDA3g&uniqueId=5925510',\n",
    "}"
   ],
   "metadata": {
    "collapsed": false
   },
   "id": "8218818bc2eb073f",
   "execution_count": null
  },
  {
   "cell_type": "code",
   "outputs": [],
   "source": [
    "arts = list()\n",
    "groups = list()\n",
    "metals = list()\n",
    "weights = list()\n",
    "locks = list()\n",
    "inserts = list()\n",
    "data = list()\n",
    "# options_chrome = webdriver.ChromeOptions()\n",
    "# options_chrome.add_argument('headless')"
   ],
   "metadata": {
    "collapsed": false
   },
   "id": "5fad5b710c169d42",
   "execution_count": null
  },
  {
   "cell_type": "code",
   "outputs": [],
   "source": [
    "ch = np.array_split(links,20)\n",
    "len(ch)"
   ],
   "metadata": {
    "collapsed": false
   },
   "id": "b853ef7e2297d92",
   "execution_count": null
  },
  {
   "cell_type": "code",
   "outputs": [
    {
     "name": "stderr",
     "output_type": "stream",
     "text": [
      "100%|██████████| 60/60 [05:18<00:00,  5.31s/it]\n"
     ]
    },
    {
     "name": "stdout",
     "output_type": "stream",
     "text": [
      "разных весов: 46\n",
      "количество: 60\n",
      "обработка массива:2/20\n"
     ]
    },
    {
     "name": "stderr",
     "output_type": "stream",
     "text": [
      "100%|██████████| 60/60 [05:41<00:00,  5.69s/it]\n"
     ]
    },
    {
     "name": "stdout",
     "output_type": "stream",
     "text": [
      "разных весов: 80\n",
      "количество: 120\n",
      "обработка массива:3/20\n"
     ]
    },
    {
     "name": "stderr",
     "output_type": "stream",
     "text": [
      "100%|██████████| 60/60 [05:06<00:00,  5.10s/it]\n"
     ]
    },
    {
     "name": "stdout",
     "output_type": "stream",
     "text": [
      "разных весов: 100\n",
      "количество: 180\n",
      "обработка массива:4/20\n"
     ]
    },
    {
     "name": "stderr",
     "output_type": "stream",
     "text": [
      "100%|██████████| 60/60 [05:49<00:00,  5.83s/it]\n"
     ]
    },
    {
     "name": "stdout",
     "output_type": "stream",
     "text": [
      "разных весов: 121\n",
      "количество: 240\n",
      "обработка массива:5/20\n"
     ]
    },
    {
     "name": "stderr",
     "output_type": "stream",
     "text": [
      "100%|██████████| 60/60 [05:37<00:00,  5.62s/it]\n"
     ]
    },
    {
     "name": "stdout",
     "output_type": "stream",
     "text": [
      "разных весов: 142\n",
      "количество: 300\n",
      "обработка массива:6/20\n"
     ]
    },
    {
     "name": "stderr",
     "output_type": "stream",
     "text": [
      "100%|██████████| 60/60 [05:41<00:00,  5.69s/it]\n"
     ]
    },
    {
     "name": "stdout",
     "output_type": "stream",
     "text": [
      "разных весов: 158\n",
      "количество: 360\n",
      "обработка массива:7/20\n"
     ]
    },
    {
     "name": "stderr",
     "output_type": "stream",
     "text": [
      "100%|██████████| 60/60 [06:12<00:00,  6.20s/it]\n"
     ]
    },
    {
     "name": "stdout",
     "output_type": "stream",
     "text": [
      "разных весов: 176\n",
      "количество: 420\n",
      "обработка массива:8/20\n"
     ]
    },
    {
     "name": "stderr",
     "output_type": "stream",
     "text": [
      "100%|██████████| 60/60 [06:04<00:00,  6.08s/it]\n"
     ]
    },
    {
     "name": "stdout",
     "output_type": "stream",
     "text": [
      "разных весов: 193\n",
      "количество: 480\n",
      "обработка массива:9/20\n"
     ]
    },
    {
     "name": "stderr",
     "output_type": "stream",
     "text": [
      "100%|██████████| 60/60 [06:03<00:00,  6.06s/it]\n"
     ]
    },
    {
     "name": "stdout",
     "output_type": "stream",
     "text": [
      "разных весов: 202\n",
      "количество: 540\n",
      "обработка массива:10/20\n"
     ]
    },
    {
     "name": "stderr",
     "output_type": "stream",
     "text": [
      "100%|██████████| 60/60 [05:55<00:00,  5.93s/it]\n"
     ]
    },
    {
     "name": "stdout",
     "output_type": "stream",
     "text": [
      "разных весов: 212\n",
      "количество: 600\n",
      "обработка массива:11/20\n"
     ]
    },
    {
     "name": "stderr",
     "output_type": "stream",
     "text": [
      "100%|██████████| 60/60 [05:19<00:00,  5.33s/it]\n"
     ]
    },
    {
     "name": "stdout",
     "output_type": "stream",
     "text": [
      "разных весов: 217\n",
      "количество: 660\n",
      "обработка массива:12/20\n"
     ]
    },
    {
     "name": "stderr",
     "output_type": "stream",
     "text": [
      "100%|██████████| 60/60 [05:07<00:00,  5.13s/it]\n"
     ]
    },
    {
     "name": "stdout",
     "output_type": "stream",
     "text": [
      "разных весов: 225\n",
      "количество: 719\n",
      "обработка массива:13/20\n"
     ]
    },
    {
     "name": "stderr",
     "output_type": "stream",
     "text": [
      "100%|██████████| 60/60 [05:03<00:00,  5.07s/it]\n"
     ]
    },
    {
     "name": "stdout",
     "output_type": "stream",
     "text": [
      "разных весов: 225\n",
      "количество: 779\n",
      "обработка массива:14/20\n"
     ]
    },
    {
     "name": "stderr",
     "output_type": "stream",
     "text": [
      "100%|██████████| 60/60 [05:14<00:00,  5.24s/it]\n"
     ]
    },
    {
     "name": "stdout",
     "output_type": "stream",
     "text": [
      "разных весов: 225\n",
      "количество: 839\n",
      "обработка массива:15/20\n"
     ]
    },
    {
     "name": "stderr",
     "output_type": "stream",
     "text": [
      "100%|██████████| 60/60 [05:07<00:00,  5.12s/it]\n"
     ]
    },
    {
     "name": "stdout",
     "output_type": "stream",
     "text": [
      "разных весов: 225\n",
      "количество: 899\n",
      "обработка массива:16/20\n"
     ]
    },
    {
     "name": "stderr",
     "output_type": "stream",
     "text": [
      "100%|██████████| 60/60 [05:14<00:00,  5.24s/it]\n"
     ]
    },
    {
     "name": "stdout",
     "output_type": "stream",
     "text": [
      "разных весов: 225\n",
      "количество: 959\n",
      "обработка массива:17/20\n"
     ]
    },
    {
     "name": "stderr",
     "output_type": "stream",
     "text": [
      "100%|██████████| 60/60 [05:10<00:00,  5.17s/it]\n"
     ]
    },
    {
     "name": "stdout",
     "output_type": "stream",
     "text": [
      "разных весов: 225\n",
      "количество: 1019\n",
      "обработка массива:18/20\n"
     ]
    },
    {
     "name": "stderr",
     "output_type": "stream",
     "text": [
      "100%|██████████| 60/60 [05:02<00:00,  5.05s/it]\n"
     ]
    },
    {
     "name": "stdout",
     "output_type": "stream",
     "text": [
      "разных весов: 225\n",
      "количество: 1079\n",
      "обработка массива:19/20\n"
     ]
    },
    {
     "name": "stderr",
     "output_type": "stream",
     "text": [
      "100%|██████████| 60/60 [05:04<00:00,  5.08s/it]\n"
     ]
    },
    {
     "name": "stdout",
     "output_type": "stream",
     "text": [
      "разных весов: 225\n",
      "количество: 1139\n",
      "обработка массива:20/20\n"
     ]
    },
    {
     "name": "stderr",
     "output_type": "stream",
     "text": [
      "100%|██████████| 60/60 [05:08<00:00,  5.14s/it]\n"
     ]
    }
   ],
   "source": [
    "mwd = webdriver.Chrome()\n",
    "mwd.maximize_window()\n",
    "k=1\n",
    "for ls in ch:\n",
    "    print(f\"Количество nan в весах: {pd.Series(weights).astype(str).to_list().count('nan')}\")\n",
    "    print(f'обработка массива:{k}/{len(ch)}')\n",
    "    k+=1\n",
    "    artss = list()\n",
    "    groupss = list()\n",
    "    metalss = list()\n",
    "    weightss = list()\n",
    "    lockss = list()\n",
    "    insertss = list()\n",
    "    datas = list()\n",
    "    for l in tqdm(ls):\n",
    "        ans = parse(l)\n",
    "        artss.append(ans[0])\n",
    "        datas.append(datetime.date.today())\n",
    "        groupss.append(ans[1])\n",
    "        metalss.append(ans[2])\n",
    "        insertss.append(ans[3])\n",
    "        weightss.append(ans[4])\n",
    "        lockss.append(ans[5])\n",
    "    if pd.Series(weightss).astype(str).to_list().count('nan')>0:\n",
    "        print(f\"Количество nan: {pd.Series(weightss).astype(str).to_list().count('nan')} из {len(ls)}\")\n",
    "    arts.extend(artss)\n",
    "    data.extend(datas)\n",
    "    groups.extend(groupss)\n",
    "    metals.extend(metalss)\n",
    "    weights.extend(weightss)\n",
    "    locks.extend(lockss)\n",
    "    inserts.extend(insertss)\n",
    "mwd.close()"
   ],
   "metadata": {
    "collapsed": false
   },
   "id": "a6a860c756e9f6e6",
   "execution_count": 235
  },
  {
   "cell_type": "code",
   "outputs": [],
   "source": [
    "df = pd.DataFrame({'data': data,\n",
    "                       'competitor': competitors,\n",
    "                       'group': groups,\n",
    "                       'weight': weights,\n",
    "                       'price': prices,\n",
    "                       'price_old': po,\n",
    "                       'insert': inserts,\n",
    "                       'metal': metals,\n",
    "                       'lock': locks,\n",
    "                       'article': links,\n",
    "})"
   ],
   "metadata": {
    "collapsed": false,
    "ExecuteTime": {
     "end_time": "2024-03-25T13:11:56.483345Z",
     "start_time": "2024-03-25T13:11:56.471677Z"
    }
   },
   "id": "8076e47aba15a0ef",
   "execution_count": 238
  },
  {
   "cell_type": "code",
   "outputs": [
    {
     "name": "stdout",
     "output_type": "stream",
     "text": [
      "nan 12\n"
     ]
    }
   ],
   "source": [
    "print(f\"nan {pd.Series(weights).astype(str).to_list().count('nan')}\")"
   ],
   "metadata": {
    "collapsed": false,
    "ExecuteTime": {
     "end_time": "2024-03-25T13:24:39.665651Z",
     "start_time": "2024-03-25T13:24:39.657845Z"
    }
   },
   "id": "a57128e709bef876",
   "execution_count": 252
  },
  {
   "cell_type": "code",
   "outputs": [
    {
     "data": {
      "text/plain": "            data           competitor     group  weight  price  price_old  \\\n1     2024-03-25  Фамильная коллекция    иконка    0.47   4544     4590.0   \n2     2024-03-25      DIAMANT-ONLINE.  подвеска    1.75  16314    16479.0   \n3     2024-03-25      DIAMANT-ONLINE.  подвеска    0.58   5228     5281.0   \n4     2024-03-25                ЯХОНТ  подвеска    0.43   3927     3967.0   \n5     2024-03-25              SOKOLOV  подвеска    0.71   4432     4477.0   \n...          ...                  ...       ...     ...    ...        ...   \n1195  2024-03-25                ЯХОНТ  подвеска    0.84   6731     6799.0   \n1196  2024-03-25      DIAMANT-ONLINE.  подвеска    1.63  60065    60672.0   \n1197  2024-03-25                ЯХОНТ  подвеска    0.40   7722     7800.0   \n1198  2024-03-25      DIAMANT-ONLINE.  подвеска    1.52  14599    14746.0   \n1199  2024-03-25      DIAMANT-ONLINE.  подвеска    1.68  16057    16219.0   \n\n                  insert   metal lock  \\\n1                         золото        \n2                 фианит  золото        \n3                 фианит  золото        \n4                 фианит  золото        \n5                 фианит  золото        \n...                  ...     ...  ...   \n1195              фианит  золото        \n1196  бриллиант, изумруд  золото        \n1197              фианит  золото        \n1198         без вставок  золото        \n1199              фианит  золото        \n\n                                                article  \n1     /product--ladanka-matrona-moskovskaia-zolotaia...  \n2     /product--podveska-platina-krasnoe-zoloto-585-...  \n3     /product--zolotaia-podveska-bukva-k-platina-s-...  \n4     /product--podveska-bukva-iz-zolota-s-fianitami...  \n5     /product--podveska-diamant-iz-zolota-s-fianita...  \n...                                                 ...  \n1195  /product--podveska-iz-kombinirovannogo-zolota-...  \n1196  /product--zolotaia-podveska-master-brilliant-0...  \n1197  /product--podveska-bukva-iz-zolota-s-fianitami...  \n1198  /product--zolotaia-podveska-aleksandra-kr068sb...  \n1199  /product--zolotaia-podveska-kiuz-del-ta-d08044...  \n\n[1188 rows x 10 columns]",
      "text/html": "<div>\n<style scoped>\n    .dataframe tbody tr th:only-of-type {\n        vertical-align: middle;\n    }\n\n    .dataframe tbody tr th {\n        vertical-align: top;\n    }\n\n    .dataframe thead th {\n        text-align: right;\n    }\n</style>\n<table border=\"1\" class=\"dataframe\">\n  <thead>\n    <tr style=\"text-align: right;\">\n      <th></th>\n      <th>data</th>\n      <th>competitor</th>\n      <th>group</th>\n      <th>weight</th>\n      <th>price</th>\n      <th>price_old</th>\n      <th>insert</th>\n      <th>metal</th>\n      <th>lock</th>\n      <th>article</th>\n    </tr>\n  </thead>\n  <tbody>\n    <tr>\n      <th>1</th>\n      <td>2024-03-25</td>\n      <td>Фамильная коллекция</td>\n      <td>иконка</td>\n      <td>0.47</td>\n      <td>4544</td>\n      <td>4590.0</td>\n      <td></td>\n      <td>золото</td>\n      <td></td>\n      <td>/product--ladanka-matrona-moskovskaia-zolotaia...</td>\n    </tr>\n    <tr>\n      <th>2</th>\n      <td>2024-03-25</td>\n      <td>DIAMANT-ONLINE.</td>\n      <td>подвеска</td>\n      <td>1.75</td>\n      <td>16314</td>\n      <td>16479.0</td>\n      <td>фианит</td>\n      <td>золото</td>\n      <td></td>\n      <td>/product--podveska-platina-krasnoe-zoloto-585-...</td>\n    </tr>\n    <tr>\n      <th>3</th>\n      <td>2024-03-25</td>\n      <td>DIAMANT-ONLINE.</td>\n      <td>подвеска</td>\n      <td>0.58</td>\n      <td>5228</td>\n      <td>5281.0</td>\n      <td>фианит</td>\n      <td>золото</td>\n      <td></td>\n      <td>/product--zolotaia-podveska-bukva-k-platina-s-...</td>\n    </tr>\n    <tr>\n      <th>4</th>\n      <td>2024-03-25</td>\n      <td>ЯХОНТ</td>\n      <td>подвеска</td>\n      <td>0.43</td>\n      <td>3927</td>\n      <td>3967.0</td>\n      <td>фианит</td>\n      <td>золото</td>\n      <td></td>\n      <td>/product--podveska-bukva-iz-zolota-s-fianitami...</td>\n    </tr>\n    <tr>\n      <th>5</th>\n      <td>2024-03-25</td>\n      <td>SOKOLOV</td>\n      <td>подвеска</td>\n      <td>0.71</td>\n      <td>4432</td>\n      <td>4477.0</td>\n      <td>фианит</td>\n      <td>золото</td>\n      <td></td>\n      <td>/product--podveska-diamant-iz-zolota-s-fianita...</td>\n    </tr>\n    <tr>\n      <th>...</th>\n      <td>...</td>\n      <td>...</td>\n      <td>...</td>\n      <td>...</td>\n      <td>...</td>\n      <td>...</td>\n      <td>...</td>\n      <td>...</td>\n      <td>...</td>\n      <td>...</td>\n    </tr>\n    <tr>\n      <th>1195</th>\n      <td>2024-03-25</td>\n      <td>ЯХОНТ</td>\n      <td>подвеска</td>\n      <td>0.84</td>\n      <td>6731</td>\n      <td>6799.0</td>\n      <td>фианит</td>\n      <td>золото</td>\n      <td></td>\n      <td>/product--podveska-iz-kombinirovannogo-zolota-...</td>\n    </tr>\n    <tr>\n      <th>1196</th>\n      <td>2024-03-25</td>\n      <td>DIAMANT-ONLINE.</td>\n      <td>подвеска</td>\n      <td>1.63</td>\n      <td>60065</td>\n      <td>60672.0</td>\n      <td>бриллиант, изумруд</td>\n      <td>золото</td>\n      <td></td>\n      <td>/product--zolotaia-podveska-master-brilliant-0...</td>\n    </tr>\n    <tr>\n      <th>1197</th>\n      <td>2024-03-25</td>\n      <td>ЯХОНТ</td>\n      <td>подвеска</td>\n      <td>0.40</td>\n      <td>7722</td>\n      <td>7800.0</td>\n      <td>фианит</td>\n      <td>золото</td>\n      <td></td>\n      <td>/product--podveska-bukva-iz-zolota-s-fianitami...</td>\n    </tr>\n    <tr>\n      <th>1198</th>\n      <td>2024-03-25</td>\n      <td>DIAMANT-ONLINE.</td>\n      <td>подвеска</td>\n      <td>1.52</td>\n      <td>14599</td>\n      <td>14746.0</td>\n      <td>без вставок</td>\n      <td>золото</td>\n      <td></td>\n      <td>/product--zolotaia-podveska-aleksandra-kr068sb...</td>\n    </tr>\n    <tr>\n      <th>1199</th>\n      <td>2024-03-25</td>\n      <td>DIAMANT-ONLINE.</td>\n      <td>подвеска</td>\n      <td>1.68</td>\n      <td>16057</td>\n      <td>16219.0</td>\n      <td>фианит</td>\n      <td>золото</td>\n      <td></td>\n      <td>/product--zolotaia-podveska-kiuz-del-ta-d08044...</td>\n    </tr>\n  </tbody>\n</table>\n<p>1188 rows × 10 columns</p>\n</div>"
     },
     "execution_count": 254,
     "metadata": {},
     "output_type": "execute_result"
    }
   ],
   "source": [
    "df = df[df['weight']>0]\n",
    "df = df.drop_duplicates()\n",
    "df"
   ],
   "metadata": {
    "collapsed": false,
    "ExecuteTime": {
     "end_time": "2024-03-25T13:28:37.745333Z",
     "start_time": "2024-03-25T13:28:37.720185Z"
    }
   },
   "id": "b5856a20c33468ec",
   "execution_count": 254
  },
  {
   "cell_type": "code",
   "outputs": [
    {
     "data": {
      "text/plain": "group\nподвеска    1146\nиконка        34\nкрестик        5\n               3\nName: count, dtype: int64"
     },
     "execution_count": 255,
     "metadata": {},
     "output_type": "execute_result"
    }
   ],
   "source": [
    "df['group'].value_counts()"
   ],
   "metadata": {
    "collapsed": false,
    "ExecuteTime": {
     "end_time": "2024-03-25T13:28:39.917608Z",
     "start_time": "2024-03-25T13:28:39.909511Z"
    }
   },
   "id": "3aa403876a2ac49f",
   "execution_count": 255
  },
  {
   "cell_type": "code",
   "outputs": [],
   "source": [
    "try:\n",
    "    oldframe = pd.read_csv(\"yam.csv\")\n",
    "except:\n",
    "    oldframe = pd.DataFrame()\n",
    "oldframe = pd.concat([oldframe,df],ignore_index=True)\n",
    "oldframe.to_csv(\"yam.csv\", index = False)"
   ],
   "metadata": {
    "collapsed": false,
    "ExecuteTime": {
     "end_time": "2024-03-25T13:28:45.819822Z",
     "start_time": "2024-03-25T13:28:45.542850Z"
    }
   },
   "id": "a43f7cbe4163774",
   "execution_count": 256
  },
  {
   "cell_type": "code",
   "outputs": [
    {
     "data": {
      "text/plain": "            data       competitor     group  weight  price  price_old  \\\n0     2024-03-21          SOKOLOV    серьги    2.48  22421    22647.0   \n1     2024-03-21          Diamant    серьги    0.33   3460     3495.0   \n2     2024-03-21          Diamant    серьги    9.62  81175    81995.0   \n3     2024-03-21          SOKOLOV    серьги    2.29  19302    19497.0   \n4     2024-03-21          SOKOLOV    серьги    3.66  37122    37497.0   \n...          ...              ...       ...     ...    ...        ...   \n5282  2024-03-25            ЯХОНТ  подвеска    0.84   6731     6799.0   \n5283  2024-03-25  DIAMANT-ONLINE.  подвеска    1.63  60065    60672.0   \n5284  2024-03-25            ЯХОНТ  подвеска    0.40   7722     7800.0   \n5285  2024-03-25  DIAMANT-ONLINE.  подвеска    1.52  14599    14746.0   \n5286  2024-03-25  DIAMANT-ONLINE.  подвеска    1.68  16057    16219.0   \n\n                            insert   metal lock  \\\n0                            топаз  золото  NaN   \n1                              NaN  золото  NaN   \n2                   фианит , топаз  золото  NaN   \n3                              NaN  золото  NaN   \n4     изумруд г/т , шпинель натур.  золото  NaN   \n...                            ...     ...  ...   \n5282                        фианит  золото        \n5283            бриллиант, изумруд  золото        \n5284                        фианит  золото        \n5285                   без вставок  золото        \n5286                        фианит  золото        \n\n                                                article  \n0     /product--sergi-sokolov-iz-zolota-s-topazami-7...  \n1     /product--serga-diamant-krasnoe-zoloto-585-pro...  \n2     /product--sergi-diamant-iz-zolota-s-topazami-i...  \n3     /product--sergi-sokolov-iz-zolota-0200331/7711...  \n4     /product--sergi-sokolov-iz-zolota-so-shpineliu...  \n...                                                 ...  \n5282  /product--podveska-iz-kombinirovannogo-zolota-...  \n5283  /product--zolotaia-podveska-master-brilliant-0...  \n5284  /product--podveska-bukva-iz-zolota-s-fianitami...  \n5285  /product--zolotaia-podveska-aleksandra-kr068sb...  \n5286  /product--zolotaia-podveska-kiuz-del-ta-d08044...  \n\n[5287 rows x 10 columns]",
      "text/html": "<div>\n<style scoped>\n    .dataframe tbody tr th:only-of-type {\n        vertical-align: middle;\n    }\n\n    .dataframe tbody tr th {\n        vertical-align: top;\n    }\n\n    .dataframe thead th {\n        text-align: right;\n    }\n</style>\n<table border=\"1\" class=\"dataframe\">\n  <thead>\n    <tr style=\"text-align: right;\">\n      <th></th>\n      <th>data</th>\n      <th>competitor</th>\n      <th>group</th>\n      <th>weight</th>\n      <th>price</th>\n      <th>price_old</th>\n      <th>insert</th>\n      <th>metal</th>\n      <th>lock</th>\n      <th>article</th>\n    </tr>\n  </thead>\n  <tbody>\n    <tr>\n      <th>0</th>\n      <td>2024-03-21</td>\n      <td>SOKOLOV</td>\n      <td>серьги</td>\n      <td>2.48</td>\n      <td>22421</td>\n      <td>22647.0</td>\n      <td>топаз</td>\n      <td>золото</td>\n      <td>NaN</td>\n      <td>/product--sergi-sokolov-iz-zolota-s-topazami-7...</td>\n    </tr>\n    <tr>\n      <th>1</th>\n      <td>2024-03-21</td>\n      <td>Diamant</td>\n      <td>серьги</td>\n      <td>0.33</td>\n      <td>3460</td>\n      <td>3495.0</td>\n      <td>NaN</td>\n      <td>золото</td>\n      <td>NaN</td>\n      <td>/product--serga-diamant-krasnoe-zoloto-585-pro...</td>\n    </tr>\n    <tr>\n      <th>2</th>\n      <td>2024-03-21</td>\n      <td>Diamant</td>\n      <td>серьги</td>\n      <td>9.62</td>\n      <td>81175</td>\n      <td>81995.0</td>\n      <td>фианит , топаз</td>\n      <td>золото</td>\n      <td>NaN</td>\n      <td>/product--sergi-diamant-iz-zolota-s-topazami-i...</td>\n    </tr>\n    <tr>\n      <th>3</th>\n      <td>2024-03-21</td>\n      <td>SOKOLOV</td>\n      <td>серьги</td>\n      <td>2.29</td>\n      <td>19302</td>\n      <td>19497.0</td>\n      <td>NaN</td>\n      <td>золото</td>\n      <td>NaN</td>\n      <td>/product--sergi-sokolov-iz-zolota-0200331/7711...</td>\n    </tr>\n    <tr>\n      <th>4</th>\n      <td>2024-03-21</td>\n      <td>SOKOLOV</td>\n      <td>серьги</td>\n      <td>3.66</td>\n      <td>37122</td>\n      <td>37497.0</td>\n      <td>изумруд г/т , шпинель натур.</td>\n      <td>золото</td>\n      <td>NaN</td>\n      <td>/product--sergi-sokolov-iz-zolota-so-shpineliu...</td>\n    </tr>\n    <tr>\n      <th>...</th>\n      <td>...</td>\n      <td>...</td>\n      <td>...</td>\n      <td>...</td>\n      <td>...</td>\n      <td>...</td>\n      <td>...</td>\n      <td>...</td>\n      <td>...</td>\n      <td>...</td>\n    </tr>\n    <tr>\n      <th>5282</th>\n      <td>2024-03-25</td>\n      <td>ЯХОНТ</td>\n      <td>подвеска</td>\n      <td>0.84</td>\n      <td>6731</td>\n      <td>6799.0</td>\n      <td>фианит</td>\n      <td>золото</td>\n      <td></td>\n      <td>/product--podveska-iz-kombinirovannogo-zolota-...</td>\n    </tr>\n    <tr>\n      <th>5283</th>\n      <td>2024-03-25</td>\n      <td>DIAMANT-ONLINE.</td>\n      <td>подвеска</td>\n      <td>1.63</td>\n      <td>60065</td>\n      <td>60672.0</td>\n      <td>бриллиант, изумруд</td>\n      <td>золото</td>\n      <td></td>\n      <td>/product--zolotaia-podveska-master-brilliant-0...</td>\n    </tr>\n    <tr>\n      <th>5284</th>\n      <td>2024-03-25</td>\n      <td>ЯХОНТ</td>\n      <td>подвеска</td>\n      <td>0.40</td>\n      <td>7722</td>\n      <td>7800.0</td>\n      <td>фианит</td>\n      <td>золото</td>\n      <td></td>\n      <td>/product--podveska-bukva-iz-zolota-s-fianitami...</td>\n    </tr>\n    <tr>\n      <th>5285</th>\n      <td>2024-03-25</td>\n      <td>DIAMANT-ONLINE.</td>\n      <td>подвеска</td>\n      <td>1.52</td>\n      <td>14599</td>\n      <td>14746.0</td>\n      <td>без вставок</td>\n      <td>золото</td>\n      <td></td>\n      <td>/product--zolotaia-podveska-aleksandra-kr068sb...</td>\n    </tr>\n    <tr>\n      <th>5286</th>\n      <td>2024-03-25</td>\n      <td>DIAMANT-ONLINE.</td>\n      <td>подвеска</td>\n      <td>1.68</td>\n      <td>16057</td>\n      <td>16219.0</td>\n      <td>фианит</td>\n      <td>золото</td>\n      <td></td>\n      <td>/product--zolotaia-podveska-kiuz-del-ta-d08044...</td>\n    </tr>\n  </tbody>\n</table>\n<p>5287 rows × 10 columns</p>\n</div>"
     },
     "execution_count": 257,
     "metadata": {},
     "output_type": "execute_result"
    }
   ],
   "source": [
    "oldframe"
   ],
   "metadata": {
    "collapsed": false,
    "ExecuteTime": {
     "end_time": "2024-03-25T13:28:46.787697Z",
     "start_time": "2024-03-25T13:28:46.768946Z"
    }
   },
   "id": "3409549713009c20",
   "execution_count": 257
  },
  {
   "cell_type": "code",
   "outputs": [
    {
     "data": {
      "text/plain": "                                             weight    price      avgprice\ncompetitor                                                                \n                                               5.37    52211   9722.718808\n\"Деревцов\" - православные ювелирные изделия    6.66    82325  12361.111111\n\"Изумруд\"                                      1.20    10217   8514.166667\n:SUSY                                          1.30    12443   9571.538462\nAQUAMARINE                                     3.47    72092  20775.792507\n...                                             ...      ...           ...\nЮвелирный магазин GUDDA                        4.36    61376  14077.064220\nЮвелирный салон Елены Стецовой                68.47   643955   9404.921864\nЮверос                                        16.42   151371   9218.696711\nЯХОНТ                                        725.52  7312829  10079.431304\nЯхонт                                        452.60  3655177   8075.954485\n\n[69 rows x 3 columns]",
      "text/html": "<div>\n<style scoped>\n    .dataframe tbody tr th:only-of-type {\n        vertical-align: middle;\n    }\n\n    .dataframe tbody tr th {\n        vertical-align: top;\n    }\n\n    .dataframe thead th {\n        text-align: right;\n    }\n</style>\n<table border=\"1\" class=\"dataframe\">\n  <thead>\n    <tr style=\"text-align: right;\">\n      <th></th>\n      <th>weight</th>\n      <th>price</th>\n      <th>avgprice</th>\n    </tr>\n    <tr>\n      <th>competitor</th>\n      <th></th>\n      <th></th>\n      <th></th>\n    </tr>\n  </thead>\n  <tbody>\n    <tr>\n      <th></th>\n      <td>5.37</td>\n      <td>52211</td>\n      <td>9722.718808</td>\n    </tr>\n    <tr>\n      <th>\"Деревцов\" - православные ювелирные изделия</th>\n      <td>6.66</td>\n      <td>82325</td>\n      <td>12361.111111</td>\n    </tr>\n    <tr>\n      <th>\"Изумруд\"</th>\n      <td>1.20</td>\n      <td>10217</td>\n      <td>8514.166667</td>\n    </tr>\n    <tr>\n      <th>:SUSY</th>\n      <td>1.30</td>\n      <td>12443</td>\n      <td>9571.538462</td>\n    </tr>\n    <tr>\n      <th>AQUAMARINE</th>\n      <td>3.47</td>\n      <td>72092</td>\n      <td>20775.792507</td>\n    </tr>\n    <tr>\n      <th>...</th>\n      <td>...</td>\n      <td>...</td>\n      <td>...</td>\n    </tr>\n    <tr>\n      <th>Ювелирный магазин GUDDA</th>\n      <td>4.36</td>\n      <td>61376</td>\n      <td>14077.064220</td>\n    </tr>\n    <tr>\n      <th>Ювелирный салон Елены Стецовой</th>\n      <td>68.47</td>\n      <td>643955</td>\n      <td>9404.921864</td>\n    </tr>\n    <tr>\n      <th>Юверос</th>\n      <td>16.42</td>\n      <td>151371</td>\n      <td>9218.696711</td>\n    </tr>\n    <tr>\n      <th>ЯХОНТ</th>\n      <td>725.52</td>\n      <td>7312829</td>\n      <td>10079.431304</td>\n    </tr>\n    <tr>\n      <th>Яхонт</th>\n      <td>452.60</td>\n      <td>3655177</td>\n      <td>8075.954485</td>\n    </tr>\n  </tbody>\n</table>\n<p>69 rows × 3 columns</p>\n</div>"
     },
     "execution_count": 258,
     "metadata": {},
     "output_type": "execute_result"
    }
   ],
   "source": [
    "d = oldframe.groupby('competitor').agg({'weight':'sum','price':'sum'})\n",
    "d['avgprice'] = d['price']/d['weight']\n",
    "d"
   ],
   "metadata": {
    "collapsed": false,
    "ExecuteTime": {
     "end_time": "2024-03-25T13:28:52.119703Z",
     "start_time": "2024-03-25T13:28:52.100982Z"
    }
   },
   "id": "18b9912b7f34a297",
   "execution_count": 258
  },
  {
   "cell_type": "code",
   "outputs": [],
   "source": [],
   "metadata": {
    "collapsed": false
   },
   "id": "125c9da46341d796"
  }
 ],
 "metadata": {
  "kernelspec": {
   "display_name": "Python 3",
   "language": "python",
   "name": "python3"
  },
  "language_info": {
   "codemirror_mode": {
    "name": "ipython",
    "version": 2
   },
   "file_extension": ".py",
   "mimetype": "text/x-python",
   "name": "python",
   "nbconvert_exporter": "python",
   "pygments_lexer": "ipython2",
   "version": "2.7.6"
  }
 },
 "nbformat": 4,
 "nbformat_minor": 5
}
